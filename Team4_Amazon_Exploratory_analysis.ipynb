{
 "cells": [
  {
   "cell_type": "code",
   "execution_count": 2,
   "metadata": {
    "colab": {
     "base_uri": "https://localhost:8080/",
     "height": 34
    },
    "colab_type": "code",
    "id": "nnklE-19odma",
    "outputId": "8420f106-fabc-4341-a93a-45e6841ea23e"
   },
   "outputs": [
    {
     "name": "stdout",
     "output_type": "stream",
     "text": [
      "Drive already mounted at /content/gdrive; to attempt to forcibly remount, call drive.mount(\"/content/gdrive\", force_remount=True).\n"
     ]
    }
   ],
   "source": [
    "from google.colab import drive\n",
    "drive.mount('/content/gdrive')"
   ]
  },
  {
   "cell_type": "code",
   "execution_count": 94,
   "metadata": {
    "colab": {
     "base_uri": "https://localhost:8080/",
     "height": 101
    },
    "colab_type": "code",
    "id": "62Ko9Mogmolz",
    "outputId": "14792a10-d6a7-43c6-8ae8-d88b2268b4df"
   },
   "outputs": [
    {
     "name": "stdout",
     "output_type": "stream",
     "text": [
      "[nltk_data] Downloading package stopwords to /root/nltk_data...\n",
      "[nltk_data]   Package stopwords is already up-to-date!\n",
      "[nltk_data] Downloading package punkt to /root/nltk_data...\n",
      "[nltk_data]   Package punkt is already up-to-date!\n"
     ]
    },
    {
     "data": {
      "text/plain": [
       "True"
      ]
     },
     "execution_count": 94,
     "metadata": {
      "tags": []
     },
     "output_type": "execute_result"
    }
   ],
   "source": [
    "import pandas as pd\n",
    "import numpy as np\n",
    "import matplotlib.pyplot as plt\n",
    "import seaborn as sns\n",
    "import re\n",
    "from html.parser import HTMLParser\n",
    "import nltk\n",
    "from nltk import sent_tokenize, word_tokenize\n",
    "from nltk.tokenize import RegexpTokenizer\n",
    "from nltk.corpus import stopwords\n",
    "from nltk.stem.porter import PorterStemmer\n",
    "from nltk.stem import WordNetLemmatizer\n",
    "import string\n",
    "\n",
    "from sklearn.feature_extraction.text import TfidfVectorizer\n",
    "from sklearn.feature_extraction.text import CountVectorizer\n",
    "from sklearn.metrics.pairwise import cosine_similarity\n",
    "nltk.download('stopwords')\n",
    "nltk.download('punkt')"
   ]
  },
  {
   "cell_type": "code",
   "execution_count": 0,
   "metadata": {
    "colab": {},
    "colab_type": "code",
    "id": "M_uyovYmEzu8"
   },
   "outputs": [],
   "source": [
    "stop_words = set(stopwords.words('english')) \n",
    "punct = set(string.punctuation)\n",
    "stemmer = PorterStemmer()\n",
    "\n",
    "def text_cleaning(text):\n",
    "    # converting HTML character codes to ASCII code\n",
    "    parser = HTMLParser()\n",
    "    text =  parser.unescape(text)\n",
    "    \n",
    "    text = re.sub(r'<[^>]+>','',text) # removing HTML tags\n",
    "    text = re.sub(r'(?:\\#+[\\w_]+[\\w\\'_\\-]*[\\w_]+)','',text) # removing hash-tags\n",
    "    text = re.sub(r'http[s]?://(?:[a-z]|[0-9]|[$-_@.&amp;+]|[!*\\(\\),]|(?:%[0-9a-f][0-9a-f]))+','',text) # removing URLs\n",
    "    text = re.sub(r'(?:[\\ufffd]+)','',text) #removing special characters\n",
    "    text = ''.join(word for word in text if word not in punct) #remove punctuation\n",
    "    text = re.sub('\\n',' ',text) #remove new line\n",
    "    text = re.sub('@','',text) #remove @ sign\n",
    "    text = re.sub('’','',text)\n",
    "    text = text.lower() # lowercase all characters\n",
    "    text = word_tokenize(text) # tonkenize words\n",
    "    text = [i for i in text if not i in stop_words] #remove stop words\n",
    "    #text = [stemmer.stem(word) for word in text]\n",
    "    text = ' '.join(text)\n",
    "    \n",
    "    return text\n"
   ]
  },
  {
   "cell_type": "code",
   "execution_count": 0,
   "metadata": {
    "colab": {},
    "colab_type": "code",
    "id": "V2zx8d44nM_e"
   },
   "outputs": [],
   "source": [
    "df_1 = pd.read_csv('/content/gdrive/My Drive/Amazon Seller Forum/cleaned_comments.csv') # Gabriel's cleaned comments\n",
    "df_2 = pd.read_csv('/content/gdrive/My Drive/Amazon Seller Forum/Amazon_Forum_scrape2.csv',encoding= 'unicode_escape') # Wei Huang's comments"
   ]
  },
  {
   "cell_type": "code",
   "execution_count": 97,
   "metadata": {
    "colab": {
     "base_uri": "https://localhost:8080/",
     "height": 50
    },
    "colab_type": "code",
    "id": "RzqCGCZ3tW3m",
    "outputId": "c3061542-d0b1-4d63-9007-e24d4aa9d473"
   },
   "outputs": [
    {
     "name": "stderr",
     "output_type": "stream",
     "text": [
      "/usr/local/lib/python3.6/dist-packages/ipykernel_launcher.py:8: DeprecationWarning: The unescape method is deprecated and will be removed in 3.5, use html.unescape() instead.\n",
      "  \n"
     ]
    }
   ],
   "source": [
    "# Cleaning df_1\n",
    "df_1.drop(['Unnamed: 0','Link'],axis=1,inplace=True)\n",
    "df_1['Title'] = df_1['Title'].apply(lambda x: text_cleaning(x))\n",
    "df_1['Reply Authors'] = df_1['Reply Authors'].apply(lambda x: word_tokenize(x))\n",
    "df_1['Reply Authors'] = df_1['Reply Authors'].apply(lambda x: [word for word in x if word not in punct])\n",
    "df_1['Reply Authors'] = df_1['Reply Authors'].apply(lambda x: [re.sub('\\'','',x[i]) for i in range(len(x))])\n",
    "\n",
    "# Cleaning df_2\n",
    "df_2.drop('Unnamed: 0',axis=1,inplace=True)\n",
    "df_2.dropna(axis=0,inplace=True)\n",
    "df_2['Topic Title'] = df_2['Topic Title'].apply(lambda x: text_cleaning(x))\n",
    "df_2['Category'] = df_2['Category'].apply(lambda x: x.strip())\n",
    "\n",
    "df_2['Authors'] = df_2['Authors'].apply(lambda x: word_tokenize(x))\n",
    "df_2['Authors'] = df_2['Authors'].apply(lambda x: [word for word in x if word not in punct])\n",
    "df_2['Authors'] = df_2['Authors'].apply(lambda x: [re.sub('\\'','',x[i]) for i in range(len(x))])\n",
    "df_2['Reply Authors'] = df_2['Authors'].apply(lambda x: x[1:])\n",
    "df_2['Authors'] = df_2['Authors'].apply(lambda x: x[0])\n",
    "\n",
    "df_2['Leading Comment'] = df_2['Leading Comment'].apply(lambda x: text_cleaning(x))\n",
    "df_2['Other Comments'] = df_2['Other Comments'].apply(lambda x: text_cleaning(x))\n",
    "df_2.rename(columns={'Topic Title':'Title','Authors':'Post Author','Other Comments':'Reply Comments'},inplace=True)"
   ]
  },
  {
   "cell_type": "code",
   "execution_count": 0,
   "metadata": {
    "colab": {},
    "colab_type": "code",
    "id": "2k-yT3xAFvLS"
   },
   "outputs": [],
   "source": [
    "df = pd.concat([df_1[['Title','Category','Post Author','Reply Authors','Leading Comment','Reply Comments']],\n",
    "                df_2[['Title','Category','Post Author','Reply Authors','Leading Comment','Reply Comments']]],axis=0)\n",
    "df['num_Reply_Authors'] = df['Reply Authors'].apply(lambda x: len(x))\n",
    "#df.drop_duplicates(keep='first',inplace=True)\n",
    "df.reset_index(drop=True,inplace=True)"
   ]
  },
  {
   "cell_type": "code",
   "execution_count": 0,
   "metadata": {
    "colab": {},
    "colab_type": "code",
    "id": "UftfNpUIQo3A"
   },
   "outputs": [],
   "source": []
  },
  {
   "cell_type": "markdown",
   "metadata": {
    "colab_type": "text",
    "id": "VSrmmCZKQtyz"
   },
   "source": [
    "## Exploratory Analysis"
   ]
  },
  {
   "cell_type": "code",
   "execution_count": 99,
   "metadata": {
    "colab": {
     "base_uri": "https://localhost:8080/",
     "height": 390
    },
    "colab_type": "code",
    "id": "tQQzoptRLAHv",
    "outputId": "83bb636e-3700-4e2f-c7ca-567426bbdbd9"
   },
   "outputs": [
    {
     "name": "stdout",
     "output_type": "stream",
     "text": [
      "Users with most posts published\n"
     ]
    },
    {
     "data": {
      "text/html": [
       "<div>\n",
       "<style scoped>\n",
       "    .dataframe tbody tr th:only-of-type {\n",
       "        vertical-align: middle;\n",
       "    }\n",
       "\n",
       "    .dataframe tbody tr th {\n",
       "        vertical-align: top;\n",
       "    }\n",
       "\n",
       "    .dataframe thead th {\n",
       "        text-align: right;\n",
       "    }\n",
       "</style>\n",
       "<table border=\"1\" class=\"dataframe\">\n",
       "  <thead>\n",
       "    <tr style=\"text-align: right;\">\n",
       "      <th></th>\n",
       "      <th>Title</th>\n",
       "    </tr>\n",
       "    <tr>\n",
       "      <th>Post Author</th>\n",
       "      <th></th>\n",
       "    </tr>\n",
       "  </thead>\n",
       "  <tbody>\n",
       "    <tr>\n",
       "      <th>Rick_MWS</th>\n",
       "      <td>22</td>\n",
       "    </tr>\n",
       "    <tr>\n",
       "      <th>Superior_Home_Busine</th>\n",
       "      <td>15</td>\n",
       "    </tr>\n",
       "    <tr>\n",
       "      <th>austin_w_lwa</th>\n",
       "      <td>13</td>\n",
       "    </tr>\n",
       "    <tr>\n",
       "      <th>dzp1</th>\n",
       "      <td>11</td>\n",
       "    </tr>\n",
       "    <tr>\n",
       "      <th>SD_Ca</th>\n",
       "      <td>10</td>\n",
       "    </tr>\n",
       "    <tr>\n",
       "      <th>westland_print</th>\n",
       "      <td>10</td>\n",
       "    </tr>\n",
       "    <tr>\n",
       "      <th>CKZ</th>\n",
       "      <td>8</td>\n",
       "    </tr>\n",
       "    <tr>\n",
       "      <th>csteve</th>\n",
       "      <td>8</td>\n",
       "    </tr>\n",
       "    <tr>\n",
       "      <th>liw48</th>\n",
       "      <td>8</td>\n",
       "    </tr>\n",
       "    <tr>\n",
       "      <th>The42ndStreet</th>\n",
       "      <td>7</td>\n",
       "    </tr>\n",
       "  </tbody>\n",
       "</table>\n",
       "</div>"
      ],
      "text/plain": [
       "                      Title\n",
       "Post Author                \n",
       "Rick_MWS                 22\n",
       "Superior_Home_Busine     15\n",
       "austin_w_lwa             13\n",
       "dzp1                     11\n",
       "SD_Ca                    10\n",
       "westland_print           10\n",
       "CKZ                       8\n",
       "csteve                    8\n",
       "liw48                     8\n",
       "The42ndStreet             7"
      ]
     },
     "execution_count": 99,
     "metadata": {
      "tags": []
     },
     "output_type": "execute_result"
    }
   ],
   "source": [
    "print('Users with most posts published')\n",
    "pd.DataFrame(df.groupby('Post Author')['Title'].count().sort_values(ascending=False).head(10))"
   ]
  },
  {
   "cell_type": "code",
   "execution_count": 100,
   "metadata": {
    "colab": {
     "base_uri": "https://localhost:8080/",
     "height": 419
    },
    "colab_type": "code",
    "id": "yE8Q8yLxL_hl",
    "outputId": "5c161d0f-e289-49df-ca28-e1c8c6a9f70f"
   },
   "outputs": [
    {
     "name": "stdout",
     "output_type": "stream",
     "text": [
      "Category with most posts published\n"
     ]
    },
    {
     "data": {
      "text/html": [
       "<div>\n",
       "<style scoped>\n",
       "    .dataframe tbody tr th:only-of-type {\n",
       "        vertical-align: middle;\n",
       "    }\n",
       "\n",
       "    .dataframe tbody tr th {\n",
       "        vertical-align: top;\n",
       "    }\n",
       "\n",
       "    .dataframe thead th {\n",
       "        text-align: right;\n",
       "    }\n",
       "</style>\n",
       "<table border=\"1\" class=\"dataframe\">\n",
       "  <thead>\n",
       "    <tr style=\"text-align: right;\">\n",
       "      <th></th>\n",
       "      <th>Title</th>\n",
       "    </tr>\n",
       "    <tr>\n",
       "      <th>Category</th>\n",
       "      <th></th>\n",
       "    </tr>\n",
       "  </thead>\n",
       "  <tbody>\n",
       "    <tr>\n",
       "      <th>Selling on Amazon</th>\n",
       "      <td>2127</td>\n",
       "    </tr>\n",
       "    <tr>\n",
       "      <th>Fulfillment By Amazon</th>\n",
       "      <td>1500</td>\n",
       "    </tr>\n",
       "    <tr>\n",
       "      <th>Account Health</th>\n",
       "      <td>1475</td>\n",
       "    </tr>\n",
       "    <tr>\n",
       "      <th>Amazon Pay</th>\n",
       "      <td>630</td>\n",
       "    </tr>\n",
       "    <tr>\n",
       "      <th>Global Selling</th>\n",
       "      <td>600</td>\n",
       "    </tr>\n",
       "    <tr>\n",
       "      <th>Groups</th>\n",
       "      <td>520</td>\n",
       "    </tr>\n",
       "    <tr>\n",
       "      <th>Amazon Sponsored Products</th>\n",
       "      <td>330</td>\n",
       "    </tr>\n",
       "    <tr>\n",
       "      <th>Amazon Marketplace Web Service (MWS)</th>\n",
       "      <td>330</td>\n",
       "    </tr>\n",
       "    <tr>\n",
       "      <th>Amazon Custom</th>\n",
       "      <td>302</td>\n",
       "    </tr>\n",
       "    <tr>\n",
       "      <th>Login With Amazon</th>\n",
       "      <td>196</td>\n",
       "    </tr>\n",
       "    <tr>\n",
       "      <th>Health,Safety,Sustainability,Security &amp; Compliance</th>\n",
       "      <td>89</td>\n",
       "    </tr>\n",
       "  </tbody>\n",
       "</table>\n",
       "</div>"
      ],
      "text/plain": [
       "                                                    Title\n",
       "Category                                                 \n",
       "Selling on Amazon                                    2127\n",
       "Fulfillment By Amazon                                1500\n",
       "Account Health                                       1475\n",
       "Amazon Pay                                            630\n",
       "Global Selling                                        600\n",
       "Groups                                                520\n",
       "Amazon Sponsored Products                             330\n",
       "Amazon Marketplace Web Service (MWS)                  330\n",
       "Amazon Custom                                         302\n",
       "Login With Amazon                                     196\n",
       "Health,Safety,Sustainability,Security & Compliance     89"
      ]
     },
     "execution_count": 100,
     "metadata": {
      "tags": []
     },
     "output_type": "execute_result"
    }
   ],
   "source": [
    "print('Category with most posts published')\n",
    "pd.DataFrame(df.groupby('Category')['Title'].count().sort_values(ascending=False))"
   ]
  },
  {
   "cell_type": "code",
   "execution_count": 101,
   "metadata": {
    "colab": {
     "base_uri": "https://localhost:8080/",
     "height": 776
    },
    "colab_type": "code",
    "id": "qnJZSVaUPeTs",
    "outputId": "d72814b4-8968-4f80-cfba-ff73d4669b33"
   },
   "outputs": [
    {
     "name": "stdout",
     "output_type": "stream",
     "text": [
      "The top 10 key words in post title from the category:  Fulfillment By Amazon\n",
      "['amazon fba', 'channel fulfillment', 'deleting inventory receiving', 'fba inventory', 'fba order', 'fba returns', 'fba shipment', 'fba shipments', 'fba warehouse', 'fulfillment order', 'inventory receiving', 'inventory receiving whsxfr', 'multi channel', 'multi channel fulfillment', 'multichannel fulfillment', 'receiving whsxfr', 'removal order', 'seller support', 'small light', 'stranded inventory']\n",
      "\n",
      "\n",
      "The top 10 key words in post title from the category:  Selling on Amazon\n",
      "['3rd party', 'account suspended', 'amazon account', 'amazon seller', 'amazon seller app', 'app working', 'brand registry', 'buy box', 'buy shipping', 'credit card', 'gtin exemption', 'mobile app', 'need help', 'new seller', 'seller account', 'seller app', 'seller central', 'seller support', 'selling canada', 'shipping label']\n",
      "\n",
      "\n",
      "The top 10 key words in post title from the category:  Amazon Marketplace Web Service (MWS)\n",
      "['access mws', 'amazon mws', 'developer account', 'developer id', 'fba inbound', 'feed templates', 'getting error', 'listorders api', 'mws access', 'mws api', 'mws credentials', 'mws developer', 'mws support', 'need help', 'orders report', 'protection policy', 'report api', 'seller account', 'update feed', 'update feed templates']\n",
      "\n",
      "\n",
      "The top 10 key words in post title from the category:  Amazon Sponsored Products\n",
      "['ad campaign', 'ad campaigns', 'ad group', 'amazon ppc', 'amazon seller', 'amazon seller central', 'auto campaign', 'campaign manager', 'headline search', 'manual campaign', 'negative keywords', 'product page', 'search results', 'search term', 'search term report', 'search terms', 'sponsored ads', 'sponsored brands', 'sponsored products', 'term report']\n",
      "\n",
      "\n",
      "The top 10 key words in post title from the category:  Account Health\n",
      "['account deactivated', 'account risk', 'account suspended', 'account suspension', 'help poa', 'intellectual property', 'late shipment', 'listing removed', 'need help', 'plan action', 'product authenticity', 'related account', 'restricted products', 'risk deactivation', 'seller account', 'sold new', 'suspended account', 'used item', 'used sold', 'used sold new']\n",
      "\n",
      "\n",
      "The top 10 key words in post title from the category:  Global Selling\n",
      "['account suspended', 'amazon fba', 'amazon uk', 'amazon usa', 'bank account', 'global selling', 'international shipping', 'need help', 'sell amazon', 'sell amazoncom', 'seller account', 'sellers selling', 'selling amazon', 'selling amazoncom', 'selling usa', 'shipping canada', 'shipping service', 'trying sell', 'uk fba', 'want sell']\n",
      "\n",
      "\n",
      "The top 10 key words in post title from the category:  Amazon Pay\n",
      "['account suspended', 'amazon pay', 'amazon pay account', 'amazon payment', 'amazon payments', 'amazon seller', 'bank account', 'credit card', 'getting paid', 'login pay', 'login pay amazon', 'new seller', 'paid amazon', 'pay account', 'pay account suspended', 'pay amazon', 'request transfer', 'seller account', 'suspended account', 'unavailable balance']\n",
      "\n",
      "\n",
      "The top 10 key words in post title from the category:  Groups\n",
      "['account suspended', 'amazon handmade', 'amazon home', 'amazon home services', 'cleaning jobs', 'cleaning services', 'handmade account', 'handmade account suspended', 'handmade forum', 'handmade products', 'handmade seller', 'happiness guarantee', 'home services', 'jobs claim', 'new handmade', 'new handmade seller', 'seller account', 'seller services', 'selling services', 'service providers']\n",
      "\n",
      "\n",
      "The top 10 key words in post title from the category:  Health,Safety,Sustainability,Security & Compliance\n",
      "['20 compliance', 'account suspended', 'approved sell', 'device help', 'fine jewelry', 'intellectual property', 'intellectual property complaints', 'medical device', 'medical device help', 'product safety', 'products amazon', 'products amazon tos', 'products ingredients', 'products ingredients policy', 'products policy', 'property complaints', 'restricted products', 'suspended account', 'suspended medical', 'suspended medical device']\n",
      "\n",
      "\n",
      "The top 10 key words in post title from the category:  Login With Amazon\n",
      "['400 bad', '400 bad request', 'access token', 'amazon button', 'amazon login', 'app login', 'app login amazon', 'bad request', 'javascript sdk', 'javascript sdk whitelisted', 'login amazon', 'login pay', 'login pay amazon', 'pay amazon', 'pay amazon button', 'sdk whitelisted', 'step verification', 'use login', 'using login', 'using login amazon']\n",
      "\n",
      "\n",
      "The top 10 key words in post title from the category:  Amazon Custom\n",
      "['amazon custom', 'amazon pay', 'amazon refund', 'az claim', 'buy box', 'custom amazon', 'custom button', 'custom items', 'custom order', 'custom product', 'custom products', 'feedback removal', 'images customize', 'order information', 'provide gallery', 'provide gallery images', 'return policy', 'seller central', 'selling custom', 'upload template']\n",
      "\n",
      "\n"
     ]
    }
   ],
   "source": [
    "for cat in df['Category'].unique():\n",
    "  titles = df[df['Category']== cat]['Title']\n",
    "  tfidf_vectorizer = TfidfVectorizer(max_df=0.5,\n",
    "                                     max_features=20,\n",
    "                                     stop_words='english',\n",
    "                                     use_idf=True,\n",
    "                                     ngram_range=(2,3))\n",
    "  tfidf_matrix = tfidf_vectorizer.fit_transform(titles)\n",
    "  terms = tfidf_vectorizer.get_feature_names()\n",
    "\n",
    "  print('The top 10 key words in post title from the category: ', cat)\n",
    "  print(terms)\n",
    "  print('\\n')"
   ]
  },
  {
   "cell_type": "code",
   "execution_count": 81,
   "metadata": {
    "colab": {
     "base_uri": "https://localhost:8080/",
     "height": 776
    },
    "colab_type": "code",
    "id": "f82MNGn5Q0rb",
    "outputId": "13d94610-82c3-489a-a89f-abce822585d7"
   },
   "outputs": [
    {
     "name": "stdout",
     "output_type": "stream",
     "text": [
      "The top 10 key words in leading comments from the category:  Fulfillment By Amazon\n",
      "['30 days', 'amazon fba', 'amazon seller', 'amazon warehouse', 'customer service', 'dont know', 'fba inventory', 'fba shipment', 'fulfillment center', 'fulfillment centers', 'fulfillment order', 'lead item', 'multichannel fulfillment', 'receipts entry', 'removal order', 'seller central', 'seller support', 'selling amazon', 'shipping plan', 'thanks advance']\n",
      "\n",
      "\n",
      "The top 10 key words in leading comments from the category:  Selling on Amazon\n",
      "['account health', 'amazon seller', 'amazon seller app', 'bank account', 'brand registry', 'buy box', 'buy shipping', 'credit card', 'dont know', 'dont want', 'make sure', 'new product', 'new seller', 'sell amazon', 'seller account', 'seller app', 'seller central', 'seller support', 'selling amazon', 'thanks advance']\n",
      "\n",
      "\n",
      "The top 10 key words in leading comments from the category:  Amazon Marketplace Web Service (MWS)\n",
      "['access amazon', 'affected change', 'amazon information', 'amazon mws', 'client libraries', 'custom inventory', 'custom inventory file', 'data protection', 'data protection policy', 'developer account', 'developer id', 'file template', 'inventory file', 'inventory file template', 'mws access', 'mws api', 'protection policy', 'seller account', 'seller central', 'shoe size']\n",
      "\n",
      "\n",
      "The top 10 key words in leading comments from the category:  Amazon Sponsored Products\n",
      "['ad campaign', 'ad campaigns', 'ad group', 'ad groups', 'auto campaign', 'buy box', 'campaign manager', 'daily budget', 'exact match', 'manual campaign', 'manual campaigns', 'negative keyword', 'negative keywords', 'product page', 'search term', 'search terms', 'sponsored ads', 'sponsored product', 'sponsored products', 'thanks advance']\n",
      "\n",
      "\n",
      "The top 10 key words in leading comments from the category:  Account Health\n",
      "['account deactivated', 'account health', 'account suspended', 'actions taken', 'actions taken resolve', 'amazon seller', 'contact information', 'intellectual property', 'performance team', 'plan action', 'requested information', 'sell amazon', 'seller account', 'seller central', 'seller performance', 'seller performance team', 'steps taken', 'steps taken prevent', 'taken prevent', 'taken resolve']\n",
      "\n",
      "\n",
      "The top 10 key words in leading comments from the category:  Global Selling\n",
      "['account information', 'account suspended', 'amazon seller', 'bank account', 'canada mexico', 'dont know', 'dont want', 'international shipping', 'sell amazon', 'sell amazoncom', 'sell products', 'seller account', 'seller central', 'seller performance', 'seller performance team', 'seller support', 'selling amazon', 'start selling', 'thanks advance', 'want sell']\n",
      "\n",
      "\n",
      "The top 10 key words in leading comments from the category:  Amazon Pay\n",
      "['90 days', 'account suspended', 'amazon account', 'amazon pay', 'amazon pay account', 'amazon payments', 'amazon payments account', 'amazon seller', 'bank account', 'credit card', 'login amazon', 'pay account', 'pay amazon', 'payments account', 'seller account', 'seller central', 'seller performance', 'seller support', 'selling amazon', 'use amazon']\n",
      "\n",
      "\n",
      "The top 10 key words in leading comments from the category:  Groups\n",
      "['amazon handmade', 'amazon home', 'amazon home services', 'amazon seller', 'cleaning jobs', 'customer service', 'dont know', 'handmade seller', 'handmade sellers', 'home services', 'im new', 'jobs claim', 'let know', 'pay invoice', 'seller account', 'seller central', 'seller support', 'selling amazon', 'service provider', 'service providers']\n",
      "\n",
      "\n",
      "The top 10 key words in leading comments from the category:  Health,Safety,Sustainability,Security & Compliance\n",
      "['amazon seller', 'best regards', 'contact information', 'email amazon', 'intellectual property', 'let know', 'new seller', 'product amazon', 'product compliance', 'product packaging', 'product page', 'product reviews', 'proposition 65', 'received email', 'restricted products', 'seller central', 'seller support', 'selling amazon', 'support team', 'want sell']\n",
      "\n",
      "\n",
      "The top 10 key words in leading comments from the category:  Login With Amazon\n",
      "['access token', 'allowed javascript', 'allowed javascript origins', 'amazon button', 'amazon login', 'applicationsxamppxamppfileshtdocsxamppsrcoffamazonpaymentsserviceclientphp line', 'bad request', 'debug httpapr8081exec2', 'javascript origins', 'javascript sdk', 'login amazon', 'notice use', 'notice use undefined', 'pay amazon', 'seller central', 'undefined constant', 'use login amazon', 'use undefined', 'use undefined constant', 'web settings']\n",
      "\n",
      "\n",
      "The top 10 key words in leading comments from the category:  Amazon Custom\n",
      "['amazon custom', 'amazon seller', 'brand registry', 'buy box', 'cancel order', 'custom item', 'custom items', 'custom order', 'custom products', 'customize button', 'dont know', 'font color', 'let know', 'need help', 'negative feedback', 'order id', 'return policy', 'return request', 'seller central', 'seller support']\n",
      "\n",
      "\n"
     ]
    }
   ],
   "source": [
    "for cat in df['Category'].unique():\n",
    "  comments = df[df['Category']== cat]['Leading Comment']\n",
    "  tfidf_vectorizer = TfidfVectorizer(max_df=0.5,\n",
    "                                     max_features=20,\n",
    "                                     stop_words='english',\n",
    "                                     use_idf=True,\n",
    "                                     ngram_range=(2,3))\n",
    "  tfidf_matrix = tfidf_vectorizer.fit_transform(comments)\n",
    "  terms = tfidf_vectorizer.get_feature_names()\n",
    "\n",
    "  print('The top 10 key words in leading comments from the category: ', cat)\n",
    "  print(terms)\n",
    "  print('\\n')"
   ]
  },
  {
   "cell_type": "code",
   "execution_count": 82,
   "metadata": {
    "colab": {
     "base_uri": "https://localhost:8080/",
     "height": 360
    },
    "colab_type": "code",
    "id": "XIWcQ5RHt4UB",
    "outputId": "91e4ed62-17f7-4d23-adfa-0a2cfc5d8270"
   },
   "outputs": [
    {
     "name": "stdout",
     "output_type": "stream",
     "text": [
      "Top 10 authors with most amount of replys\n"
     ]
    },
    {
     "data": {
      "text/html": [
       "<div>\n",
       "<style scoped>\n",
       "    .dataframe tbody tr th:only-of-type {\n",
       "        vertical-align: middle;\n",
       "    }\n",
       "\n",
       "    .dataframe tbody tr th {\n",
       "        vertical-align: top;\n",
       "    }\n",
       "\n",
       "    .dataframe thead th {\n",
       "        text-align: right;\n",
       "    }\n",
       "</style>\n",
       "<table border=\"1\" class=\"dataframe\">\n",
       "  <thead>\n",
       "    <tr style=\"text-align: right;\">\n",
       "      <th></th>\n",
       "      <th>Category</th>\n",
       "      <th>Post Author</th>\n",
       "      <th>num_Reply_Authors</th>\n",
       "    </tr>\n",
       "  </thead>\n",
       "  <tbody>\n",
       "    <tr>\n",
       "      <th>4861</th>\n",
       "      <td>Groups</td>\n",
       "      <td>Superior_Home_Busine</td>\n",
       "      <td>109</td>\n",
       "    </tr>\n",
       "    <tr>\n",
       "      <th>1114</th>\n",
       "      <td>Account Health</td>\n",
       "      <td>dzp1</td>\n",
       "      <td>67</td>\n",
       "    </tr>\n",
       "    <tr>\n",
       "      <th>1712</th>\n",
       "      <td>Amazon Marketplace Web Service (MWS)</td>\n",
       "      <td>Rick_MWS</td>\n",
       "      <td>62</td>\n",
       "    </tr>\n",
       "    <tr>\n",
       "      <th>4755</th>\n",
       "      <td>Groups</td>\n",
       "      <td>John_C_Lipham_Constr</td>\n",
       "      <td>52</td>\n",
       "    </tr>\n",
       "    <tr>\n",
       "      <th>6876</th>\n",
       "      <td>Selling on Amazon</td>\n",
       "      <td>josephm</td>\n",
       "      <td>51</td>\n",
       "    </tr>\n",
       "    <tr>\n",
       "      <th>1467</th>\n",
       "      <td>Amazon Custom</td>\n",
       "      <td>bendztek</td>\n",
       "      <td>47</td>\n",
       "    </tr>\n",
       "    <tr>\n",
       "      <th>4835</th>\n",
       "      <td>Groups</td>\n",
       "      <td>Real_Computers</td>\n",
       "      <td>47</td>\n",
       "    </tr>\n",
       "    <tr>\n",
       "      <th>3833</th>\n",
       "      <td>Fulfillment By Amazon</td>\n",
       "      <td>jimnew</td>\n",
       "      <td>47</td>\n",
       "    </tr>\n",
       "    <tr>\n",
       "      <th>1733</th>\n",
       "      <td>Amazon Marketplace Web Service (MWS)</td>\n",
       "      <td>The42ndStreet</td>\n",
       "      <td>46</td>\n",
       "    </tr>\n",
       "    <tr>\n",
       "      <th>4941</th>\n",
       "      <td>Groups</td>\n",
       "      <td>hd_property_services</td>\n",
       "      <td>45</td>\n",
       "    </tr>\n",
       "  </tbody>\n",
       "</table>\n",
       "</div>"
      ],
      "text/plain": [
       "                                  Category  ... num_Reply_Authors\n",
       "4861                                Groups  ...               109\n",
       "1114                        Account Health  ...                67\n",
       "1712  Amazon Marketplace Web Service (MWS)  ...                62\n",
       "4755                                Groups  ...                52\n",
       "6876                     Selling on Amazon  ...                51\n",
       "1467                         Amazon Custom  ...                47\n",
       "4835                                Groups  ...                47\n",
       "3833                 Fulfillment By Amazon  ...                47\n",
       "1733  Amazon Marketplace Web Service (MWS)  ...                46\n",
       "4941                                Groups  ...                45\n",
       "\n",
       "[10 rows x 3 columns]"
      ]
     },
     "execution_count": 82,
     "metadata": {
      "tags": []
     },
     "output_type": "execute_result"
    }
   ],
   "source": [
    "print('Top 10 authors with most amount of replys')\n",
    "pd.DataFrame(df.groupby(['Category','Post Author'],\n",
    "                        as_index=False)['num_Reply_Authors'].sum()).\\\n",
    "                        sort_values(by='num_Reply_Authors',ascending=False).head(10)"
   ]
  },
  {
   "cell_type": "code",
   "execution_count": 93,
   "metadata": {
    "colab": {
     "base_uri": "https://localhost:8080/",
     "height": 673
    },
    "colab_type": "code",
    "id": "CLYkWUU8wFK9",
    "outputId": "ab89f163-ada1-4f8c-ad01-5f985bd755cc"
   },
   "outputs": [
    {
     "data": {
      "text/plain": [
       "(array([ 0,  1,  2,  3,  4,  5,  6,  7,  8,  9, 10]),\n",
       " <a list of 11 Text major ticklabel objects>)"
      ]
     },
     "execution_count": 93,
     "metadata": {
      "tags": []
     },
     "output_type": "execute_result"
    },
    {
     "data": {
      "image/png": "[encoded data removed]",
      "text/plain": [
       "<Figure size 1080x576 with 1 Axes>"
      ]
     },
     "metadata": {
      "needs_background": "light",
      "tags": []
     },
     "output_type": "display_data"
    }
   ],
   "source": [
    "fig= plt.figure(figsize=(15,8))\n",
    "ax = fig.add_subplot(111)\n",
    "ax = sns.boxplot(x='Category',y='num_Reply_Authors',data=df)\n",
    "plt.xticks(fontsize=8,rotation=45)"
   ]
  },
  {
   "cell_type": "markdown",
   "metadata": {},
   "source": [
    "<p style=\"color:blue\">Great idea using boxplots but I don't understand what insights you derived from them here.\n",
    "We usually use them to understand the distribution of the data. But more importantly to discover Outliers and try to deal with them. If you used it to discover outliers it would have been interesting to investigate wat those gray points are all about. Like are there some errors that can be fixed, etc</p>"
   ]
  },
  {
   "cell_type": "markdown",
   "metadata": {
    "colab_type": "text",
    "id": "xWrqzPQgU5o2"
   },
   "source": [
    "## Get similar comments based on cosine similarity method "
   ]
  },
  {
   "cell_type": "code",
   "execution_count": 0,
   "metadata": {
    "colab": {},
    "colab_type": "code",
    "id": "jYli1-hRRXZ_"
   },
   "outputs": [],
   "source": [
    "def get_top_comments(docu_list, n, labels):\n",
    "    #Given a list of comments, find the indices with the highest n values.\n",
    "    #Return the labels for each of these indices.\n",
    "    return [labels[i] for i in np.argsort(docu_list)[::-1][:n]]  "
   ]
  },
  {
   "cell_type": "code",
   "execution_count": 122,
   "metadata": {
    "colab": {
     "base_uri": "https://localhost:8080/",
     "height": 373
    },
    "colab_type": "code",
    "id": "k4qHaGoVQ4IY",
    "outputId": "ad2ae653-523c-4abe-90d7-0fd9aa6481a7"
   },
   "outputs": [
    {
     "name": "stdout",
     "output_type": "stream",
     "text": [
      "The randomly selected comment: \n",
      "greetings sent shipment numerous cases amazon via ups partner carrier two cases got lost transit nov 22 contacted amazon support numbers times response keep getting amazon support eligible investigation since boxes checked yet never get checked since ups lost two cases know covered fba lost damaged reimbursement policy submit get reimbursed since response keep getting amazon support eligible investigation thank advance help\n",
      "\n",
      "---Top 5 similar comments---\n",
      "\n",
      "No. 1 similar comment is: \n",
      " need help community creating cases amazon seller support getting anywhere refusing help facts situation include 13 boxes product sent via ups tracking numbers 1z81rf430300429193 1z81rf430302377405 1z81rf430301857817 1z81rf430325274429 1z81rf430300311238 1z81rf430305532240 1z81rf430341981456 1z81rf430316782861 1z81rf430328740473 1z81rf430345938282 1z81rf430315340296 1z81rf430344390508 1z81rf430344612910 tracking numbers show boxes delivered amazon successfully receive two boxes shipment evidenced products hitting inventory fba eleven boxes straight missing amazon telling less pound sand amazon latest response receive shipments quantity discrepancies automatically initiate investigation behalf items shipment resolution provided earlier another associate different time part investigation perform second physical count reconfirm quantity items received items marked “ investigation completed – shipment contents counted confirmed ” completed investigation completed additional check response request record receiving units question initial response seller support understand requested investigate missing units shipment fba15l98y0dy upon checking confirmed shipment claimed missing units marked “ investigation completed shipment contents counted confirmed ” whenever instance number units expected different number units received investigation done warehouse part receiving process investigation fulfillment centers perform second physical count reconfirm quantity items received concluded units claimed missing physically received therefore ineligible investigation reimbursement shipment id fba15l98y0dy amazon reference id 79xav8uq ship amazoncom services inc 10240 old dowd rd charlotte nc 282148082 us clt2 submitted request ups confirm details tracking numbers provide documentation also sent another request seller support identify boxes received boxes empty another plausible direction anyone else help scenario options escalate get real response check boxes sitting corner charlotte nc.\n",
      "\n",
      "No. 2 similar comment is: \n",
      " one fba shipment delivered never checked receiving long time spending contact seller support get copy paste answer wait recocil button became eligible condition “ date shipment becomes eligible investigation shown boxes checked ” ive research forum found lot case one mention reconcile became eligible without receiving.\n",
      "\n",
      "No. 3 similar comment is: \n",
      " hello anyone know happens product gets delivered amazon fba seems like lost warehouse get reimbursed lost product keep trying reconcile delivery amazon keeps pushing date reconcile obvious lost misplaced ive lost valuable selling time ever get reimbursed thank.\n",
      "\n",
      "No. 4 similar comment is: \n",
      " created fba shipment two boxes feb 5th shipped two boxes ftw1 box 1 84 products tracking number 1z81rf430347956893 box 2 60 products tracking number 1z81rf430322619106 waited waited products box 1 never went inventory never even given opportunity reconcile shipment allotted time passed opened 3 separate cases spoke seller support get runaround canned response greetings fusion teas amazon receive shipment quantity discrepancies automatically initiate investigation behalf items shipment part investigation perform second physical count reconfirm quantity items received items marked “ investigation completed –shipment contents counted confirmed ” completed investigation completed additional check response request record receiving units question thank selling amazon given packing slips proof ups delivery even referenced amazons policy stating items lost damaged shipped amazon fulfillment center using amazon partnered carriers small parcel less truckload full truckload ” link feel cheated amazon 1200 worth product get resolved anybody go happy ending point never want ship multiple boxes within shipment fba warehouse.\n",
      "\n",
      "No. 5 similar comment is: \n",
      " hi everyone … sent 1 shipment 2 boxes … fba received 1 box shipment status closed contacted seller support 23 case 15 messages… still receive pattern answer part investigation perform second physical count reconfirm quantity items received items marked “ investigation completed –shipment contents counted confirmed ” completed investigation completed additional check response request record receiving units question unfortunately amazon issue reimbursement items documents confirm sent 2 boxes dhl express fba received 2 boxes mean one box lost… … hopeless get reimbursement … anyone experience like fix issue thank much.\n",
      "\n"
     ]
    }
   ],
   "source": [
    "vectorizer = TfidfVectorizer(analyzer = 'word', \n",
    "                             stop_words = 'english', \n",
    "                             lowercase = True, \n",
    "                             max_features = 5000)\n",
    "\n",
    "documents = df['Leading Comment']\n",
    "\n",
    "documents_vec = vectorizer.fit_transform(documents).toarray()\n",
    "\n",
    "words = vectorizer.get_feature_names()\n",
    "\n",
    "random_comment = np.random.choice(documents, 1)\n",
    "\n",
    "random_comment_vec = vectorizer.transform([random_comment[0]]).toarray()\n",
    "# Calculate the similarity score(s) between vector(s) and training vectors\n",
    "similarity_score = cosine_similarity(random_comment_vec, documents_vec)\n",
    "\n",
    "# top 5 similar comments\n",
    "# because the 1st comment is the randomly selected one, n should be set as n+1\n",
    "n = 5+1\n",
    "similar_comments = get_top_comments(similarity_score[0], n, list(documents))\n",
    "\n",
    "print('The randomly selected comment: \\n%s\\n' % (random_comment[0]))\n",
    "print('---Top %s similar comments---' % (n-1))\n",
    "print('')\n",
    "\n",
    "for i in range(1,n):\n",
    "    print('No. %d similar comment is: \\n %s.\\n' % (i, similar_comments[i]))"
   ]
  },
  {
   "cell_type": "markdown",
   "metadata": {
    "colab_type": "text",
    "id": "TLh0x6q8BMRK"
   },
   "source": [
    "## Analaysis with Count Vectorizer"
   ]
  },
  {
   "cell_type": "code",
   "execution_count": 0,
   "metadata": {
    "colab": {},
    "colab_type": "code",
    "id": "5gzdoCOguhPn"
   },
   "outputs": [],
   "source": [
    "#First we initialize the count vectorizer\n",
    "cvec = CountVectorizer(stop_words='english')\n",
    "#cvec = CountVectorizer()\n",
    "\n",
    "#then we combine all the comments from a forum post concatenating title, leading comment and reply comment\n",
    "df['All Text'] =  df['Title'] + \" \"+ df['Leading Comment'] + \" \"+ df['Reply Comments']\n",
    "\n",
    "#Now we apply count vectorizer to this elements in this column\n",
    "sparse_matrix = cvec.fit_transform(df['All Text'])\n",
    "\n",
    "#the resulting 2D matrix is D documents x n words long\n",
    "\n",
    "doc_term_matrix = sparse_matrix.todense()\n",
    "cv_df = pd.DataFrame(doc_term_matrix, columns = cvec.get_feature_names(), index = df['Title'])\n",
    "#sim_arr = cosine_similarity(cv_df, cv_df)"
   ]
  },
  {
   "cell_type": "code",
   "execution_count": 0,
   "metadata": {
    "colab": {},
    "colab_type": "code",
    "id": "cMRnpg0iKSHz"
   },
   "outputs": [],
   "source": [
    "for cat in df['Category'].unique():\n",
    "  text = df[df['Category']== cat]['All Text']\n",
    "  count_vectorizer = CountVectorizer(max_df=0.3,\n",
    "                                     stop_words='english',\n",
    "                                     )\n",
    "  cvec_matrix = count_vectorizer.fit_transform(text)\n",
    "  terms = count_vectorizer.get_feature_names()\n",
    "\n",
    "  print('The top 10 key words in post title from the category: ', cat)\n",
    "  print(terms)\n",
    "  print('\\n')"
   ]
  },
  {
   "cell_type": "markdown",
   "metadata": {
    "colab": {},
    "colab_type": "code",
    "id": "WYoEfgZXrsH6"
   },
   "source": [
    "<p style=\"color:red\">Remarks:</p>\n",
    "\n",
    "- When using visualizations it is advised to accompaign them with a small paragraph or statement explaining what they are about so that people can understand what was the purpose of the analyst from drawing their attention to those points.\n",
    "- After data cleaning the most important step for a data scientist is visualizing and understanding their data. So it would have been advantageous to explore the data more. This exploration, helps not only to detect noise in the data but also understand and debug the results of the ML models."
   ]
  },
  {
   "cell_type": "code",
   "execution_count": null,
   "metadata": {},
   "outputs": [],
   "source": []
  }
 ],
 "metadata": {
  "colab": {
   "collapsed_sections": [
    "TLh0x6q8BMRK"
   ],
   "name": "Team4_Amazon_Exploratory_analysis.ipynb",
   "provenance": []
  },
  "kernelspec": {
   "display_name": "Python 3",
   "language": "python",
   "name": "python3"
  },
  "language_info": {
   "codemirror_mode": {
    "name": "ipython",
    "version": 3
   },
   "file_extension": ".py",
   "mimetype": "text/x-python",
   "name": "python",
   "nbconvert_exporter": "python",
   "pygments_lexer": "ipython3",
   "version": "3.6.9"
  },
  "toc": {
   "base_numbering": 1,
   "nav_menu": {},
   "number_sections": true,
   "sideBar": true,
   "skip_h1_title": false,
   "title_cell": "Table of Contents",
   "title_sidebar": "Contents",
   "toc_cell": false,
   "toc_position": {},
   "toc_section_display": true,
   "toc_window_display": false
  }
 },
 "nbformat": 4,
 "nbformat_minor": 1
}
