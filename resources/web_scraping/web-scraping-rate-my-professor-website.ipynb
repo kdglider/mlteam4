{
 "cells": [
  {
   "cell_type": "markdown",
   "metadata": {
    "colab_type": "text",
    "id": "cm1axZ2cHUa5"
   },
   "source": [
    "# Web scraping using BeautifulSoup and Requests libraries (Rate My Professors Website)"
   ]
  },
  {
   "cell_type": "markdown",
   "metadata": {
    "colab_type": "text",
    "id": "ML2ZARBRsU0g"
   },
   "source": [
    "## Let’s scrape the data from the web using Python."
   ]
  },
  {
   "cell_type": "markdown",
   "metadata": {
    "colab_type": "text",
    "id": "42v-u2qzsRS-"
   },
   "source": [
    "![alt text](https://raw.githubusercontent.com/pluralsight/guides/master/images/310d6edd-b569-408a-a61d-f6d9a9a9eb61.png)"
   ]
  },
  {
   "cell_type": "markdown",
   "metadata": {
    "colab_type": "text",
    "id": "fq6AxmBYsXrT"
   },
   "source": [
    "Today we will be scraping “[Rate My Professor](https://www.ratemyprofessors.com/)” website. A little insight about Rate My Professor website, it is a website that contains a rating of school, professors and universities. You can search for any professor or school and get their ratings before taking or joining to their courses. It’s a handy feature which helps to know more about your professor or the university that you want to join. In this tutorial, we shall see how to scrape and to extract a specific professor’s tag. I warn you guys this is not illegal but the mass scraping of data from the website can lead your IP address being blocked. Just do it once or twice, but don’t just foolishly put it in a loop and try to put request inside the loop."
   ]
  },
  {
   "cell_type": "markdown",
   "metadata": {
    "colab_type": "text",
    "id": "teMB0jnMELj2"
   },
   "source": [
    "![alt text](https://i.kym-cdn.com/entries/icons/original/000/026/575/5ac80d20dfc1e.image.jpg)"
   ]
  },
  {
   "cell_type": "markdown",
   "metadata": {
    "colab_type": "text",
    "id": "TESiRp8VE44M"
   },
   "source": [
    "**What is Web Scraping ?**\n",
    "\n",
    "Web Scraping (also termed as Scraping, Data Extraction, Data Harvesting, etc.) is a technique used to extract data from the websites. Sometimes web scraping can be very useful wherein we can get the data that we are looking for straight from the web, but sometimes it a bad way to do it, because it’s like stealing the precious data from the website without their permission, but limit your scraping process to once or twice so that this can avoid you from falling in trouble.\n",
    "\n",
    "\n"
   ]
  },
  {
   "cell_type": "markdown",
   "metadata": {
    "colab_type": "text",
    "id": "mkHyOX1psqcH"
   },
   "source": [
    "## The most useful libraries required for web scraping are:\n",
    "\n",
    "1. [Beautiful Soup.](https://www.crummy.com/software/BeautifulSoup/bs4/doc/?source=post_page---------------------------)\n",
    "\n",
    "2. [Requests.](https://2.python-requests.org/en/master/?source=post_page---------------------------)"
   ]
  },
  {
   "cell_type": "markdown",
   "metadata": {
    "colab_type": "text",
    "id": "kY2HX-VftA4T"
   },
   "source": [
    "## These are the steps that we would be following throughout this tutorial:\n",
    "\n",
    "1. Importing the required libraries.\n",
    "\n",
    "2. Getting the URL and storing it in a variable.\n",
    "\n",
    "3. Making a request to the website using the requests library.\n",
    "\n",
    "4. Using the Beautiful Soup library to get the HTML (raw) data from the website.\n",
    "\n",
    "5. Using soup.findAll method to get the respected tag that we are looking for.\n",
    "\n",
    "6. Removing all the HTML tags and converting it to a plain text format."
   ]
  },
  {
   "cell_type": "markdown",
   "metadata": {
    "colab_type": "text",
    "id": "eAe3tdqstNU0"
   },
   "source": [
    "You might be wondering what tags to extract, well in the Rate My Professor website every professor will have his/her respected tags such as (hilarious, heavy homework, study hard or fail, etc.), we will just try to extra these tags in this tutorials as shown below."
   ]
  },
  {
   "cell_type": "markdown",
   "metadata": {
    "colab_type": "text",
    "id": "8Sy58JjEtuG5"
   },
   "source": [
    "![alt text](https://miro.medium.com/max/1575/0*Gl3Jo2EE6tFzVjHD.png)\n"
   ]
  },
  {
   "cell_type": "markdown",
   "metadata": {
    "colab_type": "text",
    "id": "nxNY9FqDt5pN"
   },
   "source": [
    "Before we begin make sure to scrape the data at a slow pace, and you can also use a VPN service to get a different IP address, this prevents your IP address from banning, but I hope you guys will follow the instructions. Here is an [article](https://hackernoon.com/how-to-scrape-a-website-without-getting-blacklisted-271a605a0d94?source=post_page---------------------------) that will let you know how to scrape a website without getting blacklisted. One important thing in this tutorial there is no point of me explaining each and every line of code, which is not needed here because python code is self-explanatory. However, I will try not to confuse you, and make things clear in an easy way. So I wrote this tutorial in such a way that everybody can understand irrespective of their programming background. Moreover, the entire source code can be found in my GitHub. There might be numerous tutorials available on the internet, but this tutorial is easy to understand because I have tried to explain the code as much as possible, some parts are a mechanical process, wherein you just have to follow them, just let me know if you have any doubt in the comments section down below."
   ]
  },
  {
   "cell_type": "markdown",
   "metadata": {
    "colab_type": "text",
    "id": "8e4KeKhit_TD"
   },
   "source": [
    "Let’s get started."
   ]
  },
  {
   "cell_type": "markdown",
   "metadata": {
    "colab_type": "text",
    "id": "5QMkozcWJi4j"
   },
   "source": [
    "**Step 1: Importing the required libraries**"
   ]
  },
  {
   "cell_type": "markdown",
   "metadata": {
    "colab_type": "text",
    "id": "qte8uE9SuFA1"
   },
   "source": [
    "Let us import few important libraries such as Requests and BeautifulSoup."
   ]
  },
  {
   "cell_type": "code",
   "execution_count": 0,
   "metadata": {
    "colab": {},
    "colab_type": "code",
    "id": "bQIL3UbWh3II"
   },
   "outputs": [],
   "source": [
    "import requests\n",
    "from bs4 import BeautifulSoup"
   ]
  },
  {
   "cell_type": "markdown",
   "metadata": {
    "colab_type": "text",
    "id": "E6GDKT8Gu-ov"
   },
   "source": [
    "\n",
    "\n",
    "---\n",
    "\n"
   ]
  },
  {
   "cell_type": "markdown",
   "metadata": {
    "colab_type": "text",
    "id": "81N6kDoxM4ke"
   },
   "source": [
    "**Step 2: Getting the URL and storing it in a variable.**"
   ]
  },
  {
   "cell_type": "markdown",
   "metadata": {
    "colab_type": "text",
    "id": "02ugpc6OuK0U"
   },
   "source": [
    "Let us store the URL of the professor in the variable named “url”. The URL of the website can be found here: “[Rate My Professor](https://www.ratemyprofessors.com/ShowRatings.jsp?tid=1986099&source=post_page---------------------------)”."
   ]
  },
  {
   "cell_type": "code",
   "execution_count": 0,
   "metadata": {
    "colab": {},
    "colab_type": "code",
    "id": "aadHoY69jEWI"
   },
   "outputs": [],
   "source": [
    "url = 'https://www.ratemyprofessors.com/ShowRatings.jsp?tid=1986099'"
   ]
  },
  {
   "cell_type": "markdown",
   "metadata": {
    "colab_type": "text",
    "id": "B6-3kmHIu9nV"
   },
   "source": [
    "\n",
    "\n",
    "---\n",
    "\n"
   ]
  },
  {
   "cell_type": "markdown",
   "metadata": {
    "colab_type": "text",
    "id": "KP2pzOgWNG4u"
   },
   "source": [
    "\n",
    "**Step 3: Making a request to the website using the requests library.**\n"
   ]
  },
  {
   "cell_type": "markdown",
   "metadata": {
    "colab_type": "text",
    "id": "9fHhlDOQuTB4"
   },
   "source": [
    "Here we use the requests library by passing “url” as a parameter, be careful don’t run this multiple times. If you get like Response 200 then its success, if you get something else then there is something wrong with maybe the code or your browser I don’t know."
   ]
  },
  {
   "cell_type": "code",
   "execution_count": 0,
   "metadata": {
    "colab": {},
    "colab_type": "code",
    "id": "r0wPh55bjJrp"
   },
   "outputs": [],
   "source": [
    "page = requests.get(url)"
   ]
  },
  {
   "cell_type": "code",
   "execution_count": 0,
   "metadata": {
    "colab": {
     "base_uri": "https://localhost:8080/",
     "height": 35
    },
    "colab_type": "code",
    "id": "yY1A4nnijnfT",
    "outputId": "0e696a12-81ab-4f85-ef26-2af358ab444f"
   },
   "outputs": [
    {
     "data": {
      "text/plain": [
       "<Response [200]>"
      ]
     },
     "execution_count": 5,
     "metadata": {
      "tags": []
     },
     "output_type": "execute_result"
    }
   ],
   "source": [
    "page"
   ]
  },
  {
   "cell_type": "markdown",
   "metadata": {
    "colab_type": "text",
    "id": "MXK-919ku8h5"
   },
   "source": [
    "\n",
    "\n",
    "---\n",
    "\n"
   ]
  },
  {
   "cell_type": "markdown",
   "metadata": {
    "colab_type": "text",
    "id": "g9-SmRvFNtcz"
   },
   "source": [
    "**Step 4: Using the Beautiful Soup library to get the HTML (raw) data from the website.**"
   ]
  },
  {
   "cell_type": "markdown",
   "metadata": {
    "colab_type": "text",
    "id": "sqwmHpL6uYBt"
   },
   "source": [
    "Here we use the BeautifulSoup by passing the page.text as a parameter and using the HTML parser. You can try to print the soup, but printing the soup doesn’t give you the answer, rather it contains huge chunks of HTML data, so I decided not to show it here."
   ]
  },
  {
   "cell_type": "code",
   "execution_count": 0,
   "metadata": {
    "colab": {},
    "colab_type": "code",
    "id": "B32OMv-4j1BJ"
   },
   "outputs": [],
   "source": [
    "soup = BeautifulSoup(page.text, \"html.parser\")"
   ]
  },
  {
   "cell_type": "markdown",
   "metadata": {
    "colab_type": "text",
    "id": "zvuZ0nsSu7ac"
   },
   "source": [
    "\n",
    "\n",
    "---\n",
    "\n"
   ]
  },
  {
   "cell_type": "markdown",
   "metadata": {
    "colab_type": "text",
    "id": "PnS9Q0nGOJAa"
   },
   "source": [
    "**Step 5: Using soup.findAll method to get the respected tag that we are looking for.**\n",
    "\n",
    "\n"
   ]
  },
  {
   "cell_type": "markdown",
   "metadata": {
    "colab_type": "text",
    "id": "7o3aamYtucnr"
   },
   "source": [
    "Here is the place where you shall add the tags that you are looking for, to get the tag name all you have to do is to right click on the respected tag or click Ctrl-Shift-I on the tag in the webpage, then a page with selected tag will open for you to your right-hand side as shown below:"
   ]
  },
  {
   "cell_type": "markdown",
   "metadata": {
    "colab_type": "text",
    "id": "gwSVFYTHulMS"
   },
   "source": [
    "![alt text](https://miro.medium.com/max/1575/0*9YrZBOvqqBGNPjPr.png)\n"
   ]
  },
  {
   "cell_type": "markdown",
   "metadata": {
    "colab_type": "text",
    "id": "G5kH-6oVurgW"
   },
   "source": [
    "You can then copy the HTML tag and class if any, and then place it inside the soup.findAll method. In this case, the HTML tag is “span” and class is “tag-box-choosetags”"
   ]
  },
  {
   "cell_type": "code",
   "execution_count": 0,
   "metadata": {
    "colab": {
     "base_uri": "https://localhost:8080/",
     "height": 260
    },
    "colab_type": "code",
    "id": "mOZlRX52lyQK",
    "outputId": "59d32d6d-9122-43e7-ef0e-5d69da1222ce"
   },
   "outputs": [
    {
     "data": {
      "text/plain": [
       "[<span class=\"tag-box-choosetags\"> Hilarious <b>(11)</b></span>,\n",
       " <span class=\"tag-box-choosetags\"> Caring <b>(9)</b></span>,\n",
       " <span class=\"tag-box-choosetags\"> Accessible outside class <b>(8)</b></span>,\n",
       " <span class=\"tag-box-choosetags\"> Amazing lectures <b>(5)</b></span>,\n",
       " <span class=\"tag-box-choosetags\"> Clear grading criteria <b>(4)</b></span>,\n",
       " <span class=\"tag-box-choosetags\"> Inspirational <b>(4)</b></span>,\n",
       " <span class=\"tag-box-choosetags\"> Group projects <b>(3)</b></span>,\n",
       " <span class=\"tag-box-choosetags\"> Respected <b>(3)</b></span>,\n",
       " <span class=\"tag-box-choosetags\"> Gives good feedback <b>(2)</b></span>,\n",
       " <span class=\"tag-box-choosetags\"> EXTRA CREDIT <b>(2)</b></span>,\n",
       " <span class=\"tag-box-choosetags\"> Participation matters <b>(1)</b></span>,\n",
       " <span class=\"tag-box-choosetags\"> Lecture heavy <b>(1)</b></span>,\n",
       " <span class=\"tag-box-choosetags\"> Test heavy <b>(1)</b></span>,\n",
       " <span class=\"tag-box-choosetags\"> So many papers <b>(1)</b></span>]"
      ]
     },
     "execution_count": 7,
     "metadata": {
      "tags": []
     },
     "output_type": "execute_result"
    }
   ],
   "source": [
    "proftags = soup.findAll(\"span\", {\"class\": \"tag-box-choosetags\" })\n",
    "proftags"
   ]
  },
  {
   "cell_type": "markdown",
   "metadata": {
    "colab_type": "text",
    "id": "U2edHSXyu5z1"
   },
   "source": [
    "\n",
    "\n",
    "---\n",
    "\n"
   ]
  },
  {
   "cell_type": "markdown",
   "metadata": {
    "colab_type": "text",
    "id": "9SOauojTRxgh"
   },
   "source": [
    "**Step 6: Removing all the HTML tags and converting it to a plain text format.** "
   ]
  },
  {
   "cell_type": "markdown",
   "metadata": {
    "colab_type": "text",
    "id": "G9RGUKtHuwU0"
   },
   "source": [
    "Here we remove all the HTML tags and convert it to a text format, this can be done with the help of get_text method placed inside a for loop. This converts the HTML into the text format."
   ]
  },
  {
   "cell_type": "code",
   "execution_count": 0,
   "metadata": {
    "colab": {
     "base_uri": "https://localhost:8080/",
     "height": 260
    },
    "colab_type": "code",
    "id": "m6xBHR-fmJAD",
    "outputId": "6ef8ce58-0113-4100-974f-a1c2bbc313e0"
   },
   "outputs": [
    {
     "name": "stdout",
     "output_type": "stream",
     "text": [
      " Hilarious (11)\n",
      " Caring (9)\n",
      " Accessible outside class (8)\n",
      " Amazing lectures (5)\n",
      " Clear grading criteria (4)\n",
      " Inspirational (4)\n",
      " Group projects (3)\n",
      " Respected (3)\n",
      " Gives good feedback (2)\n",
      " EXTRA CREDIT (2)\n",
      " Participation matters (1)\n",
      " Lecture heavy (1)\n",
      " Test heavy (1)\n",
      " So many papers (1)\n"
     ]
    }
   ],
   "source": [
    "for mytag in proftags:\n",
    "  print(mytag.get_text())"
   ]
  },
  {
   "cell_type": "markdown",
   "metadata": {
    "colab_type": "text",
    "id": "EgJ12-z9Sl9p"
   },
   "source": [
    "**Hence we got the above information that we were looking for. We got all the tags of the professor. This is how we scrape the data from the internet by using Requests and Beautiful Soup libraries. To be frank this is my professor who teaches the subject “Data Science”. He is one of the best professors in the entire university. I like his teaching and his style.**"
   ]
  },
  {
   "cell_type": "markdown",
   "metadata": {
    "colab_type": "text",
    "id": "v9XLrULOu1aq"
   },
   "source": [
    "**Thank you guys for spending your time reading my tutorial, stay tuned for more updates. Let me know what is your opinion about this tutorial in the comment section below. Also if you have any doubts regarding the code, comment section is all yours. Have a nice day.**"
   ]
  },
  {
   "cell_type": "markdown",
   "metadata": {
    "colab_type": "text",
    "id": "SVYBkYgbu4cm"
   },
   "source": [
    "\n",
    "\n",
    "---\n",
    "\n"
   ]
  }
 ],
 "metadata": {
  "colab": {
   "collapsed_sections": [],
   "name": "Web scraping Rate My Professor.ipynb",
   "provenance": []
  },
  "kernelspec": {
   "display_name": "Python 3",
   "language": "python",
   "name": "python3"
  },
  "language_info": {
   "codemirror_mode": {
    "name": "ipython",
    "version": 3
   },
   "file_extension": ".py",
   "mimetype": "text/x-python",
   "name": "python",
   "nbconvert_exporter": "python",
   "pygments_lexer": "ipython3",
   "version": "3.7.6"
  }
 },
 "nbformat": 4,
 "nbformat_minor": 1
}
