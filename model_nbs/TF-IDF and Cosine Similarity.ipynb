{
 "cells": [
  {
   "cell_type": "code",
   "execution_count": 37,
   "metadata": {},
   "outputs": [],
   "source": [
    "import numpy as np \n",
    "import pandas as pd \n",
    "import math\n",
    "from collections import Counter\n",
    "from nltk import word_tokenize"
   ]
  },
  {
   "cell_type": "code",
   "execution_count": 38,
   "metadata": {},
   "outputs": [],
   "source": [
    "def tf(question, word):\n",
    "    if word not in question:\n",
    "        return 0\n",
    "    count = dict(Counter(question))\n",
    "    q_len = len(question)\n",
    "    return float(count[word]) / float(q_len)"
   ]
  },
  {
   "cell_type": "code",
   "execution_count": 39,
   "metadata": {},
   "outputs": [],
   "source": [
    "def n_containing(qlist, word):\n",
    "    return float(qlist[word])\n",
    "\n",
    "def idf(qlist, word):\n",
    "    return math.log(float(len(qlist.keys())) / (1.0 + n_containing(qlist, word)))"
   ]
  },
  {
   "cell_type": "code",
   "execution_count": 40,
   "metadata": {},
   "outputs": [],
   "source": [
    "def tfidf(question, qlist, word):\n",
    "    return tf(question, word) * idf(qlist, word)"
   ]
  },
  {
   "cell_type": "code",
   "execution_count": 41,
   "metadata": {},
   "outputs": [],
   "source": [
    "def cosine(v1, v2):\n",
    "    v1 = np.array(v1)\n",
    "    v2 = np.array(v2)\n",
    "    return np.dot(v1, v2) / (np.sqrt(np.sum(v1**2)) * np.sqrt(np.sum(v2**2)))"
   ]
  },
  {
   "cell_type": "code",
   "execution_count": 42,
   "metadata": {},
   "outputs": [
    {
     "name": "stdout",
     "output_type": "stream",
     "text": [
      "61426\n",
      "All commments added to list\n"
     ]
    }
   ],
   "source": [
    "train = pd.read_csv('final_merged_data.csv')\n",
    "\n",
    "train_qs = train[['Leading Comment','Category', 'Forum']]\n",
    "\n",
    "qlist = []\n",
    "count = 0\n",
    "for row in train_qs.itertuples():\n",
    "    try:\n",
    "        if len(str(row[2])) > 10:\n",
    "            q1 = word_tokenize(row[2].lower())\n",
    "        if len(str(row[3])) > 10:\n",
    "            q2 = word_tokenize(row[3].lower())\n",
    "        qlist += q1 + q2\n",
    "        count+=1\n",
    "        if count%100000 == 0:\n",
    "            print('At'+str(count))\n",
    "    except TypeError:\n",
    "        pass\n",
    "\n",
    "print (len(qlist))\n",
    "qlist = dict(Counter(qlist))\n",
    "import json\n",
    "with open('qlist.json', 'w') as f:\n",
    "    f.write(json.dumps(qlist, indent=2))\n",
    "print('All commments added to list')"
   ]
  },
  {
   "cell_type": "code",
   "execution_count": 43,
   "metadata": {},
   "outputs": [],
   "source": [
    "with open('commentsimilarity.csv', 'a') as f:\n",
    "    f.write('id,is_duplicate\\n')\n",
    "for row in train_qs.itertuples():\n",
    "    if len(str(row[2])) > 10 and len(str(row[3])) > 10:\n",
    "        wordvec1 = word_tokenize(row[2].lower())\n",
    "        wordvec2 = word_tokenize(row[3].lower())\n",
    "        words = wordvec1 + wordvec2\n",
    "        words = list(set([word for word in words if word != '?']))\n",
    "\n",
    "        # print words\n",
    "\n",
    "        vec1 = []\n",
    "        vec2 = []\n",
    "        for word in words:\n",
    "            vec1.append(tfidf(wordvec1, qlist, word))\n",
    "            vec2.append(tfidf(wordvec2, qlist, word))\n",
    "\n",
    "        with open('commentsimilarity.csv', 'a') as f:\n",
    "            f.write(str(row[1]) + \",\" + str(cosine(vec1, vec2)) + '\\n')\n",
    "    else:\n",
    "        with open('commentsimilarity.csv', 'a') as f:\n",
    "            f.write(str(row[1]) + \",\" + '0' + '\\n')"
   ]
  },
  {
   "cell_type": "code",
   "execution_count": 44,
   "metadata": {
    "scrolled": true
   },
   "outputs": [
    {
     "name": "stdout",
     "output_type": "stream",
     "text": [
      "Have questions about Store & Website Management? This is the category to use. Please be sure to select the most appropriate sub-category for your questions.,0.0\n"
     ]
    }
   ],
   "source": [
    "print (str(row[1]) + \",\" + str(cosine(vec1, vec2)))"
   ]
  },
  {
   "cell_type": "code",
   "execution_count": null,
   "metadata": {},
   "outputs": [],
   "source": []
  },
  {
   "cell_type": "code",
   "execution_count": null,
   "metadata": {},
   "outputs": [],
   "source": []
  }
 ],
 "metadata": {
  "kernelspec": {
   "display_name": "Python 3",
   "language": "python",
   "name": "python3"
  },
  "language_info": {
   "codemirror_mode": {
    "name": "ipython",
    "version": 3
   },
   "file_extension": ".py",
   "mimetype": "text/x-python",
   "name": "python",
   "nbconvert_exporter": "python",
   "pygments_lexer": "ipython3",
   "version": "3.7.6"
  }
 },
 "nbformat": 4,
 "nbformat_minor": 4
}
