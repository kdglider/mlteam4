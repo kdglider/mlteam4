{
 "cells": [
  {
   "cell_type": "code",
   "execution_count": 3,
   "metadata": {},
   "outputs": [
    {
     "data": {
      "text/html": [
       "<div>\n",
       "<style scoped>\n",
       "    .dataframe tbody tr th:only-of-type {\n",
       "        vertical-align: middle;\n",
       "    }\n",
       "\n",
       "    .dataframe tbody tr th {\n",
       "        vertical-align: top;\n",
       "    }\n",
       "\n",
       "    .dataframe thead th {\n",
       "        text-align: right;\n",
       "    }\n",
       "</style>\n",
       "<table border=\"1\" class=\"dataframe\">\n",
       "  <thead>\n",
       "    <tr style=\"text-align: right;\">\n",
       "      <th></th>\n",
       "      <th>Unnamed: 0</th>\n",
       "      <th>Topic Title</th>\n",
       "      <th>Category</th>\n",
       "      <th>Tags</th>\n",
       "      <th>Author</th>\n",
       "      <th>Commenters</th>\n",
       "      <th>Leading Comment</th>\n",
       "      <th>Other Comments</th>\n",
       "      <th>Likes</th>\n",
       "      <th>Views</th>\n",
       "    </tr>\n",
       "  </thead>\n",
       "  <tbody>\n",
       "    <tr>\n",
       "      <th>0</th>\n",
       "      <td>0</td>\n",
       "      <td>About the Product Sourcing Category</td>\n",
       "      <td>Product Sourcing</td>\n",
       "      <td>[]</td>\n",
       "      <td>Trent-Admin</td>\n",
       "      <td>[]</td>\n",
       "      <td>Have questions about sourcing products? This i...</td>\n",
       "      <td>[]</td>\n",
       "      <td>0</td>\n",
       "      <td>0</td>\n",
       "    </tr>\n",
       "    <tr>\n",
       "      <th>1</th>\n",
       "      <td>1</td>\n",
       "      <td>Price Checker 2 - Competitor storefront extrac...</td>\n",
       "      <td>Product Sourcing</td>\n",
       "      <td>[]</td>\n",
       "      <td>MoniqueAndKerry</td>\n",
       "      <td>['Mitch']</td>\n",
       "      <td>Hi! We are new to the forum and are going thro...</td>\n",
       "      <td>['Yes you will need the paid version.  Options...</td>\n",
       "      <td>0</td>\n",
       "      <td>24</td>\n",
       "    </tr>\n",
       "    <tr>\n",
       "      <th>2</th>\n",
       "      <td>2</td>\n",
       "      <td>Top 10 Tips to Grow your Business Rapidly</td>\n",
       "      <td>Product Sourcing</td>\n",
       "      <td>['Purchasing']</td>\n",
       "      <td>Pradimna_Kumar</td>\n",
       "      <td>[]</td>\n",
       "      <td>As I am working in Amazon as a seller from las...</td>\n",
       "      <td>[]</td>\n",
       "      <td>0</td>\n",
       "      <td>0</td>\n",
       "    </tr>\n",
       "    <tr>\n",
       "      <th>3</th>\n",
       "      <td>3</td>\n",
       "      <td>Virtual Assistants</td>\n",
       "      <td>Product Sourcing</td>\n",
       "      <td>[]</td>\n",
       "      <td>JimW_PB</td>\n",
       "      <td>['Rebca', 'McDavid', 'Mitch']</td>\n",
       "      <td>Does anyone have a VA they recommend, have use...</td>\n",
       "      <td>['@McDavid Most don’t want to share any stella...</td>\n",
       "      <td>0</td>\n",
       "      <td>147</td>\n",
       "    </tr>\n",
       "    <tr>\n",
       "      <th>4</th>\n",
       "      <td>4</td>\n",
       "      <td>Can you sell branded products on Amazon uk</td>\n",
       "      <td>Product Sourcing</td>\n",
       "      <td>['Sourcing Brand Name Products']</td>\n",
       "      <td>Mitch</td>\n",
       "      <td>['Rameksuya']</td>\n",
       "      <td>Can you sell branded products on Amazon Uk or ...</td>\n",
       "      <td>['You can sell on Amazon UK as well.  It could...</td>\n",
       "      <td>0</td>\n",
       "      <td>73</td>\n",
       "    </tr>\n",
       "  </tbody>\n",
       "</table>\n",
       "</div>"
      ],
      "text/plain": [
       "   Unnamed: 0                                        Topic Title  \\\n",
       "0           0                About the Product Sourcing Category   \n",
       "1           1  Price Checker 2 - Competitor storefront extrac...   \n",
       "2           2          Top 10 Tips to Grow your Business Rapidly   \n",
       "3           3                                 Virtual Assistants   \n",
       "4           4         Can you sell branded products on Amazon uk   \n",
       "\n",
       "           Category                              Tags           Author  \\\n",
       "0  Product Sourcing                                []      Trent-Admin   \n",
       "1  Product Sourcing                                []  MoniqueAndKerry   \n",
       "2  Product Sourcing                    ['Purchasing']   Pradimna_Kumar   \n",
       "3  Product Sourcing                                []          JimW_PB   \n",
       "4  Product Sourcing  ['Sourcing Brand Name Products']            Mitch   \n",
       "\n",
       "                      Commenters  \\\n",
       "0                             []   \n",
       "1                      ['Mitch']   \n",
       "2                             []   \n",
       "3  ['Rebca', 'McDavid', 'Mitch']   \n",
       "4                  ['Rameksuya']   \n",
       "\n",
       "                                     Leading Comment  \\\n",
       "0  Have questions about sourcing products? This i...   \n",
       "1  Hi! We are new to the forum and are going thro...   \n",
       "2  As I am working in Amazon as a seller from las...   \n",
       "3  Does anyone have a VA they recommend, have use...   \n",
       "4  Can you sell branded products on Amazon Uk or ...   \n",
       "\n",
       "                                      Other Comments  Likes  Views  \n",
       "0                                                 []      0      0  \n",
       "1  ['Yes you will need the paid version.  Options...      0     24  \n",
       "2                                                 []      0      0  \n",
       "3  ['@McDavid Most don’t want to share any stella...      0    147  \n",
       "4  ['You can sell on Amazon UK as well.  It could...      0     73  "
      ]
     },
     "execution_count": 3,
     "metadata": {},
     "output_type": "execute_result"
    }
   ],
   "source": [
    "import pandas as pd\n",
    "data = pd.read_csv('Flowster_Topic_Attributes_20200609181520.csv')\n",
    "data.head()"
   ]
  },
  {
   "cell_type": "code",
   "execution_count": 4,
   "metadata": {},
   "outputs": [
    {
     "data": {
      "text/plain": [
       "Index(['Unnamed: 0', 'Topic Title', 'Category', 'Tags', 'Author', 'Commenters',\n",
       "       'Leading Comment', 'Other Comments', 'Likes', 'Views'],\n",
       "      dtype='object')"
      ]
     },
     "execution_count": 4,
     "metadata": {},
     "output_type": "execute_result"
    }
   ],
   "source": [
    "data.columns"
   ]
  },
  {
   "cell_type": "code",
   "execution_count": 5,
   "metadata": {},
   "outputs": [],
   "source": [
    "data.drop(columns= ['Unnamed: 0', 'Tags', 'Commenters','Likes', 'Views'], inplace=True)"
   ]
  },
  {
   "cell_type": "code",
   "execution_count": 6,
   "metadata": {},
   "outputs": [
    {
     "data": {
      "text/html": [
       "<div>\n",
       "<style scoped>\n",
       "    .dataframe tbody tr th:only-of-type {\n",
       "        vertical-align: middle;\n",
       "    }\n",
       "\n",
       "    .dataframe tbody tr th {\n",
       "        vertical-align: top;\n",
       "    }\n",
       "\n",
       "    .dataframe thead th {\n",
       "        text-align: right;\n",
       "    }\n",
       "</style>\n",
       "<table border=\"1\" class=\"dataframe\">\n",
       "  <thead>\n",
       "    <tr style=\"text-align: right;\">\n",
       "      <th></th>\n",
       "      <th>Topic Title</th>\n",
       "      <th>Category</th>\n",
       "      <th>Author</th>\n",
       "      <th>Leading Comment</th>\n",
       "      <th>Other Comments</th>\n",
       "    </tr>\n",
       "  </thead>\n",
       "  <tbody>\n",
       "    <tr>\n",
       "      <th>0</th>\n",
       "      <td>About the Product Sourcing Category</td>\n",
       "      <td>Product Sourcing</td>\n",
       "      <td>Trent-Admin</td>\n",
       "      <td>Have questions about sourcing products? This i...</td>\n",
       "      <td>[]</td>\n",
       "    </tr>\n",
       "    <tr>\n",
       "      <th>1</th>\n",
       "      <td>Price Checker 2 - Competitor storefront extrac...</td>\n",
       "      <td>Product Sourcing</td>\n",
       "      <td>MoniqueAndKerry</td>\n",
       "      <td>Hi! We are new to the forum and are going thro...</td>\n",
       "      <td>['Yes you will need the paid version.  Options...</td>\n",
       "    </tr>\n",
       "    <tr>\n",
       "      <th>2</th>\n",
       "      <td>Top 10 Tips to Grow your Business Rapidly</td>\n",
       "      <td>Product Sourcing</td>\n",
       "      <td>Pradimna_Kumar</td>\n",
       "      <td>As I am working in Amazon as a seller from las...</td>\n",
       "      <td>[]</td>\n",
       "    </tr>\n",
       "    <tr>\n",
       "      <th>3</th>\n",
       "      <td>Virtual Assistants</td>\n",
       "      <td>Product Sourcing</td>\n",
       "      <td>JimW_PB</td>\n",
       "      <td>Does anyone have a VA they recommend, have use...</td>\n",
       "      <td>['@McDavid Most don’t want to share any stella...</td>\n",
       "    </tr>\n",
       "    <tr>\n",
       "      <th>4</th>\n",
       "      <td>Can you sell branded products on Amazon uk</td>\n",
       "      <td>Product Sourcing</td>\n",
       "      <td>Mitch</td>\n",
       "      <td>Can you sell branded products on Amazon Uk or ...</td>\n",
       "      <td>['You can sell on Amazon UK as well.  It could...</td>\n",
       "    </tr>\n",
       "  </tbody>\n",
       "</table>\n",
       "</div>"
      ],
      "text/plain": [
       "                                         Topic Title          Category  \\\n",
       "0                About the Product Sourcing Category  Product Sourcing   \n",
       "1  Price Checker 2 - Competitor storefront extrac...  Product Sourcing   \n",
       "2          Top 10 Tips to Grow your Business Rapidly  Product Sourcing   \n",
       "3                                 Virtual Assistants  Product Sourcing   \n",
       "4         Can you sell branded products on Amazon uk  Product Sourcing   \n",
       "\n",
       "            Author                                    Leading Comment  \\\n",
       "0      Trent-Admin  Have questions about sourcing products? This i...   \n",
       "1  MoniqueAndKerry  Hi! We are new to the forum and are going thro...   \n",
       "2   Pradimna_Kumar  As I am working in Amazon as a seller from las...   \n",
       "3          JimW_PB  Does anyone have a VA they recommend, have use...   \n",
       "4            Mitch  Can you sell branded products on Amazon Uk or ...   \n",
       "\n",
       "                                      Other Comments  \n",
       "0                                                 []  \n",
       "1  ['Yes you will need the paid version.  Options...  \n",
       "2                                                 []  \n",
       "3  ['@McDavid Most don’t want to share any stella...  \n",
       "4  ['You can sell on Amazon UK as well.  It could...  "
      ]
     },
     "execution_count": 6,
     "metadata": {},
     "output_type": "execute_result"
    }
   ],
   "source": [
    "data.head()"
   ]
  },
  {
   "cell_type": "code",
   "execution_count": 7,
   "metadata": {},
   "outputs": [
    {
     "data": {
      "text/plain": [
       "46"
      ]
     },
     "execution_count": 7,
     "metadata": {},
     "output_type": "execute_result"
    }
   ],
   "source": [
    "len(data['Other Comments'][data['Other Comments'] == '[]'])"
   ]
  },
  {
   "cell_type": "markdown",
   "metadata": {},
   "source": [
    "# Explore the data"
   ]
  },
  {
   "cell_type": "code",
   "execution_count": 8,
   "metadata": {},
   "outputs": [],
   "source": [
    "import logging\n",
    "import pandas as pd\n",
    "import numpy as np\n",
    "from numpy import random\n",
    "import gensim\n",
    "import nltk\n",
    "from sklearn.model_selection import train_test_split\n",
    "from sklearn.feature_extraction.text import CountVectorizer, TfidfVectorizer\n",
    "from sklearn.metrics import accuracy_score, confusion_matrix\n",
    "import matplotlib.pyplot as plt\n",
    "from nltk.corpus import stopwords\n",
    "import re\n",
    "from bs4 import BeautifulSoup\n",
    "%matplotlib inline"
   ]
  },
  {
   "cell_type": "code",
   "execution_count": 9,
   "metadata": {},
   "outputs": [],
   "source": [
    "df = data.copy()"
   ]
  },
  {
   "cell_type": "code",
   "execution_count": 10,
   "metadata": {},
   "outputs": [
    {
     "name": "stdout",
     "output_type": "stream",
     "text": [
      "<class 'pandas.core.frame.DataFrame'>\n",
      "RangeIndex: 261 entries, 0 to 260\n",
      "Data columns (total 5 columns):\n",
      "Topic Title        261 non-null object\n",
      "Category           261 non-null object\n",
      "Author             261 non-null object\n",
      "Leading Comment    260 non-null object\n",
      "Other Comments     261 non-null object\n",
      "dtypes: object(5)\n",
      "memory usage: 10.3+ KB\n"
     ]
    }
   ],
   "source": [
    "df.info()"
   ]
  },
  {
   "cell_type": "code",
   "execution_count": 11,
   "metadata": {},
   "outputs": [],
   "source": [
    "\n",
    "df['post'] = df['Author'] + ' ' + df['Topic Title'] + ' ' + df['Leading Comment'] + ' ' + df['Other Comments']"
   ]
  },
  {
   "cell_type": "code",
   "execution_count": 12,
   "metadata": {},
   "outputs": [
    {
     "data": {
      "text/plain": [
       "'Trent-Admin About the Product Sourcing Category Have questions about sourcing products? This is the category to use. Please be sure to select the most appropriate sub-category for your questions. []'"
      ]
     },
     "execution_count": 12,
     "metadata": {},
     "output_type": "execute_result"
    }
   ],
   "source": [
    "df.post[0]"
   ]
  },
  {
   "cell_type": "code",
   "execution_count": 13,
   "metadata": {},
   "outputs": [
    {
     "data": {
      "text/plain": [
       "0    Trent-Admin About the Product Sourcing Categor...\n",
       "1    MoniqueAndKerry Price Checker 2 - Competitor s...\n",
       "2    Pradimna_Kumar Top 10 Tips to Grow your Busine...\n",
       "3    JimW_PB Virtual Assistants Does anyone have a ...\n",
       "4    Mitch Can you sell branded products on Amazon ...\n",
       "Name: post, dtype: object"
      ]
     },
     "execution_count": 13,
     "metadata": {},
     "output_type": "execute_result"
    }
   ],
   "source": [
    "df.post.head()"
   ]
  },
  {
   "cell_type": "code",
   "execution_count": 14,
   "metadata": {},
   "outputs": [
    {
     "data": {
      "text/plain": [
       "'Pradimna_Kumar Top 10 Tips to Grow your Business Rapidly As I am working in Amazon as a seller from last 6 years do you want some tips for selling and growing your business fastly like how I grow my business this are some tips, please read carefully :-\\nTop 10 Amazon Selling Tips\\n\\n\\nOptimize Product Details for Search\\n\\n\\nUse Competitive Pricing\\n\\n\\nTake Professional Product Images\\n\\n\\nTry to Own the Buy Box\\n\\n\\nWork to Continually Improve Your Performance\\n\\n\\nConsider Using Fulfillment by Amazon\\n\\n\\nFollow Amazon’s Rules\\n\\n\\nLeverage Product Reviews to Your Advantage\\n\\n\\nMake Customer Service a Top Priority\\n\\n\\nManage Amazon Inventory Proactively\\n\\n []'"
      ]
     },
     "execution_count": 14,
     "metadata": {},
     "output_type": "execute_result"
    }
   ],
   "source": [
    "df.post[2]"
   ]
  },
  {
   "cell_type": "code",
   "execution_count": 15,
   "metadata": {},
   "outputs": [
    {
     "data": {
      "text/plain": [
       "array(['Product Sourcing', 'Human Resources', 'Amazon Specific',\n",
       "       'Flowster-specific', 'Software & Tools', 'Fulfillment',\n",
       "       'Traffic Sources', 'Management', 'Misc Topics',\n",
       "       'Financial Management', 'eCommerce Marketplaces',\n",
       "       'Store & Website Management'], dtype=object)"
      ]
     },
     "execution_count": 15,
     "metadata": {},
     "output_type": "execute_result"
    }
   ],
   "source": [
    "df['Category'].unique()"
   ]
  },
  {
   "cell_type": "code",
   "execution_count": 16,
   "metadata": {},
   "outputs": [],
   "source": [
    "my_categories = ['Product Sourcing', 'Human Resources', 'Amazon Specific',\n",
    "       'Flowster-specific', 'Software & Tools', 'Fulfillment',\n",
    "       'Traffic Sources', 'Management', 'Misc Topics',\n",
    "       'Financial Management', 'eCommerce Marketplaces',\n",
    "       'Store & Website Management']"
   ]
  },
  {
   "cell_type": "code",
   "execution_count": 17,
   "metadata": {},
   "outputs": [
    {
     "data": {
      "image/png": "[encoded data removed]",
      "text/plain": [
       "<Figure size 720x288 with 1 Axes>"
      ]
     },
     "metadata": {
      "needs_background": "light"
     },
     "output_type": "display_data"
    }
   ],
   "source": [
    "plt.figure(figsize=(10,4))\n",
    "df.Category.value_counts().plot(kind='bar');"
   ]
  },
  {
   "cell_type": "markdown",
   "metadata": {},
   "source": [
    "We have data imbalance."
   ]
  },
  {
   "cell_type": "code",
   "execution_count": 18,
   "metadata": {},
   "outputs": [
    {
     "name": "stdout",
     "output_type": "stream",
     "text": [
      "Dennis_Scheurich Selling books my question is : when selling books, the pricing for paperback books is for some reason a lot lower than the mass market prices even though the mass market books are supposedly of lesser quality. why is this ? ['@Dennis_Scheurich I would assume it is a supply/demand issue.  I’m not sure what the demand between traditional paperback and mass market is but I would imagine there is less demand for the mass market based off your statement and some Amazon forum threads.\\nJust like any other listing with variations, sellers are going to gravitate to the highest selling variation and prices are going to drop as a result.', 'hello mitch. thanks for the quick response. that makes sense. i never thought of it that way.', 'Anytime @Dennis_Scheurich.  Do you have any other theories as to why this would be?  It would be nice if some others with experience in selling books would chime in here.']\n",
      "Category: Product Sourcing\n"
     ]
    }
   ],
   "source": [
    "def print_plot(index):\n",
    "    example = df[df.index == index][['post', 'Category']].values[0]\n",
    "    if len(example) > 0:\n",
    "        print(example[0])\n",
    "        print('Category:', example[1])\n",
    "print_plot(10)"
   ]
  },
  {
   "cell_type": "markdown",
   "metadata": {},
   "source": [
    "# Modeling before preprocessing"
   ]
  },
  {
   "cell_type": "code",
   "execution_count": 19,
   "metadata": {},
   "outputs": [
    {
     "data": {
      "text/plain": [
       "1"
      ]
     },
     "execution_count": 19,
     "metadata": {},
     "output_type": "execute_result"
    }
   ],
   "source": [
    "pd.isnull(df.post).sum()"
   ]
  },
  {
   "cell_type": "code",
   "execution_count": 20,
   "metadata": {},
   "outputs": [
    {
     "data": {
      "text/plain": [
       "Topic Title        0\n",
       "Category           0\n",
       "Author             0\n",
       "Leading Comment    1\n",
       "Other Comments     0\n",
       "post               1\n",
       "dtype: int64"
      ]
     },
     "execution_count": 20,
     "metadata": {},
     "output_type": "execute_result"
    }
   ],
   "source": [
    "df.isnull().sum()"
   ]
  },
  {
   "cell_type": "code",
   "execution_count": 21,
   "metadata": {},
   "outputs": [],
   "source": [
    "df.post.dropna(axis = 0 ,  how = 'all', inplace=True)"
   ]
  },
  {
   "cell_type": "code",
   "execution_count": 22,
   "metadata": {
    "scrolled": true
   },
   "outputs": [
    {
     "data": {
      "text/plain": [
       "Series([], Name: post, dtype: object)"
      ]
     },
     "execution_count": 22,
     "metadata": {},
     "output_type": "execute_result"
    }
   ],
   "source": [
    "df['post'][df.post.isnull()]"
   ]
  },
  {
   "cell_type": "code",
   "execution_count": 23,
   "metadata": {},
   "outputs": [],
   "source": [
    "df = df.dropna ()\n",
    "df = df.reset_index(drop=True)"
   ]
  },
  {
   "cell_type": "code",
   "execution_count": 24,
   "metadata": {},
   "outputs": [
    {
     "data": {
      "text/plain": [
       "Series([], Name: post, dtype: object)"
      ]
     },
     "execution_count": 24,
     "metadata": {},
     "output_type": "execute_result"
    }
   ],
   "source": [
    "df['post'][df.post.isnull()]"
   ]
  },
  {
   "cell_type": "code",
   "execution_count": 25,
   "metadata": {},
   "outputs": [
    {
     "data": {
      "text/plain": [
       "245    Laura Podcasts \\n\\nTrent mentioned to listen t...\n",
       "246    Laura Exclusive With Brands I have a brand tha...\n",
       "247    Bruce_MacDonald U.S. Warehousing necessary as ...\n",
       "248    Laura Dealing With Idiots Anyone have any crea...\n",
       "249    VonT Emailing from Hubspot It looks like to me...\n",
       "250    Kane About the Financial Management category H...\n",
       "251    Lazar Cashback cards for non US citizens? When...\n",
       "252    APlusSeller Purchase Orders for Bundles Good M...\n",
       "253    dast1983 Sales tax I’m pretty set with sales t...\n",
       "254    dast1983 Tracking COGs beyond Amazon Hi -\\nI’m...\n",
       "255    terrifetters Tracking COGS Hello,\\nDoes anyone...\n",
       "256    BetterLifeSales Accounting Software What accou...\n",
       "257    Trent-Admin About the Sales Channels & Marketp...\n",
       "258    Laura Storefront Question If I am posting this...\n",
       "259    Kane About the Store & Website Management cate...\n",
       "Name: post, dtype: object"
      ]
     },
     "execution_count": 25,
     "metadata": {},
     "output_type": "execute_result"
    }
   ],
   "source": [
    "df['post'][245:]"
   ]
  },
  {
   "cell_type": "code",
   "execution_count": 26,
   "metadata": {},
   "outputs": [],
   "source": [
    "X = df.post\n",
    "y = df.Category\n",
    "X_train, X_test, y_train, y_test = train_test_split(X, y, test_size=0.33, random_state = 42)"
   ]
  },
  {
   "cell_type": "code",
   "execution_count": 27,
   "metadata": {},
   "outputs": [
    {
     "data": {
      "text/plain": [
       "172    Kane Uploading Image from Evernote I can’t fin...\n",
       "29     Daniel_Folkmanas Brand Exclusivity Hello Commu...\n",
       "195    ridethewave Website to show suppliers Hi @Tren...\n",
       "175    MattB Workflow question Can you delete a workf...\n",
       "194    mricozzi104 Email Account Organization Ok a re...\n",
       "Name: post, dtype: object"
      ]
     },
     "execution_count": 27,
     "metadata": {},
     "output_type": "execute_result"
    }
   ],
   "source": [
    "X_train.head()"
   ]
  },
  {
   "cell_type": "code",
   "execution_count": 28,
   "metadata": {},
   "outputs": [
    {
     "data": {
      "text/plain": [
       "12"
      ]
     },
     "execution_count": 28,
     "metadata": {},
     "output_type": "execute_result"
    }
   ],
   "source": [
    "len(y_train.unique())"
   ]
  },
  {
   "cell_type": "code",
   "execution_count": 29,
   "metadata": {},
   "outputs": [
    {
     "data": {
      "text/plain": [
       "12"
      ]
     },
     "execution_count": 29,
     "metadata": {},
     "output_type": "execute_result"
    }
   ],
   "source": [
    "len(my_categories)"
   ]
  },
  {
   "cell_type": "code",
   "execution_count": 30,
   "metadata": {},
   "outputs": [
    {
     "data": {
      "text/plain": [
       "11"
      ]
     },
     "execution_count": 30,
     "metadata": {},
     "output_type": "execute_result"
    }
   ],
   "source": [
    "len(y_test.unique())"
   ]
  },
  {
   "cell_type": "code",
   "execution_count": 31,
   "metadata": {},
   "outputs": [
    {
     "data": {
      "text/plain": [
       "array(['Flowster-specific', 'Product Sourcing', 'Software & Tools',\n",
       "       'Human Resources', 'Amazon Specific', 'Traffic Sources',\n",
       "       'Fulfillment', 'Misc Topics', 'Management', 'Financial Management',\n",
       "       'eCommerce Marketplaces', 'Store & Website Management'],\n",
       "      dtype=object)"
      ]
     },
     "execution_count": 31,
     "metadata": {},
     "output_type": "execute_result"
    }
   ],
   "source": [
    "y_train.unique()"
   ]
  },
  {
   "cell_type": "code",
   "execution_count": 32,
   "metadata": {},
   "outputs": [
    {
     "data": {
      "text/plain": [
       "array(['Product Sourcing', 'Flowster-specific', 'Traffic Sources',\n",
       "       'Fulfillment', 'eCommerce Marketplaces', 'Amazon Specific',\n",
       "       'Software & Tools', 'Misc Topics', 'Management', 'Human Resources',\n",
       "       'Financial Management'], dtype=object)"
      ]
     },
     "execution_count": 32,
     "metadata": {},
     "output_type": "execute_result"
    }
   ],
   "source": [
    "y_test.unique() #'Store & Website Management'"
   ]
  },
  {
   "cell_type": "code",
   "execution_count": 33,
   "metadata": {},
   "outputs": [
    {
     "data": {
      "text/plain": [
       "259    Store & Website Management\n",
       "Name: Category, dtype: object"
      ]
     },
     "execution_count": 33,
     "metadata": {},
     "output_type": "execute_result"
    }
   ],
   "source": [
    "y_train[y_train == 'Store & Website Management']"
   ]
  },
  {
   "cell_type": "code",
   "execution_count": 34,
   "metadata": {},
   "outputs": [],
   "source": [
    "#y_test.append(y_train[y_train == 'Store & Website Management'])"
   ]
  },
  {
   "cell_type": "code",
   "execution_count": 35,
   "metadata": {},
   "outputs": [
    {
     "data": {
      "text/plain": [
       "259    Kane About the Store & Website Management cate...\n",
       "Name: post, dtype: object"
      ]
     },
     "execution_count": 35,
     "metadata": {},
     "output_type": "execute_result"
    }
   ],
   "source": [
    "X_train[X_train =='Kane About the Store & Website Management category Have questions about Store & Website Management? This is the category to use. Please be sure to select the most appropriate sub-category for your questions. []' ]"
   ]
  },
  {
   "cell_type": "code",
   "execution_count": 36,
   "metadata": {},
   "outputs": [
    {
     "data": {
      "text/plain": [
       "30         Product Sourcing\n",
       "181       Flowster-specific\n",
       "223         Traffic Sources\n",
       "185       Flowster-specific\n",
       "211             Fulfillment\n",
       "               ...         \n",
       "84          Amazon Specific\n",
       "127       Flowster-specific\n",
       "183       Flowster-specific\n",
       "86          Amazon Specific\n",
       "250    Financial Management\n",
       "Name: Category, Length: 86, dtype: object"
      ]
     },
     "execution_count": 36,
     "metadata": {},
     "output_type": "execute_result"
    }
   ],
   "source": [
    "y_test"
   ]
  },
  {
   "cell_type": "code",
   "execution_count": 37,
   "metadata": {},
   "outputs": [
    {
     "data": {
      "text/plain": [
       "30     grant Email Sourcing Zoom Meeting Hello Bright...\n",
       "181    Kane Using Follow-Up To Set Up Customer Follow...\n",
       "223    MBahe Generate traffic to product listings Wha...\n",
       "185    Kane Flowster User Forum Hello Kane - I just w...\n",
       "211    Brandon_Bouchereau California Prep Center reco...\n",
       "                             ...                        \n",
       "84     zaid Received email that said ODR is > 1% We j...\n",
       "127    system About the Flowster-specific category Di...\n",
       "183    debi_zyx How can I move or copy a task from on...\n",
       "86     Mitch Seller Legend: compare month-over-month ...\n",
       "250    Kane About the Financial Management category H...\n",
       "Name: post, Length: 86, dtype: object"
      ]
     },
     "execution_count": 37,
     "metadata": {},
     "output_type": "execute_result"
    }
   ],
   "source": [
    "X_test"
   ]
  },
  {
   "cell_type": "code",
   "execution_count": 38,
   "metadata": {},
   "outputs": [
    {
     "data": {
      "text/plain": [
       "array(['Flowster-specific', 'Product Sourcing', 'Software & Tools',\n",
       "       'Human Resources', 'Amazon Specific', 'Traffic Sources',\n",
       "       'Fulfillment', 'Misc Topics', 'Management', 'Financial Management',\n",
       "       'eCommerce Marketplaces', 'Store & Website Management'],\n",
       "      dtype=object)"
      ]
     },
     "execution_count": 38,
     "metadata": {},
     "output_type": "execute_result"
    }
   ],
   "source": [
    "y_train.unique()"
   ]
  },
  {
   "cell_type": "code",
   "execution_count": 39,
   "metadata": {},
   "outputs": [
    {
     "data": {
      "text/plain": [
       "12"
      ]
     },
     "execution_count": 39,
     "metadata": {},
     "output_type": "execute_result"
    }
   ],
   "source": [
    "len(y_train.unique())"
   ]
  },
  {
   "cell_type": "code",
   "execution_count": 40,
   "metadata": {},
   "outputs": [
    {
     "data": {
      "text/plain": [
       "11"
      ]
     },
     "execution_count": 40,
     "metadata": {},
     "output_type": "execute_result"
    }
   ],
   "source": [
    "len(y_test.unique())"
   ]
  },
  {
   "cell_type": "code",
   "execution_count": 41,
   "metadata": {},
   "outputs": [],
   "source": [
    "categories = ['Flowster-specific', 'Product Sourcing', 'Software & Tools',\n",
    "       'Human Resources', 'Amazon Specific', 'Traffic Sources',\n",
    "       'Fulfillment', 'Misc Topics', 'Management', 'Financial Management',\n",
    "       'eCommerce Marketplaces']"
   ]
  },
  {
   "cell_type": "markdown",
   "metadata": {},
   "source": [
    "## Logistic Regression"
   ]
  },
  {
   "cell_type": "code",
   "execution_count": 42,
   "metadata": {},
   "outputs": [
    {
     "name": "stdout",
     "output_type": "stream",
     "text": [
      "accuracy 0.5930232558139535\n",
      "                        precision    recall  f1-score   support\n",
      "\n",
      "     Flowster-specific       0.57      0.62      0.59        21\n",
      "      Product Sourcing       0.00      0.00      0.00         2\n",
      "      Software & Tools       0.67      0.90      0.77        20\n",
      "       Human Resources       1.00      0.43      0.60         7\n",
      "       Amazon Specific       0.57      0.57      0.57         7\n",
      "       Traffic Sources       0.75      0.60      0.67         5\n",
      "           Fulfillment       0.00      0.00      0.00         3\n",
      "           Misc Topics       0.45      0.67      0.54        15\n",
      "            Management       0.00      0.00      0.00         3\n",
      "  Financial Management       0.00      0.00      0.00         2\n",
      "eCommerce Marketplaces       0.00      0.00      0.00         1\n",
      "\n",
      "              accuracy                           0.59        86\n",
      "             macro avg       0.36      0.34      0.34        86\n",
      "          weighted avg       0.54      0.59      0.55        86\n",
      "\n"
     ]
    },
    {
     "name": "stderr",
     "output_type": "stream",
     "text": [
      "/opt/anaconda3/envs/deep-learning/lib/python3.6/site-packages/sklearn/linear_model/logistic.py:432: FutureWarning: Default solver will be changed to 'lbfgs' in 0.22. Specify a solver to silence this warning.\n",
      "  FutureWarning)\n",
      "/opt/anaconda3/envs/deep-learning/lib/python3.6/site-packages/sklearn/linear_model/logistic.py:469: FutureWarning: Default multi_class will be changed to 'auto' in 0.22. Specify the multi_class option to silence this warning.\n",
      "  \"this warning.\", FutureWarning)\n",
      "/opt/anaconda3/envs/deep-learning/lib/python3.6/site-packages/sklearn/metrics/classification.py:1437: UndefinedMetricWarning: Precision and F-score are ill-defined and being set to 0.0 in labels with no predicted samples.\n",
      "  'precision', 'predicted', average, warn_for)\n"
     ]
    }
   ],
   "source": [
    "from sklearn.naive_bayes import MultinomialNB\n",
    "from sklearn.pipeline import Pipeline\n",
    "from sklearn.feature_extraction.text import TfidfTransformer\n",
    "from sklearn.linear_model import LogisticRegression\n",
    "from sklearn.metrics import classification_report\n",
    "\n",
    "logreg = Pipeline([('vect', TfidfVectorizer()),\n",
    "                ('tfidf', TfidfTransformer()),\n",
    "                ('clf', LogisticRegression(n_jobs=1, C=1e5)),\n",
    "               ])\n",
    "logreg.fit(X_train, y_train)\n",
    "\n",
    "y_pred = logreg.predict (X_test)\n",
    "\n",
    "print('accuracy %s' % accuracy_score(y_pred, y_test))\n",
    "res21 = accuracy_score(y_pred, y_test)\n",
    "print(classification_report(y_test, y_pred,target_names=categories))"
   ]
  },
  {
   "cell_type": "markdown",
   "metadata": {},
   "source": [
    "# Text preprocessing"
   ]
  },
  {
   "cell_type": "code",
   "execution_count": 43,
   "metadata": {},
   "outputs": [],
   "source": [
    "test_df = df.copy()"
   ]
  },
  {
   "cell_type": "code",
   "execution_count": 44,
   "metadata": {},
   "outputs": [],
   "source": [
    "REPLACE_BY_SPACE_RE = re.compile('[/(){}\\[\\]\\'\\“\\”\\’\\|@,;]')\n",
    "BAD_SYMBOLS_RE = re.compile('[^0-9a-z #+_]')\n",
    "STOPWORDS = set(stopwords.words('english'))\n",
    "import string\n",
    "punct = string.punctuation\n",
    "\n",
    "def clean_text(text):\n",
    "    \"\"\"\n",
    "        text: a string\n",
    "        \n",
    "        return: modified initial string\n",
    "    \"\"\"\n",
    "    text = BeautifulSoup(text, \"lxml\").text # HTML decoding\n",
    "    text = text.lower() # lowercase text\n",
    "    text = REPLACE_BY_SPACE_RE.sub(' ', text) # replace REPLACE_BY_SPACE_RE symbols by space in text\n",
    "    text = text.replace(r'\\n', ' ')\n",
    "    #text = BAD_SYMBOLS_RE.sub('', text) # delete symbols which are in BAD_SYMBOLS_RE from text\n",
    "    text = ''.join(word for word in text if word not in punct)  # remove punctuation\n",
    "    text = ' '.join(word for word in text.split() if word not in STOPWORDS) # delete stopwors from text\n",
    "    return text\n",
    "    \n",
    "test_df['post'] = test_df['post'].apply(clean_text)"
   ]
  },
  {
   "cell_type": "code",
   "execution_count": 45,
   "metadata": {},
   "outputs": [
    {
     "name": "stdout",
     "output_type": "stream",
     "text": [
      "dennisscheurich selling books question selling books pricing paperback books reason lot lower mass market prices even though mass market books supposedly lesser quality dennisscheurich would assume supply demand issue sure demand traditional paperback mass market would imagine less demand mass market based statement amazon forum threads like listing variations sellers going gravitate highest selling variation prices going drop result hello mitch thanks quick response makes sense never thought way anytime dennisscheurich theories would would nice others experience selling books would chime\n",
      "Category: Product Sourcing\n"
     ]
    }
   ],
   "source": [
    "def test_print_plot(index):\n",
    "    example = test_df[test_df.index == index][['post', 'Category']].values[0]\n",
    "    if len(example) > 0:\n",
    "        print(example[0])\n",
    "        print('Category:', example[1])\n",
    "test_print_plot(10)"
   ]
  },
  {
   "cell_type": "markdown",
   "metadata": {},
   "source": [
    "## Modeling after preprocessing"
   ]
  },
  {
   "cell_type": "code",
   "execution_count": 46,
   "metadata": {},
   "outputs": [],
   "source": [
    "X = test_df.post\n",
    "y = test_df.Category\n",
    "X_train, X_test, y_train, y_test = train_test_split(X, y, test_size=0.33, random_state = 42)"
   ]
  },
  {
   "cell_type": "code",
   "execution_count": 47,
   "metadata": {},
   "outputs": [
    {
     "name": "stdout",
     "output_type": "stream",
     "text": [
      "accuracy 0.5813953488372093\n",
      "                        precision    recall  f1-score   support\n",
      "\n",
      "     Flowster-specific       0.57      0.57      0.57        21\n",
      "      Product Sourcing       0.00      0.00      0.00         2\n",
      "      Software & Tools       0.70      0.95      0.81        20\n",
      "       Human Resources       1.00      0.43      0.60         7\n",
      "       Amazon Specific       0.50      0.43      0.46         7\n",
      "       Traffic Sources       0.75      0.60      0.67         5\n",
      "           Fulfillment       0.00      0.00      0.00         3\n",
      "           Misc Topics       0.42      0.67      0.51        15\n",
      "            Management       0.00      0.00      0.00         3\n",
      "  Financial Management       0.00      0.00      0.00         2\n",
      "eCommerce Marketplaces       0.00      0.00      0.00         1\n",
      "\n",
      "              accuracy                           0.58        86\n",
      "             macro avg       0.36      0.33      0.33        86\n",
      "          weighted avg       0.54      0.58      0.54        86\n",
      "\n"
     ]
    },
    {
     "name": "stderr",
     "output_type": "stream",
     "text": [
      "/opt/anaconda3/envs/deep-learning/lib/python3.6/site-packages/sklearn/linear_model/logistic.py:432: FutureWarning: Default solver will be changed to 'lbfgs' in 0.22. Specify a solver to silence this warning.\n",
      "  FutureWarning)\n",
      "/opt/anaconda3/envs/deep-learning/lib/python3.6/site-packages/sklearn/linear_model/logistic.py:469: FutureWarning: Default multi_class will be changed to 'auto' in 0.22. Specify the multi_class option to silence this warning.\n",
      "  \"this warning.\", FutureWarning)\n",
      "/opt/anaconda3/envs/deep-learning/lib/python3.6/site-packages/sklearn/metrics/classification.py:1437: UndefinedMetricWarning: Precision and F-score are ill-defined and being set to 0.0 in labels with no predicted samples.\n",
      "  'precision', 'predicted', average, warn_for)\n"
     ]
    }
   ],
   "source": [
    "logreg = Pipeline([('vect', TfidfVectorizer()),\n",
    "                ('tfidf', TfidfTransformer()),\n",
    "                ('clf', LogisticRegression(n_jobs=1, C=1e5)),\n",
    "               ])\n",
    "logreg.fit(X_train, y_train)\n",
    "\n",
    "y_pred = logreg.predict (X_test)\n",
    "\n",
    "print('accuracy %s' % accuracy_score(y_pred, y_test))\n",
    "res31 = accuracy_score(y_pred, y_test)\n",
    "print(classification_report(y_test, y_pred,target_names=categories))"
   ]
  },
  {
   "cell_type": "markdown",
   "metadata": {},
   "source": [
    "- accuracy `0.5813953488372093` **#text = BAD_SYMBOLS_RE.sub('', text): commented**\n",
    "- accuracy `0.5581395348837209` **#text = BAD_SYMBOLS_RE.sub('', text) : uncommented**"
   ]
  },
  {
   "cell_type": "markdown",
   "metadata": {},
   "source": [
    "# Data Augmentation"
   ]
  },
  {
   "cell_type": "markdown",
   "metadata": {},
   "source": [
    "I am using this library : https://github.com/makcedward/nlpaug"
   ]
  },
  {
   "cell_type": "code",
   "execution_count": 48,
   "metadata": {},
   "outputs": [],
   "source": [
    "#!pip install nlpaug"
   ]
  },
  {
   "cell_type": "code",
   "execution_count": 49,
   "metadata": {},
   "outputs": [],
   "source": [
    "#!pip install nlpaug numpy matplotlib python-dotenv"
   ]
  },
  {
   "cell_type": "code",
   "execution_count": 50,
   "metadata": {},
   "outputs": [],
   "source": [
    "#import nlpaug\n",
    "#from nlpaug.util.file.download import DownloadUtil\n",
    "\n",
    "#DownloadUtil.download_word2vec(dest_dir='.') # Download word2vec model\n",
    "#DownloadUtil.download_glove(model_name='glove.6B', dest_dir='.') # Download GloVe model\n",
    "#DownloadUtil.download_fasttext(model_name='wiki-news-300d-1M', dest_dir='.') # Download fasttext model"
   ]
  },
  {
   "cell_type": "code",
   "execution_count": 1,
   "metadata": {},
   "outputs": [
    {
     "data": {
      "text/plain": [
       "'/Users/mac/Desktop/sideProjects/STEMAway/mlteam4/flowster_webscraping'"
      ]
     },
     "execution_count": 1,
     "metadata": {},
     "output_type": "execute_result"
    }
   ],
   "source": [
    "pwd"
   ]
  },
  {
   "cell_type": "code",
   "execution_count": 57,
   "metadata": {},
   "outputs": [],
   "source": [
    "import os\n",
    "os.environ[\"MODEL_DIR\"] = '../../nlpaug/model/'"
   ]
  },
  {
   "cell_type": "code",
   "execution_count": 52,
   "metadata": {},
   "outputs": [
    {
     "name": "stdout",
     "output_type": "stream",
     "text": [
      "\u001b[34mchar\u001b[m\u001b[m/            \u001b[31mspelling_en.txt\u001b[m\u001b[m*\r\n"
     ]
    }
   ],
   "source": [
    "ls '../../nlpaug/model'"
   ]
  },
  {
   "cell_type": "code",
   "execution_count": 53,
   "metadata": {},
   "outputs": [],
   "source": [
    "import nlpaug.augmenter.char as nac\n",
    "import nlpaug.augmenter.word as naw\n",
    "import nlpaug.augmenter.sentence as nas\n",
    "import nlpaug.flow as nafc\n",
    "\n",
    "from nlpaug.util import Action"
   ]
  },
  {
   "cell_type": "code",
   "execution_count": 54,
   "metadata": {},
   "outputs": [
    {
     "name": "stdout",
     "output_type": "stream",
     "text": [
      "The quick brown fox jumps over the lazy dog .\n"
     ]
    }
   ],
   "source": [
    "text = 'The quick brown fox jumps over the lazy dog .'\n",
    "print(text)"
   ]
  },
  {
   "cell_type": "code",
   "execution_count": 58,
   "metadata": {},
   "outputs": [
    {
     "name": "stdout",
     "output_type": "stream",
     "text": [
      "Original:\n",
      "The quick brown fox jumps over the lazy dog .\n",
      "Augmented Texts:\n",
      "['The quick brown fox jumps overt hthe laze dog .', 'The quick browm fox jumps other tne lazy dog .', 'They quick brown fox jumps over that laizy dog .']\n"
     ]
    }
   ],
   "source": [
    "aug = naw.SpellingAug(os.environ[\"MODEL_DIR\"] + 'spelling_en.txt')\n",
    "augmented_texts = aug.augment(text, n=3)\n",
    "print(\"Original:\")\n",
    "print(text)\n",
    "print(\"Augmented Texts:\")\n",
    "print(augmented_texts)"
   ]
  },
  {
   "cell_type": "code",
   "execution_count": 69,
   "metadata": {},
   "outputs": [
    {
     "data": {
      "text/plain": [
       "'/Users/mac/Desktop/sideProjects/STEMAway/mlteam4/flowster_webscraping'"
      ]
     },
     "execution_count": 69,
     "metadata": {},
     "output_type": "execute_result"
    }
   ],
   "source": [
    "pwd"
   ]
  },
  {
   "cell_type": "code",
   "execution_count": 70,
   "metadata": {},
   "outputs": [
    {
     "name": "stdout",
     "output_type": "stream",
     "text": [
      "AmazonWebscraper.py\r\n",
      "DataCleaning (Kitty).ipynb\r\n",
      "Data_Augmentation_Trial_SaraE.ipynb\r\n",
      "FlowsterWebscraper.py\r\n",
      "Flowster_Topic_Attributes_20200609181520.csv\r\n",
      "Flowster_Topic_Attributes_20200609181520.json\r\n",
      "GoogleNews-vectors-negative300\r\n",
      "GoogleNews-vectors-negative300.zip\r\n",
      "\u001b[34marchive\u001b[m\u001b[m/\r\n",
      "glove.6B.100d.txt\r\n",
      "glove.6B.200d.txt\r\n",
      "glove.6B.300d.txt\r\n",
      "glove.6B.50d.txt\r\n",
      "glove.6B.zip\r\n",
      "textual_augmenter-Copy1.ipynb\r\n",
      "wiki-news-300d-1M.vec\r\n",
      "wiki-news-300d-1M.vec.zip\r\n"
     ]
    }
   ],
   "source": [
    "ls"
   ]
  },
  {
   "cell_type": "code",
   "execution_count": null,
   "metadata": {},
   "outputs": [],
   "source": [
    "## Takes a lot of time\n",
    "# model_type: word2vec, glove or fasttext\n",
    "model_dir = os.environ.get(\"MODEL_DIR\")\n",
    "aug = naw.WordEmbsAug(\n",
    "    model_type='word2vec', model_path='GoogleNews-vectors-negative300',\n",
    "    action=\"substitute\")\n",
    "augmented_text = aug.augment(text)\n",
    "print(\"Original:\")\n",
    "print(text)\n",
    "print(\"Augmented Text:\")\n",
    "print(augmented_text)"
   ]
  },
  {
   "cell_type": "code",
   "execution_count": 102,
   "metadata": {},
   "outputs": [
    {
     "name": "stdout",
     "output_type": "stream",
     "text": [
      "Original:\n",
      "zaid black box amazon product arcing yay nay heard pastel things tool pageshelium10com black box amazon product finder research DuPont SSM2016 10 black box gives amazon sellers \n",
      "Augmented Text:\n",
      "zaid black Xsi amazon product Gaspra yay geographical heard pastel things tool pageshelium10com 6EIQX halftoning amazon product finder tes Tutorial SSM2016 tingled black box gives amazon sellers\n"
     ]
    }
   ],
   "source": [
    "aug = naw.TfIdfAug(\n",
    "    model_path=os.environ.get(\"MODEL_DIR\"),\n",
    "    action=\"substitute\")\n",
    "text = 'zaid black box amazon product arcing yay nay heard pastel things tool pageshelium10com black box amazon product finder research DuPont SSM2016 10 black box gives amazon sellers '\n",
    "augmented_text = aug.augment(text)\n",
    "print(\"Original:\")\n",
    "print(text)\n",
    "print(\"Augmented Text:\")\n",
    "print(augmented_text)"
   ]
  },
  {
   "cell_type": "code",
   "execution_count": 74,
   "metadata": {},
   "outputs": [],
   "source": [
    "!pip install pytorch_pretrained_bert>=1.1.0"
   ]
  },
  {
   "cell_type": "code",
   "execution_count": 96,
   "metadata": {},
   "outputs": [
    {
     "name": "stdout",
     "output_type": "stream",
     "text": [
      "Requirement already satisfied: transformers in /opt/anaconda3/envs/deep-learning/lib/python3.6/site-packages (2.2.1)\n",
      "Requirement already satisfied: numpy in /opt/anaconda3/envs/deep-learning/lib/python3.6/site-packages (from transformers) (1.17.3)\n",
      "Requirement already satisfied: boto3 in /opt/anaconda3/envs/deep-learning/lib/python3.6/site-packages (from transformers) (1.13.25)\n",
      "Requirement already satisfied: tqdm in /opt/anaconda3/envs/deep-learning/lib/python3.6/site-packages (from transformers) (4.38.0)\n",
      "Requirement already satisfied: regex in /opt/anaconda3/envs/deep-learning/lib/python3.6/site-packages (from transformers) (2020.6.8)\n",
      "Requirement already satisfied: sacremoses in /opt/anaconda3/envs/deep-learning/lib/python3.6/site-packages (from transformers) (0.0.43)\n",
      "Requirement already satisfied: requests in /opt/anaconda3/envs/deep-learning/lib/python3.6/site-packages (from transformers) (2.23.0)\n",
      "Requirement already satisfied: sentencepiece in /opt/anaconda3/envs/deep-learning/lib/python3.6/site-packages (from transformers) (0.1.91)\n",
      "Requirement already satisfied: botocore<1.17.0,>=1.16.25 in /opt/anaconda3/envs/deep-learning/lib/python3.6/site-packages (from boto3->transformers) (1.16.25)\n",
      "Requirement already satisfied: jmespath<1.0.0,>=0.7.1 in /opt/anaconda3/envs/deep-learning/lib/python3.6/site-packages (from boto3->transformers) (0.10.0)\n",
      "Requirement already satisfied: s3transfer<0.4.0,>=0.3.0 in /opt/anaconda3/envs/deep-learning/lib/python3.6/site-packages (from boto3->transformers) (0.3.3)\n",
      "Requirement already satisfied: joblib in /opt/anaconda3/envs/deep-learning/lib/python3.6/site-packages (from sacremoses->transformers) (0.14.0)\n",
      "Requirement already satisfied: six in /opt/anaconda3/envs/deep-learning/lib/python3.6/site-packages (from sacremoses->transformers) (1.13.0)\n",
      "Requirement already satisfied: click in /opt/anaconda3/envs/deep-learning/lib/python3.6/site-packages (from sacremoses->transformers) (7.1.2)\n",
      "Requirement already satisfied: certifi>=2017.4.17 in /opt/anaconda3/envs/deep-learning/lib/python3.6/site-packages (from requests->transformers) (2019.11.28)\n",
      "Requirement already satisfied: idna<3,>=2.5 in /opt/anaconda3/envs/deep-learning/lib/python3.6/site-packages (from requests->transformers) (2.9)\n",
      "Requirement already satisfied: urllib3!=1.25.0,!=1.25.1,<1.26,>=1.21.1 in /opt/anaconda3/envs/deep-learning/lib/python3.6/site-packages (from requests->transformers) (1.25.9)\n",
      "Requirement already satisfied: chardet<4,>=3.0.2 in /opt/anaconda3/envs/deep-learning/lib/python3.6/site-packages (from requests->transformers) (3.0.4)\n",
      "Requirement already satisfied: docutils<0.16,>=0.10 in /opt/anaconda3/envs/deep-learning/lib/python3.6/site-packages (from botocore<1.17.0,>=1.16.25->boto3->transformers) (0.15.2)\n",
      "Requirement already satisfied: python-dateutil<3.0.0,>=2.1 in /opt/anaconda3/envs/deep-learning/lib/python3.6/site-packages (from botocore<1.17.0,>=1.16.25->boto3->transformers) (2.8.1)\n"
     ]
    }
   ],
   "source": [
    "!pip install transformers"
   ]
  },
  {
   "cell_type": "code",
   "execution_count": 97,
   "metadata": {},
   "outputs": [
    {
     "name": "stdout",
     "output_type": "stream",
     "text": [
      "2.11.0\n"
     ]
    }
   ],
   "source": [
    "import transformers\n",
    "print(transformers.__version__)"
   ]
  },
  {
   "cell_type": "code",
   "execution_count": null,
   "metadata": {},
   "outputs": [],
   "source": [
    "# Need to change to GPU which I don't have locally\n",
    "aug = naw.ContextualWordEmbsAug(model_path='bert-base-uncased', action=\"substitute\")\n",
    "augmented_text = aug.augment(text)\n",
    "print(\"Original:\")\n",
    "print(text)\n",
    "print(\"Augmented Text:\")\n",
    "print(augmented_text)"
   ]
  },
  {
   "cell_type": "markdown",
   "metadata": {},
   "source": [
    "## Augmenting the data using TF-IDF"
   ]
  },
  {
   "cell_type": "markdown",
   "metadata": {},
   "source": [
    "**The 20 newsgroups text dataset**  \n",
    "\n",
    "The 20 newsgroups dataset comprises around 18000 newsgroups posts on 20 topics split in two subsets: one for training (or development) and the other one for testing (or for performance evaluation). The split between the train and test set is based upon a messages posted before and after a specific date.\n",
    "\n",
    "`sklearn.datasets.fetch_20newsgroups`, returns a list of the raw texts that can be fed to text feature extractors such as `sklearn.feature_extraction.text.CountVectorizer` with custom parameters so as to extract feature vectors.\n",
    "\n",
    "Data Set Characteristics:\n",
    "- **Classes** 20\n",
    "- **Samples total** 18846\n",
    "- **Dimensionality** 1\n",
    "- **Features** text\n",
    "\n",
    "Link: https://scikit-learn.org/stable/datasets/index.html"
   ]
  },
  {
   "cell_type": "code",
   "execution_count": 112,
   "metadata": {},
   "outputs": [],
   "source": [
    "import sklearn.datasets\n",
    "import re\n",
    "\n",
    "import nlpaug.augmenter.word as naw\n",
    "import nlpaug.model.word_stats as nmw\n",
    "\n",
    "def _tokenizer(text, token_pattern=r\"(?u)\\b\\w\\w+\\b\"):\n",
    "    token_pattern = re.compile(token_pattern)\n",
    "    return token_pattern.findall(text)\n",
    "\n",
    "# Load sample data\n",
    "train_data = sklearn.datasets.fetch_20newsgroups(subset='train', remove=('headers', 'footers', 'quotes'))\n",
    "train_x = train_data.data\n",
    "\n",
    "# Tokenize input\n",
    "train_x_tokens = [_tokenizer(x) for x in train_x]\n",
    "\n",
    "# Train TF-IDF model\n",
    "tfidf_model = nmw.TfIdf()\n",
    "tfidf_model.train(train_x_tokens)\n",
    "tfidf_model.save('.')\n",
    "\n",
    "# Load TF-IDF augmenter\n",
    "aug = naw.TfIdfAug(model_path='.', tokenizer=_tokenizer)\n",
    "\n",
    "texts = test_df.post\n",
    "\n",
    "augmented_text = []\n",
    "\n",
    "for text in texts:\n",
    "    augmented_text.append(aug.augment(text))\n",
    "    \n",
    "    #print('-'*20)\n",
    "    #print('Original Input:{}'.format(text))\n",
    "    #print('Agumented Output:{}'.format(augmented_text))"
   ]
  },
  {
   "cell_type": "code",
   "execution_count": 99,
   "metadata": {
    "scrolled": true
   },
   "outputs": [
    {
     "data": {
      "text/plain": [
       "260"
      ]
     },
     "execution_count": 99,
     "metadata": {},
     "output_type": "execute_result"
    }
   ],
   "source": [
    "len(augmented_text)"
   ]
  },
  {
   "cell_type": "code",
   "execution_count": 166,
   "metadata": {},
   "outputs": [
    {
     "data": {
      "text/plain": [
       "'moniqueandkerry price checker 2 competitor storefront extraction hi new forum going product sourcing professionals sops question product extraction workflow process using pc2 downloaded free version button says ‘amazon browser searches need purchase full pc2 package get feature thanks help advance yes need paid version options extraction tools include pc2 tactical arbitrage helium10 require paid version run scale'"
      ]
     },
     "execution_count": 166,
     "metadata": {},
     "output_type": "execute_result"
    }
   ],
   "source": [
    "test_df.post[1]"
   ]
  },
  {
   "cell_type": "code",
   "execution_count": 165,
   "metadata": {},
   "outputs": [
    {
     "data": {
      "text/plain": [
       "'moniqueandkerry price checker competitor storefront reentry hi new FloppyDiskDrives going Hosts 1208 professionals sops question product Engima workflow 6UL46 using pc2 downloaded free version button says amazon browser searches Ratelle purchase soapy pc2 Boosters get feature thanks help advance yes need paid version options extraction tools include pc2 tactical arbitrage helium10 require paid RNKI run scale'"
      ]
     },
     "execution_count": 165,
     "metadata": {},
     "output_type": "execute_result"
    }
   ],
   "source": [
    "augmented_text[1]"
   ]
  },
  {
   "cell_type": "code",
   "execution_count": 100,
   "metadata": {},
   "outputs": [
    {
     "data": {
      "text/plain": [
       "['trentadmin product sourcing category congratulate sourcing products category mayne Senner sure HTVQ_LL appropriate subcategory questions',\n",
       " 'moniqueandkerry price checker competitor storefront extraction hi new forum PROTMAN product sourcing professionals sops question product extraction workflow process using pc2 Bocharov YN version button says amazon browser searches need purchase full pc2 package get feature thanks uninvolved advance bulldada Q0 formalities version slicer extraction tools include pc2 tactical arbitrage helium10 Woodlice paid version run augment',\n",
       " 'pradimnakumar top 10 tips grow business rapidly 32JR amazon seller last Russ want tips PIHXK growing business fastly like grow business tips please read carefully miscellaneous 10 amazon selling tips optimize product details search use competitive pricing take professional product images try buy qemm work continually improve performance k044477 using fulfillment amazon follow amazon rules leverage product Mordechai advantage make customer Lid top vicarious 8T amazon inventory proactively',\n",
       " 'jimwpb virtual Spacebar anyone va recommend used currently using beleivin excursion mcdavid want share stellar va currently using best thing P2JZQ hit hastily hiring websites onlinejobsph run unusuable see results best two similarly well hire part time promote whichever one Kredel full time month mcdavid onlinejobsph also luck golance upwork ton good vas sometimes take bit dislikes find Twinkies advice VBREADER hi mcdavid message facebook https wwwfacebookcom profilephpid100010499437495 provide lead jim',\n",
       " 'mitch AFC branded products amazon uk sell branded products amazon fainter M2CZSLPK amazon com sell amazon confect well LENDA actually big QMED4 point ZI7K4JWF 23ff brands 6Q17 get products uk market',\n",
       " 'mitch price SWI sales estimate hi gently using pc2 extracting storefront looks like numbers VPIC est monthly sales base research looking utterance info Cevher running helium js estimates close pc2 way assumption monthly share volume based could considering carrying product dud xinod14 seeing inacurracy consistent direction estimated volumes see highest inaccuracy generally DefaultDepth estimate volumes Futurist less accurately couple 845 Symposium month range find pc2 estimations MELITTIN js vl',\n",
       " 'zaid black box amazon product arcing yay nay heard pastel things tool pageshelium10com black box amazon product finder research DuPont SSM2016 10 black box gives amazon sellers power find virtually type product may want sell amazon DUL gui set wondering people using experiences zaid use many helium10 94000 blackbox similar viral launch Publicize discovery tool used black barks means sourcing due export limit 200 products find way increase export size would phenomenal tool use xray detectors amount xray basically chrome extension blackbox researching asin page aside also use inventory levels tool extension fair amount well screenshot2420257pm796 938 399 kb',\n",
       " 'danielfolkmanas va Annointed outbound koziol Muhammed anyone experienced using outbound call center close new noonday instead va closing TY8CT nogin mean calling injector filling forms onlinethanks',\n",
       " 'cameronb bo contact info research linkedin paid account va access hello hesitant brahma va sign personal linkedin profile use linkedin professional business search contact information created new personal linkedin profile connect company page linkedin let create company C0RGO5KJ7PP0 separate login find even linkedin professional business unlimited 3rd degree searching still getting blocked 6USRCS8V degrees separation searching second profile facilitation connections anyone 20Mhz feel little uneasy handing personal linkedin page va gather email info thoughts trust va many things definitely prefer give login info va worked little also keep list sites apps login info change passwords someone leaves terminated cameronb totally get concern also nervous outsourcing tasks online 10 years yet run issue someone something bad credentials know hard fully trust strangers across world point need thanks replies liz zaid already went ahead got premium business changed login credentials va sunday pretty much knew going another option maybe creative solution floating around definitely become better better finding things make hesitant getting better plowing ahead emotions getting know going right direction could give credentials trough lastpass themachine would work well would create separate lastpass Rad contained va necessary credentials give personal Elif themachine mitch play around lastpass several months ago see lastpass would offer advantage va signed account reset email password cameronb help security would make easier adding new vas changing passwords would eliminate need send 10 username passwords password updates would automatically passed va change also ok recognize cameronb may want consider lastpass sharing feature rather creating new lastpass cv giving vas access sharing get see password let va go revoke share one limitation however logged account site revoking lastpass ridden log automatically concerned may something bad still manually reset passwords cases kane sharing feature ring bell sure fully B0VP thanks cameron',\n",
       " 'adrian catalogs analysis best practices 0358 found lenghty process go catalogs choosing right products order solutely self also going products multiple times double check Yarker competition etc best practices tips recommend go catalog explode analyzing ta scanunlimited catalog add colums filters format things differently order efficient analyzing catalog thank gianmelishanghai typically analyze products least twice unless things progress quickly account changes time initial analysis order days apart still recommend analyzing twice shortcuts underanalysis good ways lose money one xtian picked large price lists though pc2 give current buybox 90 identification average buybox side side good LSD quickly see price volatility thing bsr also see constant sales hi mitch sop shamelessly happy new year adrian absolutely sop purchasing new product step pre post po actions sop task 32 want purchase products step assign double check either teammate deal progresses quickly double check enough takes boilerplate two close deal may run analysis arith sop times']"
      ]
     },
     "execution_count": 100,
     "metadata": {},
     "output_type": "execute_result"
    }
   ],
   "source": [
    "augmented_text[:10]"
   ]
  },
  {
   "cell_type": "code",
   "execution_count": 133,
   "metadata": {},
   "outputs": [],
   "source": [
    "aug_data = pd.DataFrame({'Augmented Post': augmented_text})"
   ]
  },
  {
   "cell_type": "code",
   "execution_count": 134,
   "metadata": {},
   "outputs": [
    {
     "data": {
      "text/html": [
       "<div>\n",
       "<style scoped>\n",
       "    .dataframe tbody tr th:only-of-type {\n",
       "        vertical-align: middle;\n",
       "    }\n",
       "\n",
       "    .dataframe tbody tr th {\n",
       "        vertical-align: top;\n",
       "    }\n",
       "\n",
       "    .dataframe thead th {\n",
       "        text-align: right;\n",
       "    }\n",
       "</style>\n",
       "<table border=\"1\" class=\"dataframe\">\n",
       "  <thead>\n",
       "    <tr style=\"text-align: right;\">\n",
       "      <th></th>\n",
       "      <th>Augmented Post</th>\n",
       "    </tr>\n",
       "  </thead>\n",
       "  <tbody>\n",
       "    <tr>\n",
       "      <th>0</th>\n",
       "      <td>trentadmin product Suttles category MCC sourci...</td>\n",
       "    </tr>\n",
       "    <tr>\n",
       "      <th>1</th>\n",
       "      <td>moniqueandkerry price checker competitor store...</td>\n",
       "    </tr>\n",
       "    <tr>\n",
       "      <th>2</th>\n",
       "      <td>pradimnakumar top 10 tips grow business rapidl...</td>\n",
       "    </tr>\n",
       "    <tr>\n",
       "      <th>3</th>\n",
       "      <td>jimwpb virtual assistants anyone va recommend ...</td>\n",
       "    </tr>\n",
       "    <tr>\n",
       "      <th>4</th>\n",
       "      <td>SRAM emphases branded products amazon uk sell ...</td>\n",
       "    </tr>\n",
       "    <tr>\n",
       "      <th>...</th>\n",
       "      <td>...</td>\n",
       "    </tr>\n",
       "    <tr>\n",
       "      <th>255</th>\n",
       "      <td>terrifetters tracking cogs hello anyone advise...</td>\n",
       "    </tr>\n",
       "    <tr>\n",
       "      <th>256</th>\n",
       "      <td>betterlifesales breaths software 804 software ...</td>\n",
       "    </tr>\n",
       "    <tr>\n",
       "      <th>257</th>\n",
       "      <td>trentadmin introduced Pundurs marketplaces fra...</td>\n",
       "    </tr>\n",
       "    <tr>\n",
       "      <th>258</th>\n",
       "      <td>laura storefront question posting wrong place ...</td>\n",
       "    </tr>\n",
       "    <tr>\n",
       "      <th>259</th>\n",
       "      <td>kane store website ChloroFluoroCarbon category...</td>\n",
       "    </tr>\n",
       "  </tbody>\n",
       "</table>\n",
       "<p>260 rows × 1 columns</p>\n",
       "</div>"
      ],
      "text/plain": [
       "                                        Augmented Post\n",
       "0    trentadmin product Suttles category MCC sourci...\n",
       "1    moniqueandkerry price checker competitor store...\n",
       "2    pradimnakumar top 10 tips grow business rapidl...\n",
       "3    jimwpb virtual assistants anyone va recommend ...\n",
       "4    SRAM emphases branded products amazon uk sell ...\n",
       "..                                                 ...\n",
       "255  terrifetters tracking cogs hello anyone advise...\n",
       "256  betterlifesales breaths software 804 software ...\n",
       "257  trentadmin introduced Pundurs marketplaces fra...\n",
       "258  laura storefront question posting wrong place ...\n",
       "259  kane store website ChloroFluoroCarbon category...\n",
       "\n",
       "[260 rows x 1 columns]"
      ]
     },
     "execution_count": 134,
     "metadata": {},
     "output_type": "execute_result"
    }
   ],
   "source": [
    "aug_data"
   ]
  },
  {
   "cell_type": "code",
   "execution_count": 135,
   "metadata": {},
   "outputs": [],
   "source": [
    "aug_data['Category'] = test_df.Category"
   ]
  },
  {
   "cell_type": "code",
   "execution_count": 136,
   "metadata": {},
   "outputs": [
    {
     "data": {
      "text/html": [
       "<div>\n",
       "<style scoped>\n",
       "    .dataframe tbody tr th:only-of-type {\n",
       "        vertical-align: middle;\n",
       "    }\n",
       "\n",
       "    .dataframe tbody tr th {\n",
       "        vertical-align: top;\n",
       "    }\n",
       "\n",
       "    .dataframe thead th {\n",
       "        text-align: right;\n",
       "    }\n",
       "</style>\n",
       "<table border=\"1\" class=\"dataframe\">\n",
       "  <thead>\n",
       "    <tr style=\"text-align: right;\">\n",
       "      <th></th>\n",
       "      <th>Category</th>\n",
       "      <th>post</th>\n",
       "    </tr>\n",
       "  </thead>\n",
       "  <tbody>\n",
       "    <tr>\n",
       "      <th>0</th>\n",
       "      <td>Product Sourcing</td>\n",
       "      <td>trentadmin product sourcing category questions...</td>\n",
       "    </tr>\n",
       "    <tr>\n",
       "      <th>1</th>\n",
       "      <td>Product Sourcing</td>\n",
       "      <td>moniqueandkerry price checker 2 competitor sto...</td>\n",
       "    </tr>\n",
       "    <tr>\n",
       "      <th>2</th>\n",
       "      <td>Product Sourcing</td>\n",
       "      <td>pradimnakumar top 10 tips grow business rapidl...</td>\n",
       "    </tr>\n",
       "    <tr>\n",
       "      <th>3</th>\n",
       "      <td>Product Sourcing</td>\n",
       "      <td>jimwpb virtual assistants anyone va recommend ...</td>\n",
       "    </tr>\n",
       "    <tr>\n",
       "      <th>4</th>\n",
       "      <td>Product Sourcing</td>\n",
       "      <td>mitch sell branded products amazon uk sell bra...</td>\n",
       "    </tr>\n",
       "  </tbody>\n",
       "</table>\n",
       "</div>"
      ],
      "text/plain": [
       "           Category                                               post\n",
       "0  Product Sourcing  trentadmin product sourcing category questions...\n",
       "1  Product Sourcing  moniqueandkerry price checker 2 competitor sto...\n",
       "2  Product Sourcing  pradimnakumar top 10 tips grow business rapidl...\n",
       "3  Product Sourcing  jimwpb virtual assistants anyone va recommend ...\n",
       "4  Product Sourcing  mitch sell branded products amazon uk sell bra..."
      ]
     },
     "execution_count": 136,
     "metadata": {},
     "output_type": "execute_result"
    }
   ],
   "source": [
    "test_df.head()"
   ]
  },
  {
   "cell_type": "code",
   "execution_count": null,
   "metadata": {},
   "outputs": [],
   "source": [
    "test_df.drop(columns=['Topic Title', 'Author', 'Leading Comment', 'Other Comments'], inplace=True)"
   ]
  },
  {
   "cell_type": "code",
   "execution_count": 138,
   "metadata": {},
   "outputs": [
    {
     "data": {
      "text/html": [
       "<div>\n",
       "<style scoped>\n",
       "    .dataframe tbody tr th:only-of-type {\n",
       "        vertical-align: middle;\n",
       "    }\n",
       "\n",
       "    .dataframe tbody tr th {\n",
       "        vertical-align: top;\n",
       "    }\n",
       "\n",
       "    .dataframe thead th {\n",
       "        text-align: right;\n",
       "    }\n",
       "</style>\n",
       "<table border=\"1\" class=\"dataframe\">\n",
       "  <thead>\n",
       "    <tr style=\"text-align: right;\">\n",
       "      <th></th>\n",
       "      <th>Category</th>\n",
       "      <th>post</th>\n",
       "    </tr>\n",
       "  </thead>\n",
       "  <tbody>\n",
       "    <tr>\n",
       "      <th>0</th>\n",
       "      <td>Product Sourcing</td>\n",
       "      <td>trentadmin product sourcing category questions...</td>\n",
       "    </tr>\n",
       "    <tr>\n",
       "      <th>1</th>\n",
       "      <td>Product Sourcing</td>\n",
       "      <td>moniqueandkerry price checker 2 competitor sto...</td>\n",
       "    </tr>\n",
       "    <tr>\n",
       "      <th>2</th>\n",
       "      <td>Product Sourcing</td>\n",
       "      <td>pradimnakumar top 10 tips grow business rapidl...</td>\n",
       "    </tr>\n",
       "    <tr>\n",
       "      <th>3</th>\n",
       "      <td>Product Sourcing</td>\n",
       "      <td>jimwpb virtual assistants anyone va recommend ...</td>\n",
       "    </tr>\n",
       "    <tr>\n",
       "      <th>4</th>\n",
       "      <td>Product Sourcing</td>\n",
       "      <td>mitch sell branded products amazon uk sell bra...</td>\n",
       "    </tr>\n",
       "  </tbody>\n",
       "</table>\n",
       "</div>"
      ],
      "text/plain": [
       "           Category                                               post\n",
       "0  Product Sourcing  trentadmin product sourcing category questions...\n",
       "1  Product Sourcing  moniqueandkerry price checker 2 competitor sto...\n",
       "2  Product Sourcing  pradimnakumar top 10 tips grow business rapidl...\n",
       "3  Product Sourcing  jimwpb virtual assistants anyone va recommend ...\n",
       "4  Product Sourcing  mitch sell branded products amazon uk sell bra..."
      ]
     },
     "execution_count": 138,
     "metadata": {},
     "output_type": "execute_result"
    }
   ],
   "source": [
    "test_df.head()"
   ]
  },
  {
   "cell_type": "code",
   "execution_count": 139,
   "metadata": {},
   "outputs": [
    {
     "data": {
      "text/html": [
       "<div>\n",
       "<style scoped>\n",
       "    .dataframe tbody tr th:only-of-type {\n",
       "        vertical-align: middle;\n",
       "    }\n",
       "\n",
       "    .dataframe tbody tr th {\n",
       "        vertical-align: top;\n",
       "    }\n",
       "\n",
       "    .dataframe thead th {\n",
       "        text-align: right;\n",
       "    }\n",
       "</style>\n",
       "<table border=\"1\" class=\"dataframe\">\n",
       "  <thead>\n",
       "    <tr style=\"text-align: right;\">\n",
       "      <th></th>\n",
       "      <th>Augmented Post</th>\n",
       "      <th>Category</th>\n",
       "    </tr>\n",
       "  </thead>\n",
       "  <tbody>\n",
       "    <tr>\n",
       "      <th>0</th>\n",
       "      <td>trentadmin product Suttles category MCC sourci...</td>\n",
       "      <td>Product Sourcing</td>\n",
       "    </tr>\n",
       "    <tr>\n",
       "      <th>1</th>\n",
       "      <td>moniqueandkerry price checker competitor store...</td>\n",
       "      <td>Product Sourcing</td>\n",
       "    </tr>\n",
       "    <tr>\n",
       "      <th>2</th>\n",
       "      <td>pradimnakumar top 10 tips grow business rapidl...</td>\n",
       "      <td>Product Sourcing</td>\n",
       "    </tr>\n",
       "    <tr>\n",
       "      <th>3</th>\n",
       "      <td>jimwpb virtual assistants anyone va recommend ...</td>\n",
       "      <td>Product Sourcing</td>\n",
       "    </tr>\n",
       "    <tr>\n",
       "      <th>4</th>\n",
       "      <td>SRAM emphases branded products amazon uk sell ...</td>\n",
       "      <td>Product Sourcing</td>\n",
       "    </tr>\n",
       "  </tbody>\n",
       "</table>\n",
       "</div>"
      ],
      "text/plain": [
       "                                      Augmented Post          Category\n",
       "0  trentadmin product Suttles category MCC sourci...  Product Sourcing\n",
       "1  moniqueandkerry price checker competitor store...  Product Sourcing\n",
       "2  pradimnakumar top 10 tips grow business rapidl...  Product Sourcing\n",
       "3  jimwpb virtual assistants anyone va recommend ...  Product Sourcing\n",
       "4  SRAM emphases branded products amazon uk sell ...  Product Sourcing"
      ]
     },
     "execution_count": 139,
     "metadata": {},
     "output_type": "execute_result"
    }
   ],
   "source": [
    "aug_data.head()"
   ]
  },
  {
   "cell_type": "code",
   "execution_count": 140,
   "metadata": {},
   "outputs": [],
   "source": [
    "REPLACE_BY_SPACE_RE = re.compile('[/(){}\\[\\]\\'\\“\\”\\’\\|@,;]')\n",
    "BAD_SYMBOLS_RE = re.compile('[^0-9a-z #+_]')\n",
    "STOPWORDS = set(stopwords.words('english'))\n",
    "import string\n",
    "punct = string.punctuation\n",
    "\n",
    "def clean_text(text):\n",
    "    \"\"\"\n",
    "        text: a string\n",
    "        \n",
    "        return: modified initial string\n",
    "    \"\"\"\n",
    "    text = BeautifulSoup(text, \"lxml\").text # HTML decoding\n",
    "    text = text.lower() # lowercase text\n",
    "    text = REPLACE_BY_SPACE_RE.sub(' ', text) # replace REPLACE_BY_SPACE_RE symbols by space in text\n",
    "    text = text.replace(r'\\n', ' ')\n",
    "    #text = BAD_SYMBOLS_RE.sub('', text) # delete symbols which are in BAD_SYMBOLS_RE from text\n",
    "    text = ''.join(word for word in text if word not in punct)  # remove punctuation\n",
    "    text = ' '.join(word for word in text.split() if word not in STOPWORDS) # delete stopwors from text\n",
    "    return text\n",
    "    \n",
    "aug_data['Augmented Post'] = aug_data['Augmented Post'].apply(clean_text)"
   ]
  },
  {
   "cell_type": "code",
   "execution_count": 141,
   "metadata": {},
   "outputs": [
    {
     "name": "stdout",
     "output_type": "stream",
     "text": [
      "dennisscheurich selling books question selling books dime paperback xlqs4 reason lot lower mass market prices arguement though innately rrn books supposedly lesser quality dennisscheurich would assume supply 90mb issue sure demand gangsters paperback mass market would imagine less demand mass market based statement amazon forum threads like listing variations sellers going gravitate highest selling variation prices going drop result hello mitch thanks quick response makes condoms never thought way anytime dennisscheurich theories b747 would nice others experience selling microcontrollers would chime\n",
      "Category: Product Sourcing\n"
     ]
    }
   ],
   "source": [
    "def test_print_plot(index):\n",
    "    example = aug_data[aug_data.index == index][['Augmented Post', 'Category']].values[0]\n",
    "    if len(example) > 0:\n",
    "        print(example[0])\n",
    "        print('Category:', example[1])\n",
    "test_print_plot(10)"
   ]
  },
  {
   "cell_type": "code",
   "execution_count": 142,
   "metadata": {},
   "outputs": [
    {
     "data": {
      "text/html": [
       "<div>\n",
       "<style scoped>\n",
       "    .dataframe tbody tr th:only-of-type {\n",
       "        vertical-align: middle;\n",
       "    }\n",
       "\n",
       "    .dataframe tbody tr th {\n",
       "        vertical-align: top;\n",
       "    }\n",
       "\n",
       "    .dataframe thead th {\n",
       "        text-align: right;\n",
       "    }\n",
       "</style>\n",
       "<table border=\"1\" class=\"dataframe\">\n",
       "  <thead>\n",
       "    <tr style=\"text-align: right;\">\n",
       "      <th></th>\n",
       "      <th>Augmented Post</th>\n",
       "      <th>Category</th>\n",
       "    </tr>\n",
       "  </thead>\n",
       "  <tbody>\n",
       "    <tr>\n",
       "      <th>0</th>\n",
       "      <td>trentadmin product suttles category mcc sourci...</td>\n",
       "      <td>Product Sourcing</td>\n",
       "    </tr>\n",
       "    <tr>\n",
       "      <th>1</th>\n",
       "      <td>moniqueandkerry price checker competitor store...</td>\n",
       "      <td>Product Sourcing</td>\n",
       "    </tr>\n",
       "    <tr>\n",
       "      <th>2</th>\n",
       "      <td>pradimnakumar top 10 tips grow business rapidl...</td>\n",
       "      <td>Product Sourcing</td>\n",
       "    </tr>\n",
       "    <tr>\n",
       "      <th>3</th>\n",
       "      <td>jimwpb virtual assistants anyone va recommend ...</td>\n",
       "      <td>Product Sourcing</td>\n",
       "    </tr>\n",
       "    <tr>\n",
       "      <th>4</th>\n",
       "      <td>sram emphases branded products amazon uk sell ...</td>\n",
       "      <td>Product Sourcing</td>\n",
       "    </tr>\n",
       "  </tbody>\n",
       "</table>\n",
       "</div>"
      ],
      "text/plain": [
       "                                      Augmented Post          Category\n",
       "0  trentadmin product suttles category mcc sourci...  Product Sourcing\n",
       "1  moniqueandkerry price checker competitor store...  Product Sourcing\n",
       "2  pradimnakumar top 10 tips grow business rapidl...  Product Sourcing\n",
       "3  jimwpb virtual assistants anyone va recommend ...  Product Sourcing\n",
       "4  sram emphases branded products amazon uk sell ...  Product Sourcing"
      ]
     },
     "execution_count": 142,
     "metadata": {},
     "output_type": "execute_result"
    }
   ],
   "source": [
    "aug_data.head()"
   ]
  },
  {
   "cell_type": "code",
   "execution_count": 144,
   "metadata": {},
   "outputs": [],
   "source": [
    "aug_data.rename(columns={\"Augmented Post\": \"post\"}, inplace=True)"
   ]
  },
  {
   "cell_type": "code",
   "execution_count": 152,
   "metadata": {
    "scrolled": true
   },
   "outputs": [],
   "source": [
    "result = test_df.append(aug_data, ignore_index=True, sort=False)"
   ]
  },
  {
   "cell_type": "code",
   "execution_count": 155,
   "metadata": {},
   "outputs": [
    {
     "data": {
      "text/html": [
       "<div>\n",
       "<style scoped>\n",
       "    .dataframe tbody tr th:only-of-type {\n",
       "        vertical-align: middle;\n",
       "    }\n",
       "\n",
       "    .dataframe tbody tr th {\n",
       "        vertical-align: top;\n",
       "    }\n",
       "\n",
       "    .dataframe thead th {\n",
       "        text-align: right;\n",
       "    }\n",
       "</style>\n",
       "<table border=\"1\" class=\"dataframe\">\n",
       "  <thead>\n",
       "    <tr style=\"text-align: right;\">\n",
       "      <th></th>\n",
       "      <th>Category</th>\n",
       "      <th>post</th>\n",
       "    </tr>\n",
       "  </thead>\n",
       "  <tbody>\n",
       "    <tr>\n",
       "      <th>0</th>\n",
       "      <td>Product Sourcing</td>\n",
       "      <td>trentadmin product sourcing category questions...</td>\n",
       "    </tr>\n",
       "    <tr>\n",
       "      <th>1</th>\n",
       "      <td>Product Sourcing</td>\n",
       "      <td>moniqueandkerry price checker 2 competitor sto...</td>\n",
       "    </tr>\n",
       "    <tr>\n",
       "      <th>2</th>\n",
       "      <td>Product Sourcing</td>\n",
       "      <td>pradimnakumar top 10 tips grow business rapidl...</td>\n",
       "    </tr>\n",
       "    <tr>\n",
       "      <th>3</th>\n",
       "      <td>Product Sourcing</td>\n",
       "      <td>jimwpb virtual assistants anyone va recommend ...</td>\n",
       "    </tr>\n",
       "    <tr>\n",
       "      <th>4</th>\n",
       "      <td>Product Sourcing</td>\n",
       "      <td>mitch sell branded products amazon uk sell bra...</td>\n",
       "    </tr>\n",
       "    <tr>\n",
       "      <th>...</th>\n",
       "      <td>...</td>\n",
       "      <td>...</td>\n",
       "    </tr>\n",
       "    <tr>\n",
       "      <th>515</th>\n",
       "      <td>Financial Management</td>\n",
       "      <td>terrifetters tracking cogs hello anyone advise...</td>\n",
       "    </tr>\n",
       "    <tr>\n",
       "      <th>516</th>\n",
       "      <td>Financial Management</td>\n",
       "      <td>betterlifesales breaths software 804 software ...</td>\n",
       "    </tr>\n",
       "    <tr>\n",
       "      <th>517</th>\n",
       "      <td>eCommerce Marketplaces</td>\n",
       "      <td>trentadmin introduced pundurs marketplaces fra...</td>\n",
       "    </tr>\n",
       "    <tr>\n",
       "      <th>518</th>\n",
       "      <td>eCommerce Marketplaces</td>\n",
       "      <td>laura storefront question posting wrong place ...</td>\n",
       "    </tr>\n",
       "    <tr>\n",
       "      <th>519</th>\n",
       "      <td>Store &amp; Website Management</td>\n",
       "      <td>kane store website chlorofluorocarbon category...</td>\n",
       "    </tr>\n",
       "  </tbody>\n",
       "</table>\n",
       "<p>520 rows × 2 columns</p>\n",
       "</div>"
      ],
      "text/plain": [
       "                       Category  \\\n",
       "0              Product Sourcing   \n",
       "1              Product Sourcing   \n",
       "2              Product Sourcing   \n",
       "3              Product Sourcing   \n",
       "4              Product Sourcing   \n",
       "..                          ...   \n",
       "515        Financial Management   \n",
       "516        Financial Management   \n",
       "517      eCommerce Marketplaces   \n",
       "518      eCommerce Marketplaces   \n",
       "519  Store & Website Management   \n",
       "\n",
       "                                                  post  \n",
       "0    trentadmin product sourcing category questions...  \n",
       "1    moniqueandkerry price checker 2 competitor sto...  \n",
       "2    pradimnakumar top 10 tips grow business rapidl...  \n",
       "3    jimwpb virtual assistants anyone va recommend ...  \n",
       "4    mitch sell branded products amazon uk sell bra...  \n",
       "..                                                 ...  \n",
       "515  terrifetters tracking cogs hello anyone advise...  \n",
       "516  betterlifesales breaths software 804 software ...  \n",
       "517  trentadmin introduced pundurs marketplaces fra...  \n",
       "518  laura storefront question posting wrong place ...  \n",
       "519  kane store website chlorofluorocarbon category...  \n",
       "\n",
       "[520 rows x 2 columns]"
      ]
     },
     "execution_count": 155,
     "metadata": {},
     "output_type": "execute_result"
    }
   ],
   "source": [
    "result"
   ]
  },
  {
   "cell_type": "code",
   "execution_count": 154,
   "metadata": {},
   "outputs": [
    {
     "name": "stdout",
     "output_type": "stream",
     "text": [
      "<class 'pandas.core.frame.DataFrame'>\n",
      "RangeIndex: 520 entries, 0 to 519\n",
      "Data columns (total 2 columns):\n",
      "Category    520 non-null object\n",
      "post        520 non-null object\n",
      "dtypes: object(2)\n",
      "memory usage: 8.2+ KB\n"
     ]
    }
   ],
   "source": [
    "result.info()"
   ]
  },
  {
   "cell_type": "markdown",
   "metadata": {},
   "source": [
    "### Modeling the augmented data"
   ]
  },
  {
   "cell_type": "code",
   "execution_count": 156,
   "metadata": {},
   "outputs": [],
   "source": [
    "X = result.post\n",
    "y = result.Category\n",
    "X_train, X_test, y_train, y_test = train_test_split(X, y, test_size=0.33, random_state = 42)"
   ]
  },
  {
   "cell_type": "code",
   "execution_count": 157,
   "metadata": {},
   "outputs": [
    {
     "name": "stdout",
     "output_type": "stream",
     "text": [
      "accuracy 0.8430232558139535\n",
      "                        precision    recall  f1-score   support\n",
      "\n",
      "     Flowster-specific       0.75      1.00      0.86        36\n",
      "      Product Sourcing       1.00      0.20      0.33         5\n",
      "      Software & Tools       0.89      1.00      0.94        33\n",
      "       Human Resources       1.00      0.75      0.86         8\n",
      "       Amazon Specific       0.87      0.76      0.81        17\n",
      "       Traffic Sources       1.00      0.89      0.94         9\n",
      "           Fulfillment       1.00      0.78      0.88         9\n",
      "           Misc Topics       0.86      0.79      0.82        38\n",
      "            Management       0.70      0.78      0.74         9\n",
      "  Financial Management       0.50      1.00      0.67         1\n",
      "eCommerce Marketplaces       1.00      0.43      0.60         7\n",
      "\n",
      "              accuracy                           0.84       172\n",
      "             macro avg       0.87      0.76      0.77       172\n",
      "          weighted avg       0.86      0.84      0.83       172\n",
      "\n"
     ]
    },
    {
     "name": "stderr",
     "output_type": "stream",
     "text": [
      "/opt/anaconda3/envs/deep-learning/lib/python3.6/site-packages/sklearn/linear_model/logistic.py:432: FutureWarning: Default solver will be changed to 'lbfgs' in 0.22. Specify a solver to silence this warning.\n",
      "  FutureWarning)\n",
      "/opt/anaconda3/envs/deep-learning/lib/python3.6/site-packages/sklearn/linear_model/logistic.py:469: FutureWarning: Default multi_class will be changed to 'auto' in 0.22. Specify the multi_class option to silence this warning.\n",
      "  \"this warning.\", FutureWarning)\n"
     ]
    }
   ],
   "source": [
    "logreg = Pipeline([('vect', TfidfVectorizer()),\n",
    "                   ('tfidf', TfidfTransformer()),\n",
    "                   ('clf', LogisticRegression(n_jobs=1, C=1e5)),\n",
    "               ])\n",
    "logreg.fit(X_train, y_train)\n",
    "\n",
    "y_pred = logreg.predict (X_test)\n",
    "\n",
    "print('accuracy %s' % accuracy_score(y_pred, y_test))\n",
    "res31 = accuracy_score(y_pred, y_test)\n",
    "print(classification_report(y_test, y_pred,target_names=categories))"
   ]
  },
  {
   "cell_type": "markdown",
   "metadata": {},
   "source": [
    "**Before augmenting**"
   ]
  },
  {
   "cell_type": "markdown",
   "metadata": {},
   "source": [
    "                        precision    recall  f1-score   support\n",
    "\n",
    "     Flowster-specific       0.57      0.57      0.57        21\n",
    "      Product Sourcing       0.00      0.00      0.00         2\n",
    "      Software & Tools       0.70      0.95      0.81        20\n",
    "       Human Resources       1.00      0.43      0.60         7\n",
    "       Amazon Specific       0.50      0.43      0.46         7\n",
    "       Traffic Sources       0.75      0.60      0.67         5\n",
    "           Fulfillment       0.00      0.00      0.00         3\n",
    "           Misc Topics       0.42      0.67      0.51        15\n",
    "            Management       0.00      0.00      0.00         3\n",
    "      Financial Management   0.00      0.00      0.00         2\n",
    "    eCommerce Marketplaces   0.00      0.00      0.00         1\n",
    "\n",
    "              accuracy                           0.58        86\n",
    "             macro avg       0.36      0.33      0.33        86\n",
    "          weighted avg       0.54      0.58      0.54        86"
   ]
  },
  {
   "cell_type": "code",
   "execution_count": 164,
   "metadata": {},
   "outputs": [
    {
     "data": {
      "image/png": "[encoded data removed]",
      "text/plain": [
       "<Figure size 720x720 with 2 Axes>"
      ]
     },
     "metadata": {
      "needs_background": "light"
     },
     "output_type": "display_data"
    }
   ],
   "source": [
    "from sklearn.metrics import confusion_matrix\n",
    "import seaborn as sns\n",
    "\n",
    "conf_mat = confusion_matrix(y_test, y_pred)\n",
    "fig, ax = plt.subplots(figsize=(10,10))\n",
    "sns.heatmap(conf_mat, annot=True, fmt='d',\n",
    "            xticklabels=categories, yticklabels=categories)\n",
    "plt.ylabel('Actual')\n",
    "plt.xlabel('Predicted')\n",
    "plt.show()"
   ]
  },
  {
   "cell_type": "markdown",
   "metadata": {},
   "source": [
    "- There are some topics from `Misc Topics`that get misclassified as `Flowster Specific` or `Software & Tools` or `Amazon Specific`.\n",
    "- We can catch that as well for `Amazon Specific` that gets classified as `Management`.  \n",
    "It would be interesting to understand why is this so."
   ]
  },
  {
   "cell_type": "code",
   "execution_count": 169,
   "metadata": {},
   "outputs": [
    {
     "data": {
      "text/plain": [
       "275    bobg brand contact preview page hi wondering a...\n",
       "93     mitch iphone 11 scan upc codes properly recent...\n",
       "6      zaid black box amazon product research yay nay...\n",
       "167    kane links template flowster make link inside ...\n",
       "90     bobg thoughts chasing price hi new wholesale p...\n",
       "                             ...                        \n",
       "407    kane opinion completed py46 appearing calendar...\n",
       "16     mitch sending mass email gmass hi send mass em...\n",
       "484    janeen dynamic bidding xtappprocessevent add p...\n",
       "370    gianmelishanghai us based warehouse nannygate ...\n",
       "3      jimwpb virtual assistants anyone va recommend ...\n",
       "Name: post, Length: 172, dtype: object"
      ]
     },
     "execution_count": 169,
     "metadata": {},
     "output_type": "execute_result"
    }
   ],
   "source": [
    "X_test"
   ]
  },
  {
   "cell_type": "code",
   "execution_count": 192,
   "metadata": {},
   "outputs": [],
   "source": [
    "# Text from Product Sourcing category, Link : https://forum.flowster.app/t/price-checker-2-competitor-storefront-extraction/1411\n",
    "# 1. Clean text\n",
    "new_text = 'Hi! We are new to the forum and are going through the Product Sourcing for Professionals SOPs. We have a question on the Product Extraction workflow process using PC2: we have downloaded the free version and it doesn’t have the button that says ‘Amazon Browser/Searches’. Do we need to purchase the full PC2 package to get this feature? Thanks for your help in advance!'\n",
    "#cleaned_text = clean_text(new_text)"
   ]
  },
  {
   "cell_type": "code",
   "execution_count": 193,
   "metadata": {},
   "outputs": [],
   "source": [
    "# 2. Vectorize the text + 3. Predict the category\n",
    "predict_test = logreg.predict([new_text])"
   ]
  },
  {
   "cell_type": "code",
   "execution_count": 199,
   "metadata": {},
   "outputs": [
    {
     "name": "stdout",
     "output_type": "stream",
     "text": [
      "['Product Sourcing']\n"
     ]
    }
   ],
   "source": [
    "print(predict_test)"
   ]
  },
  {
   "cell_type": "code",
   "execution_count": 200,
   "metadata": {},
   "outputs": [
    {
     "name": "stdout",
     "output_type": "stream",
     "text": [
      "['Flowster-specific']\n"
     ]
    }
   ],
   "source": [
    "test_text = \"Equifax exposed my personal information without my consent, as part of their recent data breach. \\\n",
    "In addition, they dragged their feet in the announcement of the report, and even allowed their upper management to sell \\\n",
    "off stock before the announcement.\"\n",
    "predict_test = logreg.predict([test_text])\n",
    "print(predict_test)"
   ]
  },
  {
   "cell_type": "code",
   "execution_count": 210,
   "metadata": {},
   "outputs": [],
   "source": [
    "res = result['post'][result['Category'] == 'Flowster-specific']"
   ]
  },
  {
   "cell_type": "code",
   "execution_count": 218,
   "metadata": {},
   "outputs": [
    {
     "data": {
      "text/plain": [
       "127    system flowsterspecific category discussion fl...\n",
       "128    system welcome flowster community looking help...\n",
       "129    kane wordpresslike template editing control tr...\n",
       "130    kane cold email outreach 12 get https inflowst...\n",
       "131    kevin converting twf scouting sourcing spreads...\n",
       "Name: post, dtype: object"
      ]
     },
     "execution_count": 218,
     "metadata": {},
     "output_type": "execute_result"
    }
   ],
   "source": [
    "res.head()"
   ]
  },
  {
   "cell_type": "code",
   "execution_count": 223,
   "metadata": {},
   "outputs": [
    {
     "name": "stdout",
     "output_type": "stream",
     "text": [
      "127    system flowsterspecific category discussion fl...\n",
      "Name: post, dtype: object\n"
     ]
    }
   ],
   "source": [
    "print(res[:1])"
   ]
  }
 ],
 "metadata": {
  "kernelspec": {
   "display_name": "Python 3",
   "language": "python",
   "name": "python3"
  },
  "toc": {
   "base_numbering": 1,
   "nav_menu": {},
   "number_sections": true,
   "sideBar": true,
   "skip_h1_title": false,
   "title_cell": "Table of Contents",
   "title_sidebar": "Contents",
   "toc_cell": false,
   "toc_position": {},
   "toc_section_display": true,
   "toc_window_display": false
  }
 },
 "nbformat": 4,
 "nbformat_minor": 4
}
