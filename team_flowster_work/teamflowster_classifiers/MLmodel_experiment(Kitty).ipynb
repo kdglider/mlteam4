{
 "cells": [
  {
   "cell_type": "markdown",
   "metadata": {},
   "source": [
    "# Model Experimentation with Flowster Data\n",
    "Note: the models still need fine tuning"
   ]
  },
  {
   "cell_type": "markdown",
   "metadata": {},
   "source": [
    "### Data Importing and Cleaning"
   ]
  },
  {
   "cell_type": "code",
   "execution_count": 1,
   "metadata": {},
   "outputs": [],
   "source": [
    "from rake_nltk import Rake\n",
    "import re\n",
    "import string\n",
    "import pandas as pd\n",
    "\n",
    "augmented_data = pd.read_csv('augmented_data_wcomment.csv')\n",
    "raw_data = pd.read_csv('Flowster_Topic_Attributes_20200612000804.csv')"
   ]
  },
  {
   "cell_type": "code",
   "execution_count": 2,
   "metadata": {},
   "outputs": [],
   "source": [
    "# Defined for cleaning text for train\n",
    "def basic_data_processing(data, name_of_column):\n",
    "    # Making words lowercase\n",
    "    data[name_of_column] = data[name_of_column].apply(lambda x: str(x) if isinstance(x, float) else x.lower())\n",
    "    # Remove punctuations from comments\n",
    "    data[name_of_column] = data[name_of_column].str.replace('[^\\w\\s]','')\n",
    "    # Remove stop words\n",
    "    from sklearn.feature_extraction import text \n",
    "    stop_words = text.ENGLISH_STOP_WORDS\n",
    "    data[name_of_column] = data[name_of_column].apply(lambda x: \" \".join(x for x in x.split() if x not in stop_words))"
   ]
  },
  {
   "cell_type": "code",
   "execution_count": 3,
   "metadata": {},
   "outputs": [],
   "source": [
    "#data processing for augmented data\n",
    "basic_data_processing(augmented_data, 'Leading Comment')\n",
    "basic_data_processing(augmented_data, 'Topic Title')\n",
    "augmented_data['Bag_of_words'] = augmented_data['Leading Comment'] + augmented_data['Topic Title']\n",
    "augmented_data = augmented_data[['Category','Bag_of_words']]\n",
    "\n",
    "#data processing for raw data\n",
    "basic_data_processing(raw_data, 'Leading Comment')\n",
    "basic_data_processing(raw_data, 'Topic Title')\n",
    "basic_data_processing(raw_data, 'Other Comments')\n",
    "raw_data['Bag_of_words'] = raw_data['Leading Comment'] + raw_data['Topic Title'] + raw_data['Other Comments']\n",
    "raw_data = raw_data[['Category','Bag_of_words']]"
   ]
  },
  {
   "cell_type": "code",
   "execution_count": 4,
   "metadata": {},
   "outputs": [
    {
     "data": {
      "text/plain": [
       "<Figure size 800x600 with 1 Axes>"
      ]
     },
     "metadata": {},
     "output_type": "display_data"
    },
    {
     "data": {
      "text/plain": [
       "<Figure size 800x600 with 1 Axes>"
      ]
     },
     "metadata": {},
     "output_type": "display_data"
    }
   ],
   "source": [
    "#shows class imbalance in both augmented and raw data\n",
    "#the imbalance seems even more serious in the augmented data than the raw one\n",
    "import matplotlib.pyplot as plt\n",
    "\n",
    "#raw\n",
    "fig = plt.figure(figsize=(8,6))\n",
    "raw_data.groupby('Category').Bag_of_words.count().plot.bar(ylim=0)\n",
    "plt.show()\n",
    "\n",
    "#augmented\n",
    "fig = plt.figure(figsize=(8,6))\n",
    "augmented_data.groupby('Category').Bag_of_words.count().plot.bar(ylim=0)\n",
    "plt.show()"
   ]
  },
  {
   "cell_type": "markdown",
   "metadata": {},
   "source": [
    "### Testing Model Accuracies\n",
    "Code reference: https://towardsdatascience.com/multi-class-text-classification-with-scikit-learn-12f1e60e0a9f"
   ]
  },
  {
   "cell_type": "code",
   "execution_count": 5,
   "metadata": {},
   "outputs": [],
   "source": [
    "#Tools\n",
    "from sklearn.feature_extraction.text import CountVectorizer\n",
    "from sklearn.model_selection import train_test_split\n",
    "from sklearn.pipeline import Pipeline\n",
    "from sklearn.feature_extraction.text import TfidfTransformer\n",
    "from sklearn.metrics import accuracy_score \n",
    "from sklearn.metrics import classification_report\n",
    "\n",
    "#Machine Learning Models\n",
    "from sklearn.linear_model import LogisticRegression\n",
    "from sklearn.ensemble import RandomForestClassifier\n",
    "from sklearn.svm import LinearSVC\n",
    "from sklearn.linear_model import SGDClassifier\n",
    "from sklearn.naive_bayes import MultinomialNB\n",
    "\n",
    "#Putting the models into a list to be tested\n",
    "#FINE TUNING NEEDED HERE!\n",
    "models = [\n",
    "    RandomForestClassifier(n_estimators=200, max_depth=3, random_state=0),\n",
    "    LinearSVC(),\n",
    "    MultinomialNB(),\n",
    "    LogisticRegression(random_state=0),\n",
    "    SGDClassifier(loss='hinge', penalty='l2',alpha=1e-3, random_state=51, max_iter=5, tol=None),\n",
    "]"
   ]
  },
  {
   "cell_type": "code",
   "execution_count": 6,
   "metadata": {},
   "outputs": [
    {
     "name": "stdout",
     "output_type": "stream",
     "text": [
      "RandomForestClassifier accuracy 0.47719298245614034\n",
      "                        precision    recall  f1-score   support\n",
      "\n",
      "       Amazon Specific       0.44      0.91      0.60        70\n",
      "  Financial Management       0.00      0.00      0.00         5\n",
      "     Flowster-specific       0.83      0.45      0.59        55\n",
      "           Fulfillment       0.00      0.00      0.00        24\n",
      "       Human Resources       0.00      0.00      0.00        33\n",
      "            Management       0.00      0.00      0.00         8\n",
      "           Misc Topics       0.00      0.00      0.00         8\n",
      "      Product Sourcing       0.42      0.78      0.55        60\n",
      "      Software & Tools       0.00      0.00      0.00        11\n",
      "       Traffic Sources       0.00      0.00      0.00         7\n",
      "eCommerce Marketplaces       0.00      0.00      0.00         4\n",
      "\n",
      "              accuracy                           0.48       285\n",
      "             macro avg       0.15      0.20      0.16       285\n",
      "          weighted avg       0.36      0.48      0.38       285\n",
      "\n",
      "LinearSVC accuracy 0.7824561403508772\n",
      "                        precision    recall  f1-score   support\n",
      "\n",
      "       Amazon Specific       0.80      0.87      0.84        70\n",
      "  Financial Management       0.80      0.80      0.80         5\n",
      "     Flowster-specific       0.84      0.85      0.85        55\n",
      "           Fulfillment       0.82      0.75      0.78        24\n",
      "       Human Resources       0.82      0.82      0.82        33\n",
      "            Management       0.67      0.50      0.57         8\n",
      "           Misc Topics       1.00      0.50      0.67         8\n",
      "      Product Sourcing       0.65      0.78      0.71        60\n",
      "      Software & Tools       1.00      0.55      0.71        11\n",
      "       Traffic Sources       1.00      0.71      0.83         7\n",
      "eCommerce Marketplaces       0.00      0.00      0.00         4\n",
      "\n",
      "              accuracy                           0.78       285\n",
      "             macro avg       0.76      0.65      0.69       285\n",
      "          weighted avg       0.78      0.78      0.78       285\n",
      "\n",
      "MultinomialNB accuracy 0.5824561403508772\n",
      "                        precision    recall  f1-score   support\n",
      "\n",
      "       Amazon Specific       0.60      0.93      0.73        70\n",
      "  Financial Management       0.00      0.00      0.00         5\n",
      "     Flowster-specific       0.85      0.71      0.77        55\n",
      "           Fulfillment       0.00      0.00      0.00        24\n",
      "       Human Resources       1.00      0.21      0.35        33\n",
      "            Management       0.00      0.00      0.00         8\n",
      "           Misc Topics       0.00      0.00      0.00         8\n",
      "      Product Sourcing       0.44      0.92      0.60        60\n",
      "      Software & Tools       0.00      0.00      0.00        11\n",
      "       Traffic Sources       0.00      0.00      0.00         7\n",
      "eCommerce Marketplaces       0.00      0.00      0.00         4\n",
      "\n",
      "              accuracy                           0.58       285\n",
      "             macro avg       0.26      0.25      0.22       285\n",
      "          weighted avg       0.52      0.58      0.49       285\n",
      "\n"
     ]
    },
    {
     "name": "stderr",
     "output_type": "stream",
     "text": [
      "/Users/kittyguz/opt/anaconda3/lib/python3.7/site-packages/sklearn/metrics/classification.py:1437: UndefinedMetricWarning: Precision and F-score are ill-defined and being set to 0.0 in labels with no predicted samples.\n",
      "  'precision', 'predicted', average, warn_for)\n",
      "/Users/kittyguz/opt/anaconda3/lib/python3.7/site-packages/sklearn/metrics/classification.py:1437: UndefinedMetricWarning: Precision and F-score are ill-defined and being set to 0.0 in labels with no predicted samples.\n",
      "  'precision', 'predicted', average, warn_for)\n",
      "/Users/kittyguz/opt/anaconda3/lib/python3.7/site-packages/sklearn/metrics/classification.py:1437: UndefinedMetricWarning: Precision and F-score are ill-defined and being set to 0.0 in labels with no predicted samples.\n",
      "  'precision', 'predicted', average, warn_for)\n",
      "/Users/kittyguz/opt/anaconda3/lib/python3.7/site-packages/sklearn/linear_model/logistic.py:432: FutureWarning: Default solver will be changed to 'lbfgs' in 0.22. Specify a solver to silence this warning.\n",
      "  FutureWarning)\n"
     ]
    },
    {
     "name": "stdout",
     "output_type": "stream",
     "text": [
      "LogisticRegression accuracy 0.631578947368421\n",
      "                        precision    recall  f1-score   support\n",
      "\n",
      "       Amazon Specific       0.58      0.93      0.71        70\n",
      "  Financial Management       0.00      0.00      0.00         5\n",
      "     Flowster-specific       0.78      0.78      0.78        55\n",
      "           Fulfillment       0.71      0.21      0.32        24\n",
      "       Human Resources       0.89      0.48      0.63        33\n",
      "            Management       1.00      0.25      0.40         8\n",
      "           Misc Topics       0.00      0.00      0.00         8\n",
      "      Product Sourcing       0.54      0.82      0.65        60\n",
      "      Software & Tools       0.00      0.00      0.00        11\n",
      "       Traffic Sources       0.00      0.00      0.00         7\n",
      "eCommerce Marketplaces       0.00      0.00      0.00         4\n",
      "\n",
      "              accuracy                           0.63       285\n",
      "             macro avg       0.41      0.32      0.32       285\n",
      "          weighted avg       0.60      0.63      0.57       285\n",
      "\n",
      "SGDClassifier accuracy 0.7859649122807018\n",
      "                        precision    recall  f1-score   support\n",
      "\n",
      "       Amazon Specific       0.78      0.89      0.83        70\n",
      "  Financial Management       0.67      0.80      0.73         5\n",
      "     Flowster-specific       0.89      0.85      0.87        55\n",
      "           Fulfillment       0.82      0.75      0.78        24\n",
      "       Human Resources       0.84      0.82      0.83        33\n",
      "            Management       0.67      0.50      0.57         8\n",
      "           Misc Topics       1.00      0.38      0.55         8\n",
      "      Product Sourcing       0.66      0.80      0.72        60\n",
      "      Software & Tools       1.00      0.55      0.71        11\n",
      "       Traffic Sources       1.00      0.71      0.83         7\n",
      "eCommerce Marketplaces       0.00      0.00      0.00         4\n",
      "\n",
      "              accuracy                           0.79       285\n",
      "             macro avg       0.76      0.64      0.67       285\n",
      "          weighted avg       0.79      0.79      0.78       285\n",
      "\n"
     ]
    },
    {
     "name": "stderr",
     "output_type": "stream",
     "text": [
      "/Users/kittyguz/opt/anaconda3/lib/python3.7/site-packages/sklearn/linear_model/logistic.py:469: FutureWarning: Default multi_class will be changed to 'auto' in 0.22. Specify the multi_class option to silence this warning.\n",
      "  \"this warning.\", FutureWarning)\n",
      "/Users/kittyguz/opt/anaconda3/lib/python3.7/site-packages/sklearn/metrics/classification.py:1437: UndefinedMetricWarning: Precision and F-score are ill-defined and being set to 0.0 in labels with no predicted samples.\n",
      "  'precision', 'predicted', average, warn_for)\n",
      "/Users/kittyguz/opt/anaconda3/lib/python3.7/site-packages/sklearn/metrics/classification.py:1437: UndefinedMetricWarning: Precision and F-score are ill-defined and being set to 0.0 in labels with no predicted samples.\n",
      "  'precision', 'predicted', average, warn_for)\n"
     ]
    }
   ],
   "source": [
    "#Display Accuracy of the list of models\n",
    "#Depends on what random_state is set to be, but it seems that LinearSVM and LineaerSVC are better\n",
    "for model in models:\n",
    "    model_name = model.__class__.__name__\n",
    "    y = augmented_data['Category']\n",
    "    X = augmented_data['Bag_of_words']\n",
    "    X_train, X_test, y_train, y_test = train_test_split(X, y, test_size=0.3, random_state = 51)\n",
    "    \n",
    "    sgd = Pipeline([('vect', CountVectorizer()),\n",
    "                    ('tfidf', TfidfTransformer()),\n",
    "                    ('clf', model),\n",
    "                   ])\n",
    "    sgd.fit(X_train, y_train)\n",
    "\n",
    "    y_pred = sgd.predict(X_test)\n",
    "\n",
    "    print(model_name, 'accuracy %s' % accuracy_score(y_pred, y_test))\n",
    "    print(classification_report(y_test, y_pred))"
   ]
  },
  {
   "cell_type": "markdown",
   "metadata": {},
   "source": [
    "### Generating Plots for Visualization of Accuracies"
   ]
  },
  {
   "cell_type": "code",
   "execution_count": 7,
   "metadata": {},
   "outputs": [],
   "source": [
    "from sklearn.feature_extraction.text import TfidfVectorizer\n",
    "from sklearn.model_selection import cross_val_score\n",
    "\n",
    "def plot_generator(data):\n",
    "    tfidf = TfidfVectorizer(sublinear_tf=True, min_df=5, norm='l2', encoding='latin-1', ngram_range=(1, 2), stop_words='english')\n",
    "    features = tfidf.fit_transform(data.Bag_of_words).toarray()\n",
    "    labels = data.Category\n",
    "\n",
    "    CV = 5\n",
    "    cv_df = pd.DataFrame(index=range(CV * len(models)))\n",
    "    \n",
    "    entries = []\n",
    "    for model in models:\n",
    "      model_name = model.__class__.__name__\n",
    "      accuracies = cross_val_score(model, features, labels, scoring='accuracy', cv=CV)\n",
    "      for fold_idx, accuracy in enumerate(accuracies):\n",
    "        entries.append((model_name, fold_idx, accuracy))\n",
    "    cv_df = pd.DataFrame(entries, columns=['model_name', 'fold_idx', 'accuracy'])\n",
    "    \n",
    "    #Caculating the mean of all models\n",
    "    print(cv_df.groupby('model_name').accuracy.mean())\n",
    "    \n",
    "    import seaborn as sns\n",
    "    sns.boxplot(x='model_name', y='accuracy', data=cv_df)\n",
    "    sns.stripplot(x='model_name', y='accuracy', data=cv_df, \n",
    "                  size=8, jitter=True, edgecolor=\"gray\", linewidth=2)\n",
    "    plt.show()"
   ]
  },
  {
   "cell_type": "code",
   "execution_count": 8,
   "metadata": {},
   "outputs": [
    {
     "name": "stderr",
     "output_type": "stream",
     "text": [
      "/Users/kittyguz/opt/anaconda3/lib/python3.7/site-packages/sklearn/model_selection/_split.py:657: Warning: The least populated class in y has only 1 members, which is too few. The minimum number of members in any class cannot be less than n_splits=5.\n",
      "  % (min_groups, self.n_splits)), Warning)\n",
      "/Users/kittyguz/opt/anaconda3/lib/python3.7/site-packages/sklearn/model_selection/_split.py:657: Warning: The least populated class in y has only 1 members, which is too few. The minimum number of members in any class cannot be less than n_splits=5.\n",
      "  % (min_groups, self.n_splits)), Warning)\n",
      "/Users/kittyguz/opt/anaconda3/lib/python3.7/site-packages/sklearn/model_selection/_split.py:657: Warning: The least populated class in y has only 1 members, which is too few. The minimum number of members in any class cannot be less than n_splits=5.\n",
      "  % (min_groups, self.n_splits)), Warning)\n",
      "/Users/kittyguz/opt/anaconda3/lib/python3.7/site-packages/sklearn/model_selection/_split.py:657: Warning: The least populated class in y has only 1 members, which is too few. The minimum number of members in any class cannot be less than n_splits=5.\n",
      "  % (min_groups, self.n_splits)), Warning)\n",
      "/Users/kittyguz/opt/anaconda3/lib/python3.7/site-packages/sklearn/linear_model/logistic.py:432: FutureWarning: Default solver will be changed to 'lbfgs' in 0.22. Specify a solver to silence this warning.\n",
      "  FutureWarning)\n",
      "/Users/kittyguz/opt/anaconda3/lib/python3.7/site-packages/sklearn/linear_model/logistic.py:469: FutureWarning: Default multi_class will be changed to 'auto' in 0.22. Specify the multi_class option to silence this warning.\n",
      "  \"this warning.\", FutureWarning)\n",
      "/Users/kittyguz/opt/anaconda3/lib/python3.7/site-packages/sklearn/linear_model/logistic.py:432: FutureWarning: Default solver will be changed to 'lbfgs' in 0.22. Specify a solver to silence this warning.\n",
      "  FutureWarning)\n",
      "/Users/kittyguz/opt/anaconda3/lib/python3.7/site-packages/sklearn/linear_model/logistic.py:469: FutureWarning: Default multi_class will be changed to 'auto' in 0.22. Specify the multi_class option to silence this warning.\n",
      "  \"this warning.\", FutureWarning)\n",
      "/Users/kittyguz/opt/anaconda3/lib/python3.7/site-packages/sklearn/linear_model/logistic.py:432: FutureWarning: Default solver will be changed to 'lbfgs' in 0.22. Specify a solver to silence this warning.\n",
      "  FutureWarning)\n",
      "/Users/kittyguz/opt/anaconda3/lib/python3.7/site-packages/sklearn/linear_model/logistic.py:469: FutureWarning: Default multi_class will be changed to 'auto' in 0.22. Specify the multi_class option to silence this warning.\n",
      "  \"this warning.\", FutureWarning)\n",
      "/Users/kittyguz/opt/anaconda3/lib/python3.7/site-packages/sklearn/linear_model/logistic.py:432: FutureWarning: Default solver will be changed to 'lbfgs' in 0.22. Specify a solver to silence this warning.\n",
      "  FutureWarning)\n",
      "/Users/kittyguz/opt/anaconda3/lib/python3.7/site-packages/sklearn/linear_model/logistic.py:469: FutureWarning: Default multi_class will be changed to 'auto' in 0.22. Specify the multi_class option to silence this warning.\n",
      "  \"this warning.\", FutureWarning)\n",
      "/Users/kittyguz/opt/anaconda3/lib/python3.7/site-packages/sklearn/linear_model/logistic.py:432: FutureWarning: Default solver will be changed to 'lbfgs' in 0.22. Specify a solver to silence this warning.\n",
      "  FutureWarning)\n",
      "/Users/kittyguz/opt/anaconda3/lib/python3.7/site-packages/sklearn/linear_model/logistic.py:469: FutureWarning: Default multi_class will be changed to 'auto' in 0.22. Specify the multi_class option to silence this warning.\n",
      "  \"this warning.\", FutureWarning)\n",
      "/Users/kittyguz/opt/anaconda3/lib/python3.7/site-packages/sklearn/model_selection/_split.py:657: Warning: The least populated class in y has only 1 members, which is too few. The minimum number of members in any class cannot be less than n_splits=5.\n",
      "  % (min_groups, self.n_splits)), Warning)\n"
     ]
    },
    {
     "name": "stdout",
     "output_type": "stream",
     "text": [
      "model_name\n",
      "LinearSVC                 0.530929\n",
      "LogisticRegression        0.507719\n",
      "MultinomialNB             0.483223\n",
      "RandomForestClassifier    0.295598\n",
      "SGDClassifier             0.527763\n",
      "Name: accuracy, dtype: float64\n"
     ]
    },
    {
     "data": {
      "image/png": "[encoded data removed]",
      "text/plain": [
       "<Figure size 432x288 with 1 Axes>"
      ]
     },
     "metadata": {
      "needs_background": "light"
     },
     "output_type": "display_data"
    },
    {
     "name": "stderr",
     "output_type": "stream",
     "text": [
      "/Users/kittyguz/opt/anaconda3/lib/python3.7/site-packages/sklearn/model_selection/_split.py:657: Warning: The least populated class in y has only 1 members, which is too few. The minimum number of members in any class cannot be less than n_splits=5.\n",
      "  % (min_groups, self.n_splits)), Warning)\n",
      "/Users/kittyguz/opt/anaconda3/lib/python3.7/site-packages/sklearn/model_selection/_split.py:657: Warning: The least populated class in y has only 1 members, which is too few. The minimum number of members in any class cannot be less than n_splits=5.\n",
      "  % (min_groups, self.n_splits)), Warning)\n",
      "/Users/kittyguz/opt/anaconda3/lib/python3.7/site-packages/sklearn/model_selection/_split.py:657: Warning: The least populated class in y has only 1 members, which is too few. The minimum number of members in any class cannot be less than n_splits=5.\n",
      "  % (min_groups, self.n_splits)), Warning)\n",
      "/Users/kittyguz/opt/anaconda3/lib/python3.7/site-packages/sklearn/model_selection/_split.py:657: Warning: The least populated class in y has only 1 members, which is too few. The minimum number of members in any class cannot be less than n_splits=5.\n",
      "  % (min_groups, self.n_splits)), Warning)\n",
      "/Users/kittyguz/opt/anaconda3/lib/python3.7/site-packages/sklearn/linear_model/logistic.py:432: FutureWarning: Default solver will be changed to 'lbfgs' in 0.22. Specify a solver to silence this warning.\n",
      "  FutureWarning)\n",
      "/Users/kittyguz/opt/anaconda3/lib/python3.7/site-packages/sklearn/linear_model/logistic.py:469: FutureWarning: Default multi_class will be changed to 'auto' in 0.22. Specify the multi_class option to silence this warning.\n",
      "  \"this warning.\", FutureWarning)\n",
      "/Users/kittyguz/opt/anaconda3/lib/python3.7/site-packages/sklearn/linear_model/logistic.py:432: FutureWarning: Default solver will be changed to 'lbfgs' in 0.22. Specify a solver to silence this warning.\n",
      "  FutureWarning)\n",
      "/Users/kittyguz/opt/anaconda3/lib/python3.7/site-packages/sklearn/linear_model/logistic.py:469: FutureWarning: Default multi_class will be changed to 'auto' in 0.22. Specify the multi_class option to silence this warning.\n",
      "  \"this warning.\", FutureWarning)\n",
      "/Users/kittyguz/opt/anaconda3/lib/python3.7/site-packages/sklearn/linear_model/logistic.py:432: FutureWarning: Default solver will be changed to 'lbfgs' in 0.22. Specify a solver to silence this warning.\n",
      "  FutureWarning)\n",
      "/Users/kittyguz/opt/anaconda3/lib/python3.7/site-packages/sklearn/linear_model/logistic.py:469: FutureWarning: Default multi_class will be changed to 'auto' in 0.22. Specify the multi_class option to silence this warning.\n",
      "  \"this warning.\", FutureWarning)\n",
      "/Users/kittyguz/opt/anaconda3/lib/python3.7/site-packages/sklearn/linear_model/logistic.py:432: FutureWarning: Default solver will be changed to 'lbfgs' in 0.22. Specify a solver to silence this warning.\n",
      "  FutureWarning)\n",
      "/Users/kittyguz/opt/anaconda3/lib/python3.7/site-packages/sklearn/linear_model/logistic.py:469: FutureWarning: Default multi_class will be changed to 'auto' in 0.22. Specify the multi_class option to silence this warning.\n",
      "  \"this warning.\", FutureWarning)\n",
      "/Users/kittyguz/opt/anaconda3/lib/python3.7/site-packages/sklearn/linear_model/logistic.py:432: FutureWarning: Default solver will be changed to 'lbfgs' in 0.22. Specify a solver to silence this warning.\n",
      "  FutureWarning)\n",
      "/Users/kittyguz/opt/anaconda3/lib/python3.7/site-packages/sklearn/linear_model/logistic.py:469: FutureWarning: Default multi_class will be changed to 'auto' in 0.22. Specify the multi_class option to silence this warning.\n",
      "  \"this warning.\", FutureWarning)\n",
      "/Users/kittyguz/opt/anaconda3/lib/python3.7/site-packages/sklearn/model_selection/_split.py:657: Warning: The least populated class in y has only 1 members, which is too few. The minimum number of members in any class cannot be less than n_splits=5.\n",
      "  % (min_groups, self.n_splits)), Warning)\n"
     ]
    },
    {
     "name": "stdout",
     "output_type": "stream",
     "text": [
      "model_name\n",
      "LinearSVC                 0.515567\n",
      "LogisticRegression        0.464238\n",
      "MultinomialNB             0.473486\n",
      "RandomForestClassifier    0.422727\n",
      "SGDClassifier             0.453559\n",
      "Name: accuracy, dtype: float64\n"
     ]
    },
    {
     "data": {
      "image/png": "[encoded data removed]",
      "text/plain": [
       "<Figure size 432x288 with 1 Axes>"
      ]
     },
     "metadata": {
      "needs_background": "light"
     },
     "output_type": "display_data"
    }
   ],
   "source": [
    "#plot for augmented data\n",
    "plot_generator(augmented_data)\n",
    "\n",
    "#plot for raw data\n",
    "plot_generator(raw_data)"
   ]
  },
  {
   "cell_type": "code",
   "execution_count": null,
   "metadata": {},
   "outputs": [],
   "source": []
  }
 ],
 "metadata": {
  "kernelspec": {
   "display_name": "Python 3",
   "language": "python",
   "name": "python3"
  },
  "language_info": {
   "codemirror_mode": {
    "name": "ipython",
    "version": 3
   },
   "file_extension": ".py",
   "mimetype": "text/x-python",
   "name": "python",
   "nbconvert_exporter": "python",
   "pygments_lexer": "ipython3",
   "version": "3.7.4"
  }
 },
 "nbformat": 4,
 "nbformat_minor": 2
}
