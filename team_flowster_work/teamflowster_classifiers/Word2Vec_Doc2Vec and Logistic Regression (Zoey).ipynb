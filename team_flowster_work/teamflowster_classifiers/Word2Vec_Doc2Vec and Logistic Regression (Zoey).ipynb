{
 "cells": [
  {
   "cell_type": "code",
   "execution_count": 1,
   "metadata": {},
   "outputs": [
    {
     "name": "stderr",
     "output_type": "stream",
     "text": [
      "C:\\Users\\zoeyl\\Anaconda3\\lib\\site-packages\\tqdm\\std.py:668: FutureWarning: The Panel class is removed from pandas. Accessing it from the top-level namespace will also be removed in the next version\n",
      "  from pandas import Panel\n",
      "[nltk_data] Downloading package stopwords to\n",
      "[nltk_data]     C:\\Users\\zoeyl\\AppData\\Roaming\\nltk_data...\n",
      "[nltk_data]   Package stopwords is already up-to-date!\n"
     ]
    }
   ],
   "source": [
    "import pandas as pd\n",
    "import numpy as np\n",
    "from tqdm import tqdm\n",
    "tqdm.pandas(desc=\"progress-bar\")\n",
    "from gensim.models import Doc2Vec\n",
    "from sklearn import utils\n",
    "from sklearn.model_selection import train_test_split\n",
    "import gensim\n",
    "from sklearn.linear_model import LogisticRegression\n",
    "from gensim.models.doc2vec import TaggedDocument\n",
    "import re\n",
    "import seaborn as sns\n",
    "import matplotlib.pyplot as plt\n",
    "from textblob import TextBlob\n",
    "from nltk.corpus import stopwords\n",
    "import nltk\n",
    "nltk.download('stopwords')\n",
    "stop = stopwords.words('english')\n",
    "from sklearn.metrics import classification_report"
   ]
  },
  {
   "cell_type": "code",
   "execution_count": 2,
   "metadata": {},
   "outputs": [
    {
     "data": {
      "text/html": [
       "<div>\n",
       "<style scoped>\n",
       "    .dataframe tbody tr th:only-of-type {\n",
       "        vertical-align: middle;\n",
       "    }\n",
       "\n",
       "    .dataframe tbody tr th {\n",
       "        vertical-align: top;\n",
       "    }\n",
       "\n",
       "    .dataframe thead th {\n",
       "        text-align: right;\n",
       "    }\n",
       "</style>\n",
       "<table border=\"1\" class=\"dataframe\">\n",
       "  <thead>\n",
       "    <tr style=\"text-align: right;\">\n",
       "      <th></th>\n",
       "      <th>Unnamed: 0</th>\n",
       "      <th>Topic Title</th>\n",
       "      <th>Category</th>\n",
       "      <th>Tags</th>\n",
       "      <th>Author</th>\n",
       "      <th>Leading Comment</th>\n",
       "      <th>Likes</th>\n",
       "      <th>Views</th>\n",
       "      <th>Replies</th>\n",
       "    </tr>\n",
       "  </thead>\n",
       "  <tbody>\n",
       "    <tr>\n",
       "      <td>0</td>\n",
       "      <td>0</td>\n",
       "      <td>About the Financial Management category</td>\n",
       "      <td>Financial Management</td>\n",
       "      <td>[]</td>\n",
       "      <td>Kane</td>\n",
       "      <td>Have questions about Financial Management? Thi...</td>\n",
       "      <td>0</td>\n",
       "      <td>0</td>\n",
       "      <td>0</td>\n",
       "    </tr>\n",
       "    <tr>\n",
       "      <td>1</td>\n",
       "      <td>1</td>\n",
       "      <td>Unit cost allowance for prep services</td>\n",
       "      <td>Financial Management</td>\n",
       "      <td>[]</td>\n",
       "      <td>KeithH</td>\n",
       "      <td>Hi!  For those that are using prep centers, ho...</td>\n",
       "      <td>1</td>\n",
       "      <td>23</td>\n",
       "      <td>2</td>\n",
       "    </tr>\n",
       "    <tr>\n",
       "      <td>2</td>\n",
       "      <td>2</td>\n",
       "      <td>Unit cost allowance for prep services</td>\n",
       "      <td>Financial Management</td>\n",
       "      <td>[]</td>\n",
       "      <td>KeithH</td>\n",
       "      <td>We are currently paying for prep and packaging...</td>\n",
       "      <td>1</td>\n",
       "      <td>23</td>\n",
       "      <td>2</td>\n",
       "    </tr>\n",
       "    <tr>\n",
       "      <td>3</td>\n",
       "      <td>3</td>\n",
       "      <td>Unit cost allowance for prep services</td>\n",
       "      <td>Financial Management</td>\n",
       "      <td>[]</td>\n",
       "      <td>KeithH</td>\n",
       "      <td>$0.90/unit for a single seems very high if you...</td>\n",
       "      <td>1</td>\n",
       "      <td>23</td>\n",
       "      <td>2</td>\n",
       "    </tr>\n",
       "    <tr>\n",
       "      <td>4</td>\n",
       "      <td>4</td>\n",
       "      <td>Cashback cards for non US citizens?</td>\n",
       "      <td>Financial Management</td>\n",
       "      <td>[]</td>\n",
       "      <td>Lazar</td>\n",
       "      <td>When speaking about cashback cards,I hear peop...</td>\n",
       "      <td>0</td>\n",
       "      <td>149</td>\n",
       "      <td>2</td>\n",
       "    </tr>\n",
       "    <tr>\n",
       "      <td>5</td>\n",
       "      <td>5</td>\n",
       "      <td>Cashback cards for non US citizens?</td>\n",
       "      <td>Financial Management</td>\n",
       "      <td>[]</td>\n",
       "      <td>Lazar</td>\n",
       "      <td>That’s a good question - anyone here have any ...</td>\n",
       "      <td>0</td>\n",
       "      <td>149</td>\n",
       "      <td>2</td>\n",
       "    </tr>\n",
       "    <tr>\n",
       "      <td>6</td>\n",
       "      <td>6</td>\n",
       "      <td>Cashback cards for non US citizens?</td>\n",
       "      <td>Financial Management</td>\n",
       "      <td>[]</td>\n",
       "      <td>Lazar</td>\n",
       "      <td>\\n\\n\\n LizD:\\n\\nI would definitely do a Google...</td>\n",
       "      <td>0</td>\n",
       "      <td>149</td>\n",
       "      <td>2</td>\n",
       "    </tr>\n",
       "    <tr>\n",
       "      <td>7</td>\n",
       "      <td>7</td>\n",
       "      <td>Purchase Orders for Bundles</td>\n",
       "      <td>Financial Management</td>\n",
       "      <td>['Accounting &amp; Bookkeeping']</td>\n",
       "      <td>Mitch</td>\n",
       "      <td>Good Morning,\\nWhat does everyone use to creat...</td>\n",
       "      <td>4</td>\n",
       "      <td>146</td>\n",
       "      <td>3</td>\n",
       "    </tr>\n",
       "    <tr>\n",
       "      <td>8</td>\n",
       "      <td>8</td>\n",
       "      <td>Purchase Orders for Bundles</td>\n",
       "      <td>Financial Management</td>\n",
       "      <td>['Accounting &amp; Bookkeeping']</td>\n",
       "      <td>Mitch</td>\n",
       "      <td>@APlusSeller I’m not sure if I am understandin...</td>\n",
       "      <td>4</td>\n",
       "      <td>146</td>\n",
       "      <td>3</td>\n",
       "    </tr>\n",
       "    <tr>\n",
       "      <td>9</td>\n",
       "      <td>9</td>\n",
       "      <td>Purchase Orders for Bundles</td>\n",
       "      <td>Financial Management</td>\n",
       "      <td>['Accounting &amp; Bookkeeping']</td>\n",
       "      <td>Mitch</td>\n",
       "      <td>@Mitch That’s what I’m asking. Is there a soft...</td>\n",
       "      <td>4</td>\n",
       "      <td>146</td>\n",
       "      <td>3</td>\n",
       "    </tr>\n",
       "  </tbody>\n",
       "</table>\n",
       "</div>"
      ],
      "text/plain": [
       "   Unnamed: 0                              Topic Title              Category  \\\n",
       "0           0  About the Financial Management category  Financial Management   \n",
       "1           1    Unit cost allowance for prep services  Financial Management   \n",
       "2           2    Unit cost allowance for prep services  Financial Management   \n",
       "3           3    Unit cost allowance for prep services  Financial Management   \n",
       "4           4      Cashback cards for non US citizens?  Financial Management   \n",
       "5           5      Cashback cards for non US citizens?  Financial Management   \n",
       "6           6      Cashback cards for non US citizens?  Financial Management   \n",
       "7           7              Purchase Orders for Bundles  Financial Management   \n",
       "8           8              Purchase Orders for Bundles  Financial Management   \n",
       "9           9              Purchase Orders for Bundles  Financial Management   \n",
       "\n",
       "                           Tags  Author  \\\n",
       "0                            []    Kane   \n",
       "1                            []  KeithH   \n",
       "2                            []  KeithH   \n",
       "3                            []  KeithH   \n",
       "4                            []   Lazar   \n",
       "5                            []   Lazar   \n",
       "6                            []   Lazar   \n",
       "7  ['Accounting & Bookkeeping']   Mitch   \n",
       "8  ['Accounting & Bookkeeping']   Mitch   \n",
       "9  ['Accounting & Bookkeeping']   Mitch   \n",
       "\n",
       "                                     Leading Comment  Likes  Views  Replies  \n",
       "0  Have questions about Financial Management? Thi...      0      0        0  \n",
       "1  Hi!  For those that are using prep centers, ho...      1     23        2  \n",
       "2  We are currently paying for prep and packaging...      1     23        2  \n",
       "3  $0.90/unit for a single seems very high if you...      1     23        2  \n",
       "4  When speaking about cashback cards,I hear peop...      0    149        2  \n",
       "5  That’s a good question - anyone here have any ...      0    149        2  \n",
       "6  \\n\\n\\n LizD:\\n\\nI would definitely do a Google...      0    149        2  \n",
       "7  Good Morning,\\nWhat does everyone use to creat...      4    146        3  \n",
       "8  @APlusSeller I’m not sure if I am understandin...      4    146        3  \n",
       "9  @Mitch That’s what I’m asking. Is there a soft...      4    146        3  "
      ]
     },
     "execution_count": 2,
     "metadata": {},
     "output_type": "execute_result"
    }
   ],
   "source": [
    "df = pd.read_csv('augmented_data_wcomment.csv')\n",
    "#df = df[['Consumer complaint narrative','Product']]\n",
    "#df = df[pd.notnull(df['Consumer complaint narrative'])]\n",
    "#df.rename(columns = {'Consumer complaint narrative':'narrative'}, inplace = True)\n",
    "df.head(10)"
   ]
  },
  {
   "cell_type": "code",
   "execution_count": 3,
   "metadata": {},
   "outputs": [
    {
     "data": {
      "text/plain": [
       "(950, 9)"
      ]
     },
     "execution_count": 3,
     "metadata": {},
     "output_type": "execute_result"
    }
   ],
   "source": [
    "df.shape"
   ]
  },
  {
   "cell_type": "markdown",
   "metadata": {},
   "source": [
    "## Tokenization"
   ]
  },
  {
   "cell_type": "code",
   "execution_count": 4,
   "metadata": {},
   "outputs": [],
   "source": [
    "df['Tokens'] = df['Category'] + ' ' + df['Topic Title'] + ' ' + df['Tags'] + ' ' + df['Leading Comment']"
   ]
  },
  {
   "cell_type": "code",
   "execution_count": 5,
   "metadata": {},
   "outputs": [
    {
     "data": {
      "text/plain": [
       "0    Financial Management About the Financial Manag...\n",
       "1    Financial Management Unit cost allowance for p...\n",
       "2    Financial Management Unit cost allowance for p...\n",
       "3    Financial Management Unit cost allowance for p...\n",
       "4    Financial Management Cashback cards for non US...\n",
       "Name: Tokens, dtype: object"
      ]
     },
     "execution_count": 5,
     "metadata": {},
     "output_type": "execute_result"
    }
   ],
   "source": [
    "df['Tokens'] = df['Tokens'].str.replace('  ', ' ')\n",
    "df['Tokens'].head()"
   ]
  },
  {
   "cell_type": "code",
   "execution_count": 6,
   "metadata": {},
   "outputs": [
    {
     "data": {
      "text/plain": [
       "'Financial Management Unit cost allowance for prep services [] Hi! For those that are using prep centers, how much cost do you add on per unit to account for all expenses for prepping? Prep center we are trying to use charges for receiving, per unit prepping and boxes. TIA'"
      ]
     },
     "execution_count": 6,
     "metadata": {},
     "output_type": "execute_result"
    }
   ],
   "source": [
    "df['Tokens'][1]"
   ]
  },
  {
   "cell_type": "code",
   "execution_count": 7,
   "metadata": {},
   "outputs": [],
   "source": [
    "df.index = range(950)"
   ]
  },
  {
   "cell_type": "code",
   "execution_count": 8,
   "metadata": {},
   "outputs": [
    {
     "data": {
      "text/plain": [
       "57570"
      ]
     },
     "execution_count": 8,
     "metadata": {},
     "output_type": "execute_result"
    }
   ],
   "source": [
    "df['Tokens'].apply(lambda x: len(str(x).split(' '))).sum()"
   ]
  },
  {
   "cell_type": "code",
   "execution_count": 9,
   "metadata": {},
   "outputs": [
    {
     "data": {
      "image/png": "[encoded data removed]",
      "text/plain": [
       "<Figure size 864x288 with 1 Axes>"
      ]
     },
     "metadata": {
      "needs_background": "light"
     },
     "output_type": "display_data"
    }
   ],
   "source": [
    "cnt_pro = df['Category'].value_counts()\n",
    "\n",
    "plt.figure(figsize=(12,4))\n",
    "sns.barplot(cnt_pro.index, cnt_pro.values, alpha=0.8)\n",
    "plt.ylabel('Number of Occurrences', fontsize=12)\n",
    "plt.xlabel('Category', fontsize=12)\n",
    "plt.xticks(rotation=90)\n",
    "plt.show();"
   ]
  },
  {
   "cell_type": "markdown",
   "metadata": {},
   "source": [
    "Let's have a look a few examples of Tokens and its associated category."
   ]
  },
  {
   "cell_type": "code",
   "execution_count": 10,
   "metadata": {},
   "outputs": [],
   "source": [
    "def print_token(index):\n",
    "    example = df[df.index == index][['Tokens', 'Category']].values[0]\n",
    "    if len(example) > 0:\n",
    "        print(example[0])\n",
    "        print('Category:', example[1])"
   ]
  },
  {
   "cell_type": "code",
   "execution_count": 11,
   "metadata": {},
   "outputs": [
    {
     "name": "stdout",
     "output_type": "stream",
     "text": [
      "Financial Management Sales tax ['Accounting & Bookkeeping'] We firmly believe that the marketplaces should be doing filing for sellers of that size and that you should only have to file in your home state. That said, what we believe doesn’t really matter and you shoul dof course consult with your accountant.\n",
      "There are software tools to help (TaxJar, Avalara, etc), and accountants to file for you in the various states. However, there isn’t a super inexpensive way to do this.\n",
      "Category: Financial Management\n"
     ]
    }
   ],
   "source": [
    "print_token(12)"
   ]
  },
  {
   "cell_type": "markdown",
   "metadata": {},
   "source": [
    "## Text Preprocessing"
   ]
  },
  {
   "cell_type": "code",
   "execution_count": 12,
   "metadata": {},
   "outputs": [],
   "source": [
    "from bs4 import BeautifulSoup\n",
    "def cleanText(text):\n",
    "    text=str(text)\n",
    "    text = BeautifulSoup(text, \"lxml\").text\n",
    "    text = re.sub(r'\\|\\|\\|', r' ', text) \n",
    "    text = re.sub(r'http\\S+', r'<URL>', text)\n",
    "    text = text.lower()\n",
    "    text = text.replace('x', '')\n",
    "    return text\n",
    "\n",
    "def data_cleaning(data, column):\n",
    "    # Change to lowercase:\n",
    "    data[column] = data[column].apply(lambda x: \" \".join(x.lower() for x in str(x).split()))\n",
    "    # Removing Punctuation:\n",
    "    data[column] = data[column].str.replace('[^\\w\\s]','')\n",
    "    # Removal of Stop Words:\n",
    "    data[column] = data[column].apply(lambda x: \" \".join(x for x in str(x).split() if x not in stop))\n",
    "    # Removing extra space:\n",
    "    data[column] = data[column].str.strip()\n",
    "    \n",
    "df['Tokens'] = df['Tokens'].apply(cleanText)\n",
    "data_cleaning(df, 'Tokens')"
   ]
  },
  {
   "cell_type": "code",
   "execution_count": 13,
   "metadata": {},
   "outputs": [
    {
     "data": {
      "text/plain": [
       "'product sourcing top 10 tips grow business rapidly purchasing working amazon seller last 6 years want tips selling growing business fastly like grow business tips please read carefully top 10 amazon selling tips optimize product details search use competitive pricing take professional product images try buy bo work continually improve performance consider using fulfillment amazon follow amazons rules leverage product reviews advantage make customer service top priority manage amazon inventory proactively'"
      ]
     },
     "execution_count": 13,
     "metadata": {},
     "output_type": "execute_result"
    }
   ],
   "source": [
    "df['Tokens'][30]"
   ]
  },
  {
   "cell_type": "markdown",
   "metadata": {},
   "source": [
    "### Train/test split of 70/30."
   ]
  },
  {
   "cell_type": "code",
   "execution_count": 14,
   "metadata": {},
   "outputs": [],
   "source": [
    "train, test = train_test_split(df, test_size=0.3, random_state=42)"
   ]
  },
  {
   "cell_type": "code",
   "execution_count": 15,
   "metadata": {},
   "outputs": [],
   "source": [
    "import nltk\n",
    "from nltk.corpus import stopwords\n",
    "def tokenize_text(text):\n",
    "    tokens = []\n",
    "    for sent in nltk.sent_tokenize(text):\n",
    "        for word in nltk.word_tokenize(sent):\n",
    "            if len(word) < 2:\n",
    "                continue\n",
    "            tokens.append(word.lower())\n",
    "    return tokens"
   ]
  },
  {
   "cell_type": "code",
   "execution_count": 16,
   "metadata": {},
   "outputs": [],
   "source": [
    "train_tagged = train.apply(\n",
    "    lambda r: TaggedDocument(words=tokenize_text(r['Tokens']), tags=[r.Category]), axis=1)\n",
    "test_tagged = test.apply(\n",
    "    lambda r: TaggedDocument(words=tokenize_text(r['Tokens']), tags=[r.Category]), axis=1)"
   ]
  },
  {
   "cell_type": "code",
   "execution_count": 17,
   "metadata": {},
   "outputs": [
    {
     "data": {
      "text/plain": [
       "TaggedDocument(words=['fulfillment', 'ship', 'products', 'ltl', 'spd', 'shipping', 'shipments', 'send', 'amazon', 'usually', 'try', 'build', 'sample', 'order', 'see', 'makes', 'sense', 'rule', 'thumb', 'weve', 'found', 'doesnt', 'always', 'make', 'sense', 'palletize', 'shipments', 'hit', '1100', 'lb', 'mark', 'amazon', 'make', 'us', 'break', 'locations', 'thing', 'consider', 'pallets', 'longer', 'shipping', 'time', 'pallets', 'also', 'take', 'longer', 'inventory', 'get', 'unloaded', 'active', 'especially', 'q4', 'new', 'fulfillment', 'locations'], tags=['Fulfillment'])"
      ]
     },
     "execution_count": 17,
     "metadata": {},
     "output_type": "execute_result"
    }
   ],
   "source": [
    "train_tagged.values[30]"
   ]
  },
  {
   "cell_type": "markdown",
   "metadata": {},
   "source": [
    "## Trainning the Model"
   ]
  },
  {
   "cell_type": "markdown",
   "metadata": {},
   "source": [
    "We set the minimum word count to 2 in order to discard words with very few occurrences."
   ]
  },
  {
   "cell_type": "code",
   "execution_count": 18,
   "metadata": {},
   "outputs": [],
   "source": [
    "import multiprocessing\n",
    "\n",
    "cores = multiprocessing.cpu_count()"
   ]
  },
  {
   "cell_type": "code",
   "execution_count": 19,
   "metadata": {},
   "outputs": [
    {
     "name": "stderr",
     "output_type": "stream",
     "text": [
      "100%|████████████████████████████████████████████████████████████████████████████████████████| 665/665 [00:00<?, ?it/s]\n"
     ]
    }
   ],
   "source": [
    "model_dbow = Doc2Vec(dm=0, vector_size=300, negative=5, hs=0, min_count=2, sample = 0, workers=cores)\n",
    "model_dbow.build_vocab([x for x in tqdm(train_tagged.values)])"
   ]
  },
  {
   "cell_type": "markdown",
   "metadata": {},
   "source": [
    "Let’s train a Word2Vec model on our own corpus first."
   ]
  },
  {
   "cell_type": "code",
   "execution_count": 20,
   "metadata": {},
   "outputs": [
    {
     "name": "stdout",
     "output_type": "stream",
     "text": [
      "Wall time: 15.2 s\n"
     ]
    },
    {
     "data": {
      "text/plain": [
       "(595137, 648320)"
      ]
     },
     "execution_count": 20,
     "metadata": {},
     "output_type": "execute_result"
    }
   ],
   "source": [
    "%%time\n",
    "\n",
    "tokens = df['Tokens'].apply(lambda x: x.split())\n",
    "\n",
    "model_w2v = gensim.models.Word2Vec(\n",
    "            tokens,\n",
    "            size=1977, # desired no. of features/independent variables\n",
    "            window=2, # context window size\n",
    "            min_count=1, # Ignores all words with total frequency lower than 2.                                  \n",
    "            sg = 1, # 1 for skip-gram model\n",
    "            hs = 0,\n",
    "            negative = 10, # for negative sampling\n",
    "            workers= 32, # no.of cores\n",
    "            seed = 34\n",
    ") \n",
    "\n",
    "model_w2v.train(tokens, total_examples= len(df['Tokens']), epochs=20)"
   ]
  },
  {
   "cell_type": "code",
   "execution_count": 21,
   "metadata": {},
   "outputs": [],
   "source": [
    "def vec_for_learning(model, tagged_docs):\n",
    "    sents = tagged_docs.values\n",
    "    targets, regressors = zip(*[(doc.tags[0], model.infer_vector(doc.words, steps=20)) for doc in sents])\n",
    "    return targets, regressors"
   ]
  },
  {
   "cell_type": "code",
   "execution_count": 22,
   "metadata": {},
   "outputs": [],
   "source": [
    "y_train, X_train = vec_for_learning(model_dbow, train_tagged)\n",
    "y_test, X_test = vec_for_learning(model_dbow, test_tagged)"
   ]
  },
  {
   "cell_type": "code",
   "execution_count": 23,
   "metadata": {},
   "outputs": [
    {
     "name": "stderr",
     "output_type": "stream",
     "text": [
      "C:\\Users\\zoeyl\\Anaconda3\\lib\\site-packages\\sklearn\\linear_model\\logistic.py:432: FutureWarning: Default solver will be changed to 'lbfgs' in 0.22. Specify a solver to silence this warning.\n",
      "  FutureWarning)\n",
      "C:\\Users\\zoeyl\\Anaconda3\\lib\\site-packages\\sklearn\\linear_model\\logistic.py:469: FutureWarning: Default multi_class will be changed to 'auto' in 0.22. Specify the multi_class option to silence this warning.\n",
      "  \"this warning.\", FutureWarning)\n"
     ]
    }
   ],
   "source": [
    "logreg = LogisticRegression(n_jobs=1, C=1e5)\n",
    "logreg.fit(X_train, y_train)\n",
    "y_pred = logreg.predict(X_test)"
   ]
  },
  {
   "cell_type": "code",
   "execution_count": 24,
   "metadata": {},
   "outputs": [
    {
     "name": "stdout",
     "output_type": "stream",
     "text": [
      "Testing accuracy 0.18947368421052632\n",
      "Testing F1 score: 0.17324705548460337\n",
      "                        precision    recall  f1-score   support\n",
      "\n",
      "       Amazon Specific       0.20      0.21      0.21        66\n",
      "  Financial Management       0.00      0.00      0.00         6\n",
      "     Flowster-specific       0.24      0.25      0.24        57\n",
      "           Fulfillment       0.29      0.11      0.16        18\n",
      "       Human Resources       0.12      0.10      0.11        42\n",
      "            Management       0.00      0.00      0.00        13\n",
      "           Misc Topics       0.00      0.00      0.00         6\n",
      "      Product Sourcing       0.19      0.34      0.25        59\n",
      "      Software & Tools       0.00      0.00      0.00         8\n",
      "       Traffic Sources       0.00      0.00      0.00         7\n",
      "eCommerce Marketplaces       0.00      0.00      0.00         3\n",
      "\n",
      "              accuracy                           0.19       285\n",
      "             macro avg       0.09      0.09      0.09       285\n",
      "          weighted avg       0.17      0.19      0.17       285\n",
      "\n"
     ]
    },
    {
     "name": "stderr",
     "output_type": "stream",
     "text": [
      "C:\\Users\\zoeyl\\Anaconda3\\lib\\site-packages\\sklearn\\metrics\\classification.py:1437: UndefinedMetricWarning: F-score is ill-defined and being set to 0.0 in labels with no predicted samples.\n",
      "  'precision', 'predicted', average, warn_for)\n",
      "C:\\Users\\zoeyl\\Anaconda3\\lib\\site-packages\\sklearn\\metrics\\classification.py:1437: UndefinedMetricWarning: Precision and F-score are ill-defined and being set to 0.0 in labels with no predicted samples.\n",
      "  'precision', 'predicted', average, warn_for)\n"
     ]
    }
   ],
   "source": [
    "from sklearn.metrics import accuracy_score, f1_score\n",
    "\n",
    "print('Testing accuracy %s' % accuracy_score(y_test, y_pred))\n",
    "print('Testing F1 score: {}'.format(f1_score(y_test, y_pred, average='weighted')))\n",
    "print(classification_report(y_test, y_pred))"
   ]
  },
  {
   "cell_type": "markdown",
   "metadata": {},
   "source": [
    "#### DBOW"
   ]
  },
  {
   "cell_type": "markdown",
   "metadata": {},
   "source": [
    "Training a Doc2Vec model is rather straight forward in Gensim, we initialize the model and train for 30 epochs:"
   ]
  },
  {
   "cell_type": "code",
   "execution_count": 25,
   "metadata": {},
   "outputs": [
    {
     "name": "stderr",
     "output_type": "stream",
     "text": [
      "100%|████████████████████████████████████████████████████████████████████████████| 665/665 [00:00<00:00, 667116.04it/s]\n",
      "100%|████████████████████████████████████████████████████████████████████████████| 665/665 [00:00<00:00, 666478.41it/s]\n",
      "100%|████████████████████████████████████████████████████████████████████████████| 665/665 [00:00<00:00, 667116.04it/s]\n",
      "100%|████████████████████████████████████████████████████████████████████████████| 665/665 [00:00<00:00, 666797.07it/s]\n",
      "100%|████████████████████████████████████████████████████████████████████████████| 665/665 [00:00<00:00, 666637.71it/s]\n",
      "100%|████████████████████████████████████████████████████████████████████████████████████████| 665/665 [00:00<?, ?it/s]\n",
      "100%|████████████████████████████████████████████████████████████████████████████| 665/665 [00:00<00:00, 668555.17it/s]\n",
      "100%|████████████████████████████████████████████████████████████████████████████| 665/665 [00:00<00:00, 667116.04it/s]\n",
      "100%|████████████████████████████████████████████████████████████████████████████| 665/665 [00:00<00:00, 668555.17it/s]\n",
      "100%|████████████████████████████████████████████████████████████████████████████████████████| 665/665 [00:00<?, ?it/s]\n",
      "100%|████████████████████████████████████████████████████████████████████████████| 665/665 [00:00<00:00, 666160.06it/s]\n",
      "100%|████████████████████████████████████████████████████████████████████████████| 665/665 [00:00<00:00, 667275.64it/s]\n",
      "100%|████████████████████████████████████████████████████████████████████████████| 665/665 [00:00<00:00, 666956.52it/s]\n",
      "100%|████████████████████████████████████████████████████████████████████████████| 665/665 [00:00<00:00, 335040.50it/s]\n",
      "100%|████████████████████████████████████████████████████████████████████████████| 665/665 [00:00<00:00, 667914.79it/s]\n",
      "100%|████████████████████████████████████████████████████████████████████████████████████████| 665/665 [00:00<?, ?it/s]\n",
      "100%|████████████████████████████████████████████████████████████████████████████████████████| 665/665 [00:00<?, ?it/s]\n",
      "100%|████████████████████████████████████████████████████████████████████████████| 665/665 [00:00<00:00, 667275.64it/s]\n",
      "100%|████████████████████████████████████████████████████████████████████████████████████████| 665/665 [00:00<?, ?it/s]\n",
      "100%|████████████████████████████████████████████████████████████████████████████| 665/665 [00:00<00:00, 666637.71it/s]\n",
      "100%|████████████████████████████████████████████████████████████████████████████| 665/665 [00:00<00:00, 666319.20it/s]\n",
      "100%|████████████████████████████████████████████████████████████████████████████| 665/665 [00:00<00:00, 666797.07it/s]\n",
      "100%|████████████████████████████████████████████████████████████████████████████████████████| 665/665 [00:00<?, ?it/s]\n",
      "100%|████████████████████████████████████████████████████████████████████████████████████████| 665/665 [00:00<?, ?it/s]\n",
      "100%|████████████████████████████████████████████████████████████████████████████| 665/665 [00:00<00:00, 667435.31it/s]\n",
      "100%|████████████████████████████████████████████████████████████████████████████████████████| 665/665 [00:00<?, ?it/s]\n",
      "100%|████████████████████████████████████████████████████████████████████████████| 665/665 [00:00<00:00, 666956.52it/s]\n",
      "100%|████████████████████████████████████████████████████████████████████████████| 665/665 [00:00<00:00, 668555.17it/s]\n",
      "100%|████████████████████████████████████████████████████████████████████████████| 665/665 [00:00<00:00, 669357.37it/s]\n",
      "100%|████████████████████████████████████████████████████████████████████████████| 665/665 [00:00<00:00, 667275.64it/s]\n",
      "100%|████████████████████████████████████████████████████████████████████████████████████████| 665/665 [00:00<?, ?it/s]\n",
      "100%|████████████████████████████████████████████████████████████████████████████████████████| 665/665 [00:00<?, ?it/s]\n",
      "100%|████████████████████████████████████████████████████████████████████████████| 665/665 [00:00<00:00, 667595.06it/s]\n",
      "100%|████████████████████████████████████████████████████████████████████████████| 665/665 [00:00<00:00, 667116.04it/s]\n",
      "100%|████████████████████████████████████████████████████████████████████████████████████████| 665/665 [00:00<?, ?it/s]\n",
      "100%|████████████████████████████████████████████████████████████████████████████████████████| 665/665 [00:00<?, ?it/s]\n",
      "100%|████████████████████████████████████████████████████████████████████████████████████████| 665/665 [00:00<?, ?it/s]\n",
      "100%|████████████████████████████████████████████████████████████████████████████| 665/665 [00:00<00:00, 666637.71it/s]\n",
      "100%|████████████████████████████████████████████████████████████████████████████| 665/665 [00:00<00:00, 663940.05it/s]\n",
      "100%|████████████████████████████████████████████████████████████████████████████████████████| 665/665 [00:00<?, ?it/s]\n",
      "100%|████████████████████████████████████████████████████████████████████████████| 665/665 [00:00<00:00, 694697.92it/s]\n",
      "100%|████████████████████████████████████████████████████████████████████████████| 665/665 [00:00<00:00, 666319.20it/s]\n",
      "100%|████████████████████████████████████████████████████████████████████████████████████████| 665/665 [00:00<?, ?it/s]\n",
      "100%|████████████████████████████████████████████████████████████████████████████████████████| 665/665 [00:00<?, ?it/s]\n",
      "100%|████████████████████████████████████████████████████████████████████████████████████████| 665/665 [00:00<?, ?it/s]\n",
      "100%|████████████████████████████████████████████████████████████████████████████| 665/665 [00:00<00:00, 666478.41it/s]\n",
      "100%|████████████████████████████████████████████████████████████████████████████████████████| 665/665 [00:00<?, ?it/s]\n",
      "100%|████████████████████████████████████████████████████████████████████████████| 665/665 [00:00<00:00, 667435.31it/s]\n",
      "100%|████████████████████████████████████████████████████████████████████████████| 665/665 [00:00<00:00, 667595.06it/s]\n",
      "100%|████████████████████████████████████████████████████████████████████████████████████████| 665/665 [00:00<?, ?it/s]"
     ]
    },
    {
     "name": "stdout",
     "output_type": "stream",
     "text": [
      "Wall time: 2.25 s\n"
     ]
    },
    {
     "name": "stderr",
     "output_type": "stream",
     "text": [
      "\n"
     ]
    }
   ],
   "source": [
    "%%time\n",
    "for epoch in range(50):\n",
    "    model_dbow.train(utils.shuffle([x for x in tqdm(train_tagged.values)]), total_examples=len(train_tagged.values), epochs=1)\n",
    "    model_dbow.alpha -= 0.002\n",
    "    model_dbow.min_alpha = model_dbow.alpha"
   ]
  },
  {
   "cell_type": "markdown",
   "metadata": {},
   "source": [
    "### Buliding the final vector feature for the classifier and training Logistic Regression"
   ]
  },
  {
   "cell_type": "code",
   "execution_count": 26,
   "metadata": {},
   "outputs": [],
   "source": [
    "y_train, X_train = vec_for_learning(model_dbow, train_tagged)\n",
    "y_test, X_test = vec_for_learning(model_dbow, test_tagged)"
   ]
  },
  {
   "cell_type": "code",
   "execution_count": 27,
   "metadata": {},
   "outputs": [
    {
     "name": "stderr",
     "output_type": "stream",
     "text": [
      "C:\\Users\\zoeyl\\Anaconda3\\lib\\site-packages\\sklearn\\linear_model\\logistic.py:432: FutureWarning: Default solver will be changed to 'lbfgs' in 0.22. Specify a solver to silence this warning.\n",
      "  FutureWarning)\n",
      "C:\\Users\\zoeyl\\Anaconda3\\lib\\site-packages\\sklearn\\linear_model\\logistic.py:469: FutureWarning: Default multi_class will be changed to 'auto' in 0.22. Specify the multi_class option to silence this warning.\n",
      "  \"this warning.\", FutureWarning)\n"
     ]
    }
   ],
   "source": [
    "logreg = LogisticRegression(n_jobs=1, C=1e5)\n",
    "logreg.fit(X_train, y_train)\n",
    "y_pred = logreg.predict(X_test)"
   ]
  },
  {
   "cell_type": "code",
   "execution_count": 28,
   "metadata": {},
   "outputs": [
    {
     "name": "stdout",
     "output_type": "stream",
     "text": [
      "Testing accuracy 0.23859649122807017\n",
      "Testing F1 score: 0.2328825888797595\n",
      "                        precision    recall  f1-score   support\n",
      "\n",
      "       Amazon Specific       0.25      0.24      0.24        66\n",
      "  Financial Management       0.40      0.33      0.36         6\n",
      "     Flowster-specific       0.32      0.33      0.32        57\n",
      "           Fulfillment       0.40      0.11      0.17        18\n",
      "       Human Resources       0.23      0.17      0.19        42\n",
      "            Management       0.00      0.00      0.00        13\n",
      "           Misc Topics       0.33      0.17      0.22         6\n",
      "      Product Sourcing       0.19      0.31      0.24        59\n",
      "      Software & Tools       0.12      0.12      0.12         8\n",
      "       Traffic Sources       0.33      0.29      0.31         7\n",
      "eCommerce Marketplaces       0.00      0.00      0.00         3\n",
      "\n",
      "              accuracy                           0.24       285\n",
      "             macro avg       0.23      0.19      0.20       285\n",
      "          weighted avg       0.25      0.24      0.23       285\n",
      "\n"
     ]
    }
   ],
   "source": [
    "from sklearn.metrics import accuracy_score, f1_score\n",
    "\n",
    "print('Testing accuracy %s' % accuracy_score(y_test, y_pred))\n",
    "print('Testing F1 score: {}'.format(f1_score(y_test, y_pred, average='weighted')))\n",
    "print(classification_report(y_test, y_pred))"
   ]
  },
  {
   "cell_type": "markdown",
   "metadata": {},
   "source": [
    "#### Distributed Memory with Averaging"
   ]
  },
  {
   "cell_type": "code",
   "execution_count": 29,
   "metadata": {},
   "outputs": [
    {
     "name": "stderr",
     "output_type": "stream",
     "text": [
      "100%|████████████████████████████████████████████████████████████████████████████| 665/665 [00:00<00:00, 666000.99it/s]\n"
     ]
    }
   ],
   "source": [
    "model_dmm = Doc2Vec(dm=1, dm_mean=1, vector_size=300, window=10, negative=5, min_count=1, workers=5, alpha=0.065, min_alpha=0.065)\n",
    "model_dmm.build_vocab([x for x in tqdm(train_tagged.values)])"
   ]
  },
  {
   "cell_type": "code",
   "execution_count": 30,
   "metadata": {},
   "outputs": [
    {
     "name": "stderr",
     "output_type": "stream",
     "text": [
      "100%|████████████████████████████████████████████████████████████████████████████| 665/665 [00:00<00:00, 666637.71it/s]\n",
      "100%|████████████████████████████████████████████████████████████████████████████| 665/665 [00:00<00:00, 667914.79it/s]\n",
      "100%|████████████████████████████████████████████████████████████████████████████████████████| 665/665 [00:00<?, ?it/s]\n",
      "100%|████████████████████████████████████████████████████████████████████████████| 665/665 [00:00<00:00, 667275.64it/s]\n",
      "100%|████████████████████████████████████████████████████████████████████████████████████████| 665/665 [00:00<?, ?it/s]\n",
      "100%|████████████████████████████████████████████████████████████████████████████| 665/665 [00:00<00:00, 666956.52it/s]\n",
      "100%|████████████████████████████████████████████████████████████████████████████████████████| 665/665 [00:00<?, ?it/s]\n",
      "100%|████████████████████████████████████████████████████████████████████████████████████████| 665/665 [00:00<?, ?it/s]\n",
      "100%|████████████████████████████████████████████████████████████████████████████| 665/665 [00:00<00:00, 657833.06it/s]\n",
      "100%|████████████████████████████████████████████████████████████████████████████████████████| 665/665 [00:00<?, ?it/s]\n",
      "100%|████████████████████████████████████████████████████████████████████████████████████████| 665/665 [00:00<?, ?it/s]\n",
      "100%|████████████████████████████████████████████████████████████████████████████| 665/665 [00:00<00:00, 666000.99it/s]\n",
      "100%|████████████████████████████████████████████████████████████████████████████| 665/665 [00:00<00:00, 666956.52it/s]\n",
      "100%|████████████████████████████████████████████████████████████████████████████| 665/665 [00:00<00:00, 815559.11it/s]\n",
      "100%|████████████████████████████████████████████████████████████████████████████████████████| 665/665 [00:00<?, ?it/s]\n",
      "100%|████████████████████████████████████████████████████████████████████████████| 665/665 [00:00<00:00, 667275.64it/s]\n",
      "100%|████████████████████████████████████████████████████████████████████████████| 665/665 [00:00<00:00, 666000.99it/s]\n",
      "100%|████████████████████████████████████████████████████████████████████████████| 665/665 [00:00<00:00, 662835.59it/s]\n",
      "100%|████████████████████████████████████████████████████████████████████████████| 665/665 [00:00<00:00, 668715.45it/s]\n",
      "100%|████████████████████████████████████████████████████████████████████████████| 665/665 [00:00<00:00, 666637.71it/s]\n",
      "100%|████████████████████████████████████████████████████████████████████████████| 665/665 [00:00<00:00, 666160.06it/s]\n",
      "100%|████████████████████████████████████████████████████████████████████████████████████████| 665/665 [00:00<?, ?it/s]\n",
      "100%|████████████████████████████████████████████████████████████████████████████████████████| 665/665 [00:00<?, ?it/s]\n",
      "100%|████████████████████████████████████████████████████████████████████████████████████████| 665/665 [00:00<?, ?it/s]\n",
      "100%|████████████████████████████████████████████████████████████████████████████| 665/665 [00:00<00:00, 667116.04it/s]\n",
      "100%|████████████████████████████████████████████████████████████████████████████████████████| 665/665 [00:00<?, ?it/s]\n",
      "100%|████████████████████████████████████████████████████████████████████████████| 665/665 [00:00<00:00, 669839.62it/s]\n",
      "100%|████████████████████████████████████████████████████████████████████████████| 665/665 [00:00<00:00, 669518.04it/s]\n",
      "100%|████████████████████████████████████████████████████████████████████████████| 665/665 [00:00<00:00, 666797.07it/s]\n",
      "100%|████████████████████████████████████████████████████████████████████████████████████████| 665/665 [00:00<?, ?it/s]\n",
      "100%|████████████████████████████████████████████████████████████████████████████| 665/665 [00:00<00:00, 666478.41it/s]\n",
      "100%|████████████████████████████████████████████████████████████████████████████████████████| 665/665 [00:00<?, ?it/s]\n",
      "100%|████████████████████████████████████████████████████████████████████████████| 665/665 [00:00<00:00, 667116.04it/s]\n",
      "100%|████████████████████████████████████████████████████████████████████████████████████████| 665/665 [00:00<?, ?it/s]\n",
      "100%|████████████████████████████████████████████████████████████████████████████| 665/665 [00:00<00:00, 666160.06it/s]\n",
      "100%|████████████████████████████████████████████████████████████████████████████| 665/665 [00:00<00:00, 666797.07it/s]\n",
      "100%|████████████████████████████████████████████████████████████████████████████████████████| 665/665 [00:00<?, ?it/s]\n",
      "100%|████████████████████████████████████████████████████████████████████████████████████████| 665/665 [00:00<?, ?it/s]\n",
      "100%|████████████████████████████████████████████████████████████████████████████| 665/665 [00:00<00:00, 686828.90it/s]\n",
      "100%|████████████████████████████████████████████████████████████████████████████| 665/665 [00:00<00:00, 686321.89it/s]\n",
      "100%|████████████████████████████████████████████████████████████████████████████████████████| 665/665 [00:00<?, ?it/s]\n",
      "100%|████████████████████████████████████████████████████████████████████████████████████████| 665/665 [00:00<?, ?it/s]\n",
      "100%|████████████████████████████████████████████████████████████████████████████████████████| 665/665 [00:00<?, ?it/s]\n",
      "100%|████████████████████████████████████████████████████████████████████████████| 665/665 [00:00<00:00, 641493.14it/s]\n",
      "100%|████████████████████████████████████████████████████████████████████████████| 665/665 [00:00<00:00, 674211.30it/s]\n",
      "100%|████████████████████████████████████████████████████████████████████████████| 665/665 [00:00<00:00, 667275.64it/s]\n",
      "100%|████████████████████████████████████████████████████████████████████████████████████████| 665/665 [00:00<?, ?it/s]\n",
      "100%|████████████████████████████████████████████████████████████████████████████████████████| 665/665 [00:00<?, ?it/s]\n",
      "100%|████████████████████████████████████████████████████████████████████████████████████████| 665/665 [00:00<?, ?it/s]\n",
      "100%|████████████████████████████████████████████████████████████████████████████████████████| 665/665 [00:00<?, ?it/s]\n"
     ]
    },
    {
     "name": "stdout",
     "output_type": "stream",
     "text": [
      "Wall time: 3.07 s\n"
     ]
    }
   ],
   "source": [
    "%%time\n",
    "for epoch in range(50):\n",
    "    model_dmm.train(utils.shuffle([x for x in tqdm(train_tagged.values)]), total_examples=len(train_tagged.values), epochs=1)\n",
    "    model_dmm.alpha -= 0.002\n",
    "    model_dmm.min_alpha = model_dmm.alpha"
   ]
  },
  {
   "cell_type": "markdown",
   "metadata": {},
   "source": [
    "### Train Logistic Regression"
   ]
  },
  {
   "cell_type": "code",
   "execution_count": 31,
   "metadata": {},
   "outputs": [
    {
     "name": "stderr",
     "output_type": "stream",
     "text": [
      "C:\\Users\\zoeyl\\Anaconda3\\lib\\site-packages\\sklearn\\linear_model\\logistic.py:432: FutureWarning: Default solver will be changed to 'lbfgs' in 0.22. Specify a solver to silence this warning.\n",
      "  FutureWarning)\n",
      "C:\\Users\\zoeyl\\Anaconda3\\lib\\site-packages\\sklearn\\linear_model\\logistic.py:469: FutureWarning: Default multi_class will be changed to 'auto' in 0.22. Specify the multi_class option to silence this warning.\n",
      "  \"this warning.\", FutureWarning)\n"
     ]
    },
    {
     "name": "stdout",
     "output_type": "stream",
     "text": [
      "Testing accuracy 0.6421052631578947\n",
      "Testing F1 score: 0.6398718437061967\n",
      "                        precision    recall  f1-score   support\n",
      "\n",
      "       Amazon Specific       0.71      0.73      0.72        66\n",
      "  Financial Management       0.40      0.33      0.36         6\n",
      "     Flowster-specific       0.80      0.82      0.81        57\n",
      "           Fulfillment       0.78      0.78      0.78        18\n",
      "       Human Resources       0.89      0.57      0.70        42\n",
      "            Management       0.67      0.15      0.25        13\n",
      "           Misc Topics       0.40      0.33      0.36         6\n",
      "      Product Sourcing       0.50      0.63      0.56        59\n",
      "      Software & Tools       0.00      0.00      0.00         8\n",
      "       Traffic Sources       0.56      0.71      0.63         7\n",
      "eCommerce Marketplaces       0.18      0.67      0.29         3\n",
      "\n",
      "              accuracy                           0.64       285\n",
      "             macro avg       0.53      0.52      0.49       285\n",
      "          weighted avg       0.67      0.64      0.64       285\n",
      "\n"
     ]
    }
   ],
   "source": [
    "y_train, X_train = vec_for_learning(model_dmm, train_tagged)\n",
    "y_test, X_test = vec_for_learning(model_dmm, test_tagged)\n",
    "\n",
    "logreg.fit(X_train, y_train)\n",
    "y_pred = logreg.predict(X_test)\n",
    "\n",
    "print('Testing accuracy %s' % accuracy_score(y_test, y_pred))\n",
    "print('Testing F1 score: {}'.format(f1_score(y_test, y_pred, average='weighted')))\n",
    "print(classification_report(y_test, y_pred))"
   ]
  },
  {
   "cell_type": "markdown",
   "metadata": {},
   "source": [
    "## Model Pairing"
   ]
  },
  {
   "cell_type": "markdown",
   "metadata": {},
   "source": [
    "Combining a paragraph vector from Distributed Bag of Words (DBOW) and Distributed Memory (DM) improves performance. \n",
    "Pairing the models together for evaluation."
   ]
  },
  {
   "cell_type": "code",
   "execution_count": 32,
   "metadata": {},
   "outputs": [],
   "source": [
    "model_dbow.delete_temporary_training_data(keep_doctags_vectors=True, keep_inference=True)\n",
    "model_dmm.delete_temporary_training_data(keep_doctags_vectors=True, keep_inference=True)"
   ]
  },
  {
   "cell_type": "code",
   "execution_count": 33,
   "metadata": {},
   "outputs": [],
   "source": [
    "from gensim.test.test_doc2vec import ConcatenatedDoc2Vec\n",
    "new_model = ConcatenatedDoc2Vec([model_dbow, model_dmm])"
   ]
  },
  {
   "cell_type": "code",
   "execution_count": 34,
   "metadata": {},
   "outputs": [],
   "source": [
    "def get_vectors(model, tagged_docs):\n",
    "    sents = tagged_docs.values\n",
    "    targets, regressors = zip(*[(doc.tags[0], model.infer_vector(doc.words, steps=20)) for doc in sents])\n",
    "    return targets, regressors"
   ]
  },
  {
   "cell_type": "code",
   "execution_count": 35,
   "metadata": {},
   "outputs": [],
   "source": [
    "y_train, X_train = get_vectors(new_model, train_tagged)\n",
    "y_test, X_test = get_vectors(new_model, test_tagged)"
   ]
  },
  {
   "cell_type": "code",
   "execution_count": 36,
   "metadata": {},
   "outputs": [
    {
     "name": "stderr",
     "output_type": "stream",
     "text": [
      "C:\\Users\\zoeyl\\Anaconda3\\lib\\site-packages\\sklearn\\linear_model\\logistic.py:432: FutureWarning: Default solver will be changed to 'lbfgs' in 0.22. Specify a solver to silence this warning.\n",
      "  FutureWarning)\n",
      "C:\\Users\\zoeyl\\Anaconda3\\lib\\site-packages\\sklearn\\linear_model\\logistic.py:469: FutureWarning: Default multi_class will be changed to 'auto' in 0.22. Specify the multi_class option to silence this warning.\n",
      "  \"this warning.\", FutureWarning)\n"
     ]
    },
    {
     "name": "stdout",
     "output_type": "stream",
     "text": [
      "Testing accuracy 0.6877192982456141\n",
      "Testing F1 score: 0.6928600596217331\n",
      "                            precision    recall  f1-score   support\n",
      "\n",
      "           Amazon Specific       0.76      0.83      0.80        66\n",
      "      Financial Management       0.67      0.33      0.44         6\n",
      "         Flowster-specific       0.77      0.75      0.76        57\n",
      "               Fulfillment       0.59      0.72      0.65        18\n",
      "           Human Resources       0.77      0.79      0.78        42\n",
      "                Management       0.62      0.38      0.48        13\n",
      "               Misc Topics       0.33      0.50      0.40         6\n",
      "          Product Sourcing       0.81      0.58      0.67        59\n",
      "          Software & Tools       0.25      0.25      0.25         8\n",
      "Store & Website Management       0.00      0.00      0.00         0\n",
      "           Traffic Sources       0.42      0.71      0.53         7\n",
      "    eCommerce Marketplaces       0.11      0.33      0.17         3\n",
      "\n",
      "                  accuracy                           0.69       285\n",
      "                 macro avg       0.51      0.52      0.49       285\n",
      "              weighted avg       0.72      0.69      0.69       285\n",
      "\n"
     ]
    },
    {
     "name": "stderr",
     "output_type": "stream",
     "text": [
      "C:\\Users\\zoeyl\\Anaconda3\\lib\\site-packages\\sklearn\\metrics\\classification.py:1439: UndefinedMetricWarning: F-score is ill-defined and being set to 0.0 in labels with no true samples.\n",
      "  'recall', 'true', average, warn_for)\n",
      "C:\\Users\\zoeyl\\Anaconda3\\lib\\site-packages\\sklearn\\metrics\\classification.py:1439: UndefinedMetricWarning: Recall and F-score are ill-defined and being set to 0.0 in labels with no true samples.\n",
      "  'recall', 'true', average, warn_for)\n"
     ]
    }
   ],
   "source": [
    "logreg.fit(X_train, y_train)\n",
    "y_pred = logreg.predict(X_test)\n",
    "\n",
    "print('Testing accuracy %s' % accuracy_score(y_test, y_pred))\n",
    "print('Testing F1 score: {}'.format(f1_score(y_test, y_pred, average='weighted')))\n",
    "print(classification_report(y_test, y_pred))"
   ]
  },
  {
   "cell_type": "code",
   "execution_count": null,
   "metadata": {},
   "outputs": [],
   "source": []
  }
 ],
 "metadata": {
  "kernelspec": {
   "display_name": "Python 3",
   "language": "python",
   "name": "python3"
  },
  "language_info": {
   "codemirror_mode": {
    "name": "ipython",
    "version": 3
   },
   "file_extension": ".py",
   "mimetype": "text/x-python",
   "name": "python",
   "nbconvert_exporter": "python",
   "pygments_lexer": "ipython3",
   "version": "3.7.4"
  }
 },
 "nbformat": 4,
 "nbformat_minor": 2
}
