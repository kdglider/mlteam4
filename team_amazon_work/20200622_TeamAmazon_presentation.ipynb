{
  "nbformat": 4,
  "nbformat_minor": 0,
  "metadata": {
    "colab": {
      "name": "20200622_TeamAmazon_presentation",
      "provenance": [],
      "collapsed_sections": [
        "xWrqzPQgU5o2",
        "1T_uQKzHvSXm",
        "TLh0x6q8BMRK"
      ]
    },
    "kernelspec": {
      "name": "python3",
      "display_name": "Python 3"
    }
  },
  "cells": [
    {
      "cell_type": "code",
      "metadata": {
        "id": "nnklE-19odma",
        "colab_type": "code",
        "colab": {
          "base_uri": "https://localhost:8080/",
          "height": 121
        },
        "outputId": "7b9f9a79-4ea7-4c0b-ec5e-b9e19ee3cf49"
      },
      "source": [
        "from google.colab import drive\n",
        "drive.mount('/content/gdrive')"
      ],
      "execution_count": 1,
      "outputs": [
        {
          "output_type": "stream",
          "text": [
            "Go to this URL in a browser: https://accounts.google.com/o/oauth2/auth?client_id=947318989803-6bn6qk8qdgf4n4g3pfee6491hc0brc4i.apps.googleusercontent.com&redirect_uri=urn%3aietf%3awg%3aoauth%3a2.0%3aoob&response_type=code&scope=email%20https%3a%2f%2fwww.googleapis.com%2fauth%2fdocs.test%20https%3a%2f%2fwww.googleapis.com%2fauth%2fdrive%20https%3a%2f%2fwww.googleapis.com%2fauth%2fdrive.photos.readonly%20https%3a%2f%2fwww.googleapis.com%2fauth%2fpeopleapi.readonly\n",
            "\n",
            "Enter your authorization code:\n",
            "··········\n",
            "Mounted at /content/gdrive\n"
          ],
          "name": "stdout"
        }
      ]
    },
    {
      "cell_type": "code",
      "metadata": {
        "id": "62Ko9Mogmolz",
        "colab_type": "code",
        "colab": {
          "base_uri": "https://localhost:8080/",
          "height": 222
        },
        "outputId": "6c77095d-1843-4b5d-c62f-10929be39154"
      },
      "source": [
        "import pandas as pd\n",
        "import numpy as np\n",
        "import matplotlib.pyplot as plt\n",
        "import seaborn as sns\n",
        "import re\n",
        "from html.parser import HTMLParser\n",
        "import nltk\n",
        "from nltk import sent_tokenize, word_tokenize\n",
        "from nltk.tokenize import RegexpTokenizer\n",
        "from nltk.corpus import stopwords\n",
        "from nltk.stem.porter import PorterStemmer\n",
        "from nltk.stem import WordNetLemmatizer\n",
        "import string\n",
        "\n",
        "from collections import defaultdict\n",
        "\n",
        "from sklearn.feature_extraction.text import TfidfVectorizer\n",
        "from sklearn.feature_extraction.text import CountVectorizer\n",
        "from sklearn.metrics.pairwise import cosine_similarity\n",
        "from sklearn.preprocessing import LabelEncoder\n",
        "from sklearn.model_selection import train_test_split\n",
        "from sklearn.pipeline import make_pipeline\n",
        "from imblearn.under_sampling import RandomUnderSampler\n",
        "\n",
        "import xgboost as xgb\n",
        "\n",
        "from sklearn.metrics import classification_report\n",
        "\n",
        "import time\n",
        "nltk.download('stopwords')\n",
        "nltk.download('punkt')"
      ],
      "execution_count": 2,
      "outputs": [
        {
          "output_type": "stream",
          "text": [
            "/usr/local/lib/python3.6/dist-packages/statsmodels/tools/_testing.py:19: FutureWarning: pandas.util.testing is deprecated. Use the functions in the public API at pandas.testing instead.\n",
            "  import pandas.util.testing as tm\n",
            "/usr/local/lib/python3.6/dist-packages/sklearn/externals/six.py:31: FutureWarning: The module is deprecated in version 0.21 and will be removed in version 0.23 since we've dropped support for Python 2.7. Please rely on the official version of six (https://pypi.org/project/six/).\n",
            "  \"(https://pypi.org/project/six/).\", FutureWarning)\n",
            "/usr/local/lib/python3.6/dist-packages/sklearn/utils/deprecation.py:144: FutureWarning: The sklearn.neighbors.base module is  deprecated in version 0.22 and will be removed in version 0.24. The corresponding classes / functions should instead be imported from sklearn.neighbors. Anything that cannot be imported from sklearn.neighbors is now part of the private API.\n",
            "  warnings.warn(message, FutureWarning)\n"
          ],
          "name": "stderr"
        },
        {
          "output_type": "stream",
          "text": [
            "[nltk_data] Downloading package stopwords to /root/nltk_data...\n",
            "[nltk_data]   Package stopwords is already up-to-date!\n",
            "[nltk_data] Downloading package punkt to /root/nltk_data...\n",
            "[nltk_data]   Package punkt is already up-to-date!\n"
          ],
          "name": "stdout"
        },
        {
          "output_type": "execute_result",
          "data": {
            "text/plain": [
              "True"
            ]
          },
          "metadata": {
            "tags": []
          },
          "execution_count": 2
        }
      ]
    },
    {
      "cell_type": "code",
      "metadata": {
        "id": "M_uyovYmEzu8",
        "colab_type": "code",
        "colab": {}
      },
      "source": [
        "stop_words = list(set(stopwords.words('english')))\n",
        "punct = list(set(string.punctuation))\n",
        "punct.append('“')\n",
        "punct.append('”')\n",
        "stemmer = PorterStemmer()\n",
        "\n",
        "def text_cleaning(text):\n",
        "    # converting HTML character codes to ASCII code\n",
        "    parser = HTMLParser()\n",
        "    text =  parser.unescape(text)\n",
        "    \n",
        "    text = re.sub(r'<[^>]+>','',text) # removing HTML tags\n",
        "    text = re.sub(r'(?:\\#+[\\w_]+[\\w\\'_\\-]*[\\w_]+)','',text) # removing hash-tags\n",
        "    text = re.sub(r'http[s]?://(?:[a-z]|[0-9]|[$-_@.&amp;+]|[!*\\(\\),]|(?:%[0-9a-f][0-9a-f]))+','',text) # removing URLs\n",
        "    text = re.sub(r'(?:[\\ufffd]+)','',text) #removing special characters\n",
        "    text = word_tokenize(text)\n",
        "    text = ' '.join(word for word in text if word not in punct) #remove punctuation\n",
        "    text = re.sub('\\n',' ',text) #remove new line\n",
        "    text = re.sub('@','',text) #remove @ sign\n",
        "    text = re.sub('\\'','',text) # remove '\n",
        "    text = text.lower() # lowercase all characters\n",
        "    text = word_tokenize(text) # tonkenize words\n",
        "    text = [i for i in text if not i in stop_words] #remove stop words\n",
        "    #text = [stemmer.stem(word) for word in text]\n",
        "    text = ' '.join(text)\n",
        "    \n",
        "    return text\n"
      ],
      "execution_count": 4,
      "outputs": []
    },
    {
      "cell_type": "code",
      "metadata": {
        "id": "V2zx8d44nM_e",
        "colab_type": "code",
        "colab": {}
      },
      "source": [
        "df_1 = pd.read_csv('/content/gdrive/My Drive/Amazon Seller Forum/amazon_scraped_data.csv') # raw data\n",
        "df_2 = pd.read_csv('/content/gdrive/My Drive/Amazon Seller Forum/cleaned_data.csv',encoding= 'unicode_escape') # cleaned data\n",
        "df_2.drop('Unnamed: 0',axis=1,inplace=True)\n",
        "df_2['Title'].fillna('no title',inplace=True)"
      ],
      "execution_count": 5,
      "outputs": []
    },
    {
      "cell_type": "markdown",
      "metadata": {
        "id": "VSrmmCZKQtyz",
        "colab_type": "text"
      },
      "source": [
        "## Exploratory Analysis"
      ]
    },
    {
      "cell_type": "code",
      "metadata": {
        "id": "ZK_UPgSRJUEB",
        "colab_type": "code",
        "colab": {
          "base_uri": "https://localhost:8080/",
          "height": 1000
        },
        "outputId": "43ed6518-2109-45a7-c28d-b29028aca5b7"
      },
      "source": [
        "print('Distribution of published post time')\n",
        "cat_list = df_2['Category'].unique()\n",
        "num_cat = len(cat_list)\n",
        "\n",
        "fig = plt.figure(figsize=(20,20))\n",
        "for i in range(num_cat):\n",
        "  ax = fig.add_subplot(4, 4, i+1)\n",
        "  ax = plt.hist(df_2[df_2['Category'] == cat_list[i]]['Publish hour'],bins=18)\n",
        "  plt.title(cat_list[i])\n",
        "  plt.xlabel('Hour')"
      ],
      "execution_count": 6,
      "outputs": [
        {
          "output_type": "stream",
          "text": [
            "Distribution of published post time\n"
          ],
          "name": "stdout"
        },
        {
          "output_type": "display_data",
          "data": {
            "image/png": "[encoded data removed]",
            "text/plain": [
              "<Figure size 1440x1440 with 13 Axes>"
            ]
          },
          "metadata": {
            "tags": [],
            "needs_background": "light"
          }
        }
      ]
    },
    {
      "cell_type": "code",
      "metadata": {
        "id": "tQQzoptRLAHv",
        "colab_type": "code",
        "colab": {
          "base_uri": "https://localhost:8080/",
          "height": 390
        },
        "outputId": "13961ba6-547e-4e50-ffce-24002bf634c6"
      },
      "source": [
        "print('Users with most posts published')\n",
        "pd.DataFrame(df_2.groupby('Post Author')['Title'].count().sort_values(ascending=False).head(10))"
      ],
      "execution_count": 7,
      "outputs": [
        {
          "output_type": "stream",
          "text": [
            "Users with most posts published\n"
          ],
          "name": "stdout"
        },
        {
          "output_type": "execute_result",
          "data": {
            "text/html": [
              "<div>\n",
              "<style scoped>\n",
              "    .dataframe tbody tr th:only-of-type {\n",
              "        vertical-align: middle;\n",
              "    }\n",
              "\n",
              "    .dataframe tbody tr th {\n",
              "        vertical-align: top;\n",
              "    }\n",
              "\n",
              "    .dataframe thead th {\n",
              "        text-align: right;\n",
              "    }\n",
              "</style>\n",
              "<table border=\"1\" class=\"dataframe\">\n",
              "  <thead>\n",
              "    <tr style=\"text-align: right;\">\n",
              "      <th></th>\n",
              "      <th>Title</th>\n",
              "    </tr>\n",
              "    <tr>\n",
              "      <th>Post Author</th>\n",
              "      <th></th>\n",
              "    </tr>\n",
              "  </thead>\n",
              "  <tbody>\n",
              "    <tr>\n",
              "      <th>Amazon_News</th>\n",
              "      <td>213</td>\n",
              "    </tr>\n",
              "    <tr>\n",
              "      <th>Rick_MWS</th>\n",
              "      <td>52</td>\n",
              "    </tr>\n",
              "    <tr>\n",
              "      <th>SEAmod</th>\n",
              "      <td>24</td>\n",
              "    </tr>\n",
              "    <tr>\n",
              "      <th>Superior_Home_Busine</th>\n",
              "      <td>15</td>\n",
              "    </tr>\n",
              "    <tr>\n",
              "      <th>ChinaSupport</th>\n",
              "      <td>13</td>\n",
              "    </tr>\n",
              "    <tr>\n",
              "      <th>papyrophilia</th>\n",
              "      <td>13</td>\n",
              "    </tr>\n",
              "    <tr>\n",
              "      <th>austin_w_lwa</th>\n",
              "      <td>13</td>\n",
              "    </tr>\n",
              "    <tr>\n",
              "      <th>Chess</th>\n",
              "      <td>11</td>\n",
              "    </tr>\n",
              "    <tr>\n",
              "      <th>dzp1</th>\n",
              "      <td>11</td>\n",
              "    </tr>\n",
              "    <tr>\n",
              "      <th>westland_print</th>\n",
              "      <td>10</td>\n",
              "    </tr>\n",
              "  </tbody>\n",
              "</table>\n",
              "</div>"
            ],
            "text/plain": [
              "                      Title\n",
              "Post Author                \n",
              "Amazon_News             213\n",
              "Rick_MWS                 52\n",
              "SEAmod                   24\n",
              "Superior_Home_Busine     15\n",
              "ChinaSupport             13\n",
              "papyrophilia             13\n",
              "austin_w_lwa             13\n",
              "Chess                    11\n",
              "dzp1                     11\n",
              "westland_print           10"
            ]
          },
          "metadata": {
            "tags": []
          },
          "execution_count": 7
        }
      ]
    },
    {
      "cell_type": "code",
      "metadata": {
        "id": "yE8Q8yLxL_hl",
        "colab_type": "code",
        "colab": {
          "base_uri": "https://localhost:8080/",
          "height": 478
        },
        "outputId": "63283431-06b2-4526-f63e-ac83e2914045"
      },
      "source": [
        "print('Category with most posts published')\n",
        "pd.DataFrame(df_2.groupby('Category')['Title'].count().sort_values(ascending=False))"
      ],
      "execution_count": 8,
      "outputs": [
        {
          "output_type": "stream",
          "text": [
            "Category with most posts published\n"
          ],
          "name": "stdout"
        },
        {
          "output_type": "execute_result",
          "data": {
            "text/html": [
              "<div>\n",
              "<style scoped>\n",
              "    .dataframe tbody tr th:only-of-type {\n",
              "        vertical-align: middle;\n",
              "    }\n",
              "\n",
              "    .dataframe tbody tr th {\n",
              "        vertical-align: top;\n",
              "    }\n",
              "\n",
              "    .dataframe thead th {\n",
              "        text-align: right;\n",
              "    }\n",
              "</style>\n",
              "<table border=\"1\" class=\"dataframe\">\n",
              "  <thead>\n",
              "    <tr style=\"text-align: right;\">\n",
              "      <th></th>\n",
              "      <th>Title</th>\n",
              "    </tr>\n",
              "    <tr>\n",
              "      <th>Category</th>\n",
              "      <th></th>\n",
              "    </tr>\n",
              "  </thead>\n",
              "  <tbody>\n",
              "    <tr>\n",
              "      <th>Selling on Amazon</th>\n",
              "      <td>2099</td>\n",
              "    </tr>\n",
              "    <tr>\n",
              "      <th>Account Health</th>\n",
              "      <td>1548</td>\n",
              "    </tr>\n",
              "    <tr>\n",
              "      <th>Fulfillment By Amazon</th>\n",
              "      <td>1500</td>\n",
              "    </tr>\n",
              "    <tr>\n",
              "      <th>Global Selling</th>\n",
              "      <td>600</td>\n",
              "    </tr>\n",
              "    <tr>\n",
              "      <th>Amazon Pay</th>\n",
              "      <td>599</td>\n",
              "    </tr>\n",
              "    <tr>\n",
              "      <th>Groups</th>\n",
              "      <td>494</td>\n",
              "    </tr>\n",
              "    <tr>\n",
              "      <th>US Announcements</th>\n",
              "      <td>300</td>\n",
              "    </tr>\n",
              "    <tr>\n",
              "      <th>Site Feedback</th>\n",
              "      <td>300</td>\n",
              "    </tr>\n",
              "    <tr>\n",
              "      <th>Amazon Sponsored Products</th>\n",
              "      <td>300</td>\n",
              "    </tr>\n",
              "    <tr>\n",
              "      <th>Amazon Marketplace Web Service (MWS)</th>\n",
              "      <td>298</td>\n",
              "    </tr>\n",
              "    <tr>\n",
              "      <th>Amazon Custom</th>\n",
              "      <td>273</td>\n",
              "    </tr>\n",
              "    <tr>\n",
              "      <th>Login With Amazon</th>\n",
              "      <td>198</td>\n",
              "    </tr>\n",
              "    <tr>\n",
              "      <th>Health,Safety,Sustainability,Security &amp; Compliance</th>\n",
              "      <td>63</td>\n",
              "    </tr>\n",
              "  </tbody>\n",
              "</table>\n",
              "</div>"
            ],
            "text/plain": [
              "                                                    Title\n",
              "Category                                                 \n",
              "Selling on Amazon                                    2099\n",
              "Account Health                                       1548\n",
              "Fulfillment By Amazon                                1500\n",
              "Global Selling                                        600\n",
              "Amazon Pay                                            599\n",
              "Groups                                                494\n",
              "US Announcements                                      300\n",
              "Site Feedback                                         300\n",
              "Amazon Sponsored Products                             300\n",
              "Amazon Marketplace Web Service (MWS)                  298\n",
              "Amazon Custom                                         273\n",
              "Login With Amazon                                     198\n",
              "Health,Safety,Sustainability,Security & Compliance     63"
            ]
          },
          "metadata": {
            "tags": []
          },
          "execution_count": 8
        }
      ]
    },
    {
      "cell_type": "code",
      "metadata": {
        "id": "qnJZSVaUPeTs",
        "colab_type": "code",
        "colab": {
          "base_uri": "https://localhost:8080/",
          "height": 890
        },
        "outputId": "8d6fc0b9-b534-45cf-d5e5-62060f3ffcad"
      },
      "source": [
        "for cat in df_2['Category'].unique():\n",
        "  titles = df_2[df_2['Category']== cat]['Title']\n",
        "  tfidf_vectorizer = TfidfVectorizer(max_df=0.5,\n",
        "                                     max_features=20,\n",
        "                                     stop_words='english',\n",
        "                                     use_idf=True,\n",
        "                                     ngram_range=(2,3))\n",
        "  tfidf_matrix = tfidf_vectorizer.fit_transform(titles)\n",
        "  terms = tfidf_vectorizer.get_feature_names()\n",
        "\n",
        "  print('The top 5 key words in post title from the category: ', cat)\n",
        "  print(terms[:5])\n",
        "  print('\\n')"
      ],
      "execution_count": 16,
      "outputs": [
        {
          "output_type": "stream",
          "text": [
            "The top 5 key words in post title from the category:  Fulfillment By Amazon\n",
            "['amazon fba', 'channel fulfillment', 'fba inventory', 'fba order', 'fba returns']\n",
            "\n",
            "\n",
            "The top 5 key words in post title from the category:  Amazon Sponsored Products\n",
            "['ad campaign', 'ad campaigns', 'ad group', 'ad spend', 'amazon advertising']\n",
            "\n",
            "\n",
            "The top 5 key words in post title from the category:  Account Health\n",
            "['account deactivated', 'account risk', 'account suspended', 'account suspension', 'deactivated account']\n",
            "\n",
            "\n",
            "The top 5 key words in post title from the category:  Selling on Amazon\n",
            "['3rd party', 'account deactivated', 'amazon account', 'amazon seller', 'amazon seller app']\n",
            "\n",
            "\n",
            "The top 5 key words in post title from the category:  Global Selling\n",
            "['account suspended', 'amazon fba', 'amazon uk', 'amazon usa', 'bank account']\n",
            "\n",
            "\n",
            "The top 5 key words in post title from the category:  Groups\n",
            "['account suspended', 'amazon handmade', 'amazon home', 'amazon home services', 'cleaning jobs']\n",
            "\n",
            "\n",
            "The top 5 key words in post title from the category:  Health,Safety,Sustainability,Security & Compliance\n",
            "['dangerous goods', 'device help', 'fine jewelry', 'intellectual property', 'intellectual property complaints']\n",
            "\n",
            "\n",
            "The top 5 key words in post title from the category:  Amazon Marketplace Web Service (MWS)\n",
            "['advertising api', 'amazon mws', 'data protection', 'developer account', 'developer id']\n",
            "\n",
            "\n",
            "The top 5 key words in post title from the category:  Login With Amazon\n",
            "['400 bad', '400 bad request', 'access token', 'amazon button', 'amazon login']\n",
            "\n",
            "\n",
            "The top 5 key words in post title from the category:  Amazon Pay\n",
            "['account suspended', 'amazon pay', 'amazon pay account', 'amazon payments', 'amazon seller']\n",
            "\n",
            "\n",
            "The top 5 key words in post title from the category:  Amazon Custom\n",
            "['amazon custom', 'amazon custom work', 'amazon refund', 'apply amazon', 'az claim']\n",
            "\n",
            "\n",
            "The top 5 key words in post title from the category:  US Announcements\n",
            "['added tax', 'amazon seller', 'collection orders', 'collection orders shipped', 'coming soon']\n",
            "\n",
            "\n",
            "The top 5 key words in post title from the category:  Site Feedback\n",
            "['amazon account', 'amazon seller', 'cuenta suspendida', 'customer support', 'feedback removal']\n",
            "\n",
            "\n"
          ],
          "name": "stdout"
        }
      ]
    },
    {
      "cell_type": "code",
      "metadata": {
        "id": "XIWcQ5RHt4UB",
        "colab_type": "code",
        "colab": {
          "base_uri": "https://localhost:8080/",
          "height": 360
        },
        "outputId": "13ec34b1-dea8-4841-9eed-9f381880fc91"
      },
      "source": [
        "print('Top 10 authors with most amount of replys')\n",
        "pd.DataFrame(df_2.groupby(['Category','Post Author'],\n",
        "                          as_index=False)['num_Reply_Authors'].sum()).\\\n",
        "                          sort_values(by='num_Reply_Authors',ascending=False).head(10)"
      ],
      "execution_count": 17,
      "outputs": [
        {
          "output_type": "stream",
          "text": [
            "Top 10 authors with most amount of replys\n"
          ],
          "name": "stdout"
        },
        {
          "output_type": "execute_result",
          "data": {
            "text/html": [
              "<div>\n",
              "<style scoped>\n",
              "    .dataframe tbody tr th:only-of-type {\n",
              "        vertical-align: middle;\n",
              "    }\n",
              "\n",
              "    .dataframe tbody tr th {\n",
              "        vertical-align: top;\n",
              "    }\n",
              "\n",
              "    .dataframe thead th {\n",
              "        text-align: right;\n",
              "    }\n",
              "</style>\n",
              "<table border=\"1\" class=\"dataframe\">\n",
              "  <thead>\n",
              "    <tr style=\"text-align: right;\">\n",
              "      <th></th>\n",
              "      <th>Category</th>\n",
              "      <th>Post Author</th>\n",
              "      <th>num_Reply_Authors</th>\n",
              "    </tr>\n",
              "  </thead>\n",
              "  <tbody>\n",
              "    <tr>\n",
              "      <th>7354</th>\n",
              "      <td>US Announcements</td>\n",
              "      <td>Amazon_News</td>\n",
              "      <td>2413</td>\n",
              "    </tr>\n",
              "    <tr>\n",
              "      <th>4824</th>\n",
              "      <td>Groups</td>\n",
              "      <td>Superior_Home_Busine</td>\n",
              "      <td>109</td>\n",
              "    </tr>\n",
              "    <tr>\n",
              "      <th>7364</th>\n",
              "      <td>US Announcements</td>\n",
              "      <td>SEAmod</td>\n",
              "      <td>107</td>\n",
              "    </tr>\n",
              "    <tr>\n",
              "      <th>1156</th>\n",
              "      <td>Account Health</td>\n",
              "      <td>dzp1</td>\n",
              "      <td>67</td>\n",
              "    </tr>\n",
              "    <tr>\n",
              "      <th>4799</th>\n",
              "      <td>Groups</td>\n",
              "      <td>Real_Computers</td>\n",
              "      <td>66</td>\n",
              "    </tr>\n",
              "    <tr>\n",
              "      <th>7341</th>\n",
              "      <td>Site Feedback</td>\n",
              "      <td>papyrophilia</td>\n",
              "      <td>58</td>\n",
              "    </tr>\n",
              "    <tr>\n",
              "      <th>6820</th>\n",
              "      <td>Selling on Amazon</td>\n",
              "      <td>josephm</td>\n",
              "      <td>51</td>\n",
              "    </tr>\n",
              "    <tr>\n",
              "      <th>1512</th>\n",
              "      <td>Amazon Custom</td>\n",
              "      <td>bendztek</td>\n",
              "      <td>47</td>\n",
              "    </tr>\n",
              "    <tr>\n",
              "      <th>4725</th>\n",
              "      <td>Groups</td>\n",
              "      <td>John_C_Lipham_Constr</td>\n",
              "      <td>47</td>\n",
              "    </tr>\n",
              "    <tr>\n",
              "      <th>1762</th>\n",
              "      <td>Amazon Marketplace Web Service (MWS)</td>\n",
              "      <td>The42ndStreet</td>\n",
              "      <td>46</td>\n",
              "    </tr>\n",
              "  </tbody>\n",
              "</table>\n",
              "</div>"
            ],
            "text/plain": [
              "                                  Category  ... num_Reply_Authors\n",
              "7354                      US Announcements  ...              2413\n",
              "4824                                Groups  ...               109\n",
              "7364                      US Announcements  ...               107\n",
              "1156                        Account Health  ...                67\n",
              "4799                                Groups  ...                66\n",
              "7341                         Site Feedback  ...                58\n",
              "6820                     Selling on Amazon  ...                51\n",
              "1512                         Amazon Custom  ...                47\n",
              "4725                                Groups  ...                47\n",
              "1762  Amazon Marketplace Web Service (MWS)  ...                46\n",
              "\n",
              "[10 rows x 3 columns]"
            ]
          },
          "metadata": {
            "tags": []
          },
          "execution_count": 17
        }
      ]
    },
    {
      "cell_type": "code",
      "metadata": {
        "id": "CLYkWUU8wFK9",
        "colab_type": "code",
        "colab": {
          "base_uri": "https://localhost:8080/",
          "height": 673
        },
        "outputId": "02fe75ca-b5f9-4353-a344-7315e27b9d57"
      },
      "source": [
        "fig= plt.figure(figsize=(15,8))\n",
        "ax = fig.add_subplot(111)\n",
        "ax = sns.boxplot(x='Category',y='num_Reply_Authors',data=df_2)\n",
        "plt.xticks(fontsize=8,rotation=45)"
      ],
      "execution_count": 18,
      "outputs": [
        {
          "output_type": "execute_result",
          "data": {
            "text/plain": [
              "(array([ 0,  1,  2,  3,  4,  5,  6,  7,  8,  9, 10, 11, 12]),\n",
              " <a list of 13 Text major ticklabel objects>)"
            ]
          },
          "metadata": {
            "tags": []
          },
          "execution_count": 18
        },
        {
          "output_type": "display_data",
          "data": {
            "image/png": "[encoded data removed]",
            "text/plain": [
              "<Figure size 1080x576 with 1 Axes>"
            ]
          },
          "metadata": {
            "tags": [],
            "needs_background": "light"
          }
        }
      ]
    },
    {
      "cell_type": "markdown",
      "metadata": {
        "id": "xWrqzPQgU5o2",
        "colab_type": "text"
      },
      "source": [
        "## Get similar comments based on cosine similarity method "
      ]
    },
    {
      "cell_type": "code",
      "metadata": {
        "id": "jYli1-hRRXZ_",
        "colab_type": "code",
        "colab": {}
      },
      "source": [
        "def get_top_comments(docu_list, n, labels):\n",
        "    #Given a list of comments, find the indices with the highest n values.\n",
        "    #Return the labels for each of these indices.\n",
        "    return [labels[i] for i in np.argsort(docu_list)[::-1][:n]]  "
      ],
      "execution_count": 20,
      "outputs": []
    },
    {
      "cell_type": "markdown",
      "metadata": {
        "id": "1T_uQKzHvSXm",
        "colab_type": "text"
      },
      "source": [
        "### TFIDF"
      ]
    },
    {
      "cell_type": "code",
      "metadata": {
        "id": "k4qHaGoVQ4IY",
        "colab_type": "code",
        "colab": {
          "base_uri": "https://localhost:8080/",
          "height": 373
        },
        "outputId": "64c344f3-0bab-446f-c8bd-33a21a818e8d"
      },
      "source": [
        "vectorizer = TfidfVectorizer(analyzer = 'word', \n",
        "                             stop_words = 'english', \n",
        "                             lowercase = True, \n",
        "                             max_features = 10000)\n",
        "\n",
        "documents = df_2['Leading Comment']\n",
        "\n",
        "documents_vec = vectorizer.fit_transform(documents).toarray()\n",
        "\n",
        "words = vectorizer.get_feature_names()\n",
        "\n",
        "random_comment = np.random.choice(documents, 1)\n",
        "\n",
        "random_comment_vec = vectorizer.transform([random_comment[0]]).toarray()\n",
        "# Calculate the similarity score(s) between vector(s) and training vectors\n",
        "similarity_score = cosine_similarity(random_comment_vec, documents_vec)\n",
        "\n",
        "# top 5 similar comments\n",
        "# because the 1st comment is the randomly selected one, n should be set as n+1\n",
        "n = 5+1\n",
        "similar_comments = get_top_comments(similarity_score[0], n, list(documents))\n",
        "\n",
        "print('The randomly selected comment: \\n%s\\n' % (random_comment[0]))\n",
        "print('---Top %s similar comments---' % (n-1))\n",
        "print('')\n",
        "\n",
        "for i in range(1,n):\n",
        "    print('No. %d similar comment is: \\n %s.\\n' % (i, similar_comments[i]))"
      ],
      "execution_count": 21,
      "outputs": [
        {
          "output_type": "stream",
          "text": [
            "The randomly selected comment: \n",
            "us based seller selling items amazonca via fba looking someone based ca accept returned items primarily sell home office type equipment touch handful liquidators based ca success arranging something thus far us sellers find canadian partner take returns would appreciate suggestions thanks\n",
            "\n",
            "---Top 5 similar comments---\n",
            "\n",
            "No. 1 similar comment is: \n",
            " us looking expand selling canada shipping options usa ca saw looks like usp importing products ca shipping ca.\n",
            "\n",
            "No. 2 similar comment is: \n",
            " need liquidate inventory wanted see anyone success third party liquidators would appreciate info thanks.\n",
            "\n",
            "No. 3 similar comment is: \n",
            " fbm business based florida obviously costs ship parcel west coast ca wa wy etc northeast local states however im finding configure shipping zones increased rates based location set standard shipping cost matter customer fl way ca earth make sense way charge customer shipping price based shipping zone.\n",
            "\n",
            "No. 4 similar comment is: \n",
            " received infringement claim amazonca product im selling us product listed amazonca connected marketplaces ca mx feature inventory ca may may respond claim never intention sell first place question infringement claim ca impact listing us com impact marketplace originates thanks.\n",
            "\n",
            "No. 5 similar comment is: \n",
            " back year ago received quite invitations amazon sell ca site finally decided extremely easy sign us products listed ca site 5 months ago amazon asked us change new shipping settings template changed updated template ca listings became totally sync us inventory shipping charges actual inventory quantities etc contacted amazon help quite times issue one ever tell us resolve one service rep finally suggested delete inventory reload ca site unfortunately easy way unlike first agreed sell canada additionally tried cancelling ca seller agreement told possible without also cancelling us account service rep suggested delete inventory close listings ca site however every time list new item us site populates ca site thought problem since price shipping correct newly added items everything would ok issue randomly seeing items show ca inventory available months year listings either sold amazon closed due sold traveltrekluggagecom site called amazon customer service yesterday received help whatsoever explained items reappeared relisted july 14th ca site one amazon explain apologies long message anyone explain occurred remedy importantly easy way reload accurately us inventory ca site thanks.\n",
            "\n"
          ],
          "name": "stdout"
        }
      ]
    },
    {
      "cell_type": "markdown",
      "metadata": {
        "id": "TLh0x6q8BMRK",
        "colab_type": "text"
      },
      "source": [
        "### Analysis with Count Vectorizer"
      ]
    },
    {
      "cell_type": "code",
      "metadata": {
        "id": "5gzdoCOguhPn",
        "colab_type": "code",
        "colab": {
          "base_uri": "https://localhost:8080/",
          "height": 373
        },
        "outputId": "ee4f6512-c1da-4ab8-d3f7-56f66633d043"
      },
      "source": [
        "#First we initialize the count vectorizer\n",
        "cvec = CountVectorizer(analyzer = 'word',\n",
        "                       stop_words='english',\n",
        "                       lowercase = True,\n",
        "                       max_features = 5000)\n",
        "\n",
        "documents = df['Leading Comment']\n",
        "\n",
        "documents_vec = cvec.fit_transform(documents).toarray()\n",
        "\n",
        "words = cvec.get_feature_names()\n",
        "\n",
        "random_comment = np.random.choice(documents, 1)\n",
        "\n",
        "random_comment_vec = vectorizer.transform([random_comment[0]]).toarray()\n",
        "\n",
        "# Calculate the similarity score(s) between vector(s) and training vectors\n",
        "similarity_score = cosine_similarity(random_comment_vec, documents_vec)\n",
        "\n",
        "# top 5 similar comments\n",
        "# because the 1st comment is the randomly selected one, n should be set as n+1\n",
        "n = 5+1\n",
        "similar_comments = get_top_comments(similarity_score[0], n, list(documents))\n",
        "\n",
        "print('The randomly selected comment: \\n%s\\n' % (random_comment[0]))\n",
        "print('---Top %s similar comments---' % (n-1))\n",
        "print('')\n",
        "\n",
        "for i in range(1,n):\n",
        "    print('No. %d similar comment is: \\n %s.\\n' % (i, similar_comments[i]))\n",
        "\n",
        "\n"
      ],
      "execution_count": null,
      "outputs": [
        {
          "output_type": "stream",
          "text": [
            "The randomly selected comment: \n",
            "applied bn already waiting confusion nri brokerage account ups fba seller want confirm medical equipment duty free\n",
            "\n",
            "---Top 5 similar comments---\n",
            "\n",
            "No. 1 similar comment is: \n",
            " hello anyway link 2nd ups account sfp orders got new account ups allow ship certain items flat fee via ups 2nd day air country problem merge rates original ups account amazon giving option unlink existing account add new one.\n",
            "\n",
            "No. 2 similar comment is: \n",
            " account applied last never use want sell amazonbut account inactive account become inactive pls help thanks.\n",
            "\n",
            "No. 3 similar comment is: \n",
            " hi seller account suspended months money account amazon doesnt give money want close account get money repeatedly applied amazon help amazon communicating reactivate account want reactivate account want close seller account get money account please help thank.\n",
            "\n",
            "No. 4 similar comment is: \n",
            " purchased ups shipping amazon seller central ups lost package tried claim ups asking shipper account number claim case claim amazon.\n",
            "\n",
            "No. 5 similar comment is: \n",
            " hiwe seller amazon 6 years want improve business develop web software myselfbut seems applied mwsamazon never response itare someone tell problemhow appliy itthanks.\n",
            "\n"
          ],
          "name": "stdout"
        }
      ]
    },
    {
      "cell_type": "code",
      "metadata": {
        "id": "cMRnpg0iKSHz",
        "colab_type": "code",
        "colab": {
          "base_uri": "https://localhost:8080/",
          "height": 756
        },
        "outputId": "a37a4ab2-1271-4898-954f-9c7963c4e783"
      },
      "source": [
        "for cat in df['Category'].unique():\n",
        "  text = df[df['Category']== cat]['Title']\n",
        "  count_vectorizer = CountVectorizer(analyzer = 'word',\n",
        "                                     stop_words='english',\n",
        "                                     min_df = 0.05\n",
        "                                     )\n",
        "  cvec_matrix = count_vectorizer.fit_transform(text)\n",
        "  terms = count_vectorizer.get_feature_names()\n",
        "\n",
        "  print('key words in post title from the category: ', cat)\n",
        "  print(terms)\n",
        "  print('\\n')"
      ],
      "execution_count": null,
      "outputs": [
        {
          "output_type": "stream",
          "text": [
            "key words in post title from the category:  Fulfillment By Amazon\n",
            "['amazon', 'channel', 'fba', 'fulfillment', 'inventory', 'multi', 'order', 'product', 'report', 'shipment', 'shipping']\n",
            "\n",
            "\n",
            "key words in post title from the category:  Selling on Amazon\n",
            "['account', 'amazon', 'app', 'listing', 'product', 'seller', 'shipping']\n",
            "\n",
            "\n",
            "key words in post title from the category:  Amazon Marketplace Web Service (MWS)\n",
            "['access', 'amazon', 'api', 'developer', 'error', 'mws', 'order', 'orders', 'report']\n",
            "\n",
            "\n",
            "key words in post title from the category:  Amazon Sponsored Products\n",
            "['ad', 'ads', 'advertising', 'amazon', 'campaign', 'campaigns', 'keywords', 'ppc', 'product', 'products', 'search', 'sponsored']\n",
            "\n",
            "\n",
            "key words in post title from the category:  Account Health\n",
            "['account', 'amazon', 'appeal', 'complaint', 'deactivated', 'help', 'listing', 'new', 'poa', 'product', 'seller', 'sold', 'suspended', 'suspension', 'used']\n",
            "\n",
            "\n",
            "key words in post title from the category:  Global Selling\n",
            "['account', 'amazon', 'ca', 'canada', 'com', 'fba', 'sell', 'seller', 'selling', 'shipping', 'uk']\n",
            "\n",
            "\n",
            "key words in post title from the category:  Amazon Pay\n",
            "['account', 'amazon', 'bank', 'card', 'money', 'paid', 'pay', 'payment', 'payments', 'seller']\n",
            "\n",
            "\n",
            "key words in post title from the category:  Groups\n",
            "['amazon', 'handmade', 'home', 'jobs', 'new', 'seller', 'services']\n",
            "\n",
            "\n",
            "key words in post title from the category:  Health,Safety,Sustainability,Security & Compliance\n",
            "['account', 'amazon', 'approval', 'hazmat', 'help', 'listing', 'product', 'products', 'restricted', 'safety', 'suspended']\n",
            "\n",
            "\n",
            "key words in post title from the category:  Login With Amazon\n",
            "['account', 'amazon', 'app', 'button', 'error', 'login', 'nt', 'pay', 'using']\n",
            "\n",
            "\n",
            "key words in post title from the category:  Amazon Custom\n",
            "['amazon', 'custom', 'customization', 'order']\n",
            "\n",
            "\n"
          ],
          "name": "stdout"
        }
      ]
    },
    {
      "cell_type": "markdown",
      "metadata": {
        "id": "4Zqv4ttQATV_",
        "colab_type": "text"
      },
      "source": [
        "## XGBoost"
      ]
    },
    {
      "cell_type": "code",
      "metadata": {
        "id": "pDzCmro7Achs",
        "colab_type": "code",
        "colab": {}
      },
      "source": [
        "df_2['Leading Comment'] = df_2['Leading Comment'].apply(lambda x: word_tokenize(x))\n",
        "df_2['Leading Comment'] = df_2['Leading Comment'].apply(lambda x: [stemmer.stem(word) for word in x])\n",
        "df_2['Leading Comment'] = df_2['Leading Comment'].apply(lambda x: ' '.join(x))\n",
        "\n",
        "df_2['Reply Comments'] = df_2['Reply Comments'].apply(lambda x: word_tokenize(x))\n",
        "df_2['Reply Comments'] = df_2['Reply Comments'].apply(lambda x: [stemmer.stem(word) for word in x])\n",
        "df_2['Reply Comments'] = df_2['Reply Comments'].apply(lambda x: ' '.join(x))\n",
        "\n",
        "corpus = df_2['Leading Comment'] + df_2['Reply Comments']"
      ],
      "execution_count": 6,
      "outputs": []
    },
    {
      "cell_type": "markdown",
      "metadata": {
        "id": "aQcjLxw4LFHo",
        "colab_type": "text"
      },
      "source": [
        "Benchmark model (leading comment only, no resempling, no hyperparameter tuning)"
      ]
    },
    {
      "cell_type": "code",
      "metadata": {
        "id": "ohbJCVLkS2gO",
        "colab_type": "code",
        "colab": {
          "base_uri": "https://localhost:8080/",
          "height": 370
        },
        "outputId": "ab76881b-d96c-448f-ff6e-089d5acfbc1d"
      },
      "source": [
        "vectorizer = TfidfVectorizer()\n",
        "\n",
        "vectorized_matrix = vectorizer.fit_transform(df_2['Leading Comment'])\n",
        "\n",
        "X = pd.DataFrame.sparse.from_spmatrix(vectorized_matrix,\n",
        "                                      columns=vectorizer.get_feature_names())\n",
        "\n",
        "y = df_2['Category']\n",
        "\n",
        "# Split dataset into training and testing\n",
        "X_train,X_test,y_train,y_test = train_test_split(X.values,y,\n",
        "                                                 test_size=0.3,\n",
        "                                                 random_state=123)\n",
        "# Initiate model\n",
        "clf = xgb.XGBClassifier(objective='multi:softmax')\n",
        "\n",
        "start_time = time.time()\n",
        "\n",
        "# Fit the model\n",
        "clf.fit(X_train,y_train)\n",
        "\n",
        "# Predict\n",
        "y_pred = clf.predict(X_test)\n",
        "\n",
        "end_time = time.time()\n",
        "\n",
        "run_time = end_time - start_time\n",
        "\n",
        "# Display result\n",
        "result = classification_report(y_test,y_pred)\n",
        "print(result)\n",
        "\n",
        "print('model run time: {} s'.format(np.round(run_time,2)))"
      ],
      "execution_count": 24,
      "outputs": [
        {
          "output_type": "stream",
          "text": [
            "                                                    precision    recall  f1-score   support\n",
            "\n",
            "                                    Account Health       0.79      0.79      0.79       461\n",
            "                                     Amazon Custom       0.49      0.25      0.33        73\n",
            "              Amazon Marketplace Web Service (MWS)       0.68      0.67      0.67        88\n",
            "                                        Amazon Pay       0.73      0.64      0.68       192\n",
            "                         Amazon Sponsored Products       0.79      0.67      0.73        93\n",
            "                             Fulfillment By Amazon       0.68      0.74      0.71       444\n",
            "                                    Global Selling       0.49      0.19      0.27       179\n",
            "                                            Groups       0.71      0.62      0.66       145\n",
            "Health,Safety,Sustainability,Security & Compliance       0.00      0.00      0.00        18\n",
            "                                 Login With Amazon       0.60      0.53      0.56        59\n",
            "                                 Selling on Amazon       0.48      0.69      0.57       653\n",
            "                                     Site Feedback       0.42      0.11      0.18        88\n",
            "                                  US Announcements       0.86      0.46      0.60        81\n",
            "\n",
            "                                          accuracy                           0.63      2574\n",
            "                                         macro avg       0.59      0.49      0.52      2574\n",
            "                                      weighted avg       0.63      0.63      0.61      2574\n",
            "\n",
            "model run time: 3290.72 s\n"
          ],
          "name": "stdout"
        }
      ]
    },
    {
      "cell_type": "markdown",
      "metadata": {
        "id": "T2xxh9d_K-IN",
        "colab_type": "text"
      },
      "source": [
        "model 1 (data resampling, leading comments only) "
      ]
    },
    {
      "cell_type": "code",
      "metadata": {
        "id": "Z8D4aVyFA-Ho",
        "colab_type": "code",
        "colab": {
          "base_uri": "https://localhost:8080/",
          "height": 423
        },
        "outputId": "32d1861a-31cc-4236-f09d-dc218c15aa1f"
      },
      "source": [
        "rus = RandomUnderSampler()\n",
        "X_resampled,y_resampled = rus.fit_resample(X,y)\n",
        "\n",
        "X_train,X_test,y_train,y_test = train_test_split(X_resampled,y_resampled,\n",
        "                                                 test_size=0.3,\n",
        "                                                 random_state=123)\n",
        "\n",
        "clf = xgb.XGBClassifier(objective='multi:softmax')\n",
        "\n",
        "start_time = time.time()\n",
        "\n",
        "clf.fit(X_train,y_train)\n",
        "\n",
        "y_pred = clf.predict(X_test)\n",
        "\n",
        "end_time = time.time()\n",
        "\n",
        "run_time = end_time - start_time\n",
        "\n",
        "result = classification_report(y_test,y_pred)\n",
        "print(result)\n",
        "\n",
        "print('model run time: {} s'.format(np.round(run_time,2)))\n"
      ],
      "execution_count": 25,
      "outputs": [
        {
          "output_type": "stream",
          "text": [
            "/usr/local/lib/python3.6/dist-packages/sklearn/utils/deprecation.py:87: FutureWarning: Function safe_indexing is deprecated; safe_indexing is deprecated in version 0.22 and will be removed in version 0.24.\n",
            "  warnings.warn(msg, category=FutureWarning)\n"
          ],
          "name": "stderr"
        },
        {
          "output_type": "stream",
          "text": [
            "                                                    precision    recall  f1-score   support\n",
            "\n",
            "                                    Account Health       0.54      0.37      0.44        19\n",
            "                                     Amazon Custom       0.44      0.61      0.51        18\n",
            "              Amazon Marketplace Web Service (MWS)       0.78      0.69      0.73        26\n",
            "                                        Amazon Pay       0.78      0.70      0.74        20\n",
            "                         Amazon Sponsored Products       0.95      0.75      0.84        24\n",
            "                             Fulfillment By Amazon       0.39      0.47      0.42        15\n",
            "                                    Global Selling       0.25      0.33      0.29        12\n",
            "                                            Groups       0.74      0.70      0.72        20\n",
            "Health,Safety,Sustainability,Security & Compliance       0.47      0.56      0.51        16\n",
            "                                 Login With Amazon       0.71      0.71      0.71        21\n",
            "                                 Selling on Amazon       0.14      0.23      0.17        13\n",
            "                                     Site Feedback       0.32      0.26      0.29        23\n",
            "                                  US Announcements       0.71      0.53      0.61        19\n",
            "\n",
            "                                          accuracy                           0.55       246\n",
            "                                         macro avg       0.56      0.53      0.54       246\n",
            "                                      weighted avg       0.59      0.55      0.57       246\n",
            "\n",
            "model run time: 362.54 s\n"
          ],
          "name": "stdout"
        }
      ]
    },
    {
      "cell_type": "markdown",
      "metadata": {
        "id": "0GnpsmeR2hCg",
        "colab_type": "text"
      },
      "source": [
        "model 2 (leading comments + reply, resampling)"
      ]
    },
    {
      "cell_type": "code",
      "metadata": {
        "id": "onD2q_2MMQfl",
        "colab_type": "code",
        "colab": {
          "base_uri": "https://localhost:8080/",
          "height": 423
        },
        "outputId": "42ff767b-0fa2-4902-8215-b8d080ce147f"
      },
      "source": [
        "vectorizer = TfidfVectorizer()\n",
        "\n",
        "rus = RandomUnderSampler()\n",
        "\n",
        "\n",
        "vectorized_matrix = vectorizer.fit_transform(corpus)\n",
        "\n",
        "X = pd.DataFrame.sparse.from_spmatrix(vectorized_matrix,\n",
        "                                      columns=vectorizer.get_feature_names())\n",
        "\n",
        "y = df_2['Category']\n",
        "\n",
        "X_resampled,y_resampled = rus.fit_resample(X,y)\n",
        "\n",
        "X_train,X_test,y_train,y_test = train_test_split(X_resampled,y_resampled,\n",
        "                                                 test_size=0.3,\n",
        "                                                 random_state=123)\n",
        "\n",
        "clf = xgb.XGBClassifier(objective='multi:softmax')\n",
        "\n",
        "start_time = time.time()\n",
        "\n",
        "clf.fit(X_train,y_train)\n",
        "\n",
        "y_pred = clf.predict(X_test)\n",
        "\n",
        "end_time = time.time()\n",
        "\n",
        "run_time = end_time - start_time\n",
        "\n",
        "result = classification_report(y_test,y_pred)\n",
        "print(result)\n",
        "\n",
        "print('model run time: {} s'.format(np.round(run_time,2)))"
      ],
      "execution_count": 8,
      "outputs": [
        {
          "output_type": "stream",
          "text": [
            "/usr/local/lib/python3.6/dist-packages/sklearn/utils/deprecation.py:87: FutureWarning: Function safe_indexing is deprecated; safe_indexing is deprecated in version 0.22 and will be removed in version 0.24.\n",
            "  warnings.warn(msg, category=FutureWarning)\n"
          ],
          "name": "stderr"
        },
        {
          "output_type": "stream",
          "text": [
            "                                                    precision    recall  f1-score   support\n",
            "\n",
            "                                    Account Health       0.74      0.74      0.74        19\n",
            "                                     Amazon Custom       0.28      0.28      0.28        18\n",
            "              Amazon Marketplace Web Service (MWS)       0.94      0.65      0.77        26\n",
            "                                        Amazon Pay       0.71      0.60      0.65        20\n",
            "                         Amazon Sponsored Products       0.95      0.88      0.91        24\n",
            "                             Fulfillment By Amazon       0.40      0.40      0.40        15\n",
            "                                    Global Selling       0.39      0.58      0.47        12\n",
            "                                            Groups       0.88      0.70      0.78        20\n",
            "Health,Safety,Sustainability,Security & Compliance       0.41      0.69      0.51        16\n",
            "                                 Login With Amazon       0.71      0.57      0.63        21\n",
            "                                 Selling on Amazon       0.12      0.23      0.16        13\n",
            "                                     Site Feedback       0.45      0.39      0.42        23\n",
            "                                  US Announcements       0.73      0.58      0.65        19\n",
            "\n",
            "                                          accuracy                           0.58       246\n",
            "                                         macro avg       0.59      0.56      0.57       246\n",
            "                                      weighted avg       0.63      0.58      0.60       246\n",
            "\n",
            "model run time: 1600.12 s\n"
          ],
          "name": "stdout"
        }
      ]
    },
    {
      "cell_type": "code",
      "metadata": {
        "id": "Uxi3s4aMtx5q",
        "colab_type": "code",
        "colab": {}
      },
      "source": [
        ""
      ],
      "execution_count": null,
      "outputs": []
    }
  ]
}