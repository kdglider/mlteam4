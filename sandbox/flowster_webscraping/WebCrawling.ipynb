{
 "cells": [
  {
   "cell_type": "code",
   "execution_count": 81,
   "metadata": {},
   "outputs": [
    {
     "name": "stdout",
     "output_type": "stream",
     "text": [
      "['About the Amazon Specific Category', 'Getting positive reviews', 'How Can I Increase My Amazon Conversion Rate', 'Reviews wiped out', 'Request a review', 'Vintage watch', 'How to reduce ACOS?', 'Amazon Limiting FBA Inbound Shipments', 'How can i open the category on amazon?', 'Report that shows $ for returned items?', 'Received email that said ODR is > 1%', 'Tax interview for non US citizen with US LLC', 'Seller Legend: compare month-over-month data', 'Just got approved for \"dangerous goods\" but can\\'t switch to FBA', 'FBA inventory storage fee breakdown', 'Choosing a niche for selling on Amazon', 'Thoughts on chasing price', 'Share reorder process', 'Add a new product to a sponsored ad campaign?', \"iPhone 11 won't scan UPC codes properly?\", 'Returned item without reason described?', 'Amazon sellers say online retail giant is trying to help itself, not consumers', 'Brand health - Question about optimized search terms', 'Amazon Product Listing Removed', 'Wholesale VS Agency business model?', 'Profit First- Inventory', 'How to sell a lead on the idea of product reviews = more sales', '\"4 stars and above\" Sponsored Ads?', 'Brand Registry', 'What software do you use to help optimize Amazon Sponsored Products ads?', 'About the Flowster-specific category', 'Welcome to the Flowster Community', 'WordPress-like Template Editing Control', 'Cold Email Outreach', 'Converting from TWF Scouting & Sourcing Spreadsheet to WEBS', 'Gated WEBS customer section', 'You can now change the order of Checklist widget items', 'Optimizing Keywords In Your Amazon Listings Using Helium 10', 'You can now choose which system emails you want to receive!', 'Use The Viral Launch Chrome Extension To Evaluate Amazon Markets', 'Conducting Amazon Market Research Through Viral Launch', 'Copy or Move Widgets to Another Task (or Template)', 'Moving Widgets to other Tasks', 'Updates to Workflows page', 'How To Setup Facebook Ad Manager And Create Ads That Convert', 'New Daily Assignment Reminder Email', '(POLL) Notification if SOP is listed in Marketplace for your industry?', 'Assigning A Workflow for 2 Different Tasks Possible', 'How To Use The Klaviyo Setup Wizard', 'Create Email Segmentation & Personalization In MailChimp', 'Your opinion on completed tasks appearing in the calendar', 'Increase Shopify Sales By Using Abandoned Cart Recovery', 'Blackbox: Amazon Product Research Tool', 'How To Properly Setup A Google Ads Account', 'Printable Task in Flowster?', 'Building Backlinks For Existing Content', 'Image not showing in standard WEBS templates', 'How can I schedule a Workflow that repeats every week day?', \"Get Backlinks: Competitors' Resource Pages\", 'Copy a Folder (And All Its Contents)', 'About the Product Sourcing Category', 'Top 10 Tips to Grow your Business Rapidly', 'Virtual Assistants', 'Can you sell branded products on Amazon uk', 'Price Checker Sales Estimate', 'Black Box (Amazon Product Research) - yay or nay?', \"VA's vs Outbound Call Center\", \"BO's Contact Info Research Linkedin paid account VA access\", 'Catalogs Analysis Best Practices', 'Selling books', 'How to remove Amazon from listing?', 'What do distributors care about?', 'How do I analyze a price sheet using PC2?', 'Sending Gmass Emails', 'Brand Contact Us page', 'Sending Mass email - Gmass', 'WEBS Strikes Again!', 'VA Scouting Expectation', 'Amazon', 'WEBS: How do I buy WEBS? (I want to Pay Full amount right away)', 'Winning new accounts using trade shows', 'Product Sourcing for Professionals', 'Existing Ads?', 'Email sourcing SOP missing?', 'Lack of responses', 'Video in your Email', 'Getting Started SOP - Required software needed to start', \"Responding to supplier's first email response\", 'Brand Exclusivity', 'Email Sourcing Zoom Meeting', 'About the Software & Tools category', 'Hubspot Changes', 'How to adjust the order of items in an online order?', 'Abandoned shopping carts and reporting', 'Shopify developer', 'Hubspot Set up', 'WEBS Flash Sale', 'What tool do use to cross-list to Walmart?', 'Email Account Organization', 'Website to show suppliers', 'HUBSPOT importing', 'Snov.io Account', 'Trello', 'Online brand presentations and slide shows', 'About the Fulfillment category', 'Supplies', 'Holiday FBA warehouse inventory deadlines?', 'Strategies to Reduce Shipping Costs', 'Amazon Valid Tracking Rate (VTR) formula?', 'Damage Inventory Case', 'FBA Revenue Calculator - Ship to Amazon?', 'Help with LTL', 'Why is the number of products purchased by the same customer vs the number of FBA shipments different?', 'How to get a quote for my item?', 'Should I use a Prep Center or a Warehouse?', 'California Prep Center recommendations', 'How do I decide what to do with my unfulfillable inventory?', 'When and how do you check on an inbound shipment to make sure your inventory was fully received?', 'How do you know your prep requirements?', 'Should I ship my products LTL or SPD?', 'How do I know how much my shipping costs will be?', 'About the Traffic Sources category', 'Best tools for emailing Amazon customers?', 'What is the best way to find highly searchable keywords?', 'How long does it take to start sending emails on Snovio?', \"What's your favorite eCommerce YouTube channels?\", 'What email marketing tool(s) do you recommend?', 'Generate traffic to product listings', 'How does dynamic bidding change your add position?', 'About the Management category', 'Cheapest way to send money to the Philippines', 'EFT Call for 1/2020: Should you add brand management services to your Amazon business?', 'Success habits vs failure habits', 'Takeaway #1 from mastermind', 'Pain is necessary', 'Takeaway #2 from the Mastermind Weekend', 'How to significantly increase your supplier lead generation', 'What is the biggest obstacle to your success?', 'Business name', 'EFT Call Summary for Dec 4 2019', 'Zapier', 'EFT Call Summary for Oct 16 2019', 'eCommerce Fast Track Mastermind Call Summary for July 18 2019', 'Hear from a $65M Seller', 'About the Misc Topics category', '3rd party fulfillment services', 'Any canadian sellers here?', 'The Wholesale Formula Works Training (TWF)', 'Anyone successfully sold an Amazon wholesale business?', \"Israel Cohen's Success Story\", 'Podcasts', 'Exclusive With Brands', 'U.S. Warehousing necessary as Canadian starting out?', 'Dealing With Idiots', 'Emailing from Hubspot', 'About the Human Resources category', 'Training a VA to find brand contact information', 'Performance reviews for Virtual Assistants?', 'Best job sites for virtual assistants?', 'Domestic vs Filipino VAs', 'Budgeting for virtual assistants', 'What email should be used for VA software use?', 'VA-How Would I Locate a VA to enter listings into Amazon & E-bay', 'When to use VAs vs employees?', 'Best va practices', 'VAs familiar with WEBS?', 'Letting go of a VA', 'Getting a VA for 1.50', 'VA using PC2 & Revseller', 'VA workload', 'VAs Using Tools', 'When to stop accepting applicants', 'VAs and the number of Prime sellers', 'Hiring first VA', 'VAs using your emails?', 'Where have you found your best hires?', 'About the Financial Management category', 'Cashback cards for non US citizens?', 'Purchase Orders for Bundles', 'Sales tax', 'Tracking COGs beyond Amazon', 'Tracking COGS', 'Accounting Software', 'About the Sales Channels & Marketplaces Category', 'Storefront Question']\n"
     ]
    }
   ],
   "source": [
    "import requests\n",
    "from bs4 import BeautifulSoup\n",
    "import pandas as pd\n",
    "\n",
    "base = \"https://forum.flowster.app/\"\n",
    "response = requests.get(base)\n",
    "soup = BeautifulSoup(response.text, 'html.parser')\n",
    "\n",
    "lead_c=[]\n",
    "tags_c=[]\n",
    "topic_c=[]\n",
    "rest_c=[]\n",
    "\n",
    "def get_links(num_elem=None):\n",
    "    access_url = soup.find_all('a')\n",
    "    links = []\n",
    "    for item in access_url:\n",
    "        links.append(base+item.get('href'))\n",
    "    if isinstance(num_elem, int):\n",
    "        links = links[1:num_elem+1]\n",
    "        return links\n",
    "    return links[1:]\n",
    "\n",
    "#create a list of the urls of the first layer of categories\n",
    "category_link = get_links(12)\n",
    "\n",
    "for category in category_link:\n",
    "    page = requests.get(category)\n",
    "    soup = BeautifulSoup(page.text, 'html.parser')\n",
    "    \n",
    "    temp = []\n",
    "    topic_link = []\n",
    "    temp = soup.find_all('a',class_=\"title raw-link raw-topic-link\")\n",
    "    for link in temp:\n",
    "        topic_link.append(link.get('href'))\n",
    "\n",
    "    for topic in topic_link:\n",
    "        page = requests.get(topic)\n",
    "        soup = BeautifulSoup(page.text, 'html.parser') \n",
    "        temp_tag = []\n",
    "        #print(soup.prettify())\n",
    "        \n",
    "        #get the leading comment under each topic\n",
    "        for j in soup.find_all('meta',property='og:description'):\n",
    "            lead = j.get('content')\n",
    "            lead_c.append(lead)\n",
    "            \n",
    "        #get tags for each topic and form them into a list of lists\n",
    "        #we want a list of list so that the tag_c length matches up with the topic_c length\n",
    "        for n in soup.find_all('span', class_=\"category-name\"):\n",
    "            temp_tag.append(n.getText())\n",
    "        tags_c.append(temp_tag)\n",
    "        \n",
    "        #get the topic title\n",
    "        for i in soup.find_all(\"meta\", property=\"og:title\"):\n",
    "            topic = i.get(\"content\")\n",
    "            topic_c.append(topic)\n",
    "print(topic_c)\n",
    "#print(lead_c)\n",
    "            "
   ]
  },
  {
   "cell_type": "code",
   "execution_count": 82,
   "metadata": {},
   "outputs": [
    {
     "ename": "ValueError",
     "evalue": "arrays must all be same length",
     "output_type": "error",
     "traceback": [
      "\u001b[0;31m---------------------------------------------------------------------------\u001b[0m",
      "\u001b[0;31mValueError\u001b[0m                                Traceback (most recent call last)",
      "\u001b[0;32m<ipython-input-82-3e6c4a31ede7>\u001b[0m in \u001b[0;36m<module>\u001b[0;34m\u001b[0m\n\u001b[1;32m      1\u001b[0m \u001b[0mdata\u001b[0m \u001b[0;34m=\u001b[0m \u001b[0;34m{\u001b[0m\u001b[0;34m'Topic'\u001b[0m\u001b[0;34m:\u001b[0m \u001b[0mtopic_c\u001b[0m\u001b[0;34m,\u001b[0m\u001b[0;34m'Lead_c'\u001b[0m\u001b[0;34m:\u001b[0m \u001b[0mlead_c\u001b[0m\u001b[0;34m,\u001b[0m \u001b[0;34m'Tags'\u001b[0m\u001b[0;34m:\u001b[0m \u001b[0mtags_c\u001b[0m\u001b[0;34m,\u001b[0m \u001b[0;34m}\u001b[0m\u001b[0;34m\u001b[0m\u001b[0;34m\u001b[0m\u001b[0m\n\u001b[0;32m----> 2\u001b[0;31m \u001b[0mdf\u001b[0m\u001b[0;34m=\u001b[0m\u001b[0mpd\u001b[0m\u001b[0;34m.\u001b[0m\u001b[0mDataFrame\u001b[0m\u001b[0;34m(\u001b[0m\u001b[0mdata\u001b[0m\u001b[0;34m=\u001b[0m\u001b[0mdata\u001b[0m\u001b[0;34m)\u001b[0m\u001b[0;34m\u001b[0m\u001b[0;34m\u001b[0m\u001b[0m\n\u001b[0m",
      "\u001b[0;32m~/opt/anaconda3/lib/python3.7/site-packages/pandas/core/frame.py\u001b[0m in \u001b[0;36m__init__\u001b[0;34m(self, data, index, columns, dtype, copy)\u001b[0m\n\u001b[1;32m    409\u001b[0m             )\n\u001b[1;32m    410\u001b[0m         \u001b[0;32melif\u001b[0m \u001b[0misinstance\u001b[0m\u001b[0;34m(\u001b[0m\u001b[0mdata\u001b[0m\u001b[0;34m,\u001b[0m \u001b[0mdict\u001b[0m\u001b[0;34m)\u001b[0m\u001b[0;34m:\u001b[0m\u001b[0;34m\u001b[0m\u001b[0;34m\u001b[0m\u001b[0m\n\u001b[0;32m--> 411\u001b[0;31m             \u001b[0mmgr\u001b[0m \u001b[0;34m=\u001b[0m \u001b[0minit_dict\u001b[0m\u001b[0;34m(\u001b[0m\u001b[0mdata\u001b[0m\u001b[0;34m,\u001b[0m \u001b[0mindex\u001b[0m\u001b[0;34m,\u001b[0m \u001b[0mcolumns\u001b[0m\u001b[0;34m,\u001b[0m \u001b[0mdtype\u001b[0m\u001b[0;34m=\u001b[0m\u001b[0mdtype\u001b[0m\u001b[0;34m)\u001b[0m\u001b[0;34m\u001b[0m\u001b[0;34m\u001b[0m\u001b[0m\n\u001b[0m\u001b[1;32m    412\u001b[0m         \u001b[0;32melif\u001b[0m \u001b[0misinstance\u001b[0m\u001b[0;34m(\u001b[0m\u001b[0mdata\u001b[0m\u001b[0;34m,\u001b[0m \u001b[0mma\u001b[0m\u001b[0;34m.\u001b[0m\u001b[0mMaskedArray\u001b[0m\u001b[0;34m)\u001b[0m\u001b[0;34m:\u001b[0m\u001b[0;34m\u001b[0m\u001b[0;34m\u001b[0m\u001b[0m\n\u001b[1;32m    413\u001b[0m             \u001b[0;32mimport\u001b[0m \u001b[0mnumpy\u001b[0m\u001b[0;34m.\u001b[0m\u001b[0mma\u001b[0m\u001b[0;34m.\u001b[0m\u001b[0mmrecords\u001b[0m \u001b[0;32mas\u001b[0m \u001b[0mmrecords\u001b[0m\u001b[0;34m\u001b[0m\u001b[0;34m\u001b[0m\u001b[0m\n",
      "\u001b[0;32m~/opt/anaconda3/lib/python3.7/site-packages/pandas/core/internals/construction.py\u001b[0m in \u001b[0;36minit_dict\u001b[0;34m(data, index, columns, dtype)\u001b[0m\n\u001b[1;32m    255\u001b[0m             \u001b[0marr\u001b[0m \u001b[0;32mif\u001b[0m \u001b[0;32mnot\u001b[0m \u001b[0mis_datetime64tz_dtype\u001b[0m\u001b[0;34m(\u001b[0m\u001b[0marr\u001b[0m\u001b[0;34m)\u001b[0m \u001b[0;32melse\u001b[0m \u001b[0marr\u001b[0m\u001b[0;34m.\u001b[0m\u001b[0mcopy\u001b[0m\u001b[0;34m(\u001b[0m\u001b[0;34m)\u001b[0m \u001b[0;32mfor\u001b[0m \u001b[0marr\u001b[0m \u001b[0;32min\u001b[0m \u001b[0marrays\u001b[0m\u001b[0;34m\u001b[0m\u001b[0;34m\u001b[0m\u001b[0m\n\u001b[1;32m    256\u001b[0m         ]\n\u001b[0;32m--> 257\u001b[0;31m     \u001b[0;32mreturn\u001b[0m \u001b[0marrays_to_mgr\u001b[0m\u001b[0;34m(\u001b[0m\u001b[0marrays\u001b[0m\u001b[0;34m,\u001b[0m \u001b[0mdata_names\u001b[0m\u001b[0;34m,\u001b[0m \u001b[0mindex\u001b[0m\u001b[0;34m,\u001b[0m \u001b[0mcolumns\u001b[0m\u001b[0;34m,\u001b[0m \u001b[0mdtype\u001b[0m\u001b[0;34m=\u001b[0m\u001b[0mdtype\u001b[0m\u001b[0;34m)\u001b[0m\u001b[0;34m\u001b[0m\u001b[0;34m\u001b[0m\u001b[0m\n\u001b[0m\u001b[1;32m    258\u001b[0m \u001b[0;34m\u001b[0m\u001b[0m\n\u001b[1;32m    259\u001b[0m \u001b[0;34m\u001b[0m\u001b[0m\n",
      "\u001b[0;32m~/opt/anaconda3/lib/python3.7/site-packages/pandas/core/internals/construction.py\u001b[0m in \u001b[0;36marrays_to_mgr\u001b[0;34m(arrays, arr_names, index, columns, dtype)\u001b[0m\n\u001b[1;32m     75\u001b[0m     \u001b[0;31m# figure out the index, if necessary\u001b[0m\u001b[0;34m\u001b[0m\u001b[0;34m\u001b[0m\u001b[0;34m\u001b[0m\u001b[0m\n\u001b[1;32m     76\u001b[0m     \u001b[0;32mif\u001b[0m \u001b[0mindex\u001b[0m \u001b[0;32mis\u001b[0m \u001b[0;32mNone\u001b[0m\u001b[0;34m:\u001b[0m\u001b[0;34m\u001b[0m\u001b[0;34m\u001b[0m\u001b[0m\n\u001b[0;32m---> 77\u001b[0;31m         \u001b[0mindex\u001b[0m \u001b[0;34m=\u001b[0m \u001b[0mextract_index\u001b[0m\u001b[0;34m(\u001b[0m\u001b[0marrays\u001b[0m\u001b[0;34m)\u001b[0m\u001b[0;34m\u001b[0m\u001b[0;34m\u001b[0m\u001b[0m\n\u001b[0m\u001b[1;32m     78\u001b[0m     \u001b[0;32melse\u001b[0m\u001b[0;34m:\u001b[0m\u001b[0;34m\u001b[0m\u001b[0;34m\u001b[0m\u001b[0m\n\u001b[1;32m     79\u001b[0m         \u001b[0mindex\u001b[0m \u001b[0;34m=\u001b[0m \u001b[0mensure_index\u001b[0m\u001b[0;34m(\u001b[0m\u001b[0mindex\u001b[0m\u001b[0;34m)\u001b[0m\u001b[0;34m\u001b[0m\u001b[0;34m\u001b[0m\u001b[0m\n",
      "\u001b[0;32m~/opt/anaconda3/lib/python3.7/site-packages/pandas/core/internals/construction.py\u001b[0m in \u001b[0;36mextract_index\u001b[0;34m(data)\u001b[0m\n\u001b[1;32m    366\u001b[0m             \u001b[0mlengths\u001b[0m \u001b[0;34m=\u001b[0m \u001b[0mlist\u001b[0m\u001b[0;34m(\u001b[0m\u001b[0mset\u001b[0m\u001b[0;34m(\u001b[0m\u001b[0mraw_lengths\u001b[0m\u001b[0;34m)\u001b[0m\u001b[0;34m)\u001b[0m\u001b[0;34m\u001b[0m\u001b[0;34m\u001b[0m\u001b[0m\n\u001b[1;32m    367\u001b[0m             \u001b[0;32mif\u001b[0m \u001b[0mlen\u001b[0m\u001b[0;34m(\u001b[0m\u001b[0mlengths\u001b[0m\u001b[0;34m)\u001b[0m \u001b[0;34m>\u001b[0m \u001b[0;36m1\u001b[0m\u001b[0;34m:\u001b[0m\u001b[0;34m\u001b[0m\u001b[0;34m\u001b[0m\u001b[0m\n\u001b[0;32m--> 368\u001b[0;31m                 \u001b[0;32mraise\u001b[0m \u001b[0mValueError\u001b[0m\u001b[0;34m(\u001b[0m\u001b[0;34m\"arrays must all be same length\"\u001b[0m\u001b[0;34m)\u001b[0m\u001b[0;34m\u001b[0m\u001b[0;34m\u001b[0m\u001b[0m\n\u001b[0m\u001b[1;32m    369\u001b[0m \u001b[0;34m\u001b[0m\u001b[0m\n\u001b[1;32m    370\u001b[0m             \u001b[0;32mif\u001b[0m \u001b[0mhave_dicts\u001b[0m\u001b[0;34m:\u001b[0m\u001b[0;34m\u001b[0m\u001b[0;34m\u001b[0m\u001b[0m\n",
      "\u001b[0;31mValueError\u001b[0m: arrays must all be same length"
     ]
    }
   ],
   "source": [
    "data = {'Topic': topic_c,'Lead_c': lead_c, 'Tags': tags_c, }\n",
    "df=pd.DataFrame(data=data)\n"
   ]
  },
  {
   "cell_type": "code",
   "execution_count": null,
   "metadata": {},
   "outputs": [],
   "source": []
  }
 ],
 "metadata": {
  "kernelspec": {
   "display_name": "Python 3",
   "language": "python",
   "name": "python3"
  },
  "language_info": {
   "codemirror_mode": {
    "name": "ipython",
    "version": 3
   },
   "file_extension": ".py",
   "mimetype": "text/x-python",
   "name": "python",
   "nbconvert_exporter": "python",
   "pygments_lexer": "ipython3",
   "version": "3.7.4"
  }
 },
 "nbformat": 4,
 "nbformat_minor": 2
}
