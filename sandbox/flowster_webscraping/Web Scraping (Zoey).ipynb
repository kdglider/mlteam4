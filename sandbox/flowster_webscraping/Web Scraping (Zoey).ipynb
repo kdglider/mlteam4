{
 "cells": [
  {
   "cell_type": "code",
   "execution_count": 29,
   "metadata": {},
   "outputs": [],
   "source": [
    "from bs4 import BeautifulSoup\n",
    "import requests"
   ]
  },
  {
   "cell_type": "code",
   "execution_count": 30,
   "metadata": {},
   "outputs": [
    {
     "name": "stdout",
     "output_type": "stream",
     "text": [
      "200\n"
     ]
    }
   ],
   "source": [
    "# Collect homepage\n",
    "home = requests.get('https://forum.flowster.app/')\n",
    "\n",
    "print(home.status_code)\n",
    "#print(home.headers)\n",
    "\n",
    "src = home.content\n",
    "#print(src)\n",
    "\n",
    "# Create a BeautifulSoup object\n",
    "soup = BeautifulSoup(home.text, 'html.parser')"
   ]
  },
  {
   "cell_type": "code",
   "execution_count": 31,
   "metadata": {},
   "outputs": [],
   "source": [
    "# Find all links on the page\n",
    "links = soup.find_all(\"a\")\n",
    "#print(links)"
   ]
  },
  {
   "cell_type": "code",
   "execution_count": 32,
   "metadata": {},
   "outputs": [
    {
     "name": "stdout",
     "output_type": "stream",
     "text": [
      "['https://forum.flowster.app/c/amazon-specific', 'https://forum.flowster.app/c/flowster', 'https://forum.flowster.app/c/product-sourcing', 'https://forum.flowster.app/c/software-tools', 'https://forum.flowster.app/c/fulfillment', 'https://forum.flowster.app/c/traffic', 'https://forum.flowster.app/c/management', 'https://forum.flowster.app/c/misc-topics', 'https://forum.flowster.app/c/human-resources', 'https://forum.flowster.app/c/financial-management', 'https://forum.flowster.app/c/sales-channels', 'https://forum.flowster.app/c/store-website-management']\n",
      "12\n"
     ]
    }
   ],
   "source": [
    "# Print out all categories\n",
    "urls=[]\n",
    "i = 0\n",
    "for link in links:\n",
    "    if i in range(1, 13):\n",
    "        category = 'https://forum.flowster.app' + link['href']\n",
    "        urls.append(category)\n",
    "    i += 1\n",
    "print(urls)\n",
    "print(len(urls))"
   ]
  },
  {
   "cell_type": "code",
   "execution_count": 183,
   "metadata": {},
   "outputs": [
    {
     "data": {
      "text/plain": [
       "186"
      ]
     },
     "execution_count": 183,
     "metadata": {},
     "output_type": "execute_result"
    }
   ],
   "source": [
    "topic_links=[]\n",
    "\n",
    "for j in range(0, 12):\n",
    "    category = requests.get(urls[j])\n",
    "    soup2 = BeautifulSoup(category.text, 'html.parser')\n",
    "    spans = soup2.find_all('span', class_=\"link-top-line\")\n",
    "    m = 1\n",
    "    for span in spans:\n",
    "        topics = span.find_all('a')\n",
    "        for topic in topics:\n",
    "            #print(m, \": \", topic['href'])\n",
    "            topic_links.append(topic['href'])\n",
    "        m += 1\n",
    "\n",
    "len(topic_links)\n",
    "\n",
    "    #print('-----------------------------------------------------------')\n",
    "\n",
    "##### can only print out 30 at most for each page ####"
   ]
  },
  {
   "cell_type": "code",
   "execution_count": 221,
   "metadata": {},
   "outputs": [],
   "source": [
    "### ALL SCRAPING FUNCTIONS ###\n",
    "\n",
    "\n",
    "## Leading comment\n",
    "def leading_comment(url):\n",
    "    leading_comment = requests.get(url)\n",
    "    soup2 = BeautifulSoup(leading_comment.text, 'html.parser')\n",
    "    comments = soup2.find_all(\"meta\", property='og:description')\n",
    "    for comment in comments:\n",
    "        lead = comment.get('content')\n",
    "        #print('Leading Commnet: ', lead)\n",
    "        return(lead)\n",
    "    \n",
    "## Other comments (count from 2)\n",
    "def other_comment(url):\n",
    "    others = requests.get(url)\n",
    "    soup2 = BeautifulSoup(others.text, 'html.parser')\n",
    "    comments = soup2.findAll('div', {\"class\": \"post\"})\n",
    "    i = 2\n",
    "    for c in comments:\n",
    "        comment = c.getText()\n",
    "        #print('Comment ' + str(i) + ': ' + comment)\n",
    "        i += 1\n",
    "        return(comment)\n",
    "\n",
    "\n",
    "## Tags\n",
    "def tag(url):\n",
    "    tags = requests.get(url)\n",
    "    soup2 = BeautifulSoup(tags.text, 'html.parser')\n",
    "    tags = soup2.find_all('span', class_=\"category-name\")\n",
    "    i = 1\n",
    "    for g in tags:\n",
    "        tag = g.getText()\n",
    "        #print('Tag: ' + str(i) + ': ' + tag)\n",
    "        i += 1\n",
    "        return(tag)\n",
    "\n",
    "        \n",
    "## Authors\n",
    "def author(url):\n",
    "    authors = requests.get(url)\n",
    "    soup2 = BeautifulSoup(authors.text, 'html.parser')\n",
    "    authors = soup2.find_all('span', class_='creator')\n",
    "    i = 1\n",
    "    for a in authors:\n",
    "        author = a.getText()\n",
    "        #print('Author: ' + str(i) + ': ' + author.strip())\n",
    "        i += 1\n",
    "        return(author.strip())\n",
    "\n",
    "        \n",
    "## Topic titles\n",
    "def topic_title(url):\n",
    "    topics = requests.get(url)\n",
    "    soup2 = BeautifulSoup(topics.text, 'html.parser')\n",
    "    topics = soup2.find_all(\"meta\", property=\"og:title\")\n",
    "    for t in topics:\n",
    "        topic = t.get('content')\n",
    "        #print('Topic Title: ', topic)\n",
    "        return(topic)\n",
    "    \n",
    "    \n",
    "## Category\n",
    "\n",
    "\n",
    "## Views\n",
    "\n",
    "\n",
    "## Likes"
   ]
  },
  {
   "cell_type": "code",
   "execution_count": null,
   "metadata": {},
   "outputs": [
    {
     "name": "stdout",
     "output_type": "stream",
     "text": [
      "-----------------------------------------------------------\n",
      "-----------------------------------------------------------\n",
      "-----------------------------------------------------------\n",
      "-----------------------------------------------------------\n",
      "-----------------------------------------------------------\n",
      "-----------------------------------------------------------\n",
      "-----------------------------------------------------------\n"
     ]
    }
   ],
   "source": [
    "### WEB SCRAPING - FLOWSTER ###\n",
    "\n",
    "\n",
    "for j in range(0, 186):\n",
    "    url = topic_links[j]\n",
    "    topic_title(url)\n",
    "    tag(url)\n",
    "    author(url)\n",
    "    leading_comment(url)\n",
    "    other_comment(url)\n",
    "    \n",
    "    print('-----------------------------------------------------------')\n"
   ]
  },
  {
   "cell_type": "code",
   "execution_count": 172,
   "metadata": {},
   "outputs": [
    {
     "name": "stdout",
     "output_type": "stream",
     "text": [
      "Topic Title:  Getting positive reviews\n",
      "Tag: 1: Amazon Specific\n",
      "Tag: 2: Reviews & Customer Service\n",
      "Author: 1: D.Jin\n",
      "Author: 2: grant\n",
      "Author: 3: D.Jin\n",
      "Author: 4: LizD\n",
      "Leading Commnet:  Hi,  Is there any amazon compliant manner of getting positive reviews for your listing?  Cheers,  David\n",
      "Comment 2: \n",
      "Hi,\n",
      "Is there any amazon compliant manner of getting positive reviews for your listing?\n",
      "Cheers,\n",
      "David\n",
      "\n",
      "Comment 3: \n",
      "Hi David,\n",
      "Yes there are, you can use a product review software such as zonmaster or feedbackfive to request customers leave a review. Let me know if this helps!\n",
      "-Grant\n",
      "\n",
      "Comment 4: \n",
      "Hi Grant,\n",
      "Thank you for your answer. I will look into the softwares.\n",
      "Cheers,\n",
      "David\n",
      "\n",
      "Comment 5: \n",
      "You can also still use giveaway/promo sites… you just can’t ask for reviews using those sites.\n",
      "\n"
     ]
    }
   ],
   "source": [
    "### EXAMPLE ###\n",
    "\n",
    "url = 'https://forum.flowster.app/t/getting-positive-reviews/826'\n",
    "topic_title(url)\n",
    "tag(url)\n",
    "author(url)\n",
    "leading_comment(url)\n",
    "other_comment(url)"
   ]
  },
  {
   "cell_type": "code",
   "execution_count": null,
   "metadata": {},
   "outputs": [],
   "source": [
    "### SAVE AS CSV FILE ###\n",
    "\n",
    "import pandas as pd\n",
    "\n",
    "result_df = pd.DataFrame(columns=['Topic Title', 'Tags', 'Authors', 'Leading Comment', 'Other Comments'])\n",
    "\n",
    "\n",
    "\n",
    "## get other topic contents and append to dataframe:\n",
    "for j in range(0, 186):\n",
    "    url = topic_links[j]\n",
    "    result_df = result_df.append({'Topic Title': topic_title(url), \n",
    "                                  'Tags': tag(url), \n",
    "                                  'Authors': author(url), \n",
    "                                  'Leading Comment': leading_comment(url), \n",
    "                                  'Other Comments': other_comment(url)}, ignore_index=True)\n",
    "    #print(j)\n",
    "    \n",
    "print(result_df.shape)\n",
    "\n"
   ]
  },
  {
   "cell_type": "code",
   "execution_count": 226,
   "metadata": {},
   "outputs": [],
   "source": [
    "result_df.to_csv('flowster_data.csv')"
   ]
  },
  {
   "cell_type": "code",
   "execution_count": 224,
   "metadata": {},
   "outputs": [
    {
     "data": {
      "text/html": [
       "<div>\n",
       "<style scoped>\n",
       "    .dataframe tbody tr th:only-of-type {\n",
       "        vertical-align: middle;\n",
       "    }\n",
       "\n",
       "    .dataframe tbody tr th {\n",
       "        vertical-align: top;\n",
       "    }\n",
       "\n",
       "    .dataframe thead th {\n",
       "        text-align: right;\n",
       "    }\n",
       "</style>\n",
       "<table border=\"1\" class=\"dataframe\">\n",
       "  <thead>\n",
       "    <tr style=\"text-align: right;\">\n",
       "      <th></th>\n",
       "      <th>Topic Title</th>\n",
       "      <th>Tags</th>\n",
       "      <th>Authors</th>\n",
       "      <th>Leading Comment</th>\n",
       "      <th>Other Comments</th>\n",
       "    </tr>\n",
       "  </thead>\n",
       "  <tbody>\n",
       "    <tr>\n",
       "      <td>0</td>\n",
       "      <td>About the Amazon Specific Category</td>\n",
       "      <td>Amazon Specific</td>\n",
       "      <td>Trent-Admin</td>\n",
       "      <td>Have questions about using the Amazon marketpl...</td>\n",
       "      <td>\\nHave questions about using the Amazon market...</td>\n",
       "    </tr>\n",
       "    <tr>\n",
       "      <td>1</td>\n",
       "      <td>Getting positive reviews</td>\n",
       "      <td>Amazon Specific</td>\n",
       "      <td>D.Jin</td>\n",
       "      <td>Hi,  Is there any amazon compliant manner of g...</td>\n",
       "      <td>\\nHi,\\nIs there any amazon compliant manner of...</td>\n",
       "    </tr>\n",
       "    <tr>\n",
       "      <td>2</td>\n",
       "      <td>How Can I Increase My Amazon Conversion Rate</td>\n",
       "      <td>Amazon Specific</td>\n",
       "      <td>chcsteele9</td>\n",
       "      <td>How Can I Increase My Amazon Conversion Rate?</td>\n",
       "      <td>\\nHow Can I Increase My Amazon Conversion Rate?\\n</td>\n",
       "    </tr>\n",
       "    <tr>\n",
       "      <td>3</td>\n",
       "      <td>Reviews wiped out</td>\n",
       "      <td>Amazon Specific</td>\n",
       "      <td>liahsidney</td>\n",
       "      <td>Any one familiar with reviews wiped out? Is th...</td>\n",
       "      <td>\\nAny one familiar with reviews wiped out? Is ...</td>\n",
       "    </tr>\n",
       "    <tr>\n",
       "      <td>4</td>\n",
       "      <td>Request a review</td>\n",
       "      <td>Amazon Specific</td>\n",
       "      <td>liahsidney</td>\n",
       "      <td>Anyone encountered the new feature in the mana...</td>\n",
       "      <td>\\nAnyone encountered the new feature in the ma...</td>\n",
       "    </tr>\n",
       "  </tbody>\n",
       "</table>\n",
       "</div>"
      ],
      "text/plain": [
       "                                    Topic Title             Tags      Authors  \\\n",
       "0            About the Amazon Specific Category  Amazon Specific  Trent-Admin   \n",
       "1                      Getting positive reviews  Amazon Specific        D.Jin   \n",
       "2  How Can I Increase My Amazon Conversion Rate  Amazon Specific   chcsteele9   \n",
       "3                             Reviews wiped out  Amazon Specific   liahsidney   \n",
       "4                              Request a review  Amazon Specific   liahsidney   \n",
       "\n",
       "                                     Leading Comment  \\\n",
       "0  Have questions about using the Amazon marketpl...   \n",
       "1  Hi,  Is there any amazon compliant manner of g...   \n",
       "2      How Can I Increase My Amazon Conversion Rate?   \n",
       "3  Any one familiar with reviews wiped out? Is th...   \n",
       "4  Anyone encountered the new feature in the mana...   \n",
       "\n",
       "                                      Other Comments  \n",
       "0  \\nHave questions about using the Amazon market...  \n",
       "1  \\nHi,\\nIs there any amazon compliant manner of...  \n",
       "2  \\nHow Can I Increase My Amazon Conversion Rate?\\n  \n",
       "3  \\nAny one familiar with reviews wiped out? Is ...  \n",
       "4  \\nAnyone encountered the new feature in the ma...  "
      ]
     },
     "execution_count": 224,
     "metadata": {},
     "output_type": "execute_result"
    }
   ],
   "source": [
    "data = pd.read_csv(\"flowster_data.csv\", index_col=0) \n",
    "\n",
    "# Preview the first 5 lines of the loaded data \n",
    "data.head()"
   ]
  },
  {
   "cell_type": "code",
   "execution_count": null,
   "metadata": {},
   "outputs": [],
   "source": []
  },
  {
   "cell_type": "code",
   "execution_count": null,
   "metadata": {},
   "outputs": [],
   "source": []
  },
  {
   "cell_type": "code",
   "execution_count": null,
   "metadata": {},
   "outputs": [],
   "source": []
  },
  {
   "cell_type": "code",
   "execution_count": 222,
   "metadata": {},
   "outputs": [],
   "source": [
    "import pandas as pd\n",
    "\n",
    "result_df = pd.DataFrame(columns=['Topic Title', 'Tags', 'Authors', 'Leading Comment', 'Other Comments'])\n",
    "\n",
    "for j in range(0, 10):\n",
    "    url = topic_links[j]\n",
    "    result_df = result_df.append({'Topic Title': topic_title(url), \n",
    "                                  'Tags': tag(url), \n",
    "                                  'Authors': author(url), \n",
    "                                  'Leading Comment': leading_comment(url), \n",
    "                                  'Other Comments': other_comment(url)}, ignore_index=True)\n",
    "\n",
    "result_df.to_csv('example_csv.csv')"
   ]
  },
  {
   "cell_type": "code",
   "execution_count": 223,
   "metadata": {},
   "outputs": [
    {
     "name": "stdout",
     "output_type": "stream",
     "text": [
      "                                    Topic Title             Tags      Authors  \\\n",
      "0            About the Amazon Specific Category  Amazon Specific  Trent-Admin   \n",
      "1                      Getting positive reviews  Amazon Specific        D.Jin   \n",
      "2  How Can I Increase My Amazon Conversion Rate  Amazon Specific   chcsteele9   \n",
      "3                             Reviews wiped out  Amazon Specific   liahsidney   \n",
      "4                              Request a review  Amazon Specific   liahsidney   \n",
      "5                                 Vintage watch  Amazon Specific    ClarkAtti   \n",
      "6                           How to reduce ACOS?  Amazon Specific         jims   \n",
      "7         Amazon Limiting FBA Inbound Shipments  Amazon Specific        Mitch   \n",
      "8        How can i open the category on amazon?  Amazon Specific         Khan   \n",
      "9       Report that shows $ for returned items?  Amazon Specific       randy1   \n",
      "\n",
      "                                     Leading Comment  \\\n",
      "0  Have questions about using the Amazon marketpl...   \n",
      "1  Hi,  Is there any amazon compliant manner of g...   \n",
      "2      How Can I Increase My Amazon Conversion Rate?   \n",
      "3  Any one familiar with reviews wiped out? Is th...   \n",
      "4  Anyone encountered the new feature in the mana...   \n",
      "5  Hi! I have some used vintage watches. Can i se...   \n",
      "6  My ACOS is around 70% right now. Which is pret...   \n",
      "7  As I’m sure you all have heard from Amazon, th...   \n",
      "8  How can i open the category on amazon? I want ...   \n",
      "9  We’re trying to find a report that shows the v...   \n",
      "\n",
      "                                      Other Comments  \n",
      "0  \\nHave questions about using the Amazon market...  \n",
      "1  \\nHi,\\nIs there any amazon compliant manner of...  \n",
      "2  \\nHow Can I Increase My Amazon Conversion Rate?\\n  \n",
      "3  \\nAny one familiar with reviews wiped out? Is ...  \n",
      "4  \\nAnyone encountered the new feature in the ma...  \n",
      "5  \\nHi! I have some used vintage watches. Can i ...  \n",
      "6  \\nMy ACOS is around 70% right now. Which is pr...  \n",
      "7  \\nAs I’m sure you all have heard from Amazon, ...  \n",
      "8  \\nHow can i open the category on amazon? I wan...  \n",
      "9  \\nWe’re trying to find a report that shows the...  \n",
      "(10, 5)\n"
     ]
    }
   ],
   "source": [
    "print(result_df)\n",
    "print(result_df.shape)"
   ]
  },
  {
   "cell_type": "code",
   "execution_count": null,
   "metadata": {},
   "outputs": [],
   "source": []
  }
 ],
 "metadata": {
  "kernelspec": {
   "display_name": "Python 3.7.4 64-bit ('base': conda)",
   "language": "python",
   "name": "python37464bitbaseconda1310509b418348bfb88fedb28bc9a5b8"
  },
  "language_info": {
   "codemirror_mode": {
    "name": "ipython",
    "version": 3
   },
   "file_extension": ".py",
   "mimetype": "text/x-python",
   "name": "python",
   "nbconvert_exporter": "python",
   "pygments_lexer": "ipython3",
   "version": "3.7.4"
  }
 },
 "nbformat": 4,
 "nbformat_minor": 2
}
