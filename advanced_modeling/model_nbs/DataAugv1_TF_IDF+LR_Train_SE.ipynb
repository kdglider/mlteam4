{
  "nbformat": 4,
  "nbformat_minor": 0,
  "metadata": {
    "kernelspec": {
      "display_name": "Python 3",
      "language": "python",
      "name": "python3"
    },
    "toc": {
      "base_numbering": 1,
      "nav_menu": {},
      "number_sections": true,
      "sideBar": true,
      "skip_h1_title": false,
      "title_cell": "Table of Contents",
      "title_sidebar": "Contents",
      "toc_cell": false,
      "toc_position": {},
      "toc_section_display": true,
      "toc_window_display": false
    },
    "colab": {
      "name": "Full_DataAugmentedV1_TF-IDF+LR_Train_SaraE.ipynb",
      "provenance": [],
      "collapsed_sections": []
    }
  },
  "cells": [
    {
      "cell_type": "markdown",
      "metadata": {
        "id": "8aKlr_ceZ80F",
        "colab_type": "text"
      },
      "source": [
        "# Modeling the augmented data"
      ]
    },
    {
      "cell_type": "code",
      "metadata": {
        "id": "tXGfbnGuakNs",
        "colab_type": "code",
        "colab": {
          "base_uri": "https://localhost:8080/",
          "height": 124
        },
        "outputId": "1e026a37-bad5-48c2-a8d5-e0c526727eee"
      },
      "source": [
        "from google.colab import drive\n",
        "drive.mount('/content/drive')"
      ],
      "execution_count": 1,
      "outputs": [
        {
          "output_type": "stream",
          "text": [
            "Go to this URL in a browser: https://accounts.google.com/o/oauth2/auth?client_id=947318989803-6bn6qk8qdgf4n4g3pfee6491hc0brc4i.apps.googleusercontent.com&redirect_uri=urn%3aietf%3awg%3aoauth%3a2.0%3aoob&response_type=code&scope=email%20https%3a%2f%2fwww.googleapis.com%2fauth%2fdocs.test%20https%3a%2f%2fwww.googleapis.com%2fauth%2fdrive%20https%3a%2f%2fwww.googleapis.com%2fauth%2fdrive.photos.readonly%20https%3a%2f%2fwww.googleapis.com%2fauth%2fpeopleapi.readonly\n",
            "\n",
            "Enter your authorization code:\n",
            "··········\n",
            "Mounted at /content/drive\n"
          ],
          "name": "stdout"
        }
      ]
    },
    {
      "cell_type": "code",
      "metadata": {
        "id": "TK5RDR89aeai",
        "colab_type": "code",
        "colab": {}
      },
      "source": [
        "import pandas as pd\n",
        "\n",
        "result = pd.read_csv('/content/drive/My Drive/WorkOnMergedData/full_aug_data.csv')"
      ],
      "execution_count": 2,
      "outputs": []
    },
    {
      "cell_type": "code",
      "metadata": {
        "id": "IlGVR0xRbLCZ",
        "colab_type": "code",
        "colab": {
          "base_uri": "https://localhost:8080/",
          "height": 198
        },
        "outputId": "c7823dd6-392e-4788-a95e-2fb49a0c0808"
      },
      "source": [
        "result.head()"
      ],
      "execution_count": 3,
      "outputs": [
        {
          "output_type": "execute_result",
          "data": {
            "text/html": [
              "<div>\n",
              "<style scoped>\n",
              "    .dataframe tbody tr th:only-of-type {\n",
              "        vertical-align: middle;\n",
              "    }\n",
              "\n",
              "    .dataframe tbody tr th {\n",
              "        vertical-align: top;\n",
              "    }\n",
              "\n",
              "    .dataframe thead th {\n",
              "        text-align: right;\n",
              "    }\n",
              "</style>\n",
              "<table border=\"1\" class=\"dataframe\">\n",
              "  <thead>\n",
              "    <tr style=\"text-align: right;\">\n",
              "      <th></th>\n",
              "      <th>Unnamed: 0</th>\n",
              "      <th>texts</th>\n",
              "      <th>labels</th>\n",
              "    </tr>\n",
              "  </thead>\n",
              "  <tbody>\n",
              "    <tr>\n",
              "      <th>0</th>\n",
              "      <td>0</td>\n",
              "      <td>Yesterday I lowered the price of an item to ma...</td>\n",
              "      <td>Fulfillment By Amazon</td>\n",
              "    </tr>\n",
              "    <tr>\n",
              "      <th>1</th>\n",
              "      <td>1</td>\n",
              "      <td>I got my new credit card and before I could up...</td>\n",
              "      <td>Fulfillment By Amazon</td>\n",
              "    </tr>\n",
              "    <tr>\n",
              "      <th>2</th>\n",
              "      <td>2</td>\n",
              "      <td>I sent an FBA shipment on November 26. They sh...</td>\n",
              "      <td>Fulfillment By Amazon</td>\n",
              "    </tr>\n",
              "    <tr>\n",
              "      <th>3</th>\n",
              "      <td>3</td>\n",
              "      <td>Hi, I need to know the products stock in Selle...</td>\n",
              "      <td>Fulfillment By Amazon</td>\n",
              "    </tr>\n",
              "    <tr>\n",
              "      <th>4</th>\n",
              "      <td>4</td>\n",
              "      <td>Just here to vent at the Asia based Seller Sup...</td>\n",
              "      <td>Fulfillment By Amazon</td>\n",
              "    </tr>\n",
              "  </tbody>\n",
              "</table>\n",
              "</div>"
            ],
            "text/plain": [
              "   Unnamed: 0  ...                 labels\n",
              "0           0  ...  Fulfillment By Amazon\n",
              "1           1  ...  Fulfillment By Amazon\n",
              "2           2  ...  Fulfillment By Amazon\n",
              "3           3  ...  Fulfillment By Amazon\n",
              "4           4  ...  Fulfillment By Amazon\n",
              "\n",
              "[5 rows x 3 columns]"
            ]
          },
          "metadata": {
            "tags": []
          },
          "execution_count": 3
        }
      ]
    },
    {
      "cell_type": "code",
      "metadata": {
        "id": "lx_qfkSsb3HJ",
        "colab_type": "code",
        "colab": {
          "base_uri": "https://localhost:8080/",
          "height": 86
        },
        "outputId": "e262b60d-3db7-4755-df47-fa93265b7785"
      },
      "source": [
        "result.isna().sum()"
      ],
      "execution_count": 4,
      "outputs": [
        {
          "output_type": "execute_result",
          "data": {
            "text/plain": [
              "Unnamed: 0    0\n",
              "texts         1\n",
              "labels        0\n",
              "dtype: int64"
            ]
          },
          "metadata": {
            "tags": []
          },
          "execution_count": 4
        }
      ]
    },
    {
      "cell_type": "code",
      "metadata": {
        "id": "CeUeC8dSb9CA",
        "colab_type": "code",
        "colab": {}
      },
      "source": [
        "result.dropna(axis=0, inplace=True)"
      ],
      "execution_count": 5,
      "outputs": []
    },
    {
      "cell_type": "code",
      "metadata": {
        "id": "LGkxLXmacG9q",
        "colab_type": "code",
        "colab": {
          "base_uri": "https://localhost:8080/",
          "height": 86
        },
        "outputId": "545801e1-9566-4839-e9e8-745ee34eca91"
      },
      "source": [
        "result.isna().sum()"
      ],
      "execution_count": 6,
      "outputs": [
        {
          "output_type": "execute_result",
          "data": {
            "text/plain": [
              "Unnamed: 0    0\n",
              "texts         0\n",
              "labels        0\n",
              "dtype: int64"
            ]
          },
          "metadata": {
            "tags": []
          },
          "execution_count": 6
        }
      ]
    },
    {
      "cell_type": "code",
      "metadata": {
        "id": "PvGqfLJwcNa2",
        "colab_type": "code",
        "colab": {
          "base_uri": "https://localhost:8080/",
          "height": 198
        },
        "outputId": "d251b472-5038-4ea2-b535-e61ed22b37b7"
      },
      "source": [
        "result.head()"
      ],
      "execution_count": 7,
      "outputs": [
        {
          "output_type": "execute_result",
          "data": {
            "text/html": [
              "<div>\n",
              "<style scoped>\n",
              "    .dataframe tbody tr th:only-of-type {\n",
              "        vertical-align: middle;\n",
              "    }\n",
              "\n",
              "    .dataframe tbody tr th {\n",
              "        vertical-align: top;\n",
              "    }\n",
              "\n",
              "    .dataframe thead th {\n",
              "        text-align: right;\n",
              "    }\n",
              "</style>\n",
              "<table border=\"1\" class=\"dataframe\">\n",
              "  <thead>\n",
              "    <tr style=\"text-align: right;\">\n",
              "      <th></th>\n",
              "      <th>Unnamed: 0</th>\n",
              "      <th>texts</th>\n",
              "      <th>labels</th>\n",
              "    </tr>\n",
              "  </thead>\n",
              "  <tbody>\n",
              "    <tr>\n",
              "      <th>0</th>\n",
              "      <td>0</td>\n",
              "      <td>Yesterday I lowered the price of an item to ma...</td>\n",
              "      <td>Fulfillment By Amazon</td>\n",
              "    </tr>\n",
              "    <tr>\n",
              "      <th>1</th>\n",
              "      <td>1</td>\n",
              "      <td>I got my new credit card and before I could up...</td>\n",
              "      <td>Fulfillment By Amazon</td>\n",
              "    </tr>\n",
              "    <tr>\n",
              "      <th>2</th>\n",
              "      <td>2</td>\n",
              "      <td>I sent an FBA shipment on November 26. They sh...</td>\n",
              "      <td>Fulfillment By Amazon</td>\n",
              "    </tr>\n",
              "    <tr>\n",
              "      <th>3</th>\n",
              "      <td>3</td>\n",
              "      <td>Hi, I need to know the products stock in Selle...</td>\n",
              "      <td>Fulfillment By Amazon</td>\n",
              "    </tr>\n",
              "    <tr>\n",
              "      <th>4</th>\n",
              "      <td>4</td>\n",
              "      <td>Just here to vent at the Asia based Seller Sup...</td>\n",
              "      <td>Fulfillment By Amazon</td>\n",
              "    </tr>\n",
              "  </tbody>\n",
              "</table>\n",
              "</div>"
            ],
            "text/plain": [
              "   Unnamed: 0  ...                 labels\n",
              "0           0  ...  Fulfillment By Amazon\n",
              "1           1  ...  Fulfillment By Amazon\n",
              "2           2  ...  Fulfillment By Amazon\n",
              "3           3  ...  Fulfillment By Amazon\n",
              "4           4  ...  Fulfillment By Amazon\n",
              "\n",
              "[5 rows x 3 columns]"
            ]
          },
          "metadata": {
            "tags": []
          },
          "execution_count": 7
        }
      ]
    },
    {
      "cell_type": "code",
      "metadata": {
        "id": "hN9eUGjhccgk",
        "colab_type": "code",
        "colab": {
          "base_uri": "https://localhost:8080/",
          "height": 190
        },
        "outputId": "8c6a0ec8-a040-4753-c301-5b5fa527dd49"
      },
      "source": [
        "result.labels.unique()"
      ],
      "execution_count": 8,
      "outputs": [
        {
          "output_type": "execute_result",
          "data": {
            "text/plain": [
              "array(['Fulfillment By Amazon', 'Amazon Sponsored Products',\n",
              "       'Account Health', 'Selling on Amazon', 'Global Selling', 'Groups',\n",
              "       'Amazon Marketplace Web Service (MWS)', 'Login With Amazon',\n",
              "       'Amazon Pay', 'Amazon Custom', 'US Announcements', 'Site Feedback',\n",
              "       'Health,Safety,Sustainability,Security & Compliance',\n",
              "       'Financial Management', 'Product Sourcing', 'Human Resources',\n",
              "       'Amazon Specific', 'Flowster-specific', 'Software & Tools',\n",
              "       'Fulfillment', 'Traffic Sources', 'Management', 'Misc Topics',\n",
              "       'eCommerce Marketplaces', 'Store & Website Management'],\n",
              "      dtype=object)"
            ]
          },
          "metadata": {
            "tags": []
          },
          "execution_count": 8
        }
      ]
    },
    {
      "cell_type": "code",
      "metadata": {
        "id": "zZ1M6eIQchn2",
        "colab_type": "code",
        "colab": {}
      },
      "source": [
        "categories = ['Fulfillment By Amazon', 'Amazon Sponsored Products',\n",
        "       'Account Health', 'Selling on Amazon', 'Global Selling', 'Groups',\n",
        "       'Amazon Marketplace Web Service (MWS)', 'Login With Amazon',\n",
        "       'Amazon Pay', 'Amazon Custom', 'US Announcements', 'Site Feedback',\n",
        "       'Health,Safety,Sustainability,Security & Compliance',\n",
        "       'Financial Management', 'Product Sourcing', 'Human Resources',\n",
        "       'Amazon Specific', 'Flowster-specific', 'Software & Tools',\n",
        "       'Fulfillment', 'Traffic Sources', 'Management', 'Misc Topics',\n",
        "       'eCommerce Marketplaces', 'Store & Website Management']"
      ],
      "execution_count": 9,
      "outputs": []
    },
    {
      "cell_type": "code",
      "metadata": {
        "id": "odaliWPUZ80G",
        "colab_type": "code",
        "colab": {}
      },
      "source": [
        "from sklearn.naive_bayes import MultinomialNB\n",
        "from sklearn.pipeline import Pipeline\n",
        "from sklearn.feature_extraction.text import TfidfTransformer\n",
        "from sklearn.linear_model import LogisticRegression\n",
        "from sklearn.metrics import classification_report\n",
        "import logging\n",
        "import pandas as pd\n",
        "import numpy as np\n",
        "from numpy import random\n",
        "import gensim\n",
        "import nltk\n",
        "from sklearn.model_selection import train_test_split\n",
        "from sklearn.feature_extraction.text import CountVectorizer, TfidfVectorizer\n",
        "from sklearn.metrics import accuracy_score, confusion_matrix\n",
        "import matplotlib.pyplot as plt\n",
        "from nltk.corpus import stopwords\n",
        "import re\n",
        "from bs4 import BeautifulSoup\n",
        "%matplotlib inline\n",
        "\n",
        "X = result.texts\n",
        "y = result.labels\n",
        "X_train, X_test, y_train, y_test = train_test_split(X, y, test_size=0.10, random_state = 42)"
      ],
      "execution_count": 10,
      "outputs": []
    },
    {
      "cell_type": "code",
      "metadata": {
        "id": "Uj5t65r8Z80I",
        "colab_type": "code",
        "colab": {
          "base_uri": "https://localhost:8080/",
          "height": 587
        },
        "outputId": "d6e97f01-7c43-4df5-8af0-753e4e19af28"
      },
      "source": [
        "logreg = Pipeline([('vect', TfidfVectorizer()),\n",
        "                   ('tfidf', TfidfTransformer()),\n",
        "                   ('clf', LogisticRegression(n_jobs=1, C=1e5, max_iter=200)),\n",
        "               ])\n",
        "logreg.fit(X_train, y_train)\n",
        "\n",
        "y_pred = logreg.predict(X_test)\n",
        "\n",
        "print('accuracy %s' % accuracy_score(y_pred, y_test))\n",
        "res31 = accuracy_score(y_pred, y_test)\n",
        "print(classification_report(y_test, y_pred,target_names=categories))"
      ],
      "execution_count": 12,
      "outputs": [
        {
          "output_type": "stream",
          "text": [
            "accuracy 0.6682113067655236\n",
            "                                                    precision    recall  f1-score   support\n",
            "\n",
            "                             Fulfillment By Amazon       0.76      0.75      0.75       161\n",
            "                         Amazon Sponsored Products       0.79      0.39      0.52        28\n",
            "                                    Account Health       0.63      0.68      0.65        25\n",
            "                                 Selling on Amazon       0.53      0.60      0.57        53\n",
            "                                    Global Selling       0.91      0.97      0.94        32\n",
            "                                            Groups       0.85      0.72      0.78        39\n",
            "              Amazon Marketplace Web Service (MWS)       1.00      0.60      0.75         5\n",
            "                                 Login With Amazon       0.97      0.95      0.96        41\n",
            "                                        Amazon Pay       1.00      0.84      0.91        19\n",
            "                                     Amazon Custom       0.61      0.65      0.63       124\n",
            "                                  US Announcements       0.49      0.35      0.41        72\n",
            "                                     Site Feedback       0.71      0.57      0.63        60\n",
            "Health,Safety,Sustainability,Security & Compliance       0.89      0.89      0.89        46\n",
            "                              Financial Management       0.91      1.00      0.95        10\n",
            "                                  Product Sourcing       0.75      0.55      0.63        22\n",
            "                                   Human Resources       0.86      1.00      0.92         6\n",
            "                                   Amazon Specific       0.43      1.00      0.60         6\n",
            "                                 Flowster-specific       1.00      0.94      0.97        34\n",
            "                                  Software & Tools       0.46      0.58      0.51       207\n",
            "                                       Fulfillment       0.37      0.23      0.28        31\n",
            "                                   Traffic Sources       0.88      1.00      0.93        14\n",
            "                                        Management       1.00      0.50      0.67         2\n",
            "                                       Misc Topics       1.00      0.91      0.95        11\n",
            "                            eCommerce Marketplaces       0.88      0.76      0.81        29\n",
            "                        Store & Website Management       1.00      1.00      1.00         2\n",
            "\n",
            "                                          accuracy                           0.67      1079\n",
            "                                         macro avg       0.79      0.74      0.75      1079\n",
            "                                      weighted avg       0.68      0.67      0.67      1079\n",
            "\n"
          ],
          "name": "stdout"
        }
      ]
    },
    {
      "cell_type": "code",
      "metadata": {
        "id": "zf3D45iI-6FN",
        "colab_type": "code",
        "colab": {
          "base_uri": "https://localhost:8080/",
          "height": 587
        },
        "outputId": "afa375ef-a85a-45d1-bf28-d5776dea93b6"
      },
      "source": [
        "logreg = Pipeline([('vect', TfidfVectorizer()),\n",
        "                   ('tfidf', TfidfTransformer()),\n",
        "                   ('clf', LogisticRegression(n_jobs=1, C=1000, max_iter=200)),\n",
        "               ])\n",
        "logreg.fit(X_train, y_train)\n",
        "\n",
        "y_pred = logreg.predict(X_test)\n",
        "\n",
        "print('accuracy %s' % accuracy_score(y_pred, y_test))\n",
        "res31 = accuracy_score(y_pred, y_test)\n",
        "print(classification_report(y_test, y_pred,target_names=categories))"
      ],
      "execution_count": 15,
      "outputs": [
        {
          "output_type": "stream",
          "text": [
            "accuracy 0.6728452270620945\n",
            "                                                    precision    recall  f1-score   support\n",
            "\n",
            "                             Fulfillment By Amazon       0.79      0.76      0.77       161\n",
            "                         Amazon Sponsored Products       0.92      0.39      0.55        28\n",
            "                                    Account Health       0.62      0.64      0.63        25\n",
            "                                 Selling on Amazon       0.57      0.62      0.59        53\n",
            "                                    Global Selling       0.94      0.97      0.95        32\n",
            "                                            Groups       0.88      0.72      0.79        39\n",
            "              Amazon Marketplace Web Service (MWS)       1.00      0.80      0.89         5\n",
            "                                 Login With Amazon       1.00      0.95      0.97        41\n",
            "                                        Amazon Pay       1.00      0.74      0.85        19\n",
            "                                     Amazon Custom       0.60      0.68      0.64       124\n",
            "                                  US Announcements       0.46      0.33      0.39        72\n",
            "                                     Site Feedback       0.76      0.57      0.65        60\n",
            "Health,Safety,Sustainability,Security & Compliance       0.93      0.89      0.91        46\n",
            "                              Financial Management       0.91      1.00      0.95        10\n",
            "                                  Product Sourcing       0.76      0.59      0.67        22\n",
            "                                   Human Resources       0.86      1.00      0.92         6\n",
            "                                   Amazon Specific       0.67      1.00      0.80         6\n",
            "                                 Flowster-specific       0.97      0.94      0.96        34\n",
            "                                  Software & Tools       0.45      0.60      0.51       207\n",
            "                                       Fulfillment       0.39      0.23      0.29        31\n",
            "                                   Traffic Sources       0.88      1.00      0.93        14\n",
            "                                        Management       1.00      0.50      0.67         2\n",
            "                                       Misc Topics       1.00      0.91      0.95        11\n",
            "                            eCommerce Marketplaces       0.86      0.66      0.75        29\n",
            "                        Store & Website Management       1.00      1.00      1.00         2\n",
            "\n",
            "                                          accuracy                           0.67      1079\n",
            "                                         macro avg       0.81      0.74      0.76      1079\n",
            "                                      weighted avg       0.69      0.67      0.67      1079\n",
            "\n"
          ],
          "name": "stdout"
        }
      ]
    },
    {
      "cell_type": "code",
      "metadata": {
        "id": "l_zJs3bmeYZs",
        "colab_type": "code",
        "colab": {
          "base_uri": "https://localhost:8080/",
          "height": 52
        },
        "outputId": "59cf72a0-7056-420d-d9bf-3b4848a36da4"
      },
      "source": [
        "from sklearn.model_selection import GridSearchCV\n",
        "import warnings\n",
        "warnings.filterwarnings('ignore')\n",
        "\n",
        "parameters = { 'tfidf__norm': ['l2', 'l1'],\n",
        "              'clf__C': np.linspace(0.0001, 100, 20), \n",
        "              'clf__max_iter': [200, 300, 400]}\n",
        "grid_search = GridSearchCV(logreg, parameters)\n",
        "grid_search.fit(X_train, y_train)\n",
        "\n",
        "print('best parameters: ', grid_search.best_params_)\n",
        "print('best scrores: ', grid_search.best_score_)"
      ],
      "execution_count": 13,
      "outputs": [
        {
          "output_type": "stream",
          "text": [
            "best parameters:  {'clf__C': 10.526405263157894, 'clf__max_iter': 200, 'tfidf__norm': 'l2'}\n",
            "best scrores:  0.7039441805143818\n"
          ],
          "name": "stdout"
        }
      ]
    },
    {
      "cell_type": "code",
      "metadata": {
        "id": "TQnS6laL9lra",
        "colab_type": "code",
        "colab": {
          "base_uri": "https://localhost:8080/",
          "height": 587
        },
        "outputId": "302d787c-8854-43ef-9fc8-72e9530323cb"
      },
      "source": [
        "logreg = Pipeline([('vect', TfidfVectorizer()),\n",
        "                   ('tfidf', TfidfTransformer()),\n",
        "                   ('clf', LogisticRegression(n_jobs=1, C=10.526405263157894, max_iter=200)),\n",
        "               ])\n",
        "logreg.fit(X_train, y_train)\n",
        "\n",
        "y_pred = logreg.predict(X_test)\n",
        "\n",
        "print('accuracy %s' % accuracy_score(y_pred, y_test))\n",
        "res31 = accuracy_score(y_pred, y_test)\n",
        "print(classification_report(y_test, y_pred,target_names=categories))"
      ],
      "execution_count": 16,
      "outputs": [
        {
          "output_type": "stream",
          "text": [
            "accuracy 0.6867469879518072\n",
            "                                                    precision    recall  f1-score   support\n",
            "\n",
            "                             Fulfillment By Amazon       0.80      0.80      0.80       161\n",
            "                         Amazon Sponsored Products       0.79      0.39      0.52        28\n",
            "                                    Account Health       0.62      0.60      0.61        25\n",
            "                                 Selling on Amazon       0.63      0.60      0.62        53\n",
            "                                    Global Selling       0.93      0.88      0.90        32\n",
            "                                            Groups       0.88      0.74      0.81        39\n",
            "              Amazon Marketplace Web Service (MWS)       1.00      0.60      0.75         5\n",
            "                                 Login With Amazon       1.00      0.95      0.97        41\n",
            "                                        Amazon Pay       0.93      0.68      0.79        19\n",
            "                                     Amazon Custom       0.62      0.71      0.66       124\n",
            "                                  US Announcements       0.54      0.31      0.39        72\n",
            "                                     Site Feedback       0.82      0.53      0.65        60\n",
            "Health,Safety,Sustainability,Security & Compliance       0.95      0.89      0.92        46\n",
            "                              Financial Management       0.91      1.00      0.95        10\n",
            "                                  Product Sourcing       0.79      0.50      0.61        22\n",
            "                                   Human Resources       1.00      1.00      1.00         6\n",
            "                                   Amazon Specific       0.86      1.00      0.92         6\n",
            "                                 Flowster-specific       0.97      0.94      0.96        34\n",
            "                                  Software & Tools       0.46      0.71      0.56       207\n",
            "                                       Fulfillment       0.50      0.23      0.31        31\n",
            "                                   Traffic Sources       1.00      0.93      0.96        14\n",
            "                                        Management       0.00      0.00      0.00         2\n",
            "                                       Misc Topics       1.00      0.82      0.90        11\n",
            "                            eCommerce Marketplaces       0.90      0.62      0.73        29\n",
            "                        Store & Website Management       1.00      1.00      1.00         2\n",
            "\n",
            "                                          accuracy                           0.69      1079\n",
            "                                         macro avg       0.80      0.70      0.73      1079\n",
            "                                      weighted avg       0.71      0.69      0.69      1079\n",
            "\n"
          ],
          "name": "stdout"
        }
      ]
    },
    {
      "cell_type": "code",
      "metadata": {
        "id": "jPL_nk7tZ80L",
        "colab_type": "code",
        "colab": {
          "base_uri": "https://localhost:8080/",
          "height": 851
        },
        "outputId": "ea8c015c-a48e-4b4a-b202-06b907f8e161"
      },
      "source": [
        "from sklearn.metrics import confusion_matrix\n",
        "import seaborn as sns\n",
        "\n",
        "conf_mat = confusion_matrix(y_test, y_pred)\n",
        "fig, ax = plt.subplots(figsize=(10,10))\n",
        "sns.heatmap(conf_mat, annot=True, fmt='d',\n",
        "            xticklabels=categories, yticklabels=categories)\n",
        "plt.ylabel('Actual')\n",
        "plt.xlabel('Predicted')\n",
        "plt.show()"
      ],
      "execution_count": 17,
      "outputs": [
        {
          "output_type": "display_data",
          "data": {
            "image/png": "[encoded data removed]",
            "text/plain": [
              "<Figure size 720x720 with 2 Axes>"
            ]
          },
          "metadata": {
            "tags": [],
            "needs_background": "light"
          }
        }
      ]
    },
    {
      "cell_type": "markdown",
      "metadata": {
        "id": "aP_iCNNIZ80N",
        "colab_type": "text"
      },
      "source": [
        "- There are some topics that gets misqualified due to lack of training data."
      ]
    },
    {
      "cell_type": "code",
      "metadata": {
        "id": "wzwYeGfHZ80O",
        "colab_type": "code",
        "colab": {
          "base_uri": "https://localhost:8080/",
          "height": 225
        },
        "outputId": "19bc70c5-8b4a-4545-9f86-6c6bfca3280f"
      },
      "source": [
        "X_test"
      ],
      "execution_count": 18,
      "outputs": [
        {
          "output_type": "execute_result",
          "data": {
            "text/plain": [
              "4597     Hi all Recently we got a message from our cust...\n",
              "8355     Two different listings… two different colors! ...\n",
              "7412     i had to paid the amazon seller fee 40$ ready ...\n",
              "8983     i ’ m working on hiring my first va and now wo...\n",
              "8055     We’ve listened to your feedback and have impro...\n",
              "                               ...                        \n",
              "10024     3 Get it here : https :// in . time 3 S OP Ov...\n",
              "5030     Hey  everyone  !!!   opps  long  time seller  ...\n",
              "3319     I have about 4500 canisters or tubes of these ...\n",
              "1981     Thanks in advance for whoever is taking their ...\n",
              "7498     I am just starting with Amazon Pay, and I find...\n",
              "Name: texts, Length: 1079, dtype: object"
            ]
          },
          "metadata": {
            "tags": []
          },
          "execution_count": 18
        }
      ]
    },
    {
      "cell_type": "code",
      "metadata": {
        "id": "muanZQMTZ80R",
        "colab_type": "code",
        "colab": {}
      },
      "source": [
        "# Text from Product Sourcing category, Link : https://forum.flowster.app/t/price-checker-2-competitor-storefront-extraction/1411\n",
        "# 1. Clean text\n",
        "new_text = 'Hi! We are new to the forum and are going through the Product Sourcing for Professionals SOPs. We have a question on the Product Extraction workflow process using PC2: we have downloaded the free version and it doesn’t have the button that says ‘Amazon Browser/Searches’. Do we need to purchase the full PC2 package to get this feature? Thanks for your help in advance!'\n",
        "#cleaned_text = clean_text(new_text)"
      ],
      "execution_count": 19,
      "outputs": []
    },
    {
      "cell_type": "code",
      "metadata": {
        "id": "4bsrjy4BZ80S",
        "colab_type": "code",
        "colab": {}
      },
      "source": [
        "# 2. Vectorize the text + 3. Predict the category\n",
        "predict_test = logreg.predict([new_text])"
      ],
      "execution_count": 20,
      "outputs": []
    },
    {
      "cell_type": "code",
      "metadata": {
        "id": "vznYA6BPZ80d",
        "colab_type": "code",
        "colab": {
          "base_uri": "https://localhost:8080/",
          "height": 35
        },
        "outputId": "ca78edc4-4243-47d9-8096-8b88650d1daa"
      },
      "source": [
        "print(predict_test)"
      ],
      "execution_count": 21,
      "outputs": [
        {
          "output_type": "stream",
          "text": [
            "['Product Sourcing']\n"
          ],
          "name": "stdout"
        }
      ]
    },
    {
      "cell_type": "code",
      "metadata": {
        "id": "e_NZZMwaZ80g",
        "colab_type": "code",
        "colab": {
          "base_uri": "https://localhost:8080/",
          "height": 35
        },
        "outputId": "c143ccd9-3cd7-474c-e917-7ffc37e2b3cc"
      },
      "source": [
        "test_text = \"Equifax exposed my personal information without my consent, as part of their recent data breach. \\\n",
        "In addition, they dragged their feet in the announcement of the report, and even allowed their upper management to sell \\\n",
        "off stock before the announcement.\"\n",
        "predict_test = logreg.predict([test_text])\n",
        "print(predict_test)"
      ],
      "execution_count": 22,
      "outputs": [
        {
          "output_type": "stream",
          "text": [
            "['Fulfillment By Amazon']\n"
          ],
          "name": "stdout"
        }
      ]
    },
    {
      "cell_type": "code",
      "metadata": {
        "id": "-bLyDylfBOec",
        "colab_type": "code",
        "colab": {
          "base_uri": "https://localhost:8080/",
          "height": 35
        },
        "outputId": "fa5746db-002d-4721-c684-7d2622b31d81"
      },
      "source": [
        "# Selling on amazon category\n",
        "test_text = \"Just wanted to get feedback from other sellers. Since July 2, Ive had a huge decrease in sales. Anybody else experiencing the same issue?\"\n",
        "predict_test = logreg.predict([test_text])\n",
        "print(predict_test)"
      ],
      "execution_count": 25,
      "outputs": [
        {
          "output_type": "stream",
          "text": [
            "['Fulfillment By Amazon']\n"
          ],
          "name": "stdout"
        }
      ]
    },
    {
      "cell_type": "code",
      "metadata": {
        "id": "wg3m1DeWBaFB",
        "colab_type": "code",
        "colab": {
          "base_uri": "https://localhost:8080/",
          "height": 35
        },
        "outputId": "378ce24c-5a52-4733-acfa-4744b8ae6849"
      },
      "source": [
        "# Selling on amazon category\n",
        "test_text = \"I just had a buyer(actually a seller also) named Vel Vish - Velbooks, a lady named Mara return a totally different copy of the same title that I had sent.\\\n",
        "The copy I sent was listed in used very good condition and stated in the description that it had a very small chip in the rear of the dust jacket.\"\n",
        "\n",
        "predict_test = logreg.predict([test_text])\n",
        "print(predict_test)"
      ],
      "execution_count": 27,
      "outputs": [
        {
          "output_type": "stream",
          "text": [
            "['Selling on Amazon']\n"
          ],
          "name": "stdout"
        }
      ]
    }
  ]
}