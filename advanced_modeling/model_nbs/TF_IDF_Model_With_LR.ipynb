{
  "nbformat": 4,
  "nbformat_minor": 0,
  "metadata": {
    "colab": {
      "name": "TF_IDF_Model.ipynb",
      "provenance": [],
      "collapsed_sections": []
    },
    "kernelspec": {
      "name": "python3",
      "display_name": "Python 3"
    },
    "accelerator": "TPU"
  },
  "cells": [
    {
      "cell_type": "code",
      "metadata": {
        "id": "CRNd3EvYJBzo",
        "colab_type": "code",
        "colab": {
          "base_uri": "https://localhost:8080/",
          "height": 121
        },
        "outputId": "698a5a05-dde2-49c9-ce1c-b3f5588466f5"
      },
      "source": [
        "from google.colab import drive\n",
        "drive.mount('/content/gdrive')"
      ],
      "execution_count": null,
      "outputs": [
        {
          "output_type": "stream",
          "text": [
            "Go to this URL in a browser: https://accounts.google.com/o/oauth2/auth?client_id=947318989803-6bn6qk8qdgf4n4g3pfee6491hc0brc4i.apps.googleusercontent.com&redirect_uri=urn%3aietf%3awg%3aoauth%3a2.0%3aoob&response_type=code&scope=email%20https%3a%2f%2fwww.googleapis.com%2fauth%2fdocs.test%20https%3a%2f%2fwww.googleapis.com%2fauth%2fdrive%20https%3a%2f%2fwww.googleapis.com%2fauth%2fdrive.photos.readonly%20https%3a%2f%2fwww.googleapis.com%2fauth%2fpeopleapi.readonly\n",
            "\n",
            "Enter your authorization code:\n",
            "··········\n",
            "Mounted at /content/gdrive\n"
          ],
          "name": "stdout"
        }
      ]
    },
    {
      "cell_type": "markdown",
      "metadata": {
        "id": "5ru4qhkA5YHs",
        "colab_type": "text"
      },
      "source": [
        "\n",
        "## Import Data\n"
      ]
    },
    {
      "cell_type": "code",
      "metadata": {
        "id": "wDSYE6XxI1jd",
        "colab_type": "code",
        "colab": {
          "base_uri": "https://localhost:8080/",
          "height": 188
        },
        "outputId": "bb516518-79ae-4ec6-a2f8-2be7e42c544b"
      },
      "source": [
        "import pandas as pd\n",
        "import numpy as np\n",
        "from timeit import default_timer as timer\n",
        "\n",
        "from sklearn.feature_extraction.text import TfidfVectorizer\n",
        "from sklearn.feature_extraction.text import CountVectorizer\n",
        "from sklearn.metrics.pairwise import cosine_similarity\n",
        "from sklearn.preprocessing import LabelEncoder\n",
        "from sklearn.model_selection import train_test_split\n",
        "from sklearn.pipeline import make_pipeline\n",
        "from imblearn.under_sampling import RandomUnderSampler\n",
        "from sklearn.linear_model import LogisticRegression\n",
        "from sklearn.model_selection import GridSearchCV\n",
        "\n",
        "import re\n",
        "from html.parser import HTMLParser\n",
        "\n",
        "from sklearn.metrics import classification_report\n",
        "\n",
        "import nltk\n",
        "from nltk import sent_tokenize, word_tokenize\n",
        "from nltk.tokenize import RegexpTokenizer\n",
        "from nltk.corpus import stopwords\n",
        "from nltk.stem.porter import PorterStemmer\n",
        "from nltk.stem import WordNetLemmatizer\n",
        "import string\n",
        "\n",
        "nltk.download('stopwords')\n",
        "nltk.download('punkt')\n"
      ],
      "execution_count": null,
      "outputs": [
        {
          "output_type": "stream",
          "text": [
            "/usr/local/lib/python3.6/dist-packages/sklearn/externals/six.py:31: FutureWarning: The module is deprecated in version 0.21 and will be removed in version 0.23 since we've dropped support for Python 2.7. Please rely on the official version of six (https://pypi.org/project/six/).\n",
            "  \"(https://pypi.org/project/six/).\", FutureWarning)\n",
            "/usr/local/lib/python3.6/dist-packages/sklearn/utils/deprecation.py:144: FutureWarning: The sklearn.neighbors.base module is  deprecated in version 0.22 and will be removed in version 0.24. The corresponding classes / functions should instead be imported from sklearn.neighbors. Anything that cannot be imported from sklearn.neighbors is now part of the private API.\n",
            "  warnings.warn(message, FutureWarning)\n"
          ],
          "name": "stderr"
        },
        {
          "output_type": "stream",
          "text": [
            "[nltk_data] Downloading package stopwords to /root/nltk_data...\n",
            "[nltk_data]   Unzipping corpora/stopwords.zip.\n",
            "[nltk_data] Downloading package punkt to /root/nltk_data...\n",
            "[nltk_data]   Unzipping tokenizers/punkt.zip.\n"
          ],
          "name": "stdout"
        },
        {
          "output_type": "execute_result",
          "data": {
            "text/plain": [
              "True"
            ]
          },
          "metadata": {
            "tags": []
          },
          "execution_count": 3
        }
      ]
    },
    {
      "cell_type": "code",
      "metadata": {
        "id": "SH4Pt3XoI995",
        "colab_type": "code",
        "colab": {
          "base_uri": "https://localhost:8080/",
          "height": 603
        },
        "outputId": "14536813-0912-4cf1-e2e0-e0e8d9c1a51d"
      },
      "source": [
        "df = pd.read_csv('/content/gdrive/My Drive/ML Team 4 0620/WorkOnMergedData/final_merged_data.csv')\n",
        "df = df.drop('Unnamed: 0', axis=1)\n",
        "\n",
        "aug_df = pd.read_csv('/content/gdrive/My Drive/ML Team 4 0620/WorkOnMergedData/full_aug_data_v2.csv')\n",
        "aug_df = aug_df.drop('Unnamed: 0', axis = 1)\n",
        "uncleaned_df = df.copy(deep=True)\n",
        "\n",
        "df"
      ],
      "execution_count": null,
      "outputs": [
        {
          "output_type": "execute_result",
          "data": {
            "text/html": [
              "<div>\n",
              "<style scoped>\n",
              "    .dataframe tbody tr th:only-of-type {\n",
              "        vertical-align: middle;\n",
              "    }\n",
              "\n",
              "    .dataframe tbody tr th {\n",
              "        vertical-align: top;\n",
              "    }\n",
              "\n",
              "    .dataframe thead th {\n",
              "        text-align: right;\n",
              "    }\n",
              "</style>\n",
              "<table border=\"1\" class=\"dataframe\">\n",
              "  <thead>\n",
              "    <tr style=\"text-align: right;\">\n",
              "      <th></th>\n",
              "      <th>Title</th>\n",
              "      <th>Post Author</th>\n",
              "      <th>Leading Comment</th>\n",
              "      <th>Reply Comments</th>\n",
              "      <th>Category</th>\n",
              "      <th>Forum</th>\n",
              "    </tr>\n",
              "  </thead>\n",
              "  <tbody>\n",
              "    <tr>\n",
              "      <th>0</th>\n",
              "      <td>One item multiple buyers</td>\n",
              "      <td>Stocoloco_LLC</td>\n",
              "      <td>Yesterday I lowered the price of an item to ma...</td>\n",
              "      <td>['Isn’t that what you were trying to do??? Mat...</td>\n",
              "      <td>Fulfillment By Amazon</td>\n",
              "      <td>Amazon</td>\n",
              "    </tr>\n",
              "    <tr>\n",
              "      <th>1</th>\n",
              "      <td>Unavailable payment</td>\n",
              "      <td>storesupplies</td>\n",
              "      <td>I got my new credit card and before I could up...</td>\n",
              "      <td>['You can’t. You just have to wait.', 'You can...</td>\n",
              "      <td>Fulfillment By Amazon</td>\n",
              "      <td>Amazon</td>\n",
              "    </tr>\n",
              "    <tr>\n",
              "      <th>2</th>\n",
              "      <td>Some FBA items Not Showing Inventory</td>\n",
              "      <td>ShipFlip</td>\n",
              "      <td>I sent an FBA shipment on November 26. They sh...</td>\n",
              "      <td>['This topic was automatically closed 180 days...</td>\n",
              "      <td>Fulfillment By Amazon</td>\n",
              "      <td>Amazon</td>\n",
              "    </tr>\n",
              "    <tr>\n",
              "      <th>3</th>\n",
              "      <td>Stock products</td>\n",
              "      <td>Andean_Star</td>\n",
              "      <td>Hi, I need to know the products stock in Selle...</td>\n",
              "      <td>['You need to have a professional account and ...</td>\n",
              "      <td>Fulfillment By Amazon</td>\n",
              "      <td>Amazon</td>\n",
              "    </tr>\n",
              "    <tr>\n",
              "      <th>4</th>\n",
              "      <td>Frustrating Seller Support for faulty LTSF cat...</td>\n",
              "      <td>Illuminations_Brand</td>\n",
              "      <td>Just here to vent at the Asia based Seller Sup...</td>\n",
              "      <td>['Illuminations_Brand\\nIf you’re here in the U...</td>\n",
              "      <td>Fulfillment By Amazon</td>\n",
              "      <td>Amazon</td>\n",
              "    </tr>\n",
              "    <tr>\n",
              "      <th>...</th>\n",
              "      <td>...</td>\n",
              "      <td>...</td>\n",
              "      <td>...</td>\n",
              "      <td>...</td>\n",
              "      <td>...</td>\n",
              "      <td>...</td>\n",
              "    </tr>\n",
              "    <tr>\n",
              "      <th>8836</th>\n",
              "      <td>Dealing With Idiots1</td>\n",
              "      <td>scottschmitz</td>\n",
              "      <td>Anyone have any creative way to deal with othe...</td>\n",
              "      <td>['Mitch &amp; LizD Might have some insight into th...</td>\n",
              "      <td>Misc Topics</td>\n",
              "      <td>Flowster</td>\n",
              "    </tr>\n",
              "    <tr>\n",
              "      <th>8837</th>\n",
              "      <td>Emailing from Hubspot1</td>\n",
              "      <td>VonT</td>\n",
              "      <td>It looks like to me when you or your VAs email...</td>\n",
              "      <td>[]</td>\n",
              "      <td>Misc Topics</td>\n",
              "      <td>Flowster</td>\n",
              "    </tr>\n",
              "    <tr>\n",
              "      <th>8838</th>\n",
              "      <td>About the Sales Channels &amp; Marketplaces Category1</td>\n",
              "      <td>Trent-Admin</td>\n",
              "      <td>Have questions about sourcing the various sale...</td>\n",
              "      <td>[]</td>\n",
              "      <td>eCommerce Marketplaces</td>\n",
              "      <td>Flowster</td>\n",
              "    </tr>\n",
              "    <tr>\n",
              "      <th>8839</th>\n",
              "      <td>Storefront Question1</td>\n",
              "      <td>Laura</td>\n",
              "      <td>If I am posting this in the wrong place, my ap...</td>\n",
              "      <td>['scottschmitz we would be able to do transact...</td>\n",
              "      <td>eCommerce Marketplaces</td>\n",
              "      <td>Flowster</td>\n",
              "    </tr>\n",
              "    <tr>\n",
              "      <th>8840</th>\n",
              "      <td>About the Store &amp; Website Management category1</td>\n",
              "      <td>Kane</td>\n",
              "      <td>Have questions about Store &amp; Website Managemen...</td>\n",
              "      <td>[]</td>\n",
              "      <td>Store &amp; Website Management</td>\n",
              "      <td>Flowster</td>\n",
              "    </tr>\n",
              "  </tbody>\n",
              "</table>\n",
              "<p>8841 rows × 6 columns</p>\n",
              "</div>"
            ],
            "text/plain": [
              "                                                  Title  ...     Forum\n",
              "0                              One item multiple buyers  ...    Amazon\n",
              "1                                   Unavailable payment  ...    Amazon\n",
              "2                  Some FBA items Not Showing Inventory  ...    Amazon\n",
              "3                                        Stock products  ...    Amazon\n",
              "4     Frustrating Seller Support for faulty LTSF cat...  ...    Amazon\n",
              "...                                                 ...  ...       ...\n",
              "8836                               Dealing With Idiots1  ...  Flowster\n",
              "8837                             Emailing from Hubspot1  ...  Flowster\n",
              "8838  About the Sales Channels & Marketplaces Category1  ...  Flowster\n",
              "8839                               Storefront Question1  ...  Flowster\n",
              "8840     About the Store & Website Management category1  ...  Flowster\n",
              "\n",
              "[8841 rows x 6 columns]"
            ]
          },
          "metadata": {
            "tags": []
          },
          "execution_count": 10
        }
      ]
    },
    {
      "cell_type": "markdown",
      "metadata": {
        "id": "iLLgKTZH8Yvw",
        "colab_type": "text"
      },
      "source": [
        "## Data Cleaning"
      ]
    },
    {
      "cell_type": "code",
      "metadata": {
        "id": "vnJU_36L8YSy",
        "colab_type": "code",
        "colab": {}
      },
      "source": [
        "stop_words = list(set(stopwords.words('english')))\n",
        "punct = list(set(string.punctuation))\n",
        "punct.append('“')\n",
        "punct.append('”')\n",
        "stemmer = PorterStemmer()\n",
        "\n",
        "def text_cleaning(text):\n",
        "    # converting HTML character codes to ASCII code\n",
        "    #parser = HTMLParser()\n",
        "    #text =  parser.unescape(text)\n",
        "    text = str(text)\n",
        "    text = re.sub(r'<[^>]+>','',text) # removing HTML tags\n",
        "    text = re.sub(r'(?:\\#+[\\w_]+[\\w\\'_\\-]*[\\w_]+)','',text) # removing hash-tags\n",
        "    text = re.sub(r'http[s]?://(?:[a-z]|[0-9]|[$-_@.&amp;+]|[!*\\(\\),]|(?:%[0-9a-f][0-9a-f]))+','',text) # removing URLs\n",
        "    text = re.sub(r'(?:[\\ufffd]+)','',text) #removing special characters\n",
        "    text = word_tokenize(text)\n",
        "    text = ' '.join(word for word in text if word not in punct) #remove punctuation\n",
        "    text = re.sub('\\n',' ',text) #remove new line\n",
        "    text = re.sub('@','',text) #remove @ sign\n",
        "    text = re.sub('\\'','',text) # remove '\n",
        "    text = text.lower() # lowercase all characters\n",
        "    text = word_tokenize(text) # tonkenize words\n",
        "    text = [i for i in text if not i in stop_words] #remove stop words\n",
        "    #text = [stemmer.stem(word) for word in text]\n",
        "    text = ' '.join(text)\n",
        "    \n",
        "    return text\n"
      ],
      "execution_count": null,
      "outputs": []
    },
    {
      "cell_type": "code",
      "metadata": {
        "id": "SY3kKLpKqgoO",
        "colab_type": "code",
        "colab": {}
      },
      "source": [
        "df['Title'] = df['Title'].apply(lambda x: text_cleaning(x))\n",
        "df['Leading Comment'] = df['Leading Comment'].apply(lambda x: text_cleaning(x))\n",
        "df['Reply Comments'] = df['Reply Comments'].apply(lambda x: text_cleaning(x))\n",
        "\n",
        "aug_df['texts'] = aug_df['texts'].apply(lambda x: text_cleaning(x))\n",
        "aug_df['labels'] = aug_df['labels'].apply(lambda x: text_cleaning(x))\n",
        "#aug_df['Reply Comments'] = aug_df['Reply Comments'].apply(lambda x: text_cleaning(x))\n",
        "\n"
      ],
      "execution_count": null,
      "outputs": []
    },
    {
      "cell_type": "code",
      "metadata": {
        "id": "ibCfgZHF3asm",
        "colab_type": "code",
        "colab": {}
      },
      "source": [
        "#Here we combine the leading comment with the reply comments in order to have more words in our model\n",
        "df['All Comments'] = df['Leading Comment'] + ' '+ df['Reply Comments']\n",
        "uncleaned_df['All Comments'] = uncleaned_df['Leading Comment'] + ' ' + uncleaned_df['Reply Comments']"
      ],
      "execution_count": null,
      "outputs": []
    },
    {
      "cell_type": "markdown",
      "metadata": {
        "id": "NIDsJkliw_5y",
        "colab_type": "text"
      },
      "source": [
        "## TF-IDF Model"
      ]
    },
    {
      "cell_type": "markdown",
      "metadata": {
        "id": "Kuhe0cUYFU_z",
        "colab_type": "text"
      },
      "source": [
        "This is the best model tested so far using the replies concatenated with the leading comment."
      ]
    },
    {
      "cell_type": "code",
      "metadata": {
        "id": "_3kgaSofKAIb",
        "colab_type": "code",
        "colab": {
          "base_uri": "https://localhost:8080/",
          "height": 591
        },
        "outputId": "e049b032-e6a0-4978-b8ca-fb68177eaf65"
      },
      "source": [
        "\n",
        "#Now we initialize our TF-IDF object, max features are 1000\n",
        "cvec = TfidfVectorizer(analyzer = 'word',\n",
        "                         stop_words = 'english',\n",
        "                         max_features = 7500,\n",
        "                         lowercase = True)\n",
        "#Pull a series object with all the comments from the dataframe into it \n",
        "documents = df['Leading Comment'].values.astype('U')\n",
        "#We set our X dataset for our model to be the output of the CountVectorizer word embedding\n",
        "X = cvec.fit_transform(documents).toarray()\n",
        "words = cvec.get_feature_names()\n",
        "# We get the labels for our model as the categories for all the links\n",
        "y = df['Category']\n",
        "\n",
        "#Here we split the data into training and test set\n",
        "X_train, X_test, y_train, y_test = train_test_split(X, y,\n",
        "                                                    test_size = 0.2,\n",
        "                                                    shuffle = True)\n",
        "start = timer();\n",
        "logisticReg = LogisticRegression(max_iter=500)\n",
        "logisticReg.fit(X_train, y_train)\n",
        "\n",
        "y_pred = logisticReg.predict(X_test)\n",
        "result = classification_report(y_test, y_pred)\n",
        "print(result)\n",
        "end= timer();\n",
        "\n",
        "\n",
        "score = logisticReg.score(X_test, y_test)\n",
        "print(\"Score for our model \"+str(score))\n",
        "print(\"Time for model \" + str(end-start))"
      ],
      "execution_count": null,
      "outputs": [
        {
          "output_type": "stream",
          "text": [
            "                                                    precision    recall  f1-score   support\n",
            "\n",
            "                                    Account Health       0.79      0.86      0.83       296\n",
            "                                     Amazon Custom       0.82      0.23      0.36        61\n",
            "              Amazon Marketplace Web Service (MWS)       0.80      0.53      0.64        70\n",
            "                                        Amazon Pay       0.80      0.62      0.70       129\n",
            "                                   Amazon Specific       0.00      0.00      0.00         8\n",
            "                         Amazon Sponsored Products       0.91      0.64      0.75        61\n",
            "                              Financial Management       0.00      0.00      0.00         1\n",
            "                                 Flowster-specific       0.67      0.15      0.25        13\n",
            "                                       Fulfillment       0.00      0.00      0.00         3\n",
            "                             Fulfillment By Amazon       0.72      0.75      0.73       307\n",
            "                                    Global Selling       0.59      0.35      0.44       106\n",
            "                                            Groups       0.90      0.57      0.70        96\n",
            "Health,Safety,Sustainability,Security & Compliance       0.00      0.00      0.00        15\n",
            "                                   Human Resources       0.00      0.00      0.00         7\n",
            "                                 Login With Amazon       0.79      0.61      0.69        38\n",
            "                                        Management       0.00      0.00      0.00         1\n",
            "                                       Misc Topics       0.00      0.00      0.00         2\n",
            "                                  Product Sourcing       0.00      0.00      0.00        13\n",
            "                                 Selling on Amazon       0.47      0.78      0.59       437\n",
            "                                     Site Feedback       0.64      0.26      0.37        53\n",
            "                                  Software & Tools       0.00      0.00      0.00         1\n",
            "                                  US Announcements       0.96      0.45      0.61        51\n",
            "\n",
            "                                          accuracy                           0.65      1769\n",
            "                                         macro avg       0.45      0.31      0.35      1769\n",
            "                                      weighted avg       0.68      0.65      0.64      1769\n",
            "\n",
            "Score for our model 0.6495195025438101\n",
            "Time for model 43.58274889099994\n"
          ],
          "name": "stdout"
        },
        {
          "output_type": "stream",
          "text": [
            "/usr/local/lib/python3.6/dist-packages/sklearn/metrics/_classification.py:1272: UndefinedMetricWarning: Precision and F-score are ill-defined and being set to 0.0 in labels with no predicted samples. Use `zero_division` parameter to control this behavior.\n",
            "  _warn_prf(average, modifier, msg_start, len(result))\n"
          ],
          "name": "stderr"
        }
      ]
    },
    {
      "cell_type": "markdown",
      "metadata": {
        "id": "CHr1U0cK2jcL",
        "colab_type": "text"
      },
      "source": [
        "Attempted Hypertuning on C with cross validation of the model\n"
      ]
    },
    {
      "cell_type": "code",
      "metadata": {
        "id": "D-7DnKXG2iC0",
        "colab_type": "code",
        "colab": {
          "base_uri": "https://localhost:8080/",
          "height": 1000
        },
        "outputId": "d41a322c-ac1e-4678-dab5-41bf954f9f56"
      },
      "source": [
        "#Now we initialize our TF-IDF object, max features are 1000\n",
        "cvec = TfidfVectorizer(analyzer = 'word',\n",
        "                         stop_words = 'english',\n",
        "                         max_features = 7500,\n",
        "                         lowercase = True)\n",
        "#Pull a series object with all the comments from the dataframe into it \n",
        "documents = df['Leading Comment'].values.astype('U')\n",
        "#We set our X dataset for our model to be the output of the CountVectorizer word embedding\n",
        "X = cvec.fit_transform(documents).toarray()\n",
        "words = cvec.get_feature_names()\n",
        "# We get the labels for our model as the categories for all the links\n",
        "y = df['Category']\n",
        "\n",
        "#Here we split the data into training and test set\n",
        "X_train, X_test, y_train, y_test = train_test_split(X, y,\n",
        "                                                    test_size = 0.2,\n",
        "                                                    shuffle = True)\n",
        "logReg = LogisticRegression()\n",
        "\n",
        "param_grid = [    \n",
        "    {\n",
        "    'C' : np.logspace(-4, 4, 2),\n",
        "     'max_iter' : [100, 250, 500]\n",
        "    }\n",
        "]\n",
        "\n",
        "clf = GridSearchCV(logReg, param_grid=param_grid, cv = 3, verbose = True, n_jobs= 1)\n",
        "\n",
        "start = timer();\n",
        "best_clf = clf.fit(X_train, y_train);\n",
        "\n",
        "#logisticReg.fit(X_train, y_train)\n",
        "#y_pred = logisticReg.predict(X_test)\n",
        "#result = classification_report(y_test, y_pred)\n",
        "#print(result)\n",
        "\n",
        "#best_clf.best_estimator_\n",
        "end = timer();\n",
        "print(\"Total time elapsed: \" +str(end-start))\n",
        "\n",
        "#score = logisticReg.score(X_test, y_test)\n",
        "#print(\"Score for our model \"+str(score))"
      ],
      "execution_count": null,
      "outputs": [
        {
          "output_type": "stream",
          "text": [
            "Fitting 3 folds for each of 6 candidates, totalling 18 fits\n"
          ],
          "name": "stdout"
        },
        {
          "output_type": "stream",
          "text": [
            "/usr/local/lib/python3.6/dist-packages/sklearn/model_selection/_split.py:667: UserWarning: The least populated class in y has only 1 members, which is less than n_splits=3.\n",
            "  % (min_groups, self.n_splits)), UserWarning)\n",
            "[Parallel(n_jobs=1)]: Using backend SequentialBackend with 1 concurrent workers.\n",
            "/usr/local/lib/python3.6/dist-packages/sklearn/linear_model/_logistic.py:940: ConvergenceWarning: lbfgs failed to converge (status=1):\n",
            "STOP: TOTAL NO. of ITERATIONS REACHED LIMIT.\n",
            "\n",
            "Increase the number of iterations (max_iter) or scale the data as shown in:\n",
            "    https://scikit-learn.org/stable/modules/preprocessing.html\n",
            "Please also refer to the documentation for alternative solver options:\n",
            "    https://scikit-learn.org/stable/modules/linear_model.html#logistic-regression\n",
            "  extra_warning_msg=_LOGISTIC_SOLVER_CONVERGENCE_MSG)\n",
            "/usr/local/lib/python3.6/dist-packages/sklearn/linear_model/_logistic.py:940: ConvergenceWarning: lbfgs failed to converge (status=1):\n",
            "STOP: TOTAL NO. of ITERATIONS REACHED LIMIT.\n",
            "\n",
            "Increase the number of iterations (max_iter) or scale the data as shown in:\n",
            "    https://scikit-learn.org/stable/modules/preprocessing.html\n",
            "Please also refer to the documentation for alternative solver options:\n",
            "    https://scikit-learn.org/stable/modules/linear_model.html#logistic-regression\n",
            "  extra_warning_msg=_LOGISTIC_SOLVER_CONVERGENCE_MSG)\n",
            "/usr/local/lib/python3.6/dist-packages/sklearn/linear_model/_logistic.py:940: ConvergenceWarning: lbfgs failed to converge (status=1):\n",
            "STOP: TOTAL NO. of ITERATIONS REACHED LIMIT.\n",
            "\n",
            "Increase the number of iterations (max_iter) or scale the data as shown in:\n",
            "    https://scikit-learn.org/stable/modules/preprocessing.html\n",
            "Please also refer to the documentation for alternative solver options:\n",
            "    https://scikit-learn.org/stable/modules/linear_model.html#logistic-regression\n",
            "  extra_warning_msg=_LOGISTIC_SOLVER_CONVERGENCE_MSG)\n",
            "/usr/local/lib/python3.6/dist-packages/sklearn/linear_model/_logistic.py:940: ConvergenceWarning: lbfgs failed to converge (status=1):\n",
            "STOP: TOTAL NO. of ITERATIONS REACHED LIMIT.\n",
            "\n",
            "Increase the number of iterations (max_iter) or scale the data as shown in:\n",
            "    https://scikit-learn.org/stable/modules/preprocessing.html\n",
            "Please also refer to the documentation for alternative solver options:\n",
            "    https://scikit-learn.org/stable/modules/linear_model.html#logistic-regression\n",
            "  extra_warning_msg=_LOGISTIC_SOLVER_CONVERGENCE_MSG)\n",
            "/usr/local/lib/python3.6/dist-packages/sklearn/linear_model/_logistic.py:940: ConvergenceWarning: lbfgs failed to converge (status=1):\n",
            "STOP: TOTAL NO. of ITERATIONS REACHED LIMIT.\n",
            "\n",
            "Increase the number of iterations (max_iter) or scale the data as shown in:\n",
            "    https://scikit-learn.org/stable/modules/preprocessing.html\n",
            "Please also refer to the documentation for alternative solver options:\n",
            "    https://scikit-learn.org/stable/modules/linear_model.html#logistic-regression\n",
            "  extra_warning_msg=_LOGISTIC_SOLVER_CONVERGENCE_MSG)\n",
            "/usr/local/lib/python3.6/dist-packages/sklearn/linear_model/_logistic.py:940: ConvergenceWarning: lbfgs failed to converge (status=1):\n",
            "STOP: TOTAL NO. of ITERATIONS REACHED LIMIT.\n",
            "\n",
            "Increase the number of iterations (max_iter) or scale the data as shown in:\n",
            "    https://scikit-learn.org/stable/modules/preprocessing.html\n",
            "Please also refer to the documentation for alternative solver options:\n",
            "    https://scikit-learn.org/stable/modules/linear_model.html#logistic-regression\n",
            "  extra_warning_msg=_LOGISTIC_SOLVER_CONVERGENCE_MSG)\n",
            "/usr/local/lib/python3.6/dist-packages/sklearn/linear_model/_logistic.py:940: ConvergenceWarning: lbfgs failed to converge (status=1):\n",
            "STOP: TOTAL NO. of ITERATIONS REACHED LIMIT.\n",
            "\n",
            "Increase the number of iterations (max_iter) or scale the data as shown in:\n",
            "    https://scikit-learn.org/stable/modules/preprocessing.html\n",
            "Please also refer to the documentation for alternative solver options:\n",
            "    https://scikit-learn.org/stable/modules/linear_model.html#logistic-regression\n",
            "  extra_warning_msg=_LOGISTIC_SOLVER_CONVERGENCE_MSG)\n",
            "/usr/local/lib/python3.6/dist-packages/sklearn/linear_model/_logistic.py:940: ConvergenceWarning: lbfgs failed to converge (status=1):\n",
            "STOP: TOTAL NO. of ITERATIONS REACHED LIMIT.\n",
            "\n",
            "Increase the number of iterations (max_iter) or scale the data as shown in:\n",
            "    https://scikit-learn.org/stable/modules/preprocessing.html\n",
            "Please also refer to the documentation for alternative solver options:\n",
            "    https://scikit-learn.org/stable/modules/linear_model.html#logistic-regression\n",
            "  extra_warning_msg=_LOGISTIC_SOLVER_CONVERGENCE_MSG)\n",
            "/usr/local/lib/python3.6/dist-packages/sklearn/linear_model/_logistic.py:940: ConvergenceWarning: lbfgs failed to converge (status=1):\n",
            "STOP: TOTAL NO. of ITERATIONS REACHED LIMIT.\n",
            "\n",
            "Increase the number of iterations (max_iter) or scale the data as shown in:\n",
            "    https://scikit-learn.org/stable/modules/preprocessing.html\n",
            "Please also refer to the documentation for alternative solver options:\n",
            "    https://scikit-learn.org/stable/modules/linear_model.html#logistic-regression\n",
            "  extra_warning_msg=_LOGISTIC_SOLVER_CONVERGENCE_MSG)\n",
            "/usr/local/lib/python3.6/dist-packages/sklearn/linear_model/_logistic.py:940: ConvergenceWarning: lbfgs failed to converge (status=1):\n",
            "STOP: TOTAL NO. of ITERATIONS REACHED LIMIT.\n",
            "\n",
            "Increase the number of iterations (max_iter) or scale the data as shown in:\n",
            "    https://scikit-learn.org/stable/modules/preprocessing.html\n",
            "Please also refer to the documentation for alternative solver options:\n",
            "    https://scikit-learn.org/stable/modules/linear_model.html#logistic-regression\n",
            "  extra_warning_msg=_LOGISTIC_SOLVER_CONVERGENCE_MSG)\n",
            "/usr/local/lib/python3.6/dist-packages/sklearn/linear_model/_logistic.py:940: ConvergenceWarning: lbfgs failed to converge (status=1):\n",
            "STOP: TOTAL NO. of ITERATIONS REACHED LIMIT.\n",
            "\n",
            "Increase the number of iterations (max_iter) or scale the data as shown in:\n",
            "    https://scikit-learn.org/stable/modules/preprocessing.html\n",
            "Please also refer to the documentation for alternative solver options:\n",
            "    https://scikit-learn.org/stable/modules/linear_model.html#logistic-regression\n",
            "  extra_warning_msg=_LOGISTIC_SOLVER_CONVERGENCE_MSG)\n",
            "/usr/local/lib/python3.6/dist-packages/sklearn/linear_model/_logistic.py:940: ConvergenceWarning: lbfgs failed to converge (status=1):\n",
            "STOP: TOTAL NO. of ITERATIONS REACHED LIMIT.\n",
            "\n",
            "Increase the number of iterations (max_iter) or scale the data as shown in:\n",
            "    https://scikit-learn.org/stable/modules/preprocessing.html\n",
            "Please also refer to the documentation for alternative solver options:\n",
            "    https://scikit-learn.org/stable/modules/linear_model.html#logistic-regression\n",
            "  extra_warning_msg=_LOGISTIC_SOLVER_CONVERGENCE_MSG)\n",
            "[Parallel(n_jobs=1)]: Done  18 out of  18 | elapsed: 13.5min finished\n"
          ],
          "name": "stderr"
        },
        {
          "output_type": "stream",
          "text": [
            "Total time elapsed: 841.06001371\n"
          ],
          "name": "stdout"
        },
        {
          "output_type": "stream",
          "text": [
            "/usr/local/lib/python3.6/dist-packages/sklearn/linear_model/_logistic.py:940: ConvergenceWarning: lbfgs failed to converge (status=1):\n",
            "STOP: TOTAL NO. of ITERATIONS REACHED LIMIT.\n",
            "\n",
            "Increase the number of iterations (max_iter) or scale the data as shown in:\n",
            "    https://scikit-learn.org/stable/modules/preprocessing.html\n",
            "Please also refer to the documentation for alternative solver options:\n",
            "    https://scikit-learn.org/stable/modules/linear_model.html#logistic-regression\n",
            "  extra_warning_msg=_LOGISTIC_SOLVER_CONVERGENCE_MSG)\n"
          ],
          "name": "stderr"
        }
      ]
    },
    {
      "cell_type": "code",
      "metadata": {
        "id": "WiIPfe8CcWY8",
        "colab_type": "code",
        "colab": {
          "base_uri": "https://localhost:8080/",
          "height": 1000
        },
        "outputId": "ccf5369f-4d9d-4d32-cb1e-8006b424a534"
      },
      "source": [
        "print(best_clf.best_params_)\n",
        "print (f'Accuracy - : {best_clf.score(X,y):.3f}')\n",
        "print(best_clf.best_estimator_)\n",
        "y_true, y_pred = y_test, best_clf.predict(X_test)\n",
        "print(classification_report(y_true, y_pred))\n",
        "\n",
        "from sklearn.metrics import confusion_matrix\n",
        "import seaborn as sns\n",
        "import matplotlib.pyplot as plt\n",
        "\n",
        "\n",
        "conf_mat = confusion_matrix(y_test, y_pred)\n",
        "fig, ax = plt.subplots(figsize=(10,10))\n",
        "sns.heatmap(conf_mat, annot=True, fmt='d',\n",
        "        xticklabels=\"auto\", yticklabels=\"auto\")\n",
        "plt.ylabel('Actual')\n",
        "plt.xlabel('Predicted')\n",
        "plt.show()"
      ],
      "execution_count": null,
      "outputs": [
        {
          "output_type": "stream",
          "text": [
            "{'C': 10000.0, 'max_iter': 100}\n",
            "Accuracy - : 0.914\n",
            "LogisticRegression(C=10000.0, class_weight=None, dual=False, fit_intercept=True,\n",
            "                   intercept_scaling=1, l1_ratio=None, max_iter=100,\n",
            "                   multi_class='auto', n_jobs=None, penalty='l2',\n",
            "                   random_state=None, solver='lbfgs', tol=0.0001, verbose=0,\n",
            "                   warm_start=False)\n",
            "                                                    precision    recall  f1-score   support\n",
            "\n",
            "                                    Account Health       0.73      0.78      0.76       312\n",
            "                                     Amazon Custom       0.60      0.33      0.43        63\n",
            "              Amazon Marketplace Web Service (MWS)       0.70      0.55      0.62        67\n",
            "                                        Amazon Pay       0.54      0.59      0.56       111\n",
            "                                   Amazon Specific       0.33      0.12      0.18         8\n",
            "                         Amazon Sponsored Products       0.74      0.58      0.65        60\n",
            "                              Financial Management       0.00      0.00      0.00         0\n",
            "                                 Flowster-specific       0.62      0.56      0.59         9\n",
            "                                       Fulfillment       0.00      0.00      0.00         4\n",
            "                             Fulfillment By Amazon       0.58      0.65      0.61       296\n",
            "                                    Global Selling       0.44      0.45      0.44       121\n",
            "                                            Groups       0.60      0.55      0.57        83\n",
            "Health,Safety,Sustainability,Security & Compliance       1.00      0.12      0.22         8\n",
            "                                   Human Resources       1.00      0.25      0.40         4\n",
            "                                 Login With Amazon       0.68      0.62      0.65        42\n",
            "                                        Management       0.00      0.00      0.00         1\n",
            "                                       Misc Topics       0.00      0.00      0.00         1\n",
            "                                  Product Sourcing       0.33      0.20      0.25        10\n",
            "                                 Selling on Amazon       0.48      0.54      0.51       429\n",
            "                                     Site Feedback       0.23      0.16      0.19        73\n",
            "                                  Software & Tools       0.00      0.00      0.00         6\n",
            "                        Store & Website Management       0.00      0.00      0.00         1\n",
            "                                   Traffic Sources       0.00      0.00      0.00         3\n",
            "                                  US Announcements       0.84      0.77      0.80        56\n",
            "                            eCommerce Marketplaces       0.00      0.00      0.00         1\n",
            "\n",
            "                                          accuracy                           0.57      1769\n",
            "                                         macro avg       0.42      0.31      0.34      1769\n",
            "                                      weighted avg       0.57      0.57      0.57      1769\n",
            "\n"
          ],
          "name": "stdout"
        },
        {
          "output_type": "stream",
          "text": [
            "/usr/local/lib/python3.6/dist-packages/sklearn/metrics/_classification.py:1272: UndefinedMetricWarning: Precision and F-score are ill-defined and being set to 0.0 in labels with no predicted samples. Use `zero_division` parameter to control this behavior.\n",
            "  _warn_prf(average, modifier, msg_start, len(result))\n",
            "/usr/local/lib/python3.6/dist-packages/sklearn/metrics/_classification.py:1272: UndefinedMetricWarning: Recall and F-score are ill-defined and being set to 0.0 in labels with no true samples. Use `zero_division` parameter to control this behavior.\n",
            "  _warn_prf(average, modifier, msg_start, len(result))\n",
            "/usr/local/lib/python3.6/dist-packages/statsmodels/tools/_testing.py:19: FutureWarning: pandas.util.testing is deprecated. Use the functions in the public API at pandas.testing instead.\n",
            "  import pandas.util.testing as tm\n"
          ],
          "name": "stderr"
        },
        {
          "output_type": "display_data",
          "data": {
            "image/png": "[encoded data removed]",
            "text/plain": [
              "<Figure size 720x720 with 2 Axes>"
            ]
          },
          "metadata": {
            "tags": [],
            "needs_background": "light"
          }
        }
      ]
    },
    {
      "cell_type": "markdown",
      "metadata": {
        "id": "RIGaj4qCuVRc",
        "colab_type": "text"
      },
      "source": [
        "## Running on the Augmented DataSet"
      ]
    },
    {
      "cell_type": "code",
      "metadata": {
        "id": "w4opT6K0uUIG",
        "colab_type": "code",
        "colab": {
          "base_uri": "https://localhost:8080/",
          "height": 1000
        },
        "outputId": "37f1bb96-93bb-451b-d2db-4117099f4b5e"
      },
      "source": [
        "#Now we initialize our TF-IDF object, max features are 1000\n",
        "cvec = TfidfVectorizer(analyzer = 'word',\n",
        "                         stop_words = 'english',\n",
        "                         max_features = 7500,\n",
        "                         lowercase = True)\n",
        "#Pull a series object with all the comments from the dataframe into it \n",
        "documents = aug_df['texts'].values.astype('U')\n",
        "#We set our X dataset for our model to be the output of the CountVectorizer word embedding\n",
        "X = cvec.fit_transform(documents).toarray()\n",
        "words = cvec.get_feature_names()\n",
        "# We get the labels for our model as the categories for all the links\n",
        "y = aug_df['labels']\n",
        "\n",
        "#Here we split the data into training and test set\n",
        "X_train, X_test, y_train, y_test = train_test_split(X, y,\n",
        "                                                    test_size = 0.2,\n",
        "                                                    shuffle = True)\n",
        "logReg = LogisticRegression()\n",
        "\n",
        "param_grid = [    \n",
        "    {\n",
        "    'C' : np.logspace(-4, 4, 2),\n",
        "     'max_iter' : [100, 250, 500]\n",
        "    }\n",
        "]\n",
        "\n",
        "clf = GridSearchCV(logReg, param_grid=param_grid, cv = 3, verbose = True, n_jobs= 1)\n",
        "\n",
        "start = timer();\n",
        "best_clf = clf.fit(X_train, y_train);\n",
        "\n",
        "#logisticReg.fit(X_train, y_train)\n",
        "#y_pred = logisticReg.predict(X_test)\n",
        "#result = classification_report(y_test, y_pred)\n",
        "#print(result)\n",
        "\n",
        "#best_clf.best_estimator_\n",
        "end = timer();\n",
        "print(\"Total time elapsed: \" +str(end-start))\n",
        "\n",
        "#score = logisticReg.score(X_test, y_test)\n",
        "#print(\"Score for our model \"+str(score))"
      ],
      "execution_count": null,
      "outputs": [
        {
          "output_type": "stream",
          "text": [
            "Fitting 3 folds for each of 6 candidates, totalling 18 fits\n"
          ],
          "name": "stdout"
        },
        {
          "output_type": "stream",
          "text": [
            "[Parallel(n_jobs=1)]: Using backend SequentialBackend with 1 concurrent workers.\n",
            "/usr/local/lib/python3.6/dist-packages/sklearn/linear_model/_logistic.py:940: ConvergenceWarning: lbfgs failed to converge (status=1):\n",
            "STOP: TOTAL NO. of ITERATIONS REACHED LIMIT.\n",
            "\n",
            "Increase the number of iterations (max_iter) or scale the data as shown in:\n",
            "    https://scikit-learn.org/stable/modules/preprocessing.html\n",
            "Please also refer to the documentation for alternative solver options:\n",
            "    https://scikit-learn.org/stable/modules/linear_model.html#logistic-regression\n",
            "  extra_warning_msg=_LOGISTIC_SOLVER_CONVERGENCE_MSG)\n",
            "/usr/local/lib/python3.6/dist-packages/sklearn/linear_model/_logistic.py:940: ConvergenceWarning: lbfgs failed to converge (status=1):\n",
            "STOP: TOTAL NO. of ITERATIONS REACHED LIMIT.\n",
            "\n",
            "Increase the number of iterations (max_iter) or scale the data as shown in:\n",
            "    https://scikit-learn.org/stable/modules/preprocessing.html\n",
            "Please also refer to the documentation for alternative solver options:\n",
            "    https://scikit-learn.org/stable/modules/linear_model.html#logistic-regression\n",
            "  extra_warning_msg=_LOGISTIC_SOLVER_CONVERGENCE_MSG)\n",
            "/usr/local/lib/python3.6/dist-packages/sklearn/linear_model/_logistic.py:940: ConvergenceWarning: lbfgs failed to converge (status=1):\n",
            "STOP: TOTAL NO. of ITERATIONS REACHED LIMIT.\n",
            "\n",
            "Increase the number of iterations (max_iter) or scale the data as shown in:\n",
            "    https://scikit-learn.org/stable/modules/preprocessing.html\n",
            "Please also refer to the documentation for alternative solver options:\n",
            "    https://scikit-learn.org/stable/modules/linear_model.html#logistic-regression\n",
            "  extra_warning_msg=_LOGISTIC_SOLVER_CONVERGENCE_MSG)\n",
            "/usr/local/lib/python3.6/dist-packages/sklearn/linear_model/_logistic.py:940: ConvergenceWarning: lbfgs failed to converge (status=1):\n",
            "STOP: TOTAL NO. of ITERATIONS REACHED LIMIT.\n",
            "\n",
            "Increase the number of iterations (max_iter) or scale the data as shown in:\n",
            "    https://scikit-learn.org/stable/modules/preprocessing.html\n",
            "Please also refer to the documentation for alternative solver options:\n",
            "    https://scikit-learn.org/stable/modules/linear_model.html#logistic-regression\n",
            "  extra_warning_msg=_LOGISTIC_SOLVER_CONVERGENCE_MSG)\n",
            "/usr/local/lib/python3.6/dist-packages/sklearn/linear_model/_logistic.py:940: ConvergenceWarning: lbfgs failed to converge (status=1):\n",
            "STOP: TOTAL NO. of ITERATIONS REACHED LIMIT.\n",
            "\n",
            "Increase the number of iterations (max_iter) or scale the data as shown in:\n",
            "    https://scikit-learn.org/stable/modules/preprocessing.html\n",
            "Please also refer to the documentation for alternative solver options:\n",
            "    https://scikit-learn.org/stable/modules/linear_model.html#logistic-regression\n",
            "  extra_warning_msg=_LOGISTIC_SOLVER_CONVERGENCE_MSG)\n",
            "/usr/local/lib/python3.6/dist-packages/sklearn/linear_model/_logistic.py:940: ConvergenceWarning: lbfgs failed to converge (status=1):\n",
            "STOP: TOTAL NO. of ITERATIONS REACHED LIMIT.\n",
            "\n",
            "Increase the number of iterations (max_iter) or scale the data as shown in:\n",
            "    https://scikit-learn.org/stable/modules/preprocessing.html\n",
            "Please also refer to the documentation for alternative solver options:\n",
            "    https://scikit-learn.org/stable/modules/linear_model.html#logistic-regression\n",
            "  extra_warning_msg=_LOGISTIC_SOLVER_CONVERGENCE_MSG)\n",
            "/usr/local/lib/python3.6/dist-packages/sklearn/linear_model/_logistic.py:940: ConvergenceWarning: lbfgs failed to converge (status=1):\n",
            "STOP: TOTAL NO. of ITERATIONS REACHED LIMIT.\n",
            "\n",
            "Increase the number of iterations (max_iter) or scale the data as shown in:\n",
            "    https://scikit-learn.org/stable/modules/preprocessing.html\n",
            "Please also refer to the documentation for alternative solver options:\n",
            "    https://scikit-learn.org/stable/modules/linear_model.html#logistic-regression\n",
            "  extra_warning_msg=_LOGISTIC_SOLVER_CONVERGENCE_MSG)\n",
            "/usr/local/lib/python3.6/dist-packages/sklearn/linear_model/_logistic.py:940: ConvergenceWarning: lbfgs failed to converge (status=1):\n",
            "STOP: TOTAL NO. of ITERATIONS REACHED LIMIT.\n",
            "\n",
            "Increase the number of iterations (max_iter) or scale the data as shown in:\n",
            "    https://scikit-learn.org/stable/modules/preprocessing.html\n",
            "Please also refer to the documentation for alternative solver options:\n",
            "    https://scikit-learn.org/stable/modules/linear_model.html#logistic-regression\n",
            "  extra_warning_msg=_LOGISTIC_SOLVER_CONVERGENCE_MSG)\n",
            "/usr/local/lib/python3.6/dist-packages/sklearn/linear_model/_logistic.py:940: ConvergenceWarning: lbfgs failed to converge (status=1):\n",
            "STOP: TOTAL NO. of ITERATIONS REACHED LIMIT.\n",
            "\n",
            "Increase the number of iterations (max_iter) or scale the data as shown in:\n",
            "    https://scikit-learn.org/stable/modules/preprocessing.html\n",
            "Please also refer to the documentation for alternative solver options:\n",
            "    https://scikit-learn.org/stable/modules/linear_model.html#logistic-regression\n",
            "  extra_warning_msg=_LOGISTIC_SOLVER_CONVERGENCE_MSG)\n",
            "[Parallel(n_jobs=1)]: Done  18 out of  18 | elapsed: 29.2min finished\n"
          ],
          "name": "stderr"
        },
        {
          "output_type": "stream",
          "text": [
            "Total time elapsed: 1836.4366555960005\n"
          ],
          "name": "stdout"
        },
        {
          "output_type": "stream",
          "text": [
            "/usr/local/lib/python3.6/dist-packages/sklearn/linear_model/_logistic.py:940: ConvergenceWarning: lbfgs failed to converge (status=1):\n",
            "STOP: TOTAL NO. of ITERATIONS REACHED LIMIT.\n",
            "\n",
            "Increase the number of iterations (max_iter) or scale the data as shown in:\n",
            "    https://scikit-learn.org/stable/modules/preprocessing.html\n",
            "Please also refer to the documentation for alternative solver options:\n",
            "    https://scikit-learn.org/stable/modules/linear_model.html#logistic-regression\n",
            "  extra_warning_msg=_LOGISTIC_SOLVER_CONVERGENCE_MSG)\n"
          ],
          "name": "stderr"
        }
      ]
    },
    {
      "cell_type": "code",
      "metadata": {
        "id": "wA9RFiIouiJ6",
        "colab_type": "code",
        "colab": {
          "base_uri": "https://localhost:8080/",
          "height": 1000
        },
        "outputId": "99a81b55-a0cf-4e23-e019-db38143dac0c"
      },
      "source": [
        "print(best_clf.best_params_)\n",
        "print (f'Accuracy - : {best_clf.score(X,y):.3f}')\n",
        "print(best_clf.best_estimator_)\n",
        "y_true, y_pred = y_test, best_clf.predict(X_test)\n",
        "print(classification_report(y_true, y_pred))\n",
        "\n",
        "from sklearn.metrics import confusion_matrix\n",
        "import seaborn as sns\n",
        "import matplotlib.pyplot as plt\n",
        "\n",
        "\n",
        "conf_mat = confusion_matrix(y_test, y_pred)\n",
        "fig, ax = plt.subplots(figsize=(10,10))\n",
        "sns.heatmap(conf_mat, annot=True, fmt='d',\n",
        "        xticklabels=\"auto\", yticklabels=\"auto\")\n",
        "plt.ylabel('Actual')\n",
        "plt.xlabel('Predicted')\n",
        "plt.show()"
      ],
      "execution_count": null,
      "outputs": [
        {
          "output_type": "stream",
          "text": [
            "{'C': 10000.0, 'max_iter': 100}\n",
            "Accuracy - : 0.863\n",
            "LogisticRegression(C=10000.0, class_weight=None, dual=False, fit_intercept=True,\n",
            "                   intercept_scaling=1, l1_ratio=None, max_iter=100,\n",
            "                   multi_class='auto', n_jobs=None, penalty='l2',\n",
            "                   random_state=None, solver='lbfgs', tol=0.0001, verbose=0,\n",
            "                   warm_start=False)\n",
            "                                                    precision    recall  f1-score   support\n",
            "\n",
            "                                    Account Health       0.78      0.82      0.80       612\n",
            "                                     Amazon Custom       0.65      0.52      0.58       123\n",
            "              Amazon Marketplace Web Service (MWS)       0.78      0.55      0.64       110\n",
            "                                        Amazon Pay       0.56      0.44      0.49       240\n",
            "                                   Amazon Specific       0.93      0.96      0.95       223\n",
            "                         Amazon Sponsored Products       0.44      0.71      0.54       117\n",
            "                              Financial Management       0.97      0.95      0.96        40\n",
            "                                 Flowster-specific       0.77      1.00      0.87       248\n",
            "                                       Fulfillment       0.99      0.93      0.96        74\n",
            "                             Fulfillment By Amazon       0.67      0.62      0.64       602\n",
            "                                    Global Selling       0.47      0.38      0.42       233\n",
            "                                            Groups       0.72      0.58      0.64       204\n",
            "Health,Safety,Sustainability,Security & Compliance       0.96      0.92      0.94       245\n",
            "                                   Human Resources       1.00      0.97      0.99        76\n",
            "                                 Login With Amazon       0.87      0.59      0.70        88\n",
            "                                        Management       0.91      0.74      0.82        54\n",
            "                                       Misc Topics       0.91      0.75      0.82        40\n",
            "                                  Product Sourcing       0.96      0.96      0.96       200\n",
            "                                 Selling on Amazon       0.50      0.60      0.54       859\n",
            "                                     Site Feedback       0.33      0.28      0.31       120\n",
            "                                  Software & Tools       0.96      0.87      0.91        54\n",
            "                        Store & Website Management       1.00      0.33      0.50         3\n",
            "                                   Traffic Sources       0.96      1.00      0.98        27\n",
            "                                  US Announcements       0.65      0.49      0.56       104\n",
            "                            eCommerce Marketplaces       1.00      0.55      0.71        11\n",
            "\n",
            "                                          accuracy                           0.69      4707\n",
            "                                         macro avg       0.79      0.70      0.73      4707\n",
            "                                      weighted avg       0.70      0.69      0.69      4707\n",
            "\n"
          ],
          "name": "stdout"
        },
        {
          "output_type": "display_data",
          "data": {
            "image/png": "[encoded data removed]",
            "text/plain": [
              "<Figure size 720x720 with 2 Axes>"
            ]
          },
          "metadata": {
            "tags": [],
            "needs_background": "light"
          }
        }
      ]
    }
  ]
}