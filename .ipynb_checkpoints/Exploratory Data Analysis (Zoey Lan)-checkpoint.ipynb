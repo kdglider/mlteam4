{
 "cells": [
  {
   "cell_type": "markdown",
   "metadata": {},
   "source": [
    "# 1. Basic Feature Extraction"
   ]
  },
  {
   "cell_type": "code",
   "execution_count": 1,
   "metadata": {},
   "outputs": [],
   "source": [
    "import pandas as pd\n",
    "\n",
    "train = pd.read_csv('flowster_data.csv', index_col=[0])"
   ]
  },
  {
   "cell_type": "code",
   "execution_count": 2,
   "metadata": {},
   "outputs": [
    {
     "data": {
      "text/html": [
       "<div>\n",
       "<style scoped>\n",
       "    .dataframe tbody tr th:only-of-type {\n",
       "        vertical-align: middle;\n",
       "    }\n",
       "\n",
       "    .dataframe tbody tr th {\n",
       "        vertical-align: top;\n",
       "    }\n",
       "\n",
       "    .dataframe thead th {\n",
       "        text-align: right;\n",
       "    }\n",
       "</style>\n",
       "<table border=\"1\" class=\"dataframe\">\n",
       "  <thead>\n",
       "    <tr style=\"text-align: right;\">\n",
       "      <th></th>\n",
       "      <th>Topic Title</th>\n",
       "      <th>Category</th>\n",
       "      <th>Tags</th>\n",
       "      <th>Authors</th>\n",
       "      <th>Leading Comment</th>\n",
       "      <th>Other Comments</th>\n",
       "    </tr>\n",
       "  </thead>\n",
       "  <tbody>\n",
       "    <tr>\n",
       "      <td>0</td>\n",
       "      <td>About the Product Sourcing Category</td>\n",
       "      <td>Product Sourcing</td>\n",
       "      <td>['Product Sourcing']</td>\n",
       "      <td>[]</td>\n",
       "      <td>Have questions about sourcing products? This i...</td>\n",
       "      <td>[]</td>\n",
       "    </tr>\n",
       "    <tr>\n",
       "      <td>1</td>\n",
       "      <td>Price Checker 2 - Competitor storefront extrac...</td>\n",
       "      <td>Product Sourcing</td>\n",
       "      <td>['Product Sourcing']</td>\n",
       "      <td>['Mitch', 'MoniqueAndKerry']</td>\n",
       "      <td>Hi! We are new to the forum and are going thro...</td>\n",
       "      <td>['Yes you will need the paid version.  Options...</td>\n",
       "    </tr>\n",
       "    <tr>\n",
       "      <td>2</td>\n",
       "      <td>Top 10 Tips to Grow your Business Rapidly</td>\n",
       "      <td>Product Sourcing</td>\n",
       "      <td>['Product Sourcing', 'Purchasing']</td>\n",
       "      <td>[]</td>\n",
       "      <td>As I am working in Amazon as a seller from las...</td>\n",
       "      <td>[]</td>\n",
       "    </tr>\n",
       "    <tr>\n",
       "      <td>3</td>\n",
       "      <td>Virtual Assistants</td>\n",
       "      <td>Product Sourcing</td>\n",
       "      <td>['Product Sourcing']</td>\n",
       "      <td>['Mitch', 'Rebca', 'JimW_PB']</td>\n",
       "      <td>Does anyone have a VA they recommend, have use...</td>\n",
       "      <td>['@McDavid Most don’t want to share any stella...</td>\n",
       "    </tr>\n",
       "    <tr>\n",
       "      <td>4</td>\n",
       "      <td>Can you sell branded products on Amazon uk</td>\n",
       "      <td>Product Sourcing</td>\n",
       "      <td>['Product Sourcing', 'Sourcing Brand Name Prod...</td>\n",
       "      <td>['Mitch']</td>\n",
       "      <td>Can you sell branded products on Amazon Uk or ...</td>\n",
       "      <td>['You can sell on Amazon UK as well.  It could...</td>\n",
       "    </tr>\n",
       "  </tbody>\n",
       "</table>\n",
       "</div>"
      ],
      "text/plain": [
       "                                         Topic Title          Category  \\\n",
       "0                About the Product Sourcing Category  Product Sourcing   \n",
       "1  Price Checker 2 - Competitor storefront extrac...  Product Sourcing   \n",
       "2          Top 10 Tips to Grow your Business Rapidly  Product Sourcing   \n",
       "3                                 Virtual Assistants  Product Sourcing   \n",
       "4         Can you sell branded products on Amazon uk  Product Sourcing   \n",
       "\n",
       "                                                Tags  \\\n",
       "0                               ['Product Sourcing']   \n",
       "1                               ['Product Sourcing']   \n",
       "2                 ['Product Sourcing', 'Purchasing']   \n",
       "3                               ['Product Sourcing']   \n",
       "4  ['Product Sourcing', 'Sourcing Brand Name Prod...   \n",
       "\n",
       "                         Authors  \\\n",
       "0                             []   \n",
       "1   ['Mitch', 'MoniqueAndKerry']   \n",
       "2                             []   \n",
       "3  ['Mitch', 'Rebca', 'JimW_PB']   \n",
       "4                      ['Mitch']   \n",
       "\n",
       "                                     Leading Comment  \\\n",
       "0  Have questions about sourcing products? This i...   \n",
       "1  Hi! We are new to the forum and are going thro...   \n",
       "2  As I am working in Amazon as a seller from las...   \n",
       "3  Does anyone have a VA they recommend, have use...   \n",
       "4  Can you sell branded products on Amazon Uk or ...   \n",
       "\n",
       "                                      Other Comments  \n",
       "0                                                 []  \n",
       "1  ['Yes you will need the paid version.  Options...  \n",
       "2                                                 []  \n",
       "3  ['@McDavid Most don’t want to share any stella...  \n",
       "4  ['You can sell on Amazon UK as well.  It could...  "
      ]
     },
     "execution_count": 2,
     "metadata": {},
     "output_type": "execute_result"
    }
   ],
   "source": [
    "train.head()"
   ]
  },
  {
   "cell_type": "markdown",
   "metadata": {},
   "source": [
    "### 1.1 Number of Words in Leading Comment"
   ]
  },
  {
   "cell_type": "code",
   "execution_count": 3,
   "metadata": {
    "scrolled": true
   },
   "outputs": [
    {
     "data": {
      "text/html": [
       "<div>\n",
       "<style scoped>\n",
       "    .dataframe tbody tr th:only-of-type {\n",
       "        vertical-align: middle;\n",
       "    }\n",
       "\n",
       "    .dataframe tbody tr th {\n",
       "        vertical-align: top;\n",
       "    }\n",
       "\n",
       "    .dataframe thead th {\n",
       "        text-align: right;\n",
       "    }\n",
       "</style>\n",
       "<table border=\"1\" class=\"dataframe\">\n",
       "  <thead>\n",
       "    <tr style=\"text-align: right;\">\n",
       "      <th></th>\n",
       "      <th>Leading Comment</th>\n",
       "      <th>Word Count in Leading Comment</th>\n",
       "    </tr>\n",
       "  </thead>\n",
       "  <tbody>\n",
       "    <tr>\n",
       "      <td>0</td>\n",
       "      <td>Have questions about sourcing products? This i...</td>\n",
       "      <td>23</td>\n",
       "    </tr>\n",
       "    <tr>\n",
       "      <td>1</td>\n",
       "      <td>Hi! We are new to the forum and are going thro...</td>\n",
       "      <td>65</td>\n",
       "    </tr>\n",
       "    <tr>\n",
       "      <td>2</td>\n",
       "      <td>As I am working in Amazon as a seller from las...</td>\n",
       "      <td>106</td>\n",
       "    </tr>\n",
       "    <tr>\n",
       "      <td>3</td>\n",
       "      <td>Does anyone have a VA they recommend, have use...</td>\n",
       "      <td>16</td>\n",
       "    </tr>\n",
       "    <tr>\n",
       "      <td>4</td>\n",
       "      <td>Can you sell branded products on Amazon Uk or ...</td>\n",
       "      <td>15</td>\n",
       "    </tr>\n",
       "  </tbody>\n",
       "</table>\n",
       "</div>"
      ],
      "text/plain": [
       "                                     Leading Comment  \\\n",
       "0  Have questions about sourcing products? This i...   \n",
       "1  Hi! We are new to the forum and are going thro...   \n",
       "2  As I am working in Amazon as a seller from las...   \n",
       "3  Does anyone have a VA they recommend, have use...   \n",
       "4  Can you sell branded products on Amazon Uk or ...   \n",
       "\n",
       "   Word Count in Leading Comment  \n",
       "0                             23  \n",
       "1                             65  \n",
       "2                            106  \n",
       "3                             16  \n",
       "4                             15  "
      ]
     },
     "execution_count": 3,
     "metadata": {},
     "output_type": "execute_result"
    }
   ],
   "source": [
    "train['Word Count in Leading Comment'] = train['Leading Comment'].apply(lambda x: len(str(x).split(' ')))\n",
    "train[['Leading Comment','Word Count in Leading Comment']].head()"
   ]
  },
  {
   "cell_type": "markdown",
   "metadata": {},
   "source": [
    "<p style=\"color:blue\">It would be interesting to know the average.</p>"
   ]
  },
  {
   "cell_type": "markdown",
   "metadata": {},
   "source": [
    "### 1.2 Number of Replied Comments"
   ]
  },
  {
   "cell_type": "code",
   "execution_count": 4,
   "metadata": {},
   "outputs": [
    {
     "data": {
      "text/html": [
       "<div>\n",
       "<style scoped>\n",
       "    .dataframe tbody tr th:only-of-type {\n",
       "        vertical-align: middle;\n",
       "    }\n",
       "\n",
       "    .dataframe tbody tr th {\n",
       "        vertical-align: top;\n",
       "    }\n",
       "\n",
       "    .dataframe thead th {\n",
       "        text-align: right;\n",
       "    }\n",
       "</style>\n",
       "<table border=\"1\" class=\"dataframe\">\n",
       "  <thead>\n",
       "    <tr style=\"text-align: right;\">\n",
       "      <th></th>\n",
       "      <th>Other Comments</th>\n",
       "      <th>Number of Replies</th>\n",
       "    </tr>\n",
       "  </thead>\n",
       "  <tbody>\n",
       "    <tr>\n",
       "      <td>0</td>\n",
       "      <td>[]</td>\n",
       "      <td>0</td>\n",
       "    </tr>\n",
       "    <tr>\n",
       "      <td>1</td>\n",
       "      <td>['Yes you will need the paid version.  Options...</td>\n",
       "      <td>2</td>\n",
       "    </tr>\n",
       "    <tr>\n",
       "      <td>2</td>\n",
       "      <td>[]</td>\n",
       "      <td>0</td>\n",
       "    </tr>\n",
       "    <tr>\n",
       "      <td>3</td>\n",
       "      <td>['@McDavid Most don’t want to share any stella...</td>\n",
       "      <td>3</td>\n",
       "    </tr>\n",
       "    <tr>\n",
       "      <td>4</td>\n",
       "      <td>['You can sell on Amazon UK as well.  It could...</td>\n",
       "      <td>1</td>\n",
       "    </tr>\n",
       "    <tr>\n",
       "      <td>5</td>\n",
       "      <td>['@xinod14 Are you seeing an inacurracy in a c...</td>\n",
       "      <td>1</td>\n",
       "    </tr>\n",
       "    <tr>\n",
       "      <td>6</td>\n",
       "      <td>['@zaid We use many of Helium10’s products.  B...</td>\n",
       "      <td>1</td>\n",
       "    </tr>\n",
       "    <tr>\n",
       "      <td>7</td>\n",
       "      <td>[]</td>\n",
       "      <td>0</td>\n",
       "    </tr>\n",
       "    <tr>\n",
       "      <td>8</td>\n",
       "      <td>['You have to trust your VA to do so many thin...</td>\n",
       "      <td>10</td>\n",
       "    </tr>\n",
       "    <tr>\n",
       "      <td>9</td>\n",
       "      <td>['@gianmeliShanghai We typically analyze the p...</td>\n",
       "      <td>3</td>\n",
       "    </tr>\n",
       "  </tbody>\n",
       "</table>\n",
       "</div>"
      ],
      "text/plain": [
       "                                      Other Comments  Number of Replies\n",
       "0                                                 []                  0\n",
       "1  ['Yes you will need the paid version.  Options...                  2\n",
       "2                                                 []                  0\n",
       "3  ['@McDavid Most don’t want to share any stella...                  3\n",
       "4  ['You can sell on Amazon UK as well.  It could...                  1\n",
       "5  ['@xinod14 Are you seeing an inacurracy in a c...                  1\n",
       "6  ['@zaid We use many of Helium10’s products.  B...                  1\n",
       "7                                                 []                  0\n",
       "8  ['You have to trust your VA to do so many thin...                 10\n",
       "9  ['@gianmeliShanghai We typically analyze the p...                  3"
      ]
     },
     "execution_count": 4,
     "metadata": {},
     "output_type": "execute_result"
    }
   ],
   "source": [
    "train['Number of Replies'] = train['Other Comments'].apply(lambda x: len(x.split(\"',\")) if (x !='[]') else 0)\n",
    "train[['Other Comments','Number of Replies']].head(10)"
   ]
  },
  {
   "cell_type": "markdown",
   "metadata": {},
   "source": [
    "### 1.3 Number of Characters in Leading Comment"
   ]
  },
  {
   "cell_type": "code",
   "execution_count": 5,
   "metadata": {},
   "outputs": [
    {
     "data": {
      "text/html": [
       "<div>\n",
       "<style scoped>\n",
       "    .dataframe tbody tr th:only-of-type {\n",
       "        vertical-align: middle;\n",
       "    }\n",
       "\n",
       "    .dataframe tbody tr th {\n",
       "        vertical-align: top;\n",
       "    }\n",
       "\n",
       "    .dataframe thead th {\n",
       "        text-align: right;\n",
       "    }\n",
       "</style>\n",
       "<table border=\"1\" class=\"dataframe\">\n",
       "  <thead>\n",
       "    <tr style=\"text-align: right;\">\n",
       "      <th></th>\n",
       "      <th>Leading Comment</th>\n",
       "      <th>Number of Charcters in Leading Comment</th>\n",
       "    </tr>\n",
       "  </thead>\n",
       "  <tbody>\n",
       "    <tr>\n",
       "      <td>0</td>\n",
       "      <td>Have questions about sourcing products? This i...</td>\n",
       "      <td>147.0</td>\n",
       "    </tr>\n",
       "    <tr>\n",
       "      <td>1</td>\n",
       "      <td>Hi! We are new to the forum and are going thro...</td>\n",
       "      <td>370.0</td>\n",
       "    </tr>\n",
       "    <tr>\n",
       "      <td>2</td>\n",
       "      <td>As I am working in Amazon as a seller from las...</td>\n",
       "      <td>503.0</td>\n",
       "    </tr>\n",
       "    <tr>\n",
       "      <td>3</td>\n",
       "      <td>Does anyone have a VA they recommend, have use...</td>\n",
       "      <td>90.0</td>\n",
       "    </tr>\n",
       "    <tr>\n",
       "      <td>4</td>\n",
       "      <td>Can you sell branded products on Amazon Uk or ...</td>\n",
       "      <td>71.0</td>\n",
       "    </tr>\n",
       "  </tbody>\n",
       "</table>\n",
       "</div>"
      ],
      "text/plain": [
       "                                     Leading Comment  \\\n",
       "0  Have questions about sourcing products? This i...   \n",
       "1  Hi! We are new to the forum and are going thro...   \n",
       "2  As I am working in Amazon as a seller from las...   \n",
       "3  Does anyone have a VA they recommend, have use...   \n",
       "4  Can you sell branded products on Amazon Uk or ...   \n",
       "\n",
       "   Number of Charcters in Leading Comment  \n",
       "0                                   147.0  \n",
       "1                                   370.0  \n",
       "2                                   503.0  \n",
       "3                                    90.0  \n",
       "4                                    71.0  "
      ]
     },
     "execution_count": 5,
     "metadata": {},
     "output_type": "execute_result"
    }
   ],
   "source": [
    "train['Number of Charcters in Leading Comment'] = train['Leading Comment'].str.len() ## this also includes spaces\n",
    "train[['Leading Comment','Number of Charcters in Leading Comment']].head()"
   ]
  },
  {
   "cell_type": "markdown",
   "metadata": {},
   "source": [
    "### 1.4 Average Word Length of Leading Comment"
   ]
  },
  {
   "cell_type": "code",
   "execution_count": 6,
   "metadata": {},
   "outputs": [
    {
     "data": {
      "text/html": [
       "<div>\n",
       "<style scoped>\n",
       "    .dataframe tbody tr th:only-of-type {\n",
       "        vertical-align: middle;\n",
       "    }\n",
       "\n",
       "    .dataframe tbody tr th {\n",
       "        vertical-align: top;\n",
       "    }\n",
       "\n",
       "    .dataframe thead th {\n",
       "        text-align: right;\n",
       "    }\n",
       "</style>\n",
       "<table border=\"1\" class=\"dataframe\">\n",
       "  <thead>\n",
       "    <tr style=\"text-align: right;\">\n",
       "      <th></th>\n",
       "      <th>Leading Comment</th>\n",
       "      <th>Avg Word of Leading Comment</th>\n",
       "    </tr>\n",
       "  </thead>\n",
       "  <tbody>\n",
       "    <tr>\n",
       "      <td>0</td>\n",
       "      <td>Have questions about sourcing products? This i...</td>\n",
       "      <td>5.434783</td>\n",
       "    </tr>\n",
       "    <tr>\n",
       "      <td>1</td>\n",
       "      <td>Hi! We are new to the forum and are going thro...</td>\n",
       "      <td>4.781250</td>\n",
       "    </tr>\n",
       "    <tr>\n",
       "      <td>2</td>\n",
       "      <td>As I am working in Amazon as a seller from las...</td>\n",
       "      <td>4.913580</td>\n",
       "    </tr>\n",
       "    <tr>\n",
       "      <td>3</td>\n",
       "      <td>Does anyone have a VA they recommend, have use...</td>\n",
       "      <td>4.687500</td>\n",
       "    </tr>\n",
       "    <tr>\n",
       "      <td>4</td>\n",
       "      <td>Can you sell branded products on Amazon Uk or ...</td>\n",
       "      <td>3.800000</td>\n",
       "    </tr>\n",
       "  </tbody>\n",
       "</table>\n",
       "</div>"
      ],
      "text/plain": [
       "                                     Leading Comment  \\\n",
       "0  Have questions about sourcing products? This i...   \n",
       "1  Hi! We are new to the forum and are going thro...   \n",
       "2  As I am working in Amazon as a seller from las...   \n",
       "3  Does anyone have a VA they recommend, have use...   \n",
       "4  Can you sell branded products on Amazon Uk or ...   \n",
       "\n",
       "   Avg Word of Leading Comment  \n",
       "0                     5.434783  \n",
       "1                     4.781250  \n",
       "2                     4.913580  \n",
       "3                     4.687500  \n",
       "4                     3.800000  "
      ]
     },
     "execution_count": 6,
     "metadata": {},
     "output_type": "execute_result"
    }
   ],
   "source": [
    "def avg_word(sentence):\n",
    "    words = sentence.split()\n",
    "    return (sum(len(word) for word in words)/len(words))\n",
    "\n",
    "train['Avg Word of Leading Comment'] = train['Leading Comment'].apply(lambda x: avg_word(str(x)))\n",
    "train[['Leading Comment','Avg Word of Leading Comment']].head()"
   ]
  },
  {
   "cell_type": "markdown",
   "metadata": {},
   "source": [
    "### 1.5 Number of Stopwords"
   ]
  },
  {
   "cell_type": "markdown",
   "metadata": {},
   "source": [
    "Generally, while solving an NLP problem, the first thing we do is to remove the stopwords. But sometimes calculating the number of stopwords can also give us some extra information which we might have been losing before.\n",
    "\n",
    "Here, we have imported stopwords from NLTK, which is a basic NLP library in python."
   ]
  },
  {
   "cell_type": "code",
   "execution_count": 7,
   "metadata": {},
   "outputs": [
    {
     "name": "stdout",
     "output_type": "stream",
     "text": [
      "Requirement already satisfied: nltk in c:\\users\\zoeyl\\anaconda3\\lib\\site-packages (3.4.5)\n",
      "Requirement already satisfied: six in c:\\users\\zoeyl\\anaconda3\\lib\\site-packages (from nltk) (1.12.0)\n"
     ]
    }
   ],
   "source": [
    "!pip install nltk"
   ]
  },
  {
   "cell_type": "code",
   "execution_count": 8,
   "metadata": {},
   "outputs": [
    {
     "name": "stderr",
     "output_type": "stream",
     "text": [
      "[nltk_data] Downloading package stopwords to\n",
      "[nltk_data]     C:\\Users\\zoeyl\\AppData\\Roaming\\nltk_data...\n",
      "[nltk_data]   Package stopwords is already up-to-date!\n"
     ]
    }
   ],
   "source": [
    "from nltk.corpus import stopwords\n",
    "import nltk\n",
    "nltk.download('stopwords')\n",
    "stop = stopwords.words('english')"
   ]
  },
  {
   "cell_type": "code",
   "execution_count": 9,
   "metadata": {},
   "outputs": [
    {
     "data": {
      "text/plain": [
       "['i', 'me', 'my', 'myself', 'we', 'our', 'ours', 'ourselves', 'you', \"you're\"]"
      ]
     },
     "execution_count": 9,
     "metadata": {},
     "output_type": "execute_result"
    }
   ],
   "source": [
    "stop[: 10]"
   ]
  },
  {
   "cell_type": "code",
   "execution_count": 10,
   "metadata": {},
   "outputs": [
    {
     "data": {
      "text/html": [
       "<div>\n",
       "<style scoped>\n",
       "    .dataframe tbody tr th:only-of-type {\n",
       "        vertical-align: middle;\n",
       "    }\n",
       "\n",
       "    .dataframe tbody tr th {\n",
       "        vertical-align: top;\n",
       "    }\n",
       "\n",
       "    .dataframe thead th {\n",
       "        text-align: right;\n",
       "    }\n",
       "</style>\n",
       "<table border=\"1\" class=\"dataframe\">\n",
       "  <thead>\n",
       "    <tr style=\"text-align: right;\">\n",
       "      <th></th>\n",
       "      <th>Leading Comment</th>\n",
       "      <th>Stopwords for Leading Comment</th>\n",
       "    </tr>\n",
       "  </thead>\n",
       "  <tbody>\n",
       "    <tr>\n",
       "      <td>0</td>\n",
       "      <td>Have questions about sourcing products? This i...</td>\n",
       "      <td>10</td>\n",
       "    </tr>\n",
       "    <tr>\n",
       "      <td>1</td>\n",
       "      <td>Hi! We are new to the forum and are going thro...</td>\n",
       "      <td>28</td>\n",
       "    </tr>\n",
       "    <tr>\n",
       "      <td>2</td>\n",
       "      <td>As I am working in Amazon as a seller from las...</td>\n",
       "      <td>22</td>\n",
       "    </tr>\n",
       "    <tr>\n",
       "      <td>3</td>\n",
       "      <td>Does anyone have a VA they recommend, have use...</td>\n",
       "      <td>7</td>\n",
       "    </tr>\n",
       "    <tr>\n",
       "      <td>4</td>\n",
       "      <td>Can you sell branded products on Amazon Uk or ...</td>\n",
       "      <td>6</td>\n",
       "    </tr>\n",
       "  </tbody>\n",
       "</table>\n",
       "</div>"
      ],
      "text/plain": [
       "                                     Leading Comment  \\\n",
       "0  Have questions about sourcing products? This i...   \n",
       "1  Hi! We are new to the forum and are going thro...   \n",
       "2  As I am working in Amazon as a seller from las...   \n",
       "3  Does anyone have a VA they recommend, have use...   \n",
       "4  Can you sell branded products on Amazon Uk or ...   \n",
       "\n",
       "   Stopwords for Leading Comment  \n",
       "0                             10  \n",
       "1                             28  \n",
       "2                             22  \n",
       "3                              7  \n",
       "4                              6  "
      ]
     },
     "execution_count": 10,
     "metadata": {},
     "output_type": "execute_result"
    }
   ],
   "source": [
    "train['Stopwords for Leading Comment'] = train['Leading Comment'].apply(lambda x: len([x for x in str(x).split() if x in stop]))\n",
    "train[['Leading Comment','Stopwords for Leading Comment']].head()"
   ]
  },
  {
   "cell_type": "code",
   "execution_count": 11,
   "metadata": {},
   "outputs": [
    {
     "data": {
      "text/html": [
       "<div>\n",
       "<style scoped>\n",
       "    .dataframe tbody tr th:only-of-type {\n",
       "        vertical-align: middle;\n",
       "    }\n",
       "\n",
       "    .dataframe tbody tr th {\n",
       "        vertical-align: top;\n",
       "    }\n",
       "\n",
       "    .dataframe thead th {\n",
       "        text-align: right;\n",
       "    }\n",
       "</style>\n",
       "<table border=\"1\" class=\"dataframe\">\n",
       "  <thead>\n",
       "    <tr style=\"text-align: right;\">\n",
       "      <th></th>\n",
       "      <th>Other Comments</th>\n",
       "      <th>Stopwords for Other Comments</th>\n",
       "    </tr>\n",
       "  </thead>\n",
       "  <tbody>\n",
       "    <tr>\n",
       "      <td>0</td>\n",
       "      <td>[]</td>\n",
       "      <td>0</td>\n",
       "    </tr>\n",
       "    <tr>\n",
       "      <td>1</td>\n",
       "      <td>['Yes you will need the paid version.  Options...</td>\n",
       "      <td>9</td>\n",
       "    </tr>\n",
       "    <tr>\n",
       "      <td>2</td>\n",
       "      <td>[]</td>\n",
       "      <td>0</td>\n",
       "    </tr>\n",
       "    <tr>\n",
       "      <td>3</td>\n",
       "      <td>['@McDavid Most don’t want to share any stella...</td>\n",
       "      <td>45</td>\n",
       "    </tr>\n",
       "    <tr>\n",
       "      <td>4</td>\n",
       "      <td>['You can sell on Amazon UK as well.  It could...</td>\n",
       "      <td>14</td>\n",
       "    </tr>\n",
       "  </tbody>\n",
       "</table>\n",
       "</div>"
      ],
      "text/plain": [
       "                                      Other Comments  \\\n",
       "0                                                 []   \n",
       "1  ['Yes you will need the paid version.  Options...   \n",
       "2                                                 []   \n",
       "3  ['@McDavid Most don’t want to share any stella...   \n",
       "4  ['You can sell on Amazon UK as well.  It could...   \n",
       "\n",
       "   Stopwords for Other Comments  \n",
       "0                             0  \n",
       "1                             9  \n",
       "2                             0  \n",
       "3                            45  \n",
       "4                            14  "
      ]
     },
     "execution_count": 11,
     "metadata": {},
     "output_type": "execute_result"
    }
   ],
   "source": [
    "train['Stopwords for Other Comments'] = train['Other Comments'].apply(lambda x: len([x for x in str(x).split() if x in stop]))\n",
    "train[['Other Comments','Stopwords for Other Comments']].head()"
   ]
  },
  {
   "cell_type": "markdown",
   "metadata": {},
   "source": [
    "### 1.6 Number of Special Characters"
   ]
  },
  {
   "cell_type": "markdown",
   "metadata": {},
   "source": [
    "One more interesting feature which we can extract from a tweet is calculating the number of hashtags or mentions present in it. This also helps in extracting extra information from our text data.\n",
    "\n",
    "Here, we make use of the ‘starts with’ function because hashtags (or mentions) always appear at the beginning of a word."
   ]
  },
  {
   "cell_type": "markdown",
   "metadata": {},
   "source": [
    "#### Number of words starting with @"
   ]
  },
  {
   "cell_type": "code",
   "execution_count": 12,
   "metadata": {},
   "outputs": [
    {
     "data": {
      "text/html": [
       "<div>\n",
       "<style scoped>\n",
       "    .dataframe tbody tr th:only-of-type {\n",
       "        vertical-align: middle;\n",
       "    }\n",
       "\n",
       "    .dataframe tbody tr th {\n",
       "        vertical-align: top;\n",
       "    }\n",
       "\n",
       "    .dataframe thead th {\n",
       "        text-align: right;\n",
       "    }\n",
       "</style>\n",
       "<table border=\"1\" class=\"dataframe\">\n",
       "  <thead>\n",
       "    <tr style=\"text-align: right;\">\n",
       "      <th></th>\n",
       "      <th>Other Comments</th>\n",
       "      <th>Hastags</th>\n",
       "    </tr>\n",
       "  </thead>\n",
       "  <tbody>\n",
       "    <tr>\n",
       "      <td>0</td>\n",
       "      <td>[]</td>\n",
       "      <td>0</td>\n",
       "    </tr>\n",
       "    <tr>\n",
       "      <td>1</td>\n",
       "      <td>['Yes you will need the paid version.  Options...</td>\n",
       "      <td>0</td>\n",
       "    </tr>\n",
       "    <tr>\n",
       "      <td>2</td>\n",
       "      <td>[]</td>\n",
       "      <td>0</td>\n",
       "    </tr>\n",
       "    <tr>\n",
       "      <td>3</td>\n",
       "      <td>['@McDavid Most don’t want to share any stella...</td>\n",
       "      <td>2</td>\n",
       "    </tr>\n",
       "    <tr>\n",
       "      <td>4</td>\n",
       "      <td>['You can sell on Amazon UK as well.  It could...</td>\n",
       "      <td>0</td>\n",
       "    </tr>\n",
       "  </tbody>\n",
       "</table>\n",
       "</div>"
      ],
      "text/plain": [
       "                                      Other Comments  Hastags\n",
       "0                                                 []        0\n",
       "1  ['Yes you will need the paid version.  Options...        0\n",
       "2                                                 []        0\n",
       "3  ['@McDavid Most don’t want to share any stella...        2\n",
       "4  ['You can sell on Amazon UK as well.  It could...        0"
      ]
     },
     "execution_count": 12,
     "metadata": {},
     "output_type": "execute_result"
    }
   ],
   "source": [
    "train['Hastags'] = train['Other Comments'].apply(lambda x: str(x).count('@'))\n",
    "train[['Other Comments','Hastags']].head()"
   ]
  },
  {
   "cell_type": "markdown",
   "metadata": {},
   "source": [
    "### 1.7 Number of Numerics"
   ]
  },
  {
   "cell_type": "code",
   "execution_count": 13,
   "metadata": {},
   "outputs": [
    {
     "data": {
      "text/html": [
       "<div>\n",
       "<style scoped>\n",
       "    .dataframe tbody tr th:only-of-type {\n",
       "        vertical-align: middle;\n",
       "    }\n",
       "\n",
       "    .dataframe tbody tr th {\n",
       "        vertical-align: top;\n",
       "    }\n",
       "\n",
       "    .dataframe thead th {\n",
       "        text-align: right;\n",
       "    }\n",
       "</style>\n",
       "<table border=\"1\" class=\"dataframe\">\n",
       "  <thead>\n",
       "    <tr style=\"text-align: right;\">\n",
       "      <th></th>\n",
       "      <th>Leading Comment</th>\n",
       "      <th>Numerics in Leading Comment</th>\n",
       "    </tr>\n",
       "  </thead>\n",
       "  <tbody>\n",
       "    <tr>\n",
       "      <td>0</td>\n",
       "      <td>Have questions about sourcing products? This i...</td>\n",
       "      <td>0</td>\n",
       "    </tr>\n",
       "    <tr>\n",
       "      <td>1</td>\n",
       "      <td>Hi! We are new to the forum and are going thro...</td>\n",
       "      <td>0</td>\n",
       "    </tr>\n",
       "    <tr>\n",
       "      <td>2</td>\n",
       "      <td>As I am working in Amazon as a seller from las...</td>\n",
       "      <td>2</td>\n",
       "    </tr>\n",
       "    <tr>\n",
       "      <td>3</td>\n",
       "      <td>Does anyone have a VA they recommend, have use...</td>\n",
       "      <td>0</td>\n",
       "    </tr>\n",
       "    <tr>\n",
       "      <td>4</td>\n",
       "      <td>Can you sell branded products on Amazon Uk or ...</td>\n",
       "      <td>0</td>\n",
       "    </tr>\n",
       "  </tbody>\n",
       "</table>\n",
       "</div>"
      ],
      "text/plain": [
       "                                     Leading Comment  \\\n",
       "0  Have questions about sourcing products? This i...   \n",
       "1  Hi! We are new to the forum and are going thro...   \n",
       "2  As I am working in Amazon as a seller from las...   \n",
       "3  Does anyone have a VA they recommend, have use...   \n",
       "4  Can you sell branded products on Amazon Uk or ...   \n",
       "\n",
       "   Numerics in Leading Comment  \n",
       "0                            0  \n",
       "1                            0  \n",
       "2                            2  \n",
       "3                            0  \n",
       "4                            0  "
      ]
     },
     "execution_count": 13,
     "metadata": {},
     "output_type": "execute_result"
    }
   ],
   "source": [
    "train['Numerics in Leading Comment'] = train['Leading Comment'].apply(lambda x: len([x for x in str(x).split() if x.isdigit()]))\n",
    "train[['Leading Comment','Numerics in Leading Comment']].head()"
   ]
  },
  {
   "cell_type": "code",
   "execution_count": 14,
   "metadata": {},
   "outputs": [
    {
     "data": {
      "text/html": [
       "<div>\n",
       "<style scoped>\n",
       "    .dataframe tbody tr th:only-of-type {\n",
       "        vertical-align: middle;\n",
       "    }\n",
       "\n",
       "    .dataframe tbody tr th {\n",
       "        vertical-align: top;\n",
       "    }\n",
       "\n",
       "    .dataframe thead th {\n",
       "        text-align: right;\n",
       "    }\n",
       "</style>\n",
       "<table border=\"1\" class=\"dataframe\">\n",
       "  <thead>\n",
       "    <tr style=\"text-align: right;\">\n",
       "      <th></th>\n",
       "      <th>Other Comments</th>\n",
       "      <th>Numerics in Other Comments</th>\n",
       "    </tr>\n",
       "  </thead>\n",
       "  <tbody>\n",
       "    <tr>\n",
       "      <td>0</td>\n",
       "      <td>[]</td>\n",
       "      <td>0</td>\n",
       "    </tr>\n",
       "    <tr>\n",
       "      <td>1</td>\n",
       "      <td>['Yes you will need the paid version.  Options...</td>\n",
       "      <td>0</td>\n",
       "    </tr>\n",
       "    <tr>\n",
       "      <td>2</td>\n",
       "      <td>[]</td>\n",
       "      <td>0</td>\n",
       "    </tr>\n",
       "    <tr>\n",
       "      <td>3</td>\n",
       "      <td>['@McDavid Most don’t want to share any stella...</td>\n",
       "      <td>1</td>\n",
       "    </tr>\n",
       "    <tr>\n",
       "      <td>4</td>\n",
       "      <td>['You can sell on Amazon UK as well.  It could...</td>\n",
       "      <td>0</td>\n",
       "    </tr>\n",
       "  </tbody>\n",
       "</table>\n",
       "</div>"
      ],
      "text/plain": [
       "                                      Other Comments  \\\n",
       "0                                                 []   \n",
       "1  ['Yes you will need the paid version.  Options...   \n",
       "2                                                 []   \n",
       "3  ['@McDavid Most don’t want to share any stella...   \n",
       "4  ['You can sell on Amazon UK as well.  It could...   \n",
       "\n",
       "   Numerics in Other Comments  \n",
       "0                           0  \n",
       "1                           0  \n",
       "2                           0  \n",
       "3                           1  \n",
       "4                           0  "
      ]
     },
     "execution_count": 14,
     "metadata": {},
     "output_type": "execute_result"
    }
   ],
   "source": [
    "train['Numerics in Other Comments'] = train['Other Comments'].apply(lambda x: len([x for x in str(x).split() if x.isdigit()]))\n",
    "train[['Other Comments','Numerics in Other Comments']].head()"
   ]
  },
  {
   "cell_type": "markdown",
   "metadata": {},
   "source": [
    "### 1.8 Number of Uppercase Words"
   ]
  },
  {
   "cell_type": "markdown",
   "metadata": {},
   "source": [
    "Anger or rage is quite often expressed by writing in UPPERCASE words which makes this a necessary operation to identify those words. (not very useful in this case)"
   ]
  },
  {
   "cell_type": "code",
   "execution_count": 15,
   "metadata": {},
   "outputs": [
    {
     "data": {
      "text/html": [
       "<div>\n",
       "<style scoped>\n",
       "    .dataframe tbody tr th:only-of-type {\n",
       "        vertical-align: middle;\n",
       "    }\n",
       "\n",
       "    .dataframe tbody tr th {\n",
       "        vertical-align: top;\n",
       "    }\n",
       "\n",
       "    .dataframe thead th {\n",
       "        text-align: right;\n",
       "    }\n",
       "</style>\n",
       "<table border=\"1\" class=\"dataframe\">\n",
       "  <thead>\n",
       "    <tr style=\"text-align: right;\">\n",
       "      <th></th>\n",
       "      <th>Leading Comment</th>\n",
       "      <th>Upper in Leading Comment</th>\n",
       "    </tr>\n",
       "  </thead>\n",
       "  <tbody>\n",
       "    <tr>\n",
       "      <td>0</td>\n",
       "      <td>Have questions about sourcing products? This i...</td>\n",
       "      <td>0</td>\n",
       "    </tr>\n",
       "    <tr>\n",
       "      <td>1</td>\n",
       "      <td>Hi! We are new to the forum and are going thro...</td>\n",
       "      <td>2</td>\n",
       "    </tr>\n",
       "    <tr>\n",
       "      <td>2</td>\n",
       "      <td>As I am working in Amazon as a seller from las...</td>\n",
       "      <td>2</td>\n",
       "    </tr>\n",
       "    <tr>\n",
       "      <td>3</td>\n",
       "      <td>Does anyone have a VA they recommend, have use...</td>\n",
       "      <td>1</td>\n",
       "    </tr>\n",
       "    <tr>\n",
       "      <td>4</td>\n",
       "      <td>Can you sell branded products on Amazon Uk or ...</td>\n",
       "      <td>0</td>\n",
       "    </tr>\n",
       "  </tbody>\n",
       "</table>\n",
       "</div>"
      ],
      "text/plain": [
       "                                     Leading Comment  Upper in Leading Comment\n",
       "0  Have questions about sourcing products? This i...                         0\n",
       "1  Hi! We are new to the forum and are going thro...                         2\n",
       "2  As I am working in Amazon as a seller from las...                         2\n",
       "3  Does anyone have a VA they recommend, have use...                         1\n",
       "4  Can you sell branded products on Amazon Uk or ...                         0"
      ]
     },
     "execution_count": 15,
     "metadata": {},
     "output_type": "execute_result"
    }
   ],
   "source": [
    "train['Upper in Leading Comment'] = train['Leading Comment'].apply(lambda x: len([x for x in str(x).split() if x.isupper()]))\n",
    "train[['Leading Comment','Upper in Leading Comment']].head()"
   ]
  },
  {
   "cell_type": "code",
   "execution_count": 16,
   "metadata": {},
   "outputs": [
    {
     "data": {
      "text/html": [
       "<div>\n",
       "<style scoped>\n",
       "    .dataframe tbody tr th:only-of-type {\n",
       "        vertical-align: middle;\n",
       "    }\n",
       "\n",
       "    .dataframe tbody tr th {\n",
       "        vertical-align: top;\n",
       "    }\n",
       "\n",
       "    .dataframe thead th {\n",
       "        text-align: right;\n",
       "    }\n",
       "</style>\n",
       "<table border=\"1\" class=\"dataframe\">\n",
       "  <thead>\n",
       "    <tr style=\"text-align: right;\">\n",
       "      <th></th>\n",
       "      <th>Other Comments</th>\n",
       "      <th>Upper in Other Comments</th>\n",
       "    </tr>\n",
       "  </thead>\n",
       "  <tbody>\n",
       "    <tr>\n",
       "      <td>0</td>\n",
       "      <td>[]</td>\n",
       "      <td>0</td>\n",
       "    </tr>\n",
       "    <tr>\n",
       "      <td>1</td>\n",
       "      <td>['Yes you will need the paid version.  Options...</td>\n",
       "      <td>1</td>\n",
       "    </tr>\n",
       "    <tr>\n",
       "      <td>2</td>\n",
       "      <td>[]</td>\n",
       "      <td>0</td>\n",
       "    </tr>\n",
       "    <tr>\n",
       "      <td>3</td>\n",
       "      <td>['@McDavid Most don’t want to share any stella...</td>\n",
       "      <td>3</td>\n",
       "    </tr>\n",
       "    <tr>\n",
       "      <td>4</td>\n",
       "      <td>['You can sell on Amazon UK as well.  It could...</td>\n",
       "      <td>2</td>\n",
       "    </tr>\n",
       "  </tbody>\n",
       "</table>\n",
       "</div>"
      ],
      "text/plain": [
       "                                      Other Comments  Upper in Other Comments\n",
       "0                                                 []                        0\n",
       "1  ['Yes you will need the paid version.  Options...                        1\n",
       "2                                                 []                        0\n",
       "3  ['@McDavid Most don’t want to share any stella...                        3\n",
       "4  ['You can sell on Amazon UK as well.  It could...                        2"
      ]
     },
     "execution_count": 16,
     "metadata": {},
     "output_type": "execute_result"
    }
   ],
   "source": [
    "train['Upper in Other Comments'] = train['Other Comments'].apply(lambda x: len([x for x in str(x).split() if x.isupper()]))\n",
    "train[['Other Comments','Upper in Other Comments']].head()"
   ]
  },
  {
   "cell_type": "markdown",
   "metadata": {},
   "source": [
    "# 2. Basic Pre-processing"
   ]
  },
  {
   "cell_type": "markdown",
   "metadata": {},
   "source": [
    "So far, we have learned how to extract basic features from text data. Before diving into text and feature extraction, our first step should be cleaning the data in order to obtain better features. We will achieve this by doing some of the basic pre-processing steps on our training data."
   ]
  },
  {
   "cell_type": "markdown",
   "metadata": {},
   "source": [
    "### 2.1 Lower Case"
   ]
  },
  {
   "cell_type": "markdown",
   "metadata": {},
   "source": [
    "The first pre-processing step which we will do is transform our tweets into lower case. This avoids having multiple copies of the same words. For example, while calculating the word count, ‘Analytics’ and ‘analytics’ will be taken as different words."
   ]
  },
  {
   "cell_type": "code",
   "execution_count": 17,
   "metadata": {},
   "outputs": [
    {
     "data": {
      "text/plain": [
       "0    have questions about sourcing products? this i...\n",
       "1    hi! we are new to the forum and are going thro...\n",
       "2    as i am working in amazon as a seller from las...\n",
       "3    does anyone have a va they recommend, have use...\n",
       "4    can you sell branded products on amazon uk or ...\n",
       "Name: Leading Comment, dtype: object"
      ]
     },
     "execution_count": 17,
     "metadata": {},
     "output_type": "execute_result"
    }
   ],
   "source": [
    "train['Leading Comment'] = train['Leading Comment'].apply(lambda x: \" \".join(x.lower() for x in str(x).split()))\n",
    "train['Leading Comment'].head()"
   ]
  },
  {
   "cell_type": "code",
   "execution_count": 18,
   "metadata": {},
   "outputs": [
    {
     "data": {
      "text/plain": [
       "0                                                   []\n",
       "1    ['yes you will need the paid version. options ...\n",
       "2                                                   []\n",
       "3    ['@mcdavid most don’t want to share any stella...\n",
       "4    ['you can sell on amazon uk as well. it could ...\n",
       "Name: Other Comments, dtype: object"
      ]
     },
     "execution_count": 18,
     "metadata": {},
     "output_type": "execute_result"
    }
   ],
   "source": [
    "train['Other Comments'] = train['Other Comments'].apply(lambda x: \" \".join(x.lower() for x in str(x).split()))\n",
    "train['Other Comments'].head()"
   ]
  },
  {
   "cell_type": "markdown",
   "metadata": {},
   "source": [
    "### 2.2 Removing Punctuation"
   ]
  },
  {
   "cell_type": "markdown",
   "metadata": {},
   "source": [
    "The next step is to remove punctuation, as it doesn’t add any extra information while treating text data. Therefore removing all instances of it will help us reduce the size of the training data."
   ]
  },
  {
   "cell_type": "code",
   "execution_count": 19,
   "metadata": {},
   "outputs": [
    {
     "data": {
      "text/plain": [
       "0    have questions about sourcing products this is...\n",
       "1    hi we are new to the forum and are going throu...\n",
       "2    as i am working in amazon as a seller from las...\n",
       "3    does anyone have a va they recommend have used...\n",
       "4    can you sell branded products on amazon uk or ...\n",
       "Name: Leading Comment, dtype: object"
      ]
     },
     "execution_count": 19,
     "metadata": {},
     "output_type": "execute_result"
    }
   ],
   "source": [
    "train['Leading Comment'] = train['Leading Comment'].str.replace('[^\\w\\s]','')\n",
    "train['Leading Comment'].head()"
   ]
  },
  {
   "cell_type": "code",
   "execution_count": 20,
   "metadata": {},
   "outputs": [
    {
     "data": {
      "text/plain": [
       "0                                                     \n",
       "1    yes you will need the paid version options for...\n",
       "2                                                     \n",
       "3    mcdavid most dont want to share any stellar va...\n",
       "4    you can sell on amazon uk as well it could act...\n",
       "Name: Other Comments, dtype: object"
      ]
     },
     "execution_count": 20,
     "metadata": {},
     "output_type": "execute_result"
    }
   ],
   "source": [
    "train['Other Comments'] = train['Other Comments'].str.replace('[^\\w\\s]','')\n",
    "train['Other Comments'].head()"
   ]
  },
  {
   "cell_type": "markdown",
   "metadata": {},
   "source": [
    "As you can see in the above output, all the punctuation, including ‘#’ and ‘@’, has been removed from the training data."
   ]
  },
  {
   "cell_type": "markdown",
   "metadata": {},
   "source": [
    "### 2.3 Removal of Stop Words"
   ]
  },
  {
   "cell_type": "markdown",
   "metadata": {},
   "source": [
    "As we discussed earlier, stop words (or commonly occurring words) should be removed from the text data. For this purpose, we can either create a list of stopwords ourselves or we can use predefined libraries."
   ]
  },
  {
   "cell_type": "code",
   "execution_count": 21,
   "metadata": {},
   "outputs": [
    {
     "data": {
      "text/plain": [
       "0    questions sourcing products category use pleas...\n",
       "1    hi new forum going product sourcing profession...\n",
       "2    working amazon seller last 6 years want tips s...\n",
       "3    anyone va recommend used currently using requi...\n",
       "4      sell branded products amazon uk must amazon com\n",
       "Name: Leading Comment, dtype: object"
      ]
     },
     "execution_count": 21,
     "metadata": {},
     "output_type": "execute_result"
    }
   ],
   "source": [
    "train['Leading Comment'] = train['Leading Comment'].apply(lambda x: \" \".join(x for x in x.split() if x not in stop))\n",
    "train['Leading Comment'].head()"
   ]
  },
  {
   "cell_type": "code",
   "execution_count": 22,
   "metadata": {},
   "outputs": [
    {
     "data": {
      "text/plain": [
       "0                                                     \n",
       "1    yes need paid version options extraction tools...\n",
       "2                                                     \n",
       "3    mcdavid dont want share stellar va currently u...\n",
       "4    sell amazon uk well could actually big selling...\n",
       "Name: Other Comments, dtype: object"
      ]
     },
     "execution_count": 22,
     "metadata": {},
     "output_type": "execute_result"
    }
   ],
   "source": [
    "train['Other Comments'] = train['Other Comments'].apply(lambda x: \" \".join(x for x in x.split() if x not in stop))\n",
    "train['Other Comments'].head()"
   ]
  },
  {
   "cell_type": "markdown",
   "metadata": {},
   "source": [
    "### 2.4 Common Word Removal"
   ]
  },
  {
   "cell_type": "markdown",
   "metadata": {},
   "source": [
    "Previously, we just removed commonly occurring words in a general sense. We can also remove commonly occurring words from our text data First, let’s check the 10 most frequently occurring words in our text data then take call to remove or retain."
   ]
  },
  {
   "cell_type": "code",
   "execution_count": 23,
   "metadata": {},
   "outputs": [],
   "source": [
    "freq1 = pd.Series(' '.join(train['Leading Comment']).split()).value_counts()[:10]"
   ]
  },
  {
   "cell_type": "code",
   "execution_count": 24,
   "metadata": {},
   "outputs": [
    {
     "data": {
      "text/plain": [
       "amazon      85\n",
       "use         59\n",
       "im          58\n",
       "get         58\n",
       "product     56\n",
       "brand       49\n",
       "products    47\n",
       "like        47\n",
       "email       46\n",
       "anyone      45\n",
       "dtype: int64"
      ]
     },
     "execution_count": 24,
     "metadata": {},
     "output_type": "execute_result"
    }
   ],
   "source": [
    "freq1"
   ]
  },
  {
   "cell_type": "code",
   "execution_count": 25,
   "metadata": {},
   "outputs": [
    {
     "data": {
      "text/plain": [
       "['amazon',\n",
       " 'use',\n",
       " 'im',\n",
       " 'get',\n",
       " 'product',\n",
       " 'brand',\n",
       " 'products',\n",
       " 'like',\n",
       " 'email',\n",
       " 'anyone']"
      ]
     },
     "execution_count": 25,
     "metadata": {},
     "output_type": "execute_result"
    }
   ],
   "source": [
    "train_data = train.copy()\n",
    "freq1 = list(freq1.index)\n",
    "freq1"
   ]
  },
  {
   "cell_type": "code",
   "execution_count": 26,
   "metadata": {},
   "outputs": [
    {
     "data": {
      "text/plain": [
       "0    questions sourcing category please sure select...\n",
       "1    hi new forum going sourcing professionals sops...\n",
       "2    working seller last 6 years want tips selling ...\n",
       "3       va recommend used currently using require work\n",
       "4                             sell branded uk must com\n",
       "Name: Leading Comment, dtype: object"
      ]
     },
     "execution_count": 26,
     "metadata": {},
     "output_type": "execute_result"
    }
   ],
   "source": [
    "train['Leading Comment'] = train['Leading Comment'].apply(lambda x: \" \".join(x for x in x.split() if x not in freq1))\n",
    "train['Leading Comment'].head()"
   ]
  },
  {
   "cell_type": "code",
   "execution_count": 27,
   "metadata": {},
   "outputs": [],
   "source": [
    "freq2 = pd.Series(' '.join(train['Other Comments']).split()).value_counts()[:10]"
   ]
  },
  {
   "cell_type": "code",
   "execution_count": 28,
   "metadata": {},
   "outputs": [
    {
     "data": {
      "text/plain": [
       "amazon     166\n",
       "product    133\n",
       "would      132\n",
       "brand      129\n",
       "use        114\n",
       "get        111\n",
       "want        89\n",
       "also        87\n",
       "need        84\n",
       "one         83\n",
       "dtype: int64"
      ]
     },
     "execution_count": 28,
     "metadata": {},
     "output_type": "execute_result"
    }
   ],
   "source": [
    "freq2"
   ]
  },
  {
   "cell_type": "code",
   "execution_count": 29,
   "metadata": {},
   "outputs": [
    {
     "data": {
      "text/plain": [
       "['amazon',\n",
       " 'product',\n",
       " 'would',\n",
       " 'brand',\n",
       " 'use',\n",
       " 'get',\n",
       " 'want',\n",
       " 'also',\n",
       " 'need',\n",
       " 'one']"
      ]
     },
     "execution_count": 29,
     "metadata": {},
     "output_type": "execute_result"
    }
   ],
   "source": [
    "train_data = train.copy()\n",
    "freq2 = list(freq2.index)\n",
    "freq2"
   ]
  },
  {
   "cell_type": "code",
   "execution_count": 30,
   "metadata": {},
   "outputs": [
    {
     "data": {
      "text/plain": [
       "0                                                     \n",
       "1    yes paid version options extraction tools incl...\n",
       "2                                                     \n",
       "3    mcdavid dont share stellar va currently using ...\n",
       "4    sell uk well could actually big selling point ...\n",
       "Name: Other Comments, dtype: object"
      ]
     },
     "execution_count": 30,
     "metadata": {},
     "output_type": "execute_result"
    }
   ],
   "source": [
    "train['Other Comments'] = train['Other Comments'].apply(lambda x: \" \".join(x for x in x.split() if x not in freq2))\n",
    "train['Other Comments'].head()"
   ]
  },
  {
   "cell_type": "markdown",
   "metadata": {},
   "source": [
    "### 2.5 Rare Words Removal"
   ]
  },
  {
   "cell_type": "markdown",
   "metadata": {},
   "source": [
    "Similarly, just as we removed the most common words, this time let’s remove rarely occurring words from the text. Because they’re so rare, the association between them and other words is dominated by noise. You can replace rare words with a more general form and then this will have higher counts"
   ]
  },
  {
   "cell_type": "code",
   "execution_count": 31,
   "metadata": {},
   "outputs": [],
   "source": [
    "freq3 = pd.Series(' '.join(train['Leading Comment']).split()).value_counts()[-10:]"
   ]
  },
  {
   "cell_type": "code",
   "execution_count": 32,
   "metadata": {},
   "outputs": [
    {
     "data": {
      "text/plain": [
       "unfortunately    1\n",
       "inventoryon      1\n",
       "updating         1\n",
       "dimensions       1\n",
       "inspirational    1\n",
       "experimented     1\n",
       "nan              1\n",
       "disgust          1\n",
       "fulfilled        1\n",
       "damage           1\n",
       "dtype: int64"
      ]
     },
     "execution_count": 32,
     "metadata": {},
     "output_type": "execute_result"
    }
   ],
   "source": [
    "freq3"
   ]
  },
  {
   "cell_type": "code",
   "execution_count": 33,
   "metadata": {},
   "outputs": [
    {
     "data": {
      "text/plain": [
       "0    questions sourcing category please sure select...\n",
       "1    hi new forum going sourcing professionals sops...\n",
       "2    working seller last 6 years want tips selling ...\n",
       "3       va recommend used currently using require work\n",
       "4                             sell branded uk must com\n",
       "Name: Leading Comment, dtype: object"
      ]
     },
     "execution_count": 33,
     "metadata": {},
     "output_type": "execute_result"
    }
   ],
   "source": [
    "freq3 = list(freq3.index)\n",
    "train['Leading Comment'] = train['Leading Comment'].apply(lambda x: \" \".join(x for x in x.split() if x not in freq3))\n",
    "train['Leading Comment'].head()"
   ]
  },
  {
   "cell_type": "code",
   "execution_count": 34,
   "metadata": {},
   "outputs": [],
   "source": [
    "freq4 = pd.Series(' '.join(train['Other Comments']).split()).value_counts()[-10:]"
   ]
  },
  {
   "cell_type": "code",
   "execution_count": 35,
   "metadata": {},
   "outputs": [
    {
     "data": {
      "text/plain": [
       "historical       1\n",
       "framing          1\n",
       "salesnfrom       1\n",
       "crms             1\n",
       "dept             1\n",
       "replacingnfor    1\n",
       "prompt           1\n",
       "automatic        1\n",
       "jjh228           1\n",
       "danni            1\n",
       "dtype: int64"
      ]
     },
     "execution_count": 35,
     "metadata": {},
     "output_type": "execute_result"
    }
   ],
   "source": [
    "freq4"
   ]
  },
  {
   "cell_type": "code",
   "execution_count": 36,
   "metadata": {},
   "outputs": [
    {
     "data": {
      "text/plain": [
       "0                                                     \n",
       "1    yes paid version options extraction tools incl...\n",
       "2                                                     \n",
       "3    mcdavid dont share stellar va currently using ...\n",
       "4    sell uk well could actually big selling point ...\n",
       "Name: Other Comments, dtype: object"
      ]
     },
     "execution_count": 36,
     "metadata": {},
     "output_type": "execute_result"
    }
   ],
   "source": [
    "freq4 = list(freq4.index)\n",
    "train['Other Comments'] = train['Other Comments'].apply(lambda x: \" \".join(x for x in x.split() if x not in freq4))\n",
    "train['Other Comments'].head()"
   ]
  },
  {
   "cell_type": "markdown",
   "metadata": {},
   "source": [
    "### 2.6 Spelling Correction"
   ]
  },
  {
   "cell_type": "markdown",
   "metadata": {},
   "source": [
    "In that regard, spelling correction is a useful pre-processing step because this also will help us in reducing multiple copies of words. For example, “Analytics” and “analytcs” will be treated as different words even if they are used in the same sense.\n",
    "\n",
    "To achieve this we will use the textblob library. If you are not familiar with it, you can check my previous article on ‘NLP for beginners using textblob’."
   ]
  },
  {
   "cell_type": "code",
   "execution_count": 37,
   "metadata": {},
   "outputs": [
    {
     "name": "stdout",
     "output_type": "stream",
     "text": [
      "Requirement already satisfied: textblob in c:\\users\\zoeyl\\anaconda3\\lib\\site-packages (0.15.3)\n",
      "Requirement already satisfied: nltk>=3.1 in c:\\users\\zoeyl\\anaconda3\\lib\\site-packages (from textblob) (3.4.5)\n",
      "Requirement already satisfied: six in c:\\users\\zoeyl\\anaconda3\\lib\\site-packages (from nltk>=3.1->textblob) (1.12.0)\n"
     ]
    }
   ],
   "source": [
    "!pip install textblob"
   ]
  },
  {
   "cell_type": "code",
   "execution_count": 38,
   "metadata": {},
   "outputs": [],
   "source": [
    "from textblob import TextBlob"
   ]
  },
  {
   "cell_type": "code",
   "execution_count": 39,
   "metadata": {},
   "outputs": [
    {
     "data": {
      "text/plain": [
       "0      questions pouring category please sure select ...\n",
       "1      hi new forum going pouring professional sons q...\n",
       "2      working seller last 6 years want tips selling ...\n",
       "3         va recommend used currently using require work\n",
       "4                               sell branded up must com\n",
       "                             ...                        \n",
       "256    hello advise track profits cogs preferably wou...\n",
       "257    accounting software everyone give using quickb...\n",
       "258    questions pouring various sales channels avail...\n",
       "259    posting wrong place apologies front lid would ...\n",
       "260    questions store webster management category pl...\n",
       "Name: Leading Comment, Length: 261, dtype: object"
      ]
     },
     "execution_count": 39,
     "metadata": {},
     "output_type": "execute_result"
    }
   ],
   "source": [
    "train['Leading Comment'].apply(lambda x: str(TextBlob(x).correct()))"
   ]
  },
  {
   "cell_type": "code",
   "execution_count": 40,
   "metadata": {},
   "outputs": [
    {
     "data": {
      "text/plain": [
       "0                                                       \n",
       "1      yes paid version option extraction tools inclu...\n",
       "2                                                       \n",
       "3      david dont share cellar va currently using bes...\n",
       "4      sell up well could actually big selling point ...\n",
       "                             ...                        \n",
       "256    seller legend track cogs sales course good est...\n",
       "257    aims hero pretty solid httpsclickandmortaracco...\n",
       "258                                                     \n",
       "259    scottschmitz able transactions needed walking ...\n",
       "260                                                     \n",
       "Name: Other Comments, Length: 261, dtype: object"
      ]
     },
     "execution_count": 40,
     "metadata": {},
     "output_type": "execute_result"
    }
   ],
   "source": [
    "train['Other Comments'].apply(lambda x: str(TextBlob(x).correct()))"
   ]
  },
  {
   "cell_type": "markdown",
   "metadata": {},
   "source": [
    "### 2.7 Tokenization"
   ]
  },
  {
   "cell_type": "markdown",
   "metadata": {},
   "source": [
    "Tokenization refers to dividing the text into a sequence of words or sentences. In our example, we have used the textblob library to first transform our tweets into a blob and then converted them into a series of words."
   ]
  },
  {
   "cell_type": "code",
   "execution_count": 41,
   "metadata": {},
   "outputs": [
    {
     "name": "stderr",
     "output_type": "stream",
     "text": [
      "[nltk_data] Downloading package punkt to\n",
      "[nltk_data]     C:\\Users\\zoeyl\\AppData\\Roaming\\nltk_data...\n",
      "[nltk_data]   Package punkt is already up-to-date!\n"
     ]
    },
    {
     "data": {
      "text/plain": [
       "True"
      ]
     },
     "execution_count": 41,
     "metadata": {},
     "output_type": "execute_result"
    }
   ],
   "source": [
    "import nltk\n",
    "nltk.download('punkt')"
   ]
  },
  {
   "cell_type": "code",
   "execution_count": 42,
   "metadata": {},
   "outputs": [
    {
     "data": {
      "text/plain": [
       "WordList(['hi', 'new', 'forum', 'going', 'sourcing', 'professionals', 'sops', 'question', 'extraction', 'workflow', 'process', 'using', 'pc2', 'downloaded', 'free', 'version', 'doesnt', 'button', 'says', 'browsersearches', 'need', 'purchase', 'full', 'pc2', 'package', 'feature', 'thanks', 'help', 'advance'])"
      ]
     },
     "execution_count": 42,
     "metadata": {},
     "output_type": "execute_result"
    }
   ],
   "source": [
    "TextBlob(train['Leading Comment'][1]).words"
   ]
  },
  {
   "cell_type": "code",
   "execution_count": 43,
   "metadata": {},
   "outputs": [
    {
     "data": {
      "text/plain": [
       "WordList(['yes', 'paid', 'version', 'options', 'extraction', 'tools', 'include', 'pc2', 'tactical', 'arbitrage', 'helium10', 'require', 'paid', 'version', 'run', 'scale', 'thanks', 'much'])"
      ]
     },
     "execution_count": 43,
     "metadata": {},
     "output_type": "execute_result"
    }
   ],
   "source": [
    "TextBlob(train['Other Comments'][1]).words"
   ]
  },
  {
   "cell_type": "markdown",
   "metadata": {},
   "source": [
    "### 2.8 Stemming"
   ]
  },
  {
   "cell_type": "markdown",
   "metadata": {},
   "source": [
    "Stemming refers to the removal of suffices, like “ing”, “ly”, “s”, etc. by a simple rule-based approach. For this purpose, we will use PorterStemmer from the NLTK library."
   ]
  },
  {
   "cell_type": "code",
   "execution_count": 44,
   "metadata": {},
   "outputs": [],
   "source": [
    "from nltk.stem import PorterStemmer\n",
    "st = PorterStemmer()"
   ]
  },
  {
   "cell_type": "code",
   "execution_count": 45,
   "metadata": {},
   "outputs": [
    {
     "data": {
      "text/plain": [
       "0      question sourc categori pleas sure select appr...\n",
       "1      hi new forum go sourc profession sop question ...\n",
       "2      work seller last 6 year want tip sell grow bus...\n",
       "3               va recommend use current use requir work\n",
       "4                                 sell brand uk must com\n",
       "                             ...                        \n",
       "256    hello advis track profit cog prefer would trac...\n",
       "257    account softwar everyon ive use quickbook onli...\n",
       "258    question sourc variou sale channel avail categ...\n",
       "259    post wrong place apolog front lizd would know ...\n",
       "260    question store websit manag categori pleas sur...\n",
       "Name: Leading Comment, Length: 261, dtype: object"
      ]
     },
     "execution_count": 45,
     "metadata": {},
     "output_type": "execute_result"
    }
   ],
   "source": [
    "train['Leading Comment'].apply(lambda x: \" \".join([st.stem(word) for word in x.split()]))"
   ]
  },
  {
   "cell_type": "code",
   "execution_count": 46,
   "metadata": {},
   "outputs": [
    {
     "data": {
      "text/plain": [
       "0                                                       \n",
       "1      ye paid version option extract tool includ pc2...\n",
       "2                                                       \n",
       "3      mcdavid dont share stellar va current use best...\n",
       "4      sell uk well could actual big sell point sourc...\n",
       "                             ...                        \n",
       "256    seller legend track cog sale cours good estim ...\n",
       "257    jim xero pretti solid httpsclickandmortaraccou...\n",
       "258                                                     \n",
       "259    scottschmitz abl transact need walkin add stor...\n",
       "260                                                     \n",
       "Name: Other Comments, Length: 261, dtype: object"
      ]
     },
     "execution_count": 46,
     "metadata": {},
     "output_type": "execute_result"
    }
   ],
   "source": [
    "train['Other Comments'].apply(lambda x: \" \".join([st.stem(word) for word in x.split()]))"
   ]
  },
  {
   "cell_type": "markdown",
   "metadata": {},
   "source": [
    "### 2.9 Lemmatization"
   ]
  },
  {
   "cell_type": "markdown",
   "metadata": {},
   "source": [
    "Lemmatization is a more effective option than stemming because it converts the word into its root word, rather than just stripping the suffices. It makes use of the vocabulary and does a morphological analysis to obtain the root word. Therefore, we usually prefer using lemmatization over stemming."
   ]
  },
  {
   "cell_type": "code",
   "execution_count": 47,
   "metadata": {},
   "outputs": [
    {
     "name": "stderr",
     "output_type": "stream",
     "text": [
      "[nltk_data] Downloading package wordnet to\n",
      "[nltk_data]     C:\\Users\\zoeyl\\AppData\\Roaming\\nltk_data...\n",
      "[nltk_data]   Package wordnet is already up-to-date!\n"
     ]
    },
    {
     "data": {
      "text/plain": [
       "True"
      ]
     },
     "execution_count": 47,
     "metadata": {},
     "output_type": "execute_result"
    }
   ],
   "source": [
    "nltk.download('wordnet')"
   ]
  },
  {
   "cell_type": "code",
   "execution_count": 48,
   "metadata": {},
   "outputs": [
    {
     "data": {
      "text/plain": [
       "0    question sourcing category please sure select ...\n",
       "1    hi new forum going sourcing professional sop q...\n",
       "2    working seller last 6 year want tip selling gr...\n",
       "3       va recommend used currently using require work\n",
       "4                             sell branded uk must com\n",
       "Name: Leading Comment, dtype: object"
      ]
     },
     "execution_count": 48,
     "metadata": {},
     "output_type": "execute_result"
    }
   ],
   "source": [
    "from textblob import Word\n",
    "train['Leading Comment'] = train['Leading Comment'].apply(lambda x: \" \".join([Word(word).lemmatize() for word in x.split()]))\n",
    "train['Leading Comment'].head()"
   ]
  },
  {
   "cell_type": "code",
   "execution_count": 49,
   "metadata": {},
   "outputs": [
    {
     "data": {
      "text/plain": [
       "0                                                     \n",
       "1    yes paid version option extraction tool includ...\n",
       "2                                                     \n",
       "3    mcdavid dont share stellar va currently using ...\n",
       "4    sell uk well could actually big selling point ...\n",
       "Name: Other Comments, dtype: object"
      ]
     },
     "execution_count": 49,
     "metadata": {},
     "output_type": "execute_result"
    }
   ],
   "source": [
    "train['Other Comments'] = train['Other Comments'].apply(lambda x: \" \".join([Word(word).lemmatize() for word in x.split()]))\n",
    "train['Other Comments'].head()"
   ]
  },
  {
   "cell_type": "markdown",
   "metadata": {},
   "source": [
    "# 3. Advance Text Processing"
   ]
  },
  {
   "cell_type": "markdown",
   "metadata": {},
   "source": [
    "Up to this point, we have done all the basic pre-processing steps in order to clean our data. Now, we can finally move on to extracting features using NLP techniques."
   ]
  },
  {
   "cell_type": "markdown",
   "metadata": {},
   "source": [
    "### 3.1 N-grams"
   ]
  },
  {
   "cell_type": "markdown",
   "metadata": {},
   "source": [
    "N-grams are the combination of multiple words used together. Ngrams with N=1 are called unigrams. Similarly, bigrams (N=2), trigrams (N=3) and so on can also be used.\n",
    "\n",
    "Unigrams do not usually contain as much information as compared to bigrams and trigrams. The basic principle behind n-grams is that they capture the language structure, like what letter or word is likely to follow the given one. The longer the n-gram (the higher the n), the more context you have to work with. Optimum length really depends on the application – if your n-grams are too short, you may fail to capture important differences. On the other hand, if they are too long, you may fail to capture the “general knowledge” and only stick to particular cases.\n",
    "\n",
    "So, let’s quickly extract bigrams from our tweets using the ngrams function of the textblob library."
   ]
  },
  {
   "cell_type": "code",
   "execution_count": 50,
   "metadata": {},
   "outputs": [
    {
     "data": {
      "text/plain": [
       "[WordList(['hi', 'new']),\n",
       " WordList(['new', 'forum']),\n",
       " WordList(['forum', 'going']),\n",
       " WordList(['going', 'sourcing']),\n",
       " WordList(['sourcing', 'professional']),\n",
       " WordList(['professional', 'sop']),\n",
       " WordList(['sop', 'question']),\n",
       " WordList(['question', 'extraction']),\n",
       " WordList(['extraction', 'workflow']),\n",
       " WordList(['workflow', 'process']),\n",
       " WordList(['process', 'using']),\n",
       " WordList(['using', 'pc2']),\n",
       " WordList(['pc2', 'downloaded']),\n",
       " WordList(['downloaded', 'free']),\n",
       " WordList(['free', 'version']),\n",
       " WordList(['version', 'doesnt']),\n",
       " WordList(['doesnt', 'button']),\n",
       " WordList(['button', 'say']),\n",
       " WordList(['say', 'browsersearches']),\n",
       " WordList(['browsersearches', 'need']),\n",
       " WordList(['need', 'purchase']),\n",
       " WordList(['purchase', 'full']),\n",
       " WordList(['full', 'pc2']),\n",
       " WordList(['pc2', 'package']),\n",
       " WordList(['package', 'feature']),\n",
       " WordList(['feature', 'thanks']),\n",
       " WordList(['thanks', 'help']),\n",
       " WordList(['help', 'advance'])]"
      ]
     },
     "execution_count": 50,
     "metadata": {},
     "output_type": "execute_result"
    }
   ],
   "source": [
    "TextBlob(train['Leading Comment'][1]).ngrams(2)"
   ]
  },
  {
   "cell_type": "markdown",
   "metadata": {},
   "source": [
    "### 3.2 Term Frequency"
   ]
  },
  {
   "cell_type": "markdown",
   "metadata": {},
   "source": [
    "Term frequency is simply the ratio of the count of a word present in a sentence, to the length of the sentence.\n",
    "\n",
    "Therefore, we can generalize term frequency as:\n",
    "\n",
    "TF = (Number of times term T appears in the particular row) / (number of terms in that row)"
   ]
  },
  {
   "cell_type": "code",
   "execution_count": 51,
   "metadata": {},
   "outputs": [
    {
     "data": {
      "text/html": [
       "<div>\n",
       "<style scoped>\n",
       "    .dataframe tbody tr th:only-of-type {\n",
       "        vertical-align: middle;\n",
       "    }\n",
       "\n",
       "    .dataframe tbody tr th {\n",
       "        vertical-align: top;\n",
       "    }\n",
       "\n",
       "    .dataframe thead th {\n",
       "        text-align: right;\n",
       "    }\n",
       "</style>\n",
       "<table border=\"1\" class=\"dataframe\">\n",
       "  <thead>\n",
       "    <tr style=\"text-align: right;\">\n",
       "      <th></th>\n",
       "      <th>words</th>\n",
       "      <th>tf</th>\n",
       "    </tr>\n",
       "  </thead>\n",
       "  <tbody>\n",
       "    <tr>\n",
       "      <td>0</td>\n",
       "      <td>pc2</td>\n",
       "      <td>2</td>\n",
       "    </tr>\n",
       "    <tr>\n",
       "      <td>1</td>\n",
       "      <td>workflow</td>\n",
       "      <td>1</td>\n",
       "    </tr>\n",
       "    <tr>\n",
       "      <td>2</td>\n",
       "      <td>sop</td>\n",
       "      <td>1</td>\n",
       "    </tr>\n",
       "    <tr>\n",
       "      <td>3</td>\n",
       "      <td>doesnt</td>\n",
       "      <td>1</td>\n",
       "    </tr>\n",
       "    <tr>\n",
       "      <td>4</td>\n",
       "      <td>browsersearches</td>\n",
       "      <td>1</td>\n",
       "    </tr>\n",
       "    <tr>\n",
       "      <td>5</td>\n",
       "      <td>button</td>\n",
       "      <td>1</td>\n",
       "    </tr>\n",
       "    <tr>\n",
       "      <td>6</td>\n",
       "      <td>sourcing</td>\n",
       "      <td>1</td>\n",
       "    </tr>\n",
       "    <tr>\n",
       "      <td>7</td>\n",
       "      <td>free</td>\n",
       "      <td>1</td>\n",
       "    </tr>\n",
       "    <tr>\n",
       "      <td>8</td>\n",
       "      <td>advance</td>\n",
       "      <td>1</td>\n",
       "    </tr>\n",
       "    <tr>\n",
       "      <td>9</td>\n",
       "      <td>version</td>\n",
       "      <td>1</td>\n",
       "    </tr>\n",
       "    <tr>\n",
       "      <td>10</td>\n",
       "      <td>full</td>\n",
       "      <td>1</td>\n",
       "    </tr>\n",
       "    <tr>\n",
       "      <td>11</td>\n",
       "      <td>process</td>\n",
       "      <td>1</td>\n",
       "    </tr>\n",
       "    <tr>\n",
       "      <td>12</td>\n",
       "      <td>downloaded</td>\n",
       "      <td>1</td>\n",
       "    </tr>\n",
       "    <tr>\n",
       "      <td>13</td>\n",
       "      <td>package</td>\n",
       "      <td>1</td>\n",
       "    </tr>\n",
       "    <tr>\n",
       "      <td>14</td>\n",
       "      <td>feature</td>\n",
       "      <td>1</td>\n",
       "    </tr>\n",
       "    <tr>\n",
       "      <td>15</td>\n",
       "      <td>need</td>\n",
       "      <td>1</td>\n",
       "    </tr>\n",
       "    <tr>\n",
       "      <td>16</td>\n",
       "      <td>hi</td>\n",
       "      <td>1</td>\n",
       "    </tr>\n",
       "    <tr>\n",
       "      <td>17</td>\n",
       "      <td>say</td>\n",
       "      <td>1</td>\n",
       "    </tr>\n",
       "    <tr>\n",
       "      <td>18</td>\n",
       "      <td>purchase</td>\n",
       "      <td>1</td>\n",
       "    </tr>\n",
       "    <tr>\n",
       "      <td>19</td>\n",
       "      <td>using</td>\n",
       "      <td>1</td>\n",
       "    </tr>\n",
       "    <tr>\n",
       "      <td>20</td>\n",
       "      <td>professional</td>\n",
       "      <td>1</td>\n",
       "    </tr>\n",
       "    <tr>\n",
       "      <td>21</td>\n",
       "      <td>new</td>\n",
       "      <td>1</td>\n",
       "    </tr>\n",
       "    <tr>\n",
       "      <td>22</td>\n",
       "      <td>question</td>\n",
       "      <td>1</td>\n",
       "    </tr>\n",
       "    <tr>\n",
       "      <td>23</td>\n",
       "      <td>help</td>\n",
       "      <td>1</td>\n",
       "    </tr>\n",
       "    <tr>\n",
       "      <td>24</td>\n",
       "      <td>going</td>\n",
       "      <td>1</td>\n",
       "    </tr>\n",
       "    <tr>\n",
       "      <td>25</td>\n",
       "      <td>forum</td>\n",
       "      <td>1</td>\n",
       "    </tr>\n",
       "    <tr>\n",
       "      <td>26</td>\n",
       "      <td>extraction</td>\n",
       "      <td>1</td>\n",
       "    </tr>\n",
       "    <tr>\n",
       "      <td>27</td>\n",
       "      <td>thanks</td>\n",
       "      <td>1</td>\n",
       "    </tr>\n",
       "  </tbody>\n",
       "</table>\n",
       "</div>"
      ],
      "text/plain": [
       "              words  tf\n",
       "0               pc2   2\n",
       "1          workflow   1\n",
       "2               sop   1\n",
       "3            doesnt   1\n",
       "4   browsersearches   1\n",
       "5            button   1\n",
       "6          sourcing   1\n",
       "7              free   1\n",
       "8           advance   1\n",
       "9           version   1\n",
       "10             full   1\n",
       "11          process   1\n",
       "12       downloaded   1\n",
       "13          package   1\n",
       "14          feature   1\n",
       "15             need   1\n",
       "16               hi   1\n",
       "17              say   1\n",
       "18         purchase   1\n",
       "19            using   1\n",
       "20     professional   1\n",
       "21              new   1\n",
       "22         question   1\n",
       "23             help   1\n",
       "24            going   1\n",
       "25            forum   1\n",
       "26       extraction   1\n",
       "27           thanks   1"
      ]
     },
     "execution_count": 51,
     "metadata": {},
     "output_type": "execute_result"
    }
   ],
   "source": [
    "tf1 = (train['Leading Comment'][1:2]).apply(lambda x: pd.value_counts(x.split(\" \"))).sum(axis = 0).reset_index()\n",
    "tf1.columns = ['words','tf']\n",
    "tf1"
   ]
  },
  {
   "cell_type": "markdown",
   "metadata": {},
   "source": [
    "### 3.3 Inverse Document Frequency"
   ]
  },
  {
   "cell_type": "markdown",
   "metadata": {},
   "source": [
    "The intuition behind inverse document frequency (IDF) is that a word is not of much use to us if it’s appearing in all the documents.\n",
    "\n",
    "Therefore, the IDF of each word is the log of the ratio of the total number of rows to the number of rows in which that word is present.\n",
    "\n",
    "IDF = log(N/n), where, N is the total number of rows and n is the number of rows in which the word was present."
   ]
  },
  {
   "cell_type": "code",
   "execution_count": 52,
   "metadata": {},
   "outputs": [],
   "source": [
    "import numpy as np\n",
    "\n",
    "for i,word in enumerate(tf1['words']):\n",
    "      tf1.loc[i, 'idf'] = np.log(train.shape[0]/(len(train[train['Leading Comment'].str.contains(word)])))"
   ]
  },
  {
   "cell_type": "code",
   "execution_count": 53,
   "metadata": {},
   "outputs": [
    {
     "data": {
      "text/html": [
       "<div>\n",
       "<style scoped>\n",
       "    .dataframe tbody tr th:only-of-type {\n",
       "        vertical-align: middle;\n",
       "    }\n",
       "\n",
       "    .dataframe tbody tr th {\n",
       "        vertical-align: top;\n",
       "    }\n",
       "\n",
       "    .dataframe thead th {\n",
       "        text-align: right;\n",
       "    }\n",
       "</style>\n",
       "<table border=\"1\" class=\"dataframe\">\n",
       "  <thead>\n",
       "    <tr style=\"text-align: right;\">\n",
       "      <th></th>\n",
       "      <th>words</th>\n",
       "      <th>tf</th>\n",
       "      <th>idf</th>\n",
       "    </tr>\n",
       "  </thead>\n",
       "  <tbody>\n",
       "    <tr>\n",
       "      <td>0</td>\n",
       "      <td>pc2</td>\n",
       "      <td>2</td>\n",
       "      <td>3.955082</td>\n",
       "    </tr>\n",
       "    <tr>\n",
       "      <td>1</td>\n",
       "      <td>workflow</td>\n",
       "      <td>1</td>\n",
       "      <td>2.856470</td>\n",
       "    </tr>\n",
       "    <tr>\n",
       "      <td>2</td>\n",
       "      <td>sop</td>\n",
       "      <td>1</td>\n",
       "      <td>1.953602</td>\n",
       "    </tr>\n",
       "    <tr>\n",
       "      <td>3</td>\n",
       "      <td>doesnt</td>\n",
       "      <td>1</td>\n",
       "      <td>3.955082</td>\n",
       "    </tr>\n",
       "    <tr>\n",
       "      <td>4</td>\n",
       "      <td>browsersearches</td>\n",
       "      <td>1</td>\n",
       "      <td>5.564520</td>\n",
       "    </tr>\n",
       "    <tr>\n",
       "      <td>5</td>\n",
       "      <td>button</td>\n",
       "      <td>1</td>\n",
       "      <td>4.871373</td>\n",
       "    </tr>\n",
       "    <tr>\n",
       "      <td>6</td>\n",
       "      <td>sourcing</td>\n",
       "      <td>1</td>\n",
       "      <td>2.791932</td>\n",
       "    </tr>\n",
       "    <tr>\n",
       "      <td>7</td>\n",
       "      <td>free</td>\n",
       "      <td>1</td>\n",
       "      <td>3.618610</td>\n",
       "    </tr>\n",
       "    <tr>\n",
       "      <td>8</td>\n",
       "      <td>advance</td>\n",
       "      <td>1</td>\n",
       "      <td>3.166625</td>\n",
       "    </tr>\n",
       "    <tr>\n",
       "      <td>9</td>\n",
       "      <td>version</td>\n",
       "      <td>1</td>\n",
       "      <td>3.367296</td>\n",
       "    </tr>\n",
       "    <tr>\n",
       "      <td>10</td>\n",
       "      <td>full</td>\n",
       "      <td>1</td>\n",
       "      <td>3.079614</td>\n",
       "    </tr>\n",
       "    <tr>\n",
       "      <td>11</td>\n",
       "      <td>process</td>\n",
       "      <td>1</td>\n",
       "      <td>2.731307</td>\n",
       "    </tr>\n",
       "    <tr>\n",
       "      <td>12</td>\n",
       "      <td>downloaded</td>\n",
       "      <td>1</td>\n",
       "      <td>4.871373</td>\n",
       "    </tr>\n",
       "    <tr>\n",
       "      <td>13</td>\n",
       "      <td>package</td>\n",
       "      <td>1</td>\n",
       "      <td>3.955082</td>\n",
       "    </tr>\n",
       "    <tr>\n",
       "      <td>14</td>\n",
       "      <td>feature</td>\n",
       "      <td>1</td>\n",
       "      <td>3.772761</td>\n",
       "    </tr>\n",
       "    <tr>\n",
       "      <td>15</td>\n",
       "      <td>need</td>\n",
       "      <td>1</td>\n",
       "      <td>2.429026</td>\n",
       "    </tr>\n",
       "    <tr>\n",
       "      <td>16</td>\n",
       "      <td>hi</td>\n",
       "      <td>1</td>\n",
       "      <td>0.901081</td>\n",
       "    </tr>\n",
       "    <tr>\n",
       "      <td>17</td>\n",
       "      <td>say</td>\n",
       "      <td>1</td>\n",
       "      <td>3.079614</td>\n",
       "    </tr>\n",
       "    <tr>\n",
       "      <td>18</td>\n",
       "      <td>purchase</td>\n",
       "      <td>1</td>\n",
       "      <td>3.618610</td>\n",
       "    </tr>\n",
       "    <tr>\n",
       "      <td>19</td>\n",
       "      <td>using</td>\n",
       "      <td>1</td>\n",
       "      <td>1.926934</td>\n",
       "    </tr>\n",
       "    <tr>\n",
       "      <td>20</td>\n",
       "      <td>professional</td>\n",
       "      <td>1</td>\n",
       "      <td>3.618610</td>\n",
       "    </tr>\n",
       "    <tr>\n",
       "      <td>21</td>\n",
       "      <td>new</td>\n",
       "      <td>1</td>\n",
       "      <td>1.780331</td>\n",
       "    </tr>\n",
       "    <tr>\n",
       "      <td>22</td>\n",
       "      <td>question</td>\n",
       "      <td>1</td>\n",
       "      <td>2.232316</td>\n",
       "    </tr>\n",
       "    <tr>\n",
       "      <td>23</td>\n",
       "      <td>help</td>\n",
       "      <td>1</td>\n",
       "      <td>2.386467</td>\n",
       "    </tr>\n",
       "    <tr>\n",
       "      <td>24</td>\n",
       "      <td>going</td>\n",
       "      <td>1</td>\n",
       "      <td>2.731307</td>\n",
       "    </tr>\n",
       "    <tr>\n",
       "      <td>25</td>\n",
       "      <td>forum</td>\n",
       "      <td>1</td>\n",
       "      <td>3.166625</td>\n",
       "    </tr>\n",
       "    <tr>\n",
       "      <td>26</td>\n",
       "      <td>extraction</td>\n",
       "      <td>1</td>\n",
       "      <td>3.955082</td>\n",
       "    </tr>\n",
       "    <tr>\n",
       "      <td>27</td>\n",
       "      <td>thanks</td>\n",
       "      <td>1</td>\n",
       "      <td>2.098785</td>\n",
       "    </tr>\n",
       "  </tbody>\n",
       "</table>\n",
       "</div>"
      ],
      "text/plain": [
       "              words  tf       idf\n",
       "0               pc2   2  3.955082\n",
       "1          workflow   1  2.856470\n",
       "2               sop   1  1.953602\n",
       "3            doesnt   1  3.955082\n",
       "4   browsersearches   1  5.564520\n",
       "5            button   1  4.871373\n",
       "6          sourcing   1  2.791932\n",
       "7              free   1  3.618610\n",
       "8           advance   1  3.166625\n",
       "9           version   1  3.367296\n",
       "10             full   1  3.079614\n",
       "11          process   1  2.731307\n",
       "12       downloaded   1  4.871373\n",
       "13          package   1  3.955082\n",
       "14          feature   1  3.772761\n",
       "15             need   1  2.429026\n",
       "16               hi   1  0.901081\n",
       "17              say   1  3.079614\n",
       "18         purchase   1  3.618610\n",
       "19            using   1  1.926934\n",
       "20     professional   1  3.618610\n",
       "21              new   1  1.780331\n",
       "22         question   1  2.232316\n",
       "23             help   1  2.386467\n",
       "24            going   1  2.731307\n",
       "25            forum   1  3.166625\n",
       "26       extraction   1  3.955082\n",
       "27           thanks   1  2.098785"
      ]
     },
     "execution_count": 53,
     "metadata": {},
     "output_type": "execute_result"
    }
   ],
   "source": [
    "tf1"
   ]
  },
  {
   "cell_type": "markdown",
   "metadata": {},
   "source": [
    "### 3.4 Term Frequency - Inverse Document Frequency (TF-IDF)"
   ]
  },
  {
   "cell_type": "markdown",
   "metadata": {},
   "source": [
    "TF-IDF is the multiplication of the TF and IDF which we calculated above."
   ]
  },
  {
   "cell_type": "code",
   "execution_count": 54,
   "metadata": {},
   "outputs": [],
   "source": [
    "tf1['tfidf'] = tf1['tf'] * tf1['idf']"
   ]
  },
  {
   "cell_type": "code",
   "execution_count": 55,
   "metadata": {},
   "outputs": [
    {
     "data": {
      "text/html": [
       "<div>\n",
       "<style scoped>\n",
       "    .dataframe tbody tr th:only-of-type {\n",
       "        vertical-align: middle;\n",
       "    }\n",
       "\n",
       "    .dataframe tbody tr th {\n",
       "        vertical-align: top;\n",
       "    }\n",
       "\n",
       "    .dataframe thead th {\n",
       "        text-align: right;\n",
       "    }\n",
       "</style>\n",
       "<table border=\"1\" class=\"dataframe\">\n",
       "  <thead>\n",
       "    <tr style=\"text-align: right;\">\n",
       "      <th></th>\n",
       "      <th>words</th>\n",
       "      <th>tf</th>\n",
       "      <th>idf</th>\n",
       "      <th>tfidf</th>\n",
       "    </tr>\n",
       "  </thead>\n",
       "  <tbody>\n",
       "    <tr>\n",
       "      <td>0</td>\n",
       "      <td>pc2</td>\n",
       "      <td>2</td>\n",
       "      <td>3.955082</td>\n",
       "      <td>7.910165</td>\n",
       "    </tr>\n",
       "    <tr>\n",
       "      <td>1</td>\n",
       "      <td>workflow</td>\n",
       "      <td>1</td>\n",
       "      <td>2.856470</td>\n",
       "      <td>2.856470</td>\n",
       "    </tr>\n",
       "    <tr>\n",
       "      <td>2</td>\n",
       "      <td>sop</td>\n",
       "      <td>1</td>\n",
       "      <td>1.953602</td>\n",
       "      <td>1.953602</td>\n",
       "    </tr>\n",
       "    <tr>\n",
       "      <td>3</td>\n",
       "      <td>doesnt</td>\n",
       "      <td>1</td>\n",
       "      <td>3.955082</td>\n",
       "      <td>3.955082</td>\n",
       "    </tr>\n",
       "    <tr>\n",
       "      <td>4</td>\n",
       "      <td>browsersearches</td>\n",
       "      <td>1</td>\n",
       "      <td>5.564520</td>\n",
       "      <td>5.564520</td>\n",
       "    </tr>\n",
       "    <tr>\n",
       "      <td>5</td>\n",
       "      <td>button</td>\n",
       "      <td>1</td>\n",
       "      <td>4.871373</td>\n",
       "      <td>4.871373</td>\n",
       "    </tr>\n",
       "    <tr>\n",
       "      <td>6</td>\n",
       "      <td>sourcing</td>\n",
       "      <td>1</td>\n",
       "      <td>2.791932</td>\n",
       "      <td>2.791932</td>\n",
       "    </tr>\n",
       "    <tr>\n",
       "      <td>7</td>\n",
       "      <td>free</td>\n",
       "      <td>1</td>\n",
       "      <td>3.618610</td>\n",
       "      <td>3.618610</td>\n",
       "    </tr>\n",
       "    <tr>\n",
       "      <td>8</td>\n",
       "      <td>advance</td>\n",
       "      <td>1</td>\n",
       "      <td>3.166625</td>\n",
       "      <td>3.166625</td>\n",
       "    </tr>\n",
       "    <tr>\n",
       "      <td>9</td>\n",
       "      <td>version</td>\n",
       "      <td>1</td>\n",
       "      <td>3.367296</td>\n",
       "      <td>3.367296</td>\n",
       "    </tr>\n",
       "    <tr>\n",
       "      <td>10</td>\n",
       "      <td>full</td>\n",
       "      <td>1</td>\n",
       "      <td>3.079614</td>\n",
       "      <td>3.079614</td>\n",
       "    </tr>\n",
       "    <tr>\n",
       "      <td>11</td>\n",
       "      <td>process</td>\n",
       "      <td>1</td>\n",
       "      <td>2.731307</td>\n",
       "      <td>2.731307</td>\n",
       "    </tr>\n",
       "    <tr>\n",
       "      <td>12</td>\n",
       "      <td>downloaded</td>\n",
       "      <td>1</td>\n",
       "      <td>4.871373</td>\n",
       "      <td>4.871373</td>\n",
       "    </tr>\n",
       "    <tr>\n",
       "      <td>13</td>\n",
       "      <td>package</td>\n",
       "      <td>1</td>\n",
       "      <td>3.955082</td>\n",
       "      <td>3.955082</td>\n",
       "    </tr>\n",
       "    <tr>\n",
       "      <td>14</td>\n",
       "      <td>feature</td>\n",
       "      <td>1</td>\n",
       "      <td>3.772761</td>\n",
       "      <td>3.772761</td>\n",
       "    </tr>\n",
       "    <tr>\n",
       "      <td>15</td>\n",
       "      <td>need</td>\n",
       "      <td>1</td>\n",
       "      <td>2.429026</td>\n",
       "      <td>2.429026</td>\n",
       "    </tr>\n",
       "    <tr>\n",
       "      <td>16</td>\n",
       "      <td>hi</td>\n",
       "      <td>1</td>\n",
       "      <td>0.901081</td>\n",
       "      <td>0.901081</td>\n",
       "    </tr>\n",
       "    <tr>\n",
       "      <td>17</td>\n",
       "      <td>say</td>\n",
       "      <td>1</td>\n",
       "      <td>3.079614</td>\n",
       "      <td>3.079614</td>\n",
       "    </tr>\n",
       "    <tr>\n",
       "      <td>18</td>\n",
       "      <td>purchase</td>\n",
       "      <td>1</td>\n",
       "      <td>3.618610</td>\n",
       "      <td>3.618610</td>\n",
       "    </tr>\n",
       "    <tr>\n",
       "      <td>19</td>\n",
       "      <td>using</td>\n",
       "      <td>1</td>\n",
       "      <td>1.926934</td>\n",
       "      <td>1.926934</td>\n",
       "    </tr>\n",
       "    <tr>\n",
       "      <td>20</td>\n",
       "      <td>professional</td>\n",
       "      <td>1</td>\n",
       "      <td>3.618610</td>\n",
       "      <td>3.618610</td>\n",
       "    </tr>\n",
       "    <tr>\n",
       "      <td>21</td>\n",
       "      <td>new</td>\n",
       "      <td>1</td>\n",
       "      <td>1.780331</td>\n",
       "      <td>1.780331</td>\n",
       "    </tr>\n",
       "    <tr>\n",
       "      <td>22</td>\n",
       "      <td>question</td>\n",
       "      <td>1</td>\n",
       "      <td>2.232316</td>\n",
       "      <td>2.232316</td>\n",
       "    </tr>\n",
       "    <tr>\n",
       "      <td>23</td>\n",
       "      <td>help</td>\n",
       "      <td>1</td>\n",
       "      <td>2.386467</td>\n",
       "      <td>2.386467</td>\n",
       "    </tr>\n",
       "    <tr>\n",
       "      <td>24</td>\n",
       "      <td>going</td>\n",
       "      <td>1</td>\n",
       "      <td>2.731307</td>\n",
       "      <td>2.731307</td>\n",
       "    </tr>\n",
       "    <tr>\n",
       "      <td>25</td>\n",
       "      <td>forum</td>\n",
       "      <td>1</td>\n",
       "      <td>3.166625</td>\n",
       "      <td>3.166625</td>\n",
       "    </tr>\n",
       "    <tr>\n",
       "      <td>26</td>\n",
       "      <td>extraction</td>\n",
       "      <td>1</td>\n",
       "      <td>3.955082</td>\n",
       "      <td>3.955082</td>\n",
       "    </tr>\n",
       "    <tr>\n",
       "      <td>27</td>\n",
       "      <td>thanks</td>\n",
       "      <td>1</td>\n",
       "      <td>2.098785</td>\n",
       "      <td>2.098785</td>\n",
       "    </tr>\n",
       "  </tbody>\n",
       "</table>\n",
       "</div>"
      ],
      "text/plain": [
       "              words  tf       idf     tfidf\n",
       "0               pc2   2  3.955082  7.910165\n",
       "1          workflow   1  2.856470  2.856470\n",
       "2               sop   1  1.953602  1.953602\n",
       "3            doesnt   1  3.955082  3.955082\n",
       "4   browsersearches   1  5.564520  5.564520\n",
       "5            button   1  4.871373  4.871373\n",
       "6          sourcing   1  2.791932  2.791932\n",
       "7              free   1  3.618610  3.618610\n",
       "8           advance   1  3.166625  3.166625\n",
       "9           version   1  3.367296  3.367296\n",
       "10             full   1  3.079614  3.079614\n",
       "11          process   1  2.731307  2.731307\n",
       "12       downloaded   1  4.871373  4.871373\n",
       "13          package   1  3.955082  3.955082\n",
       "14          feature   1  3.772761  3.772761\n",
       "15             need   1  2.429026  2.429026\n",
       "16               hi   1  0.901081  0.901081\n",
       "17              say   1  3.079614  3.079614\n",
       "18         purchase   1  3.618610  3.618610\n",
       "19            using   1  1.926934  1.926934\n",
       "20     professional   1  3.618610  3.618610\n",
       "21              new   1  1.780331  1.780331\n",
       "22         question   1  2.232316  2.232316\n",
       "23             help   1  2.386467  2.386467\n",
       "24            going   1  2.731307  2.731307\n",
       "25            forum   1  3.166625  3.166625\n",
       "26       extraction   1  3.955082  3.955082\n",
       "27           thanks   1  2.098785  2.098785"
      ]
     },
     "execution_count": 55,
     "metadata": {},
     "output_type": "execute_result"
    }
   ],
   "source": [
    "tf1"
   ]
  },
  {
   "cell_type": "markdown",
   "metadata": {},
   "source": [
    "sklearn has a separate function to directly obtain it:"
   ]
  },
  {
   "cell_type": "code",
   "execution_count": 56,
   "metadata": {},
   "outputs": [],
   "source": [
    "from sklearn.feature_extraction.text import TfidfVectorizer\n",
    "\n",
    "tfidf = TfidfVectorizer(max_features=1000, lowercase=True, analyzer='word',\n",
    " stop_words= 'english',ngram_range=(1,1))\n",
    "train_vect1 = tfidf.fit_transform(train['Leading Comment'])"
   ]
  },
  {
   "cell_type": "code",
   "execution_count": 57,
   "metadata": {},
   "outputs": [
    {
     "data": {
      "text/plain": [
       "<261x1000 sparse matrix of type '<class 'numpy.float64'>'\n",
       "\twith 4129 stored elements in Compressed Sparse Row format>"
      ]
     },
     "execution_count": 57,
     "metadata": {},
     "output_type": "execute_result"
    }
   ],
   "source": [
    "train_vect1"
   ]
  },
  {
   "cell_type": "code",
   "execution_count": 58,
   "metadata": {},
   "outputs": [
    {
     "name": "stdout",
     "output_type": "stream",
     "text": [
      "  (0, 830)\t0.3596765831426405\n",
      "  (0, 72)\t0.3460987127814111\n",
      "  (0, 760)\t0.3460987127814111\n",
      "  (0, 841)\t0.31038461356327063\n",
      "  (0, 164)\t0.3239624839245\n",
      "  (0, 802)\t0.33433702648692365\n",
      "  (0, 602)\t0.5639083001281904\n",
      "  (1, 48)\t0.18240059822212926\n",
      "  (1, 367)\t0.15625333673107497\n",
      "  (1, 860)\t0.13569705169000185\n",
      "  (1, 309)\t0.20216881799714984\n",
      "  (1, 530)\t0.2266444197467499\n",
      "  (1, 594)\t0.20216881799714984\n",
      "  (1, 494)\t0.15625333673107497\n",
      "  (1, 731)\t0.17859503044367298\n",
      "  (1, 150)\t0.23922660914817165\n",
      "  (1, 258)\t0.20891081979592233\n",
      "  (1, 917)\t0.2168849154355737\n",
      "  (1, 329)\t0.20216881799714984\n",
      "  (1, 261)\t0.23922660914817165\n",
      "  (1, 542)\t0.41782163959184465\n",
      "  (1, 911)\t0.12934730757847496\n",
      "  (1, 581)\t0.1633613359707567\n",
      "  (1, 975)\t0.1660128410422512\n",
      "  (1, 299)\t0.20891081979592233\n",
      "  :\t:\n",
      "  (259, 77)\t0.20561490648167288\n",
      "  (259, 625)\t0.20561490648167288\n",
      "  (259, 821)\t0.1834103070017916\n",
      "  (259, 819)\t0.21702964018656098\n",
      "  (259, 981)\t0.19676095116041573\n",
      "  (259, 628)\t0.16547630860513218\n",
      "  (259, 516)\t0.17811200921402356\n",
      "  (259, 134)\t0.1506091119463743\n",
      "  (259, 415)\t0.11628748974666236\n",
      "  (259, 260)\t0.1362096412556888\n",
      "  (259, 43)\t0.15884788760380794\n",
      "  (259, 822)\t0.43405928037312197\n",
      "  (259, 761)\t0.13981924617138117\n",
      "  (259, 151)\t0.17343857935615054\n",
      "  (259, 763)\t0.14820363040872953\n",
      "  (259, 931)\t0.2540242975595704\n",
      "  (260, 459)\t0.3710203229984347\n",
      "  (260, 947)\t0.3191597593680182\n",
      "  (260, 821)\t0.34584581414006116\n",
      "  (260, 830)\t0.30551864682728597\n",
      "  (260, 72)\t0.2939852505096447\n",
      "  (260, 760)\t0.2939852505096447\n",
      "  (260, 841)\t0.2636487655195877\n",
      "  (260, 164)\t0.27518216183722893\n",
      "  (260, 602)\t0.4789983803908502\n"
     ]
    }
   ],
   "source": [
    "print(train_vect1)"
   ]
  },
  {
   "cell_type": "code",
   "execution_count": 59,
   "metadata": {},
   "outputs": [],
   "source": [
    "train_vect2 = tfidf.fit_transform(train['Other Comments'])"
   ]
  },
  {
   "cell_type": "code",
   "execution_count": 60,
   "metadata": {},
   "outputs": [
    {
     "data": {
      "text/plain": [
       "<261x1000 sparse matrix of type '<class 'numpy.float64'>'\n",
       "\twith 6900 stored elements in Compressed Sparse Row format>"
      ]
     },
     "execution_count": 60,
     "metadata": {},
     "output_type": "execute_result"
    }
   ],
   "source": [
    "train_vect2"
   ]
  },
  {
   "cell_type": "code",
   "execution_count": 61,
   "metadata": {},
   "outputs": [
    {
     "name": "stdout",
     "output_type": "stream",
     "text": [
      "  (1, 874)\t0.13614530011963938\n",
      "  (1, 755)\t0.2735219770995628\n",
      "  (1, 746)\t0.17894828926945386\n",
      "  (1, 383)\t0.2735219770995628\n",
      "  (1, 64)\t0.2735219770995628\n",
      "  (1, 856)\t0.2735219770995628\n",
      "  (1, 617)\t0.22515778808527345\n",
      "  (1, 418)\t0.2521204825246555\n",
      "  (1, 888)\t0.19413289132214742\n",
      "  (1, 304)\t0.20375629351036617\n",
      "  (1, 594)\t0.20375629351036617\n",
      "  (1, 947)\t0.43106877179410935\n",
      "  (1, 602)\t0.44025414175744537\n",
      "  (1, 990)\t0.1885716914576726\n",
      "  (3, 674)\t0.12001516263207755\n",
      "  (3, 307)\t0.13029228629587597\n",
      "  (3, 541)\t0.1458948161176457\n",
      "  (3, 388)\t0.08951634831096447\n",
      "  (3, 362)\t0.09116776396633133\n",
      "  (3, 39)\t0.1335103914791456\n",
      "  (3, 103)\t0.1247235023612386\n",
      "  (3, 359)\t0.08719545381292268\n",
      "  (3, 887)\t0.1514636000522831\n",
      "  (3, 934)\t0.15827924075614586\n",
      "  (3, 509)\t0.1458948161176457\n",
      "  :\t:\n",
      "  (259, 899)\t0.14757734639666859\n",
      "  (259, 518)\t0.1360302823845587\n",
      "  (259, 608)\t0.1557701186952186\n",
      "  (259, 527)\t0.1360302823845587\n",
      "  (259, 813)\t0.12783751008600866\n",
      "  (259, 758)\t0.2720605647691174\n",
      "  (259, 593)\t0.1557701186952186\n",
      "  (259, 629)\t0.12783751008600866\n",
      "  (259, 169)\t0.11401094470441876\n",
      "  (259, 843)\t0.37344965511734635\n",
      "  (259, 818)\t0.1557701186952186\n",
      "  (259, 567)\t0.12448321837244879\n",
      "  (259, 870)\t0.13164029239064587\n",
      "  (259, 321)\t0.12448321837244879\n",
      "  (259, 844)\t0.5113500403440346\n",
      "  (259, 913)\t0.11629044607389878\n",
      "  (259, 15)\t0.19805713765501398\n",
      "  (259, 30)\t0.11190045607998599\n",
      "  (259, 718)\t0.29515469279333717\n",
      "  (259, 873)\t0.08346378893240355\n",
      "  (259, 821)\t0.14757734639666859\n",
      "  (259, 477)\t0.07564822167093062\n",
      "  (259, 658)\t0.21274234321160368\n",
      "  (259, 582)\t0.10993563817701965\n",
      "  (259, 665)\t0.08200302956780975\n"
     ]
    }
   ],
   "source": [
    "print(train_vect2)"
   ]
  },
  {
   "cell_type": "code",
   "execution_count": 62,
   "metadata": {},
   "outputs": [
    {
     "data": {
      "text/html": [
       "<div>\n",
       "<style scoped>\n",
       "    .dataframe tbody tr th:only-of-type {\n",
       "        vertical-align: middle;\n",
       "    }\n",
       "\n",
       "    .dataframe tbody tr th {\n",
       "        vertical-align: top;\n",
       "    }\n",
       "\n",
       "    .dataframe thead th {\n",
       "        text-align: right;\n",
       "    }\n",
       "</style>\n",
       "<table border=\"1\" class=\"dataframe\">\n",
       "  <thead>\n",
       "    <tr style=\"text-align: right;\">\n",
       "      <th></th>\n",
       "      <th>Topic Title</th>\n",
       "      <th>Category</th>\n",
       "      <th>Tags</th>\n",
       "      <th>Authors</th>\n",
       "      <th>Leading Comment</th>\n",
       "      <th>Other Comments</th>\n",
       "      <th>Word Count in Leading Comment</th>\n",
       "      <th>Number of Replies</th>\n",
       "      <th>Number of Charcters in Leading Comment</th>\n",
       "      <th>Avg Word of Leading Comment</th>\n",
       "      <th>Stopwords for Leading Comment</th>\n",
       "      <th>Stopwords for Other Comments</th>\n",
       "      <th>Hastags</th>\n",
       "      <th>Numerics in Leading Comment</th>\n",
       "      <th>Numerics in Other Comments</th>\n",
       "      <th>Upper in Leading Comment</th>\n",
       "      <th>Upper in Other Comments</th>\n",
       "    </tr>\n",
       "  </thead>\n",
       "  <tbody>\n",
       "    <tr>\n",
       "      <td>0</td>\n",
       "      <td>About the Product Sourcing Category</td>\n",
       "      <td>Product Sourcing</td>\n",
       "      <td>['Product Sourcing']</td>\n",
       "      <td>[]</td>\n",
       "      <td>questions sourcing category please sure select...</td>\n",
       "      <td></td>\n",
       "      <td>23</td>\n",
       "      <td>0</td>\n",
       "      <td>147.0</td>\n",
       "      <td>5.434783</td>\n",
       "      <td>10</td>\n",
       "      <td>0</td>\n",
       "      <td>0</td>\n",
       "      <td>0</td>\n",
       "      <td>0</td>\n",
       "      <td>0</td>\n",
       "      <td>0</td>\n",
       "    </tr>\n",
       "    <tr>\n",
       "      <td>1</td>\n",
       "      <td>Price Checker 2 - Competitor storefront extrac...</td>\n",
       "      <td>Product Sourcing</td>\n",
       "      <td>['Product Sourcing']</td>\n",
       "      <td>['Mitch', 'MoniqueAndKerry']</td>\n",
       "      <td>hi new forum going sourcing professionals sops...</td>\n",
       "      <td>yes need paid version options extraction tools...</td>\n",
       "      <td>65</td>\n",
       "      <td>2</td>\n",
       "      <td>370.0</td>\n",
       "      <td>4.781250</td>\n",
       "      <td>28</td>\n",
       "      <td>9</td>\n",
       "      <td>0</td>\n",
       "      <td>0</td>\n",
       "      <td>0</td>\n",
       "      <td>2</td>\n",
       "      <td>1</td>\n",
       "    </tr>\n",
       "    <tr>\n",
       "      <td>2</td>\n",
       "      <td>Top 10 Tips to Grow your Business Rapidly</td>\n",
       "      <td>Product Sourcing</td>\n",
       "      <td>['Product Sourcing', 'Purchasing']</td>\n",
       "      <td>[]</td>\n",
       "      <td>working seller last 6 years want tips selling ...</td>\n",
       "      <td></td>\n",
       "      <td>106</td>\n",
       "      <td>0</td>\n",
       "      <td>503.0</td>\n",
       "      <td>4.913580</td>\n",
       "      <td>22</td>\n",
       "      <td>0</td>\n",
       "      <td>0</td>\n",
       "      <td>2</td>\n",
       "      <td>0</td>\n",
       "      <td>2</td>\n",
       "      <td>0</td>\n",
       "    </tr>\n",
       "    <tr>\n",
       "      <td>3</td>\n",
       "      <td>Virtual Assistants</td>\n",
       "      <td>Product Sourcing</td>\n",
       "      <td>['Product Sourcing']</td>\n",
       "      <td>['Mitch', 'Rebca', 'JimW_PB']</td>\n",
       "      <td>va recommend used currently using require work</td>\n",
       "      <td>mcdavid dont want share stellar va currently u...</td>\n",
       "      <td>16</td>\n",
       "      <td>3</td>\n",
       "      <td>90.0</td>\n",
       "      <td>4.687500</td>\n",
       "      <td>7</td>\n",
       "      <td>45</td>\n",
       "      <td>2</td>\n",
       "      <td>0</td>\n",
       "      <td>1</td>\n",
       "      <td>1</td>\n",
       "      <td>3</td>\n",
       "    </tr>\n",
       "    <tr>\n",
       "      <td>4</td>\n",
       "      <td>Can you sell branded products on Amazon uk</td>\n",
       "      <td>Product Sourcing</td>\n",
       "      <td>['Product Sourcing', 'Sourcing Brand Name Prod...</td>\n",
       "      <td>['Mitch']</td>\n",
       "      <td>sell branded uk must com</td>\n",
       "      <td>sell amazon uk well could actually big selling...</td>\n",
       "      <td>15</td>\n",
       "      <td>1</td>\n",
       "      <td>71.0</td>\n",
       "      <td>3.800000</td>\n",
       "      <td>6</td>\n",
       "      <td>14</td>\n",
       "      <td>0</td>\n",
       "      <td>0</td>\n",
       "      <td>0</td>\n",
       "      <td>0</td>\n",
       "      <td>2</td>\n",
       "    </tr>\n",
       "  </tbody>\n",
       "</table>\n",
       "</div>"
      ],
      "text/plain": [
       "                                         Topic Title          Category  \\\n",
       "0                About the Product Sourcing Category  Product Sourcing   \n",
       "1  Price Checker 2 - Competitor storefront extrac...  Product Sourcing   \n",
       "2          Top 10 Tips to Grow your Business Rapidly  Product Sourcing   \n",
       "3                                 Virtual Assistants  Product Sourcing   \n",
       "4         Can you sell branded products on Amazon uk  Product Sourcing   \n",
       "\n",
       "                                                Tags  \\\n",
       "0                               ['Product Sourcing']   \n",
       "1                               ['Product Sourcing']   \n",
       "2                 ['Product Sourcing', 'Purchasing']   \n",
       "3                               ['Product Sourcing']   \n",
       "4  ['Product Sourcing', 'Sourcing Brand Name Prod...   \n",
       "\n",
       "                         Authors  \\\n",
       "0                             []   \n",
       "1   ['Mitch', 'MoniqueAndKerry']   \n",
       "2                             []   \n",
       "3  ['Mitch', 'Rebca', 'JimW_PB']   \n",
       "4                      ['Mitch']   \n",
       "\n",
       "                                     Leading Comment  \\\n",
       "0  questions sourcing category please sure select...   \n",
       "1  hi new forum going sourcing professionals sops...   \n",
       "2  working seller last 6 years want tips selling ...   \n",
       "3     va recommend used currently using require work   \n",
       "4                           sell branded uk must com   \n",
       "\n",
       "                                      Other Comments  \\\n",
       "0                                                      \n",
       "1  yes need paid version options extraction tools...   \n",
       "2                                                      \n",
       "3  mcdavid dont want share stellar va currently u...   \n",
       "4  sell amazon uk well could actually big selling...   \n",
       "\n",
       "   Word Count in Leading Comment  Number of Replies  \\\n",
       "0                             23                  0   \n",
       "1                             65                  2   \n",
       "2                            106                  0   \n",
       "3                             16                  3   \n",
       "4                             15                  1   \n",
       "\n",
       "   Number of Charcters in Leading Comment  Avg Word of Leading Comment  \\\n",
       "0                                   147.0                     5.434783   \n",
       "1                                   370.0                     4.781250   \n",
       "2                                   503.0                     4.913580   \n",
       "3                                    90.0                     4.687500   \n",
       "4                                    71.0                     3.800000   \n",
       "\n",
       "   Stopwords for Leading Comment  Stopwords for Other Comments  Hastags  \\\n",
       "0                             10                             0        0   \n",
       "1                             28                             9        0   \n",
       "2                             22                             0        0   \n",
       "3                              7                            45        2   \n",
       "4                              6                            14        0   \n",
       "\n",
       "   Numerics in Leading Comment  Numerics in Other Comments  \\\n",
       "0                            0                           0   \n",
       "1                            0                           0   \n",
       "2                            2                           0   \n",
       "3                            0                           1   \n",
       "4                            0                           0   \n",
       "\n",
       "   Upper in Leading Comment  Upper in Other Comments  \n",
       "0                         0                        0  \n",
       "1                         2                        1  \n",
       "2                         2                        0  \n",
       "3                         1                        3  \n",
       "4                         0                        2  "
      ]
     },
     "execution_count": 62,
     "metadata": {},
     "output_type": "execute_result"
    }
   ],
   "source": [
    "train_data.head()"
   ]
  },
  {
   "cell_type": "code",
   "execution_count": 63,
   "metadata": {},
   "outputs": [],
   "source": [
    "from sklearn.feature_extraction.text import TfidfVectorizer\n",
    "\n",
    "tfidf = TfidfVectorizer(max_features=1000, lowercase=True, analyzer='word',\n",
    " stop_words= 'english',ngram_range=(1,1))\n",
    "train_vect3 = tfidf.fit_transform(train_data['Leading Comment'])"
   ]
  },
  {
   "cell_type": "code",
   "execution_count": 64,
   "metadata": {},
   "outputs": [
    {
     "name": "stdout",
     "output_type": "stream",
     "text": [
      "  (0, 842)\t0.3377047817900141\n",
      "  (0, 57)\t0.3249563517770054\n",
      "  (0, 715)\t0.3249563517770054\n",
      "  (0, 853)\t0.2914239433618988\n",
      "  (0, 122)\t0.33108516222056894\n",
      "  (0, 793)\t0.31391315939328746\n",
      "  (0, 621)\t0.617798873573125\n",
      "  (1, 34)\t0.17634773565281803\n",
      "  (1, 370)\t0.15794028074721023\n",
      "  (1, 875)\t0.13119402037899677\n",
      "  (1, 306)\t0.20968770994785094\n",
      "  (1, 547)\t0.21912335052768012\n",
      "  (1, 615)\t0.19545995803142424\n",
      "  (1, 508)\t0.15106815651539537\n",
      "  (1, 703)\t0.2019782302441768\n",
      "  (1, 106)\t0.23128800696040458\n",
      "  (1, 254)\t0.2019782302441768\n",
      "  (1, 938)\t0.20968770994785094\n",
      "  (1, 331)\t0.19545995803142424\n",
      "  (1, 257)\t0.23128800696040458\n",
      "  (1, 560)\t0.4039564604883536\n",
      "  (1, 931)\t0.12505498899994985\n",
      "  (1, 601)\t0.16050379709522455\n",
      "  (1, 981)\t0.17266845352794902\n",
      "  (1, 296)\t0.20968770994785094\n",
      "  :\t:\n",
      "  (259, 62)\t0.20839370575947758\n",
      "  (259, 634)\t0.20839370575947758\n",
      "  (259, 833)\t0.1858890204246627\n",
      "  (259, 831)\t0.21996270480591232\n",
      "  (259, 986)\t0.1994200929431807\n",
      "  (259, 636)\t0.16771265155669104\n",
      "  (259, 530)\t0.1858890204246627\n",
      "  (259, 100)\t0.1526445309666616\n",
      "  (259, 423)\t0.1189315174245577\n",
      "  (259, 256)\t0.1380504574651161\n",
      "  (259, 27)\t0.16421353001309635\n",
      "  (259, 834)\t0.43992540961182464\n",
      "  (259, 716)\t0.1436709181503647\n",
      "  (259, 107)\t0.1757825290595311\n",
      "  (259, 719)\t0.15020654035429087\n",
      "  (259, 954)\t0.2632047066262998\n",
      "  (260, 471)\t0.3542467174614709\n",
      "  (260, 963)\t0.3047307387050881\n",
      "  (260, 833)\t0.33021033299953084\n",
      "  (260, 842)\t0.29170633265362417\n",
      "  (260, 57)\t0.2806943542431481\n",
      "  (260, 715)\t0.2806943542431481\n",
      "  (260, 853)\t0.2517293634841588\n",
      "  (260, 122)\t0.28598836520901244\n",
      "  (260, 621)\t0.533649072933812\n"
     ]
    }
   ],
   "source": [
    "print(train_vect3)"
   ]
  },
  {
   "cell_type": "code",
   "execution_count": 65,
   "metadata": {},
   "outputs": [
    {
     "data": {
      "text/html": [
       "<div>\n",
       "<style scoped>\n",
       "    .dataframe tbody tr th:only-of-type {\n",
       "        vertical-align: middle;\n",
       "    }\n",
       "\n",
       "    .dataframe tbody tr th {\n",
       "        vertical-align: top;\n",
       "    }\n",
       "\n",
       "    .dataframe thead th {\n",
       "        text-align: right;\n",
       "    }\n",
       "</style>\n",
       "<table border=\"1\" class=\"dataframe\">\n",
       "  <thead>\n",
       "    <tr style=\"text-align: right;\">\n",
       "      <th></th>\n",
       "      <th>words</th>\n",
       "      <th>tf</th>\n",
       "    </tr>\n",
       "  </thead>\n",
       "  <tbody>\n",
       "    <tr>\n",
       "      <td>0</td>\n",
       "      <td>pc2</td>\n",
       "      <td>2</td>\n",
       "    </tr>\n",
       "    <tr>\n",
       "      <td>1</td>\n",
       "      <td>workflow</td>\n",
       "      <td>1</td>\n",
       "    </tr>\n",
       "    <tr>\n",
       "      <td>2</td>\n",
       "      <td>package</td>\n",
       "      <td>1</td>\n",
       "    </tr>\n",
       "    <tr>\n",
       "      <td>3</td>\n",
       "      <td>feature</td>\n",
       "      <td>1</td>\n",
       "    </tr>\n",
       "    <tr>\n",
       "      <td>4</td>\n",
       "      <td>button</td>\n",
       "      <td>1</td>\n",
       "    </tr>\n",
       "    <tr>\n",
       "      <td>5</td>\n",
       "      <td>sops</td>\n",
       "      <td>1</td>\n",
       "    </tr>\n",
       "    <tr>\n",
       "      <td>6</td>\n",
       "      <td>sourcing</td>\n",
       "      <td>1</td>\n",
       "    </tr>\n",
       "    <tr>\n",
       "      <td>7</td>\n",
       "      <td>free</td>\n",
       "      <td>1</td>\n",
       "    </tr>\n",
       "    <tr>\n",
       "      <td>8</td>\n",
       "      <td>advance</td>\n",
       "      <td>1</td>\n",
       "    </tr>\n",
       "    <tr>\n",
       "      <td>9</td>\n",
       "      <td>version</td>\n",
       "      <td>1</td>\n",
       "    </tr>\n",
       "    <tr>\n",
       "      <td>10</td>\n",
       "      <td>full</td>\n",
       "      <td>1</td>\n",
       "    </tr>\n",
       "    <tr>\n",
       "      <td>11</td>\n",
       "      <td>process</td>\n",
       "      <td>1</td>\n",
       "    </tr>\n",
       "    <tr>\n",
       "      <td>12</td>\n",
       "      <td>downloaded</td>\n",
       "      <td>1</td>\n",
       "    </tr>\n",
       "    <tr>\n",
       "      <td>13</td>\n",
       "      <td>need</td>\n",
       "      <td>1</td>\n",
       "    </tr>\n",
       "    <tr>\n",
       "      <td>14</td>\n",
       "      <td>professionals</td>\n",
       "      <td>1</td>\n",
       "    </tr>\n",
       "    <tr>\n",
       "      <td>15</td>\n",
       "      <td>doesnt</td>\n",
       "      <td>1</td>\n",
       "    </tr>\n",
       "    <tr>\n",
       "      <td>16</td>\n",
       "      <td>browsersearches</td>\n",
       "      <td>1</td>\n",
       "    </tr>\n",
       "    <tr>\n",
       "      <td>17</td>\n",
       "      <td>hi</td>\n",
       "      <td>1</td>\n",
       "    </tr>\n",
       "    <tr>\n",
       "      <td>18</td>\n",
       "      <td>purchase</td>\n",
       "      <td>1</td>\n",
       "    </tr>\n",
       "    <tr>\n",
       "      <td>19</td>\n",
       "      <td>using</td>\n",
       "      <td>1</td>\n",
       "    </tr>\n",
       "    <tr>\n",
       "      <td>20</td>\n",
       "      <td>says</td>\n",
       "      <td>1</td>\n",
       "    </tr>\n",
       "    <tr>\n",
       "      <td>21</td>\n",
       "      <td>help</td>\n",
       "      <td>1</td>\n",
       "    </tr>\n",
       "    <tr>\n",
       "      <td>22</td>\n",
       "      <td>new</td>\n",
       "      <td>1</td>\n",
       "    </tr>\n",
       "    <tr>\n",
       "      <td>23</td>\n",
       "      <td>question</td>\n",
       "      <td>1</td>\n",
       "    </tr>\n",
       "    <tr>\n",
       "      <td>24</td>\n",
       "      <td>going</td>\n",
       "      <td>1</td>\n",
       "    </tr>\n",
       "    <tr>\n",
       "      <td>25</td>\n",
       "      <td>forum</td>\n",
       "      <td>1</td>\n",
       "    </tr>\n",
       "    <tr>\n",
       "      <td>26</td>\n",
       "      <td>extraction</td>\n",
       "      <td>1</td>\n",
       "    </tr>\n",
       "    <tr>\n",
       "      <td>27</td>\n",
       "      <td>thanks</td>\n",
       "      <td>1</td>\n",
       "    </tr>\n",
       "  </tbody>\n",
       "</table>\n",
       "</div>"
      ],
      "text/plain": [
       "              words  tf\n",
       "0               pc2   2\n",
       "1          workflow   1\n",
       "2           package   1\n",
       "3           feature   1\n",
       "4            button   1\n",
       "5              sops   1\n",
       "6          sourcing   1\n",
       "7              free   1\n",
       "8           advance   1\n",
       "9           version   1\n",
       "10             full   1\n",
       "11          process   1\n",
       "12       downloaded   1\n",
       "13             need   1\n",
       "14    professionals   1\n",
       "15           doesnt   1\n",
       "16  browsersearches   1\n",
       "17               hi   1\n",
       "18         purchase   1\n",
       "19            using   1\n",
       "20             says   1\n",
       "21             help   1\n",
       "22              new   1\n",
       "23         question   1\n",
       "24            going   1\n",
       "25            forum   1\n",
       "26       extraction   1\n",
       "27           thanks   1"
      ]
     },
     "execution_count": 65,
     "metadata": {},
     "output_type": "execute_result"
    }
   ],
   "source": [
    "tf2 = (train_data['Leading Comment'][1:2]).apply(lambda x: pd.value_counts(x.split(\" \"))).sum(axis = 0).reset_index()\n",
    "tf2.columns = ['words','tf']\n",
    "tf2"
   ]
  },
  {
   "cell_type": "code",
   "execution_count": 66,
   "metadata": {},
   "outputs": [],
   "source": [
    "import numpy as np\n",
    "\n",
    "for i,word in enumerate(tf2['words']):\n",
    "      tf2.loc[i, 'idf'] = np.log(train_data.shape[0]/(len(train_data[train_data['Leading Comment'].str.contains(word)])))"
   ]
  },
  {
   "cell_type": "code",
   "execution_count": 67,
   "metadata": {},
   "outputs": [
    {
     "data": {
      "text/html": [
       "<div>\n",
       "<style scoped>\n",
       "    .dataframe tbody tr th:only-of-type {\n",
       "        vertical-align: middle;\n",
       "    }\n",
       "\n",
       "    .dataframe tbody tr th {\n",
       "        vertical-align: top;\n",
       "    }\n",
       "\n",
       "    .dataframe thead th {\n",
       "        text-align: right;\n",
       "    }\n",
       "</style>\n",
       "<table border=\"1\" class=\"dataframe\">\n",
       "  <thead>\n",
       "    <tr style=\"text-align: right;\">\n",
       "      <th></th>\n",
       "      <th>words</th>\n",
       "      <th>tf</th>\n",
       "      <th>idf</th>\n",
       "    </tr>\n",
       "  </thead>\n",
       "  <tbody>\n",
       "    <tr>\n",
       "      <td>0</td>\n",
       "      <td>pc2</td>\n",
       "      <td>2</td>\n",
       "      <td>3.955082</td>\n",
       "    </tr>\n",
       "    <tr>\n",
       "      <td>1</td>\n",
       "      <td>workflow</td>\n",
       "      <td>1</td>\n",
       "      <td>2.856470</td>\n",
       "    </tr>\n",
       "    <tr>\n",
       "      <td>2</td>\n",
       "      <td>package</td>\n",
       "      <td>1</td>\n",
       "      <td>3.955082</td>\n",
       "    </tr>\n",
       "    <tr>\n",
       "      <td>3</td>\n",
       "      <td>feature</td>\n",
       "      <td>1</td>\n",
       "      <td>3.772761</td>\n",
       "    </tr>\n",
       "    <tr>\n",
       "      <td>4</td>\n",
       "      <td>button</td>\n",
       "      <td>1</td>\n",
       "      <td>4.871373</td>\n",
       "    </tr>\n",
       "    <tr>\n",
       "      <td>5</td>\n",
       "      <td>sops</td>\n",
       "      <td>1</td>\n",
       "      <td>2.925463</td>\n",
       "    </tr>\n",
       "    <tr>\n",
       "      <td>6</td>\n",
       "      <td>sourcing</td>\n",
       "      <td>1</td>\n",
       "      <td>2.791932</td>\n",
       "    </tr>\n",
       "    <tr>\n",
       "      <td>7</td>\n",
       "      <td>free</td>\n",
       "      <td>1</td>\n",
       "      <td>3.618610</td>\n",
       "    </tr>\n",
       "    <tr>\n",
       "      <td>8</td>\n",
       "      <td>advance</td>\n",
       "      <td>1</td>\n",
       "      <td>3.166625</td>\n",
       "    </tr>\n",
       "    <tr>\n",
       "      <td>9</td>\n",
       "      <td>version</td>\n",
       "      <td>1</td>\n",
       "      <td>3.367296</td>\n",
       "    </tr>\n",
       "    <tr>\n",
       "      <td>10</td>\n",
       "      <td>full</td>\n",
       "      <td>1</td>\n",
       "      <td>3.079614</td>\n",
       "    </tr>\n",
       "    <tr>\n",
       "      <td>11</td>\n",
       "      <td>process</td>\n",
       "      <td>1</td>\n",
       "      <td>2.731307</td>\n",
       "    </tr>\n",
       "    <tr>\n",
       "      <td>12</td>\n",
       "      <td>downloaded</td>\n",
       "      <td>1</td>\n",
       "      <td>4.871373</td>\n",
       "    </tr>\n",
       "    <tr>\n",
       "      <td>13</td>\n",
       "      <td>need</td>\n",
       "      <td>1</td>\n",
       "      <td>2.429026</td>\n",
       "    </tr>\n",
       "    <tr>\n",
       "      <td>14</td>\n",
       "      <td>professionals</td>\n",
       "      <td>1</td>\n",
       "      <td>4.871373</td>\n",
       "    </tr>\n",
       "    <tr>\n",
       "      <td>15</td>\n",
       "      <td>doesnt</td>\n",
       "      <td>1</td>\n",
       "      <td>3.955082</td>\n",
       "    </tr>\n",
       "    <tr>\n",
       "      <td>16</td>\n",
       "      <td>browsersearches</td>\n",
       "      <td>1</td>\n",
       "      <td>5.564520</td>\n",
       "    </tr>\n",
       "    <tr>\n",
       "      <td>17</td>\n",
       "      <td>hi</td>\n",
       "      <td>1</td>\n",
       "      <td>0.901081</td>\n",
       "    </tr>\n",
       "    <tr>\n",
       "      <td>18</td>\n",
       "      <td>purchase</td>\n",
       "      <td>1</td>\n",
       "      <td>3.618610</td>\n",
       "    </tr>\n",
       "    <tr>\n",
       "      <td>19</td>\n",
       "      <td>using</td>\n",
       "      <td>1</td>\n",
       "      <td>1.926934</td>\n",
       "    </tr>\n",
       "    <tr>\n",
       "      <td>20</td>\n",
       "      <td>says</td>\n",
       "      <td>1</td>\n",
       "      <td>3.955082</td>\n",
       "    </tr>\n",
       "    <tr>\n",
       "      <td>21</td>\n",
       "      <td>help</td>\n",
       "      <td>1</td>\n",
       "      <td>2.386467</td>\n",
       "    </tr>\n",
       "    <tr>\n",
       "      <td>22</td>\n",
       "      <td>new</td>\n",
       "      <td>1</td>\n",
       "      <td>1.780331</td>\n",
       "    </tr>\n",
       "    <tr>\n",
       "      <td>23</td>\n",
       "      <td>question</td>\n",
       "      <td>1</td>\n",
       "      <td>2.232316</td>\n",
       "    </tr>\n",
       "    <tr>\n",
       "      <td>24</td>\n",
       "      <td>going</td>\n",
       "      <td>1</td>\n",
       "      <td>2.731307</td>\n",
       "    </tr>\n",
       "    <tr>\n",
       "      <td>25</td>\n",
       "      <td>forum</td>\n",
       "      <td>1</td>\n",
       "      <td>3.166625</td>\n",
       "    </tr>\n",
       "    <tr>\n",
       "      <td>26</td>\n",
       "      <td>extraction</td>\n",
       "      <td>1</td>\n",
       "      <td>3.955082</td>\n",
       "    </tr>\n",
       "    <tr>\n",
       "      <td>27</td>\n",
       "      <td>thanks</td>\n",
       "      <td>1</td>\n",
       "      <td>2.098785</td>\n",
       "    </tr>\n",
       "  </tbody>\n",
       "</table>\n",
       "</div>"
      ],
      "text/plain": [
       "              words  tf       idf\n",
       "0               pc2   2  3.955082\n",
       "1          workflow   1  2.856470\n",
       "2           package   1  3.955082\n",
       "3           feature   1  3.772761\n",
       "4            button   1  4.871373\n",
       "5              sops   1  2.925463\n",
       "6          sourcing   1  2.791932\n",
       "7              free   1  3.618610\n",
       "8           advance   1  3.166625\n",
       "9           version   1  3.367296\n",
       "10             full   1  3.079614\n",
       "11          process   1  2.731307\n",
       "12       downloaded   1  4.871373\n",
       "13             need   1  2.429026\n",
       "14    professionals   1  4.871373\n",
       "15           doesnt   1  3.955082\n",
       "16  browsersearches   1  5.564520\n",
       "17               hi   1  0.901081\n",
       "18         purchase   1  3.618610\n",
       "19            using   1  1.926934\n",
       "20             says   1  3.955082\n",
       "21             help   1  2.386467\n",
       "22              new   1  1.780331\n",
       "23         question   1  2.232316\n",
       "24            going   1  2.731307\n",
       "25            forum   1  3.166625\n",
       "26       extraction   1  3.955082\n",
       "27           thanks   1  2.098785"
      ]
     },
     "execution_count": 67,
     "metadata": {},
     "output_type": "execute_result"
    }
   ],
   "source": [
    "tf2"
   ]
  },
  {
   "cell_type": "code",
   "execution_count": 68,
   "metadata": {},
   "outputs": [],
   "source": [
    "tf2['tfidf'] = tf2['tf'] * tf2['idf']"
   ]
  },
  {
   "cell_type": "code",
   "execution_count": 69,
   "metadata": {},
   "outputs": [],
   "source": [
    "compare = pd.DataFrame({\"words\": tf1[\"words\"],\n",
    "                        \"tf1_result\": tf1['tfidf'],\n",
    "                        \"tf2_result\": tf2['tfidf']})"
   ]
  },
  {
   "cell_type": "code",
   "execution_count": 70,
   "metadata": {},
   "outputs": [
    {
     "data": {
      "text/html": [
       "<div>\n",
       "<style scoped>\n",
       "    .dataframe tbody tr th:only-of-type {\n",
       "        vertical-align: middle;\n",
       "    }\n",
       "\n",
       "    .dataframe tbody tr th {\n",
       "        vertical-align: top;\n",
       "    }\n",
       "\n",
       "    .dataframe thead th {\n",
       "        text-align: right;\n",
       "    }\n",
       "</style>\n",
       "<table border=\"1\" class=\"dataframe\">\n",
       "  <thead>\n",
       "    <tr style=\"text-align: right;\">\n",
       "      <th></th>\n",
       "      <th>words</th>\n",
       "      <th>tf1_result</th>\n",
       "      <th>tf2_result</th>\n",
       "    </tr>\n",
       "  </thead>\n",
       "  <tbody>\n",
       "    <tr>\n",
       "      <td>0</td>\n",
       "      <td>pc2</td>\n",
       "      <td>7.910165</td>\n",
       "      <td>7.910165</td>\n",
       "    </tr>\n",
       "    <tr>\n",
       "      <td>1</td>\n",
       "      <td>workflow</td>\n",
       "      <td>2.856470</td>\n",
       "      <td>2.856470</td>\n",
       "    </tr>\n",
       "    <tr>\n",
       "      <td>2</td>\n",
       "      <td>sop</td>\n",
       "      <td>1.953602</td>\n",
       "      <td>3.955082</td>\n",
       "    </tr>\n",
       "    <tr>\n",
       "      <td>3</td>\n",
       "      <td>doesnt</td>\n",
       "      <td>3.955082</td>\n",
       "      <td>3.772761</td>\n",
       "    </tr>\n",
       "    <tr>\n",
       "      <td>4</td>\n",
       "      <td>browsersearches</td>\n",
       "      <td>5.564520</td>\n",
       "      <td>4.871373</td>\n",
       "    </tr>\n",
       "    <tr>\n",
       "      <td>5</td>\n",
       "      <td>button</td>\n",
       "      <td>4.871373</td>\n",
       "      <td>2.925463</td>\n",
       "    </tr>\n",
       "    <tr>\n",
       "      <td>6</td>\n",
       "      <td>sourcing</td>\n",
       "      <td>2.791932</td>\n",
       "      <td>2.791932</td>\n",
       "    </tr>\n",
       "    <tr>\n",
       "      <td>7</td>\n",
       "      <td>free</td>\n",
       "      <td>3.618610</td>\n",
       "      <td>3.618610</td>\n",
       "    </tr>\n",
       "    <tr>\n",
       "      <td>8</td>\n",
       "      <td>advance</td>\n",
       "      <td>3.166625</td>\n",
       "      <td>3.166625</td>\n",
       "    </tr>\n",
       "    <tr>\n",
       "      <td>9</td>\n",
       "      <td>version</td>\n",
       "      <td>3.367296</td>\n",
       "      <td>3.367296</td>\n",
       "    </tr>\n",
       "    <tr>\n",
       "      <td>10</td>\n",
       "      <td>full</td>\n",
       "      <td>3.079614</td>\n",
       "      <td>3.079614</td>\n",
       "    </tr>\n",
       "    <tr>\n",
       "      <td>11</td>\n",
       "      <td>process</td>\n",
       "      <td>2.731307</td>\n",
       "      <td>2.731307</td>\n",
       "    </tr>\n",
       "    <tr>\n",
       "      <td>12</td>\n",
       "      <td>downloaded</td>\n",
       "      <td>4.871373</td>\n",
       "      <td>4.871373</td>\n",
       "    </tr>\n",
       "    <tr>\n",
       "      <td>13</td>\n",
       "      <td>package</td>\n",
       "      <td>3.955082</td>\n",
       "      <td>2.429026</td>\n",
       "    </tr>\n",
       "    <tr>\n",
       "      <td>14</td>\n",
       "      <td>feature</td>\n",
       "      <td>3.772761</td>\n",
       "      <td>4.871373</td>\n",
       "    </tr>\n",
       "    <tr>\n",
       "      <td>15</td>\n",
       "      <td>need</td>\n",
       "      <td>2.429026</td>\n",
       "      <td>3.955082</td>\n",
       "    </tr>\n",
       "    <tr>\n",
       "      <td>16</td>\n",
       "      <td>hi</td>\n",
       "      <td>0.901081</td>\n",
       "      <td>5.564520</td>\n",
       "    </tr>\n",
       "    <tr>\n",
       "      <td>17</td>\n",
       "      <td>say</td>\n",
       "      <td>3.079614</td>\n",
       "      <td>0.901081</td>\n",
       "    </tr>\n",
       "    <tr>\n",
       "      <td>18</td>\n",
       "      <td>purchase</td>\n",
       "      <td>3.618610</td>\n",
       "      <td>3.618610</td>\n",
       "    </tr>\n",
       "    <tr>\n",
       "      <td>19</td>\n",
       "      <td>using</td>\n",
       "      <td>1.926934</td>\n",
       "      <td>1.926934</td>\n",
       "    </tr>\n",
       "    <tr>\n",
       "      <td>20</td>\n",
       "      <td>professional</td>\n",
       "      <td>3.618610</td>\n",
       "      <td>3.955082</td>\n",
       "    </tr>\n",
       "    <tr>\n",
       "      <td>21</td>\n",
       "      <td>new</td>\n",
       "      <td>1.780331</td>\n",
       "      <td>2.386467</td>\n",
       "    </tr>\n",
       "    <tr>\n",
       "      <td>22</td>\n",
       "      <td>question</td>\n",
       "      <td>2.232316</td>\n",
       "      <td>1.780331</td>\n",
       "    </tr>\n",
       "    <tr>\n",
       "      <td>23</td>\n",
       "      <td>help</td>\n",
       "      <td>2.386467</td>\n",
       "      <td>2.232316</td>\n",
       "    </tr>\n",
       "    <tr>\n",
       "      <td>24</td>\n",
       "      <td>going</td>\n",
       "      <td>2.731307</td>\n",
       "      <td>2.731307</td>\n",
       "    </tr>\n",
       "    <tr>\n",
       "      <td>25</td>\n",
       "      <td>forum</td>\n",
       "      <td>3.166625</td>\n",
       "      <td>3.166625</td>\n",
       "    </tr>\n",
       "    <tr>\n",
       "      <td>26</td>\n",
       "      <td>extraction</td>\n",
       "      <td>3.955082</td>\n",
       "      <td>3.955082</td>\n",
       "    </tr>\n",
       "    <tr>\n",
       "      <td>27</td>\n",
       "      <td>thanks</td>\n",
       "      <td>2.098785</td>\n",
       "      <td>2.098785</td>\n",
       "    </tr>\n",
       "  </tbody>\n",
       "</table>\n",
       "</div>"
      ],
      "text/plain": [
       "              words  tf1_result  tf2_result\n",
       "0               pc2    7.910165    7.910165\n",
       "1          workflow    2.856470    2.856470\n",
       "2               sop    1.953602    3.955082\n",
       "3            doesnt    3.955082    3.772761\n",
       "4   browsersearches    5.564520    4.871373\n",
       "5            button    4.871373    2.925463\n",
       "6          sourcing    2.791932    2.791932\n",
       "7              free    3.618610    3.618610\n",
       "8           advance    3.166625    3.166625\n",
       "9           version    3.367296    3.367296\n",
       "10             full    3.079614    3.079614\n",
       "11          process    2.731307    2.731307\n",
       "12       downloaded    4.871373    4.871373\n",
       "13          package    3.955082    2.429026\n",
       "14          feature    3.772761    4.871373\n",
       "15             need    2.429026    3.955082\n",
       "16               hi    0.901081    5.564520\n",
       "17              say    3.079614    0.901081\n",
       "18         purchase    3.618610    3.618610\n",
       "19            using    1.926934    1.926934\n",
       "20     professional    3.618610    3.955082\n",
       "21              new    1.780331    2.386467\n",
       "22         question    2.232316    1.780331\n",
       "23             help    2.386467    2.232316\n",
       "24            going    2.731307    2.731307\n",
       "25            forum    3.166625    3.166625\n",
       "26       extraction    3.955082    3.955082\n",
       "27           thanks    2.098785    2.098785"
      ]
     },
     "execution_count": 70,
     "metadata": {},
     "output_type": "execute_result"
    }
   ],
   "source": [
    "compare"
   ]
  },
  {
   "cell_type": "markdown",
   "metadata": {},
   "source": [
    "#### Check for NaN Values"
   ]
  },
  {
   "cell_type": "code",
   "execution_count": 71,
   "metadata": {},
   "outputs": [
    {
     "data": {
      "text/plain": [
       "Topic Title                               0\n",
       "Category                                  0\n",
       "Tags                                      0\n",
       "Authors                                   0\n",
       "Leading Comment                           0\n",
       "Other Comments                            0\n",
       "Word Count in Leading Comment             0\n",
       "Number of Replies                         0\n",
       "Number of Charcters in Leading Comment    1\n",
       "Avg Word of Leading Comment               0\n",
       "Stopwords for Leading Comment             0\n",
       "Stopwords for Other Comments              0\n",
       "Hastags                                   0\n",
       "Numerics in Leading Comment               0\n",
       "Numerics in Other Comments                0\n",
       "Upper in Leading Comment                  0\n",
       "Upper in Other Comments                   0\n",
       "dtype: int64"
      ]
     },
     "execution_count": 71,
     "metadata": {},
     "output_type": "execute_result"
    }
   ],
   "source": [
    "train_data.isna().sum()"
   ]
  },
  {
   "cell_type": "code",
   "execution_count": 72,
   "metadata": {},
   "outputs": [
    {
     "data": {
      "text/plain": [
       "Topic Title                               0\n",
       "Category                                  0\n",
       "Tags                                      0\n",
       "Authors                                   0\n",
       "Leading Comment                           0\n",
       "Other Comments                            0\n",
       "Word Count in Leading Comment             0\n",
       "Number of Replies                         0\n",
       "Number of Charcters in Leading Comment    1\n",
       "Avg Word of Leading Comment               0\n",
       "Stopwords for Leading Comment             0\n",
       "Stopwords for Other Comments              0\n",
       "Hastags                                   0\n",
       "Numerics in Leading Comment               0\n",
       "Numerics in Other Comments                0\n",
       "Upper in Leading Comment                  0\n",
       "Upper in Other Comments                   0\n",
       "dtype: int64"
      ]
     },
     "execution_count": 72,
     "metadata": {},
     "output_type": "execute_result"
    }
   ],
   "source": [
    "train.isna().sum()"
   ]
  },
  {
   "cell_type": "markdown",
   "metadata": {},
   "source": [
    "### 3.5 Bag of Words"
   ]
  },
  {
   "cell_type": "markdown",
   "metadata": {},
   "source": [
    "Bag of Words (BoW) refers to the representation of text which describes the presence of words within the text data. The intuition behind this is that two similar text fields will contain similar kind of words, and will therefore have a similar bag of words. Further, that from the text alone we can learn something about the meaning of the document.\n",
    "\n",
    "For implementation, sklearn provides a separate function for it as shown below:"
   ]
  },
  {
   "cell_type": "code",
   "execution_count": 73,
   "metadata": {},
   "outputs": [
    {
     "data": {
      "text/plain": [
       "<261x1000 sparse matrix of type '<class 'numpy.int64'>'\n",
       "\twith 4671 stored elements in Compressed Sparse Row format>"
      ]
     },
     "execution_count": 73,
     "metadata": {},
     "output_type": "execute_result"
    }
   ],
   "source": [
    "from sklearn.feature_extraction.text import CountVectorizer\n",
    "\n",
    "bow = CountVectorizer(max_features=1000, lowercase=True, ngram_range=(1,1),analyzer = \"word\")\n",
    "train_bow = bow.fit_transform(train['Leading Comment'])\n",
    "train_bow"
   ]
  },
  {
   "cell_type": "code",
   "execution_count": 74,
   "metadata": {},
   "outputs": [
    {
     "name": "stdout",
     "output_type": "stream",
     "text": [
      "  (0, 648)\t2\n",
      "  (0, 802)\t1\n",
      "  (0, 163)\t1\n",
      "  (0, 605)\t1\n",
      "  (0, 855)\t1\n",
      "  (0, 724)\t1\n",
      "  (0, 59)\t1\n",
      "  (0, 844)\t1\n",
      "  (1, 648)\t1\n",
      "  (1, 802)\t1\n",
      "  (1, 395)\t1\n",
      "  (1, 538)\t1\n",
      "  (1, 346)\t1\n",
      "  (1, 364)\t1\n",
      "  (1, 630)\t1\n",
      "  (1, 796)\t1\n",
      "  (1, 314)\t1\n",
      "  (1, 982)\t1\n",
      "  (1, 629)\t1\n",
      "  (1, 933)\t1\n",
      "  (1, 588)\t2\n",
      "  (1, 266)\t1\n",
      "  (1, 348)\t1\n",
      "  (1, 939)\t1\n",
      "  (1, 262)\t1\n",
      "  :\t:\n",
      "  (259, 103)\t1\n",
      "  (259, 559)\t1\n",
      "  (259, 664)\t1\n",
      "  (259, 986)\t1\n",
      "  (259, 833)\t1\n",
      "  (259, 527)\t1\n",
      "  (259, 835)\t1\n",
      "  (259, 439)\t1\n",
      "  (259, 662)\t1\n",
      "  (259, 65)\t1\n",
      "  (259, 601)\t1\n",
      "  (259, 956)\t2\n",
      "  (259, 351)\t1\n",
      "  (259, 952)\t1\n",
      "  (259, 535)\t1\n",
      "  (260, 648)\t2\n",
      "  (260, 163)\t1\n",
      "  (260, 605)\t1\n",
      "  (260, 855)\t1\n",
      "  (260, 724)\t1\n",
      "  (260, 59)\t1\n",
      "  (260, 844)\t1\n",
      "  (260, 835)\t1\n",
      "  (260, 962)\t1\n",
      "  (260, 490)\t1\n"
     ]
    }
   ],
   "source": [
    "print(train_bow)"
   ]
  },
  {
   "cell_type": "markdown",
   "metadata": {},
   "source": [
    "### 3.6 Sentiment Analysis"
   ]
  },
  {
   "cell_type": "markdown",
   "metadata": {},
   "source": [
    "Let’s check the sentiment of the first few Leading Comments."
   ]
  },
  {
   "cell_type": "code",
   "execution_count": 75,
   "metadata": {},
   "outputs": [
    {
     "data": {
      "text/plain": [
       "0                     (0.5, 0.6944444444444444)\n",
       "1     (0.23727272727272725, 0.4209090909090909)\n",
       "2    (0.19999999999999998, 0.31666666666666665)\n",
       "3                                    (0.0, 0.4)\n",
       "4                                    (0.0, 0.0)\n",
       "Name: Leading Comment, dtype: object"
      ]
     },
     "execution_count": 75,
     "metadata": {},
     "output_type": "execute_result"
    }
   ],
   "source": [
    "train['Leading Comment'][:5].apply(lambda x: TextBlob(x).sentiment)"
   ]
  },
  {
   "cell_type": "markdown",
   "metadata": {},
   "source": [
    "Above, you can see that it returns a tuple representing polarity and subjectivity of each leading comment. Here, we only extract polarity as it indicates the sentiment as value nearer to 1 means a positive sentiment and values nearer to -1 means a negative sentiment. This can also work as a feature for building a machine learning model."
   ]
  },
  {
   "cell_type": "code",
   "execution_count": 76,
   "metadata": {
    "scrolled": true
   },
   "outputs": [
    {
     "data": {
      "text/html": [
       "<div>\n",
       "<style scoped>\n",
       "    .dataframe tbody tr th:only-of-type {\n",
       "        vertical-align: middle;\n",
       "    }\n",
       "\n",
       "    .dataframe tbody tr th {\n",
       "        vertical-align: top;\n",
       "    }\n",
       "\n",
       "    .dataframe thead th {\n",
       "        text-align: right;\n",
       "    }\n",
       "</style>\n",
       "<table border=\"1\" class=\"dataframe\">\n",
       "  <thead>\n",
       "    <tr style=\"text-align: right;\">\n",
       "      <th></th>\n",
       "      <th>Leading Comment</th>\n",
       "      <th>sentiment</th>\n",
       "    </tr>\n",
       "  </thead>\n",
       "  <tbody>\n",
       "    <tr>\n",
       "      <td>0</td>\n",
       "      <td>question sourcing category please sure select ...</td>\n",
       "      <td>0.500000</td>\n",
       "    </tr>\n",
       "    <tr>\n",
       "      <td>1</td>\n",
       "      <td>hi new forum going sourcing professional sop q...</td>\n",
       "      <td>0.237273</td>\n",
       "    </tr>\n",
       "    <tr>\n",
       "      <td>2</td>\n",
       "      <td>working seller last 6 year want tip selling gr...</td>\n",
       "      <td>0.200000</td>\n",
       "    </tr>\n",
       "    <tr>\n",
       "      <td>3</td>\n",
       "      <td>va recommend used currently using require work</td>\n",
       "      <td>0.000000</td>\n",
       "    </tr>\n",
       "    <tr>\n",
       "      <td>4</td>\n",
       "      <td>sell branded uk must com</td>\n",
       "      <td>0.000000</td>\n",
       "    </tr>\n",
       "  </tbody>\n",
       "</table>\n",
       "</div>"
      ],
      "text/plain": [
       "                                     Leading Comment  sentiment\n",
       "0  question sourcing category please sure select ...   0.500000\n",
       "1  hi new forum going sourcing professional sop q...   0.237273\n",
       "2  working seller last 6 year want tip selling gr...   0.200000\n",
       "3     va recommend used currently using require work   0.000000\n",
       "4                           sell branded uk must com   0.000000"
      ]
     },
     "execution_count": 76,
     "metadata": {},
     "output_type": "execute_result"
    }
   ],
   "source": [
    "train['sentiment'] = train['Leading Comment'].apply(lambda x: TextBlob(x).sentiment[0] )\n",
    "train[['Leading Comment','sentiment']].head()"
   ]
  },
  {
   "cell_type": "markdown",
   "metadata": {},
   "source": [
    "### 3.7 Word Embeddings"
   ]
  },
  {
   "cell_type": "markdown",
   "metadata": {},
   "source": [
    "Word Embedding is the representation of text in the form of vectors. The underlying idea here is that similar words will have a minimum distance between their vectors.\n",
    "\n",
    "Word2Vec models require a lot of text, so either we can train it on our training data or we can use the pre-trained word vectors developed by Google, Wiki, etc.\n",
    "\n",
    "Here, we will use pre-trained word vectors which can be downloaded from the glove website. There are different dimensions (50,100, 200, 300) vectors trained on wiki data. For this example, I have downloaded the 100-dimensional version of the model.\n",
    "\n",
    "\n",
    "The first step here is to convert it into the word2vec format."
   ]
  },
  {
   "cell_type": "code",
   "execution_count": 91,
   "metadata": {},
   "outputs": [],
   "source": [
    "import wget"
   ]
  },
  {
   "cell_type": "code",
   "execution_count": 92,
   "metadata": {},
   "outputs": [
    {
     "name": "stdout",
     "output_type": "stream",
     "text": [
      "100% [######################################################################]           822M / 822M"
     ]
    },
    {
     "data": {
      "text/plain": [
       "'glove.6B.zip'"
      ]
     },
     "execution_count": 92,
     "metadata": {},
     "output_type": "execute_result"
    }
   ],
   "source": [
    "wget.download('http://nlp.stanford.edu/data/glove.6B.zip') "
   ]
  },
  {
   "cell_type": "code",
   "execution_count": 97,
   "metadata": {},
   "outputs": [],
   "source": [
    "import zipfile"
   ]
  },
  {
   "cell_type": "code",
   "execution_count": 99,
   "metadata": {},
   "outputs": [],
   "source": [
    "with zipfile.ZipFile(\"glove.6B.zip\",\"r\") as zip_ref:\n",
    "    zip_ref.extractall(\"targetdir\")"
   ]
  },
  {
   "cell_type": "code",
   "execution_count": 100,
   "metadata": {},
   "outputs": [
    {
     "name": "stdout",
     "output_type": "stream",
     "text": [
      "Collecting gensim\n",
      "  Downloading https://files.pythonhosted.org/packages/0b/66/04faeedb98bfa5f241d0399d0102456886179cabac0355475f23a2978847/gensim-3.8.3-cp37-cp37m-win_amd64.whl (24.2MB)\n",
      "Collecting smart-open>=1.8.1 (from gensim)\n",
      "  Downloading https://files.pythonhosted.org/packages/74/77/744c79da6e66691e3500b6dffff29bdd787015eae817d594791edc7b719b/smart_open-2.0.0.tar.gz (103kB)\n",
      "Requirement already satisfied: numpy>=1.11.3 in c:\\users\\zoeyl\\anaconda3\\lib\\site-packages (from gensim) (1.16.5)\n",
      "Requirement already satisfied: scipy>=0.18.1 in c:\\users\\zoeyl\\anaconda3\\lib\\site-packages (from gensim) (1.3.1)\n",
      "Requirement already satisfied: six>=1.5.0 in c:\\users\\zoeyl\\anaconda3\\lib\\site-packages (from gensim) (1.12.0)\n",
      "Collecting Cython==0.29.14 (from gensim)\n",
      "  Downloading https://files.pythonhosted.org/packages/1f/be/b14be5c3ad1ff73096b518be1538282f053ec34faaca60a8753d975d7e93/Cython-0.29.14-cp37-cp37m-win_amd64.whl (1.7MB)\n",
      "Requirement already satisfied: requests in c:\\users\\zoeyl\\anaconda3\\lib\\site-packages (from smart-open>=1.8.1->gensim) (2.22.0)\n",
      "Requirement already satisfied: boto in c:\\users\\zoeyl\\anaconda3\\lib\\site-packages (from smart-open>=1.8.1->gensim) (2.49.0)\n",
      "Collecting boto3 (from smart-open>=1.8.1->gensim)\n",
      "  Downloading https://files.pythonhosted.org/packages/9d/31/f1019ce0a6e4684b5462c70ec2972adce248425da6e74cd6e03015297445/boto3-1.14.2-py2.py3-none-any.whl (128kB)\n",
      "Requirement already satisfied: chardet<3.1.0,>=3.0.2 in c:\\users\\zoeyl\\anaconda3\\lib\\site-packages (from requests->smart-open>=1.8.1->gensim) (3.0.4)\n",
      "Requirement already satisfied: certifi>=2017.4.17 in c:\\users\\zoeyl\\anaconda3\\lib\\site-packages (from requests->smart-open>=1.8.1->gensim) (2019.9.11)\n",
      "Requirement already satisfied: urllib3!=1.25.0,!=1.25.1,<1.26,>=1.21.1 in c:\\users\\zoeyl\\anaconda3\\lib\\site-packages (from requests->smart-open>=1.8.1->gensim) (1.24.2)\n",
      "Requirement already satisfied: idna<2.9,>=2.5 in c:\\users\\zoeyl\\anaconda3\\lib\\site-packages (from requests->smart-open>=1.8.1->gensim) (2.8)\n",
      "Collecting jmespath<1.0.0,>=0.7.1 (from boto3->smart-open>=1.8.1->gensim)\n",
      "  Downloading https://files.pythonhosted.org/packages/07/cb/5f001272b6faeb23c1c9e0acc04d48eaaf5c862c17709d20e3469c6e0139/jmespath-0.10.0-py2.py3-none-any.whl\n",
      "Collecting botocore<1.18.0,>=1.17.2 (from boto3->smart-open>=1.8.1->gensim)\n",
      "  Downloading https://files.pythonhosted.org/packages/65/5c/8e001190db89151347c497e8faa6fc1059acc8c0079b9adffa1f0ee2fe82/botocore-1.17.2-py2.py3-none-any.whl (6.3MB)\n",
      "Collecting s3transfer<0.4.0,>=0.3.0 (from boto3->smart-open>=1.8.1->gensim)\n",
      "  Downloading https://files.pythonhosted.org/packages/69/79/e6afb3d8b0b4e96cefbdc690f741d7dd24547ff1f94240c997a26fa908d3/s3transfer-0.3.3-py2.py3-none-any.whl (69kB)\n",
      "Requirement already satisfied: python-dateutil<3.0.0,>=2.1 in c:\\users\\zoeyl\\anaconda3\\lib\\site-packages (from botocore<1.18.0,>=1.17.2->boto3->smart-open>=1.8.1->gensim) (2.8.0)\n",
      "Requirement already satisfied: docutils<0.16,>=0.10 in c:\\users\\zoeyl\\anaconda3\\lib\\site-packages (from botocore<1.18.0,>=1.17.2->boto3->smart-open>=1.8.1->gensim) (0.15.2)\n",
      "Building wheels for collected packages: smart-open\n",
      "  Building wheel for smart-open (setup.py): started\n",
      "  Building wheel for smart-open (setup.py): finished with status 'done'\n",
      "  Created wheel for smart-open: filename=smart_open-2.0.0-cp37-none-any.whl size=101347 sha256=4b5830b53a70867aaecf2cf32b6dc18ad05e73193ce431a79faa59df0341ce1a\n",
      "  Stored in directory: C:\\Users\\zoeyl\\AppData\\Local\\pip\\Cache\\wheels\\27\\65\\38\\8d7f5fe8d7afb4e4566587b2d1933cec185fba19257836c943\n",
      "Successfully built smart-open\n",
      "Installing collected packages: jmespath, botocore, s3transfer, boto3, smart-open, Cython, gensim\n",
      "  Found existing installation: Cython 0.29.13\n",
      "    Uninstalling Cython-0.29.13:\n",
      "      Successfully uninstalled Cython-0.29.13\n",
      "Successfully installed Cython-0.29.14 boto3-1.14.2 botocore-1.17.2 gensim-3.8.3 jmespath-0.10.0 s3transfer-0.3.3 smart-open-2.0.0\n"
     ]
    }
   ],
   "source": [
    "!pip install gensim"
   ]
  },
  {
   "cell_type": "code",
   "execution_count": 102,
   "metadata": {},
   "outputs": [
    {
     "data": {
      "text/plain": [
       "(400000, 100)"
      ]
     },
     "execution_count": 102,
     "metadata": {},
     "output_type": "execute_result"
    }
   ],
   "source": [
    "from gensim.scripts.glove2word2vec import glove2word2vec\n",
    "\n",
    "glove_input_file = 'glove.6B.100d.txt'\n",
    "word2vec_output_file = 'glove.6B.100d.txt.word2vec'\n",
    "glove2word2vec(glove_input_file, word2vec_output_file)"
   ]
  },
  {
   "cell_type": "markdown",
   "metadata": {},
   "source": [
    "Now, we can load the above word2vec file as a model."
   ]
  },
  {
   "cell_type": "code",
   "execution_count": 103,
   "metadata": {},
   "outputs": [],
   "source": [
    "from gensim.models import KeyedVectors # load the Stanford GloVe model\n",
    "filename = 'glove.6B.100d.txt.word2vec'\n",
    "model = KeyedVectors.load_word2vec_format(filename, binary=False)"
   ]
  },
  {
   "cell_type": "markdown",
   "metadata": {},
   "source": [
    "Let’s say our comment contains a text saying ‘use’. We can easily obtain it’s word vector using the above model:"
   ]
  },
  {
   "cell_type": "code",
   "execution_count": 104,
   "metadata": {},
   "outputs": [
    {
     "data": {
      "text/plain": [
       "array([-0.36531  ,  0.31785  , -0.32047  ,  0.051639 , -0.12438  ,\n",
       "        0.12544  , -0.41438  ,  0.13166  ,  0.075865 ,  0.43298  ,\n",
       "       -0.54236  , -0.51881  , -0.027122 ,  0.4441   ,  0.44092  ,\n",
       "       -0.14425  ,  0.88506  ,  0.45246  , -0.33316  , -0.01257  ,\n",
       "        0.097519 , -0.30323  ,  0.25097  ,  0.10618  , -0.25461  ,\n",
       "       -0.029241 , -0.19771  , -0.45984  , -0.049765 ,  0.29928  ,\n",
       "       -0.031277 ,  1.0638   , -1.1893   ,  0.018282 ,  0.47727  ,\n",
       "        0.46757  , -0.15711  ,  0.076616 ,  0.32928  ,  0.043149 ,\n",
       "       -0.26667  , -0.38438  , -0.33516  , -0.25737  , -0.16917  ,\n",
       "       -0.021292 ,  0.073796 , -0.76374  , -0.10372  , -0.9567   ,\n",
       "        0.17993  ,  0.98334  , -0.098011 ,  1.2885   , -0.0035486,\n",
       "       -2.1031   ,  0.1607   , -0.4637   ,  2.1013   , -0.32036  ,\n",
       "       -0.23991  ,  0.51333  ,  0.33583  ,  0.51771  ,  1.1415   ,\n",
       "       -0.25423  ,  0.59353  , -0.29084  ,  0.10496  , -0.53962  ,\n",
       "       -0.52607  , -0.4124   ,  0.24496  , -0.16256  , -0.16978  ,\n",
       "       -0.17633  , -0.031187 ,  0.22001  , -0.83047  ,  0.15507  ,\n",
       "        1.1127   , -0.81439  , -0.65009  ,  0.18613  , -1.7722   ,\n",
       "        0.62818  ,  0.70274  ,  0.15294  ,  0.063443 , -0.016877 ,\n",
       "       -0.25586  , -0.079651 ,  0.1152   , -0.39382  , -0.28579  ,\n",
       "       -0.66355  , -0.55221  , -0.70364  ,  0.96909  ,  0.021153 ],\n",
       "      dtype=float32)"
      ]
     },
     "execution_count": 104,
     "metadata": {},
     "output_type": "execute_result"
    }
   ],
   "source": [
    "model['use']"
   ]
  },
  {
   "cell_type": "markdown",
   "metadata": {},
   "source": [
    "We have converted the entire string into a vector which can now be used as a feature in any modelling technique."
   ]
  },
  {
   "cell_type": "markdown",
   "metadata": {},
   "source": [
    "# Exploratory Data Analysis for Natural Language Processing: A Complete Guide to Python Tools"
   ]
  },
  {
   "cell_type": "code",
   "execution_count": 105,
   "metadata": {},
   "outputs": [
    {
     "name": "stdout",
     "output_type": "stream",
     "text": [
      "Requirement already satisfied: pandas in c:\\users\\zoeyl\\anaconda3\\lib\\site-packages (0.25.1)\n",
      "Requirement already satisfied: matplotlib in c:\\users\\zoeyl\\anaconda3\\lib\\site-packages (3.1.1)\n",
      "Requirement already satisfied: numpy in c:\\users\\zoeyl\\anaconda3\\lib\\site-packages (1.16.5)\n",
      "Requirement already satisfied: nltk in c:\\users\\zoeyl\\anaconda3\\lib\\site-packages (3.4.5)\n",
      "Requirement already satisfied: seaborn in c:\\users\\zoeyl\\anaconda3\\lib\\site-packages (0.9.0)\n",
      "Collecting sklearn\n",
      "  Downloading https://files.pythonhosted.org/packages/1e/7a/dbb3be0ce9bd5c8b7e3d87328e79063f8b263b2b1bfa4774cb1147bfcd3f/sklearn-0.0.tar.gz\n",
      "Requirement already satisfied: gensim in c:\\users\\zoeyl\\anaconda3\\lib\\site-packages (3.8.3)\n",
      "Collecting pyldavis\n",
      "  Downloading https://files.pythonhosted.org/packages/a5/3a/af82e070a8a96e13217c8f362f9a73e82d61ac8fff3a2561946a97f96266/pyLDAvis-2.1.2.tar.gz (1.6MB)\n",
      "Collecting wordcloud\n",
      "  Downloading https://files.pythonhosted.org/packages/65/41/abefdda082c7b211248e412fb2c7a8dc69d474f18ed61a5a784f20f73bb7/wordcloud-1.7.0-cp37-cp37m-win_amd64.whl (157kB)\n",
      "Requirement already satisfied: textblob in c:\\users\\zoeyl\\anaconda3\\lib\\site-packages (0.15.3)\n",
      "Collecting spacy\n",
      "  Downloading https://files.pythonhosted.org/packages/39/c9/6c6bbb563588cd9b5d155ebda200796911588fb46a85e5f4d21b7b2ab759/spacy-2.2.4-cp37-cp37m-win_amd64.whl (9.9MB)\n",
      "Collecting textstat\n",
      "  Downloading https://files.pythonhosted.org/packages/60/af/0623a6e3adbcfda0be827664eacab5e02cd0a08d36f00013cb53784917a9/textstat-0.6.2-py3-none-any.whl (102kB)\n",
      "Requirement already satisfied: pytz>=2017.2 in c:\\users\\zoeyl\\anaconda3\\lib\\site-packages (from pandas) (2019.3)\n",
      "Requirement already satisfied: python-dateutil>=2.6.1 in c:\\users\\zoeyl\\anaconda3\\lib\\site-packages (from pandas) (2.8.0)\n",
      "Requirement already satisfied: cycler>=0.10 in c:\\users\\zoeyl\\anaconda3\\lib\\site-packages (from matplotlib) (0.10.0)\n",
      "Requirement already satisfied: kiwisolver>=1.0.1 in c:\\users\\zoeyl\\anaconda3\\lib\\site-packages (from matplotlib) (1.1.0)\n",
      "Requirement already satisfied: pyparsing!=2.0.4,!=2.1.2,!=2.1.6,>=2.0.1 in c:\\users\\zoeyl\\anaconda3\\lib\\site-packages (from matplotlib) (2.4.2)\n",
      "Requirement already satisfied: six in c:\\users\\zoeyl\\anaconda3\\lib\\site-packages (from nltk) (1.12.0)\n",
      "Requirement already satisfied: scipy>=0.14.0 in c:\\users\\zoeyl\\anaconda3\\lib\\site-packages (from seaborn) (1.3.1)\n",
      "Requirement already satisfied: scikit-learn in c:\\users\\zoeyl\\anaconda3\\lib\\site-packages (from sklearn) (0.21.3)\n",
      "Requirement already satisfied: Cython==0.29.14 in c:\\users\\zoeyl\\anaconda3\\lib\\site-packages (from gensim) (0.29.14)\n",
      "Requirement already satisfied: smart-open>=1.8.1 in c:\\users\\zoeyl\\anaconda3\\lib\\site-packages (from gensim) (2.0.0)\n",
      "Requirement already satisfied: wheel>=0.23.0 in c:\\users\\zoeyl\\anaconda3\\lib\\site-packages (from pyldavis) (0.33.6)\n",
      "Requirement already satisfied: joblib>=0.8.4 in c:\\users\\zoeyl\\anaconda3\\lib\\site-packages (from pyldavis) (0.13.2)\n",
      "Requirement already satisfied: jinja2>=2.7.2 in c:\\users\\zoeyl\\anaconda3\\lib\\site-packages (from pyldavis) (2.10.3)\n",
      "Requirement already satisfied: numexpr in c:\\users\\zoeyl\\anaconda3\\lib\\site-packages (from pyldavis) (2.7.0)\n",
      "Requirement already satisfied: pytest in c:\\users\\zoeyl\\anaconda3\\lib\\site-packages (from pyldavis) (5.2.1)\n",
      "Requirement already satisfied: future in c:\\users\\zoeyl\\anaconda3\\lib\\site-packages (from pyldavis) (0.17.1)\n",
      "Collecting funcy (from pyldavis)\n",
      "  Downloading https://files.pythonhosted.org/packages/ce/4b/6ffa76544e46614123de31574ad95758c421aae391a1764921b8a81e1eae/funcy-1.14.tar.gz (548kB)\n",
      "Requirement already satisfied: pillow in c:\\users\\zoeyl\\anaconda3\\lib\\site-packages (from wordcloud) (6.2.0)\n",
      "Collecting catalogue<1.1.0,>=0.0.7 (from spacy)\n",
      "  Downloading https://files.pythonhosted.org/packages/6c/f9/9a5658e2f56932e41eb264941f9a2cb7f3ce41a80cb36b2af6ab78e2f8af/catalogue-1.0.0-py2.py3-none-any.whl\n",
      "Collecting wasabi<1.1.0,>=0.4.0 (from spacy)\n",
      "  Downloading https://files.pythonhosted.org/packages/21/e1/e4e7b754e6be3a79c400eb766fb34924a6d278c43bb828f94233e0124a21/wasabi-0.6.0-py3-none-any.whl\n",
      "Collecting thinc==7.4.0 (from spacy)\n",
      "  Downloading https://files.pythonhosted.org/packages/7b/5e/d7e297587f75f4932b57b47163fb92f7b479939327ca83badc0938194415/thinc-7.4.0-cp37-cp37m-win_amd64.whl (2.1MB)\n",
      "Collecting srsly<1.1.0,>=1.0.2 (from spacy)\n",
      "  Downloading https://files.pythonhosted.org/packages/fd/31/edaf3cdb7fcb644a51c7a568bc62a8c8d7462e61fa79b090f4d12d73d39e/srsly-1.0.2-cp37-cp37m-win_amd64.whl (179kB)\n",
      "Collecting preshed<3.1.0,>=3.0.2 (from spacy)\n",
      "  Downloading https://files.pythonhosted.org/packages/3c/5a/0d1b575ed40989d74fab25723083837c220246b25f3582917135cb32453f/preshed-3.0.2-cp37-cp37m-win_amd64.whl (105kB)\n",
      "Requirement already satisfied: setuptools in c:\\users\\zoeyl\\anaconda3\\lib\\site-packages (from spacy) (41.4.0)\n",
      "Requirement already satisfied: requests<3.0.0,>=2.13.0 in c:\\users\\zoeyl\\anaconda3\\lib\\site-packages (from spacy) (2.22.0)\n",
      "Collecting blis<0.5.0,>=0.4.0 (from spacy)\n",
      "  Downloading https://files.pythonhosted.org/packages/d5/7e/1981d5389b75543f950026de40a9d346e2aec7e860b2800e54e65bd46c06/blis-0.4.1-cp37-cp37m-win_amd64.whl (5.0MB)\n",
      "Collecting cymem<2.1.0,>=2.0.2 (from spacy)\n",
      "  Downloading https://files.pythonhosted.org/packages/84/d1/35eab0c8cc9fd9432becaf3e90144762b3201a45079e62c47a8ae8739763/cymem-2.0.3-cp37-cp37m-win_amd64.whl\n",
      "Collecting tqdm<5.0.0,>=4.38.0 (from spacy)\n",
      "  Downloading https://files.pythonhosted.org/packages/f3/76/4697ce203a3d42b2ead61127b35e5fcc26bba9a35c03b32a2bd342a4c869/tqdm-4.46.1-py2.py3-none-any.whl (63kB)\n",
      "Collecting plac<1.2.0,>=0.9.6 (from spacy)\n",
      "  Downloading https://files.pythonhosted.org/packages/86/85/40b8f66c2dd8f4fd9f09d59b22720cffecf1331e788b8a0cab5bafb353d1/plac-1.1.3-py2.py3-none-any.whl\n",
      "Collecting murmurhash<1.1.0,>=0.28.0 (from spacy)\n",
      "  Downloading https://files.pythonhosted.org/packages/4f/7b/d77bc9bb101e113884b2d70a118e7ec8dcc9846a35a0e10d47ca37acdcbf/murmurhash-1.0.2-cp37-cp37m-win_amd64.whl\n",
      "Collecting pyphen (from textstat)\n",
      "  Downloading https://files.pythonhosted.org/packages/15/82/08a3629dce8d1f3d91db843bb36d4d7db6b6269d5067259613a0d5c8a9db/Pyphen-0.9.5-py2.py3-none-any.whl (3.0MB)\n",
      "Requirement already satisfied: boto3 in c:\\users\\zoeyl\\anaconda3\\lib\\site-packages (from smart-open>=1.8.1->gensim) (1.14.2)\n",
      "Requirement already satisfied: boto in c:\\users\\zoeyl\\anaconda3\\lib\\site-packages (from smart-open>=1.8.1->gensim) (2.49.0)\n",
      "Requirement already satisfied: MarkupSafe>=0.23 in c:\\users\\zoeyl\\anaconda3\\lib\\site-packages (from jinja2>=2.7.2->pyldavis) (1.1.1)\n",
      "Requirement already satisfied: py>=1.5.0 in c:\\users\\zoeyl\\anaconda3\\lib\\site-packages (from pytest->pyldavis) (1.8.0)\n",
      "Requirement already satisfied: packaging in c:\\users\\zoeyl\\anaconda3\\lib\\site-packages (from pytest->pyldavis) (19.2)\n",
      "Requirement already satisfied: attrs>=17.4.0 in c:\\users\\zoeyl\\anaconda3\\lib\\site-packages (from pytest->pyldavis) (19.2.0)\n",
      "Requirement already satisfied: more-itertools>=4.0.0 in c:\\users\\zoeyl\\anaconda3\\lib\\site-packages (from pytest->pyldavis) (7.2.0)\n",
      "Requirement already satisfied: atomicwrites>=1.0 in c:\\users\\zoeyl\\anaconda3\\lib\\site-packages (from pytest->pyldavis) (1.3.0)\n",
      "Requirement already satisfied: pluggy<1.0,>=0.12 in c:\\users\\zoeyl\\anaconda3\\lib\\site-packages (from pytest->pyldavis) (0.13.0)\n",
      "Requirement already satisfied: wcwidth in c:\\users\\zoeyl\\anaconda3\\lib\\site-packages (from pytest->pyldavis) (0.1.7)\n",
      "Requirement already satisfied: importlib-metadata>=0.12 in c:\\users\\zoeyl\\anaconda3\\lib\\site-packages (from pytest->pyldavis) (0.23)\n",
      "Requirement already satisfied: colorama in c:\\users\\zoeyl\\anaconda3\\lib\\site-packages (from pytest->pyldavis) (0.4.1)\n",
      "Requirement already satisfied: urllib3!=1.25.0,!=1.25.1,<1.26,>=1.21.1 in c:\\users\\zoeyl\\anaconda3\\lib\\site-packages (from requests<3.0.0,>=2.13.0->spacy) (1.24.2)\n",
      "Requirement already satisfied: chardet<3.1.0,>=3.0.2 in c:\\users\\zoeyl\\anaconda3\\lib\\site-packages (from requests<3.0.0,>=2.13.0->spacy) (3.0.4)\n",
      "Requirement already satisfied: certifi>=2017.4.17 in c:\\users\\zoeyl\\anaconda3\\lib\\site-packages (from requests<3.0.0,>=2.13.0->spacy) (2019.9.11)\n",
      "Requirement already satisfied: idna<2.9,>=2.5 in c:\\users\\zoeyl\\anaconda3\\lib\\site-packages (from requests<3.0.0,>=2.13.0->spacy) (2.8)\n",
      "Requirement already satisfied: s3transfer<0.4.0,>=0.3.0 in c:\\users\\zoeyl\\anaconda3\\lib\\site-packages (from boto3->smart-open>=1.8.1->gensim) (0.3.3)\n",
      "Requirement already satisfied: botocore<1.18.0,>=1.17.2 in c:\\users\\zoeyl\\anaconda3\\lib\\site-packages (from boto3->smart-open>=1.8.1->gensim) (1.17.2)\n",
      "Requirement already satisfied: jmespath<1.0.0,>=0.7.1 in c:\\users\\zoeyl\\anaconda3\\lib\\site-packages (from boto3->smart-open>=1.8.1->gensim) (0.10.0)\n",
      "Requirement already satisfied: zipp>=0.5 in c:\\users\\zoeyl\\anaconda3\\lib\\site-packages (from importlib-metadata>=0.12->pytest->pyldavis) (0.6.0)\n",
      "Requirement already satisfied: docutils<0.16,>=0.10 in c:\\users\\zoeyl\\anaconda3\\lib\\site-packages (from botocore<1.18.0,>=1.17.2->boto3->smart-open>=1.8.1->gensim) (0.15.2)\n",
      "Building wheels for collected packages: sklearn, pyldavis, funcy\n",
      "  Building wheel for sklearn (setup.py): started\n",
      "  Building wheel for sklearn (setup.py): finished with status 'done'\n",
      "  Created wheel for sklearn: filename=sklearn-0.0-py2.py3-none-any.whl size=1321 sha256=8909fb0ec789ab747f3c70eeece4f0f7e0eb194e7e38cb5b7e800cd62fc178a2\n",
      "  Stored in directory: C:\\Users\\zoeyl\\AppData\\Local\\pip\\Cache\\wheels\\76\\03\\bb\\589d421d27431bcd2c6da284d5f2286c8e3b2ea3cf1594c074\n",
      "  Building wheel for pyldavis (setup.py): started\n",
      "  Building wheel for pyldavis (setup.py): finished with status 'done'\n",
      "  Created wheel for pyldavis: filename=pyLDAvis-2.1.2-py2.py3-none-any.whl size=97715 sha256=a3418a19734634bedde9905d835b492e0ad4d606d3bcd2d04b2e2a501e0e3428\n",
      "  Stored in directory: C:\\Users\\zoeyl\\AppData\\Local\\pip\\Cache\\wheels\\98\\71\\24\\513a99e58bb6b8465bae4d2d5e9dba8f0bef8179e3051ac414\n",
      "  Building wheel for funcy (setup.py): started\n",
      "  Building wheel for funcy (setup.py): finished with status 'done'\n",
      "  Created wheel for funcy: filename=funcy-1.14-py2.py3-none-any.whl size=32045 sha256=1ba483228659c7dd26c29cf13c41d224fc966f0720134bbbe1ae23b29294a81e\n",
      "  Stored in directory: C:\\Users\\zoeyl\\AppData\\Local\\pip\\Cache\\wheels\\20\\5a\\d8\\1d875df03deae6f178dfdf70238cca33f948ef8a6f5209f2eb\n",
      "Successfully built sklearn pyldavis funcy\n",
      "Installing collected packages: sklearn, funcy, pyldavis, wordcloud, catalogue, wasabi, srsly, tqdm, cymem, blis, plac, murmurhash, preshed, thinc, spacy, pyphen, textstat\n",
      "  Found existing installation: tqdm 4.36.1\n",
      "    Uninstalling tqdm-4.36.1:\n",
      "      Successfully uninstalled tqdm-4.36.1\n"
     ]
    },
    {
     "name": "stderr",
     "output_type": "stream",
     "text": [
      "ERROR: Could not install packages due to an EnvironmentError: [WinError 5] Access is denied: 'C:\\\\Users\\\\zoeyl\\\\AppData\\\\Local\\\\Temp\\\\pip-uninstall-ha6nwelg\\\\tqdm.exe'\n",
      "Consider using the `--user` option or check the permissions.\n",
      "\n"
     ]
    }
   ],
   "source": [
    "!pip install \\\n",
    "   pandas matplotlib numpy \\\n",
    "   nltk seaborn sklearn gensim pyldavis \\\n",
    "   wordcloud textblob spacy textstat"
   ]
  },
  {
   "cell_type": "markdown",
   "metadata": {},
   "source": [
    "# Exploratory Data Analysis"
   ]
  },
  {
   "cell_type": "markdown",
   "metadata": {},
   "source": [
    "### - For Leading Comment"
   ]
  },
  {
   "cell_type": "code",
   "execution_count": 106,
   "metadata": {},
   "outputs": [],
   "source": [
    "corpus=[]\n",
    "new= train['Leading Comment'].str.split()\n",
    "new=new.values.tolist()\n",
    "corpus=[word for i in new for word in i]\n",
    "\n",
    "from collections import defaultdict\n",
    "dic=defaultdict(int)\n",
    "for word in corpus:\n",
    "    if word in stop:\n",
    "        dic[word]+=1"
   ]
  },
  {
   "cell_type": "code",
   "execution_count": 107,
   "metadata": {},
   "outputs": [],
   "source": [
    "def get_top_ngram(corpus, n=None):\n",
    "    vec = CountVectorizer(ngram_range=(n, n)).fit(corpus)\n",
    "    bag_of_words = vec.transform(corpus)\n",
    "    sum_words = bag_of_words.sum(axis=0) \n",
    "    words_freq = [(word, sum_words[0, idx]) \n",
    "                  for word, idx in vec.vocabulary_.items()]\n",
    "    words_freq =sorted(words_freq, key = lambda x: x[1], reverse=True)\n",
    "    return words_freq[:10]"
   ]
  },
  {
   "cell_type": "code",
   "execution_count": 111,
   "metadata": {},
   "outputs": [
    {
     "data": {
      "text/plain": [
       "<matplotlib.axes._subplots.AxesSubplot at 0x1fce4007b08>"
      ]
     },
     "execution_count": 111,
     "metadata": {},
     "output_type": "execute_result"
    },
    {
     "data": {
      "image/png": "[encoded data removed]",
      "text/plain": [
       "<Figure size 432x288 with 1 Axes>"
      ]
     },
     "metadata": {
      "needs_background": "light"
     },
     "output_type": "display_data"
    }
   ],
   "source": [
    "import seaborn as sns\n",
    "\n",
    "top_n_bigrams=get_top_ngram(train['Leading Comment'],2)[:10]\n",
    "x,y=map(list,zip(*top_n_bigrams))\n",
    "sns.barplot(x=y,y=x)"
   ]
  },
  {
   "cell_type": "code",
   "execution_count": 110,
   "metadata": {},
   "outputs": [
    {
     "data": {
      "text/plain": [
       "<matplotlib.axes._subplots.AxesSubplot at 0x1fce3970388>"
      ]
     },
     "execution_count": 110,
     "metadata": {},
     "output_type": "execute_result"
    },
    {
     "data": {
      "image/png": "[encoded data removed]",
      "text/plain": [
       "<Figure size 432x288 with 1 Axes>"
      ]
     },
     "metadata": {
      "needs_background": "light"
     },
     "output_type": "display_data"
    }
   ],
   "source": [
    "top_tri_grams=get_top_ngram(train['Leading Comment'],n=3)\n",
    "x,y=map(list,zip(*top_tri_grams))\n",
    "sns.barplot(x=y,y=x)"
   ]
  },
  {
   "cell_type": "markdown",
   "metadata": {},
   "source": [
    "### Topic Modeling Exploration with pyLDAvis"
   ]
  },
  {
   "cell_type": "markdown",
   "metadata": {},
   "source": [
    "Topic modeling is the process of using unsupervised learning techniques to extract the main topics that occur in a collection of documents.\n",
    "\n",
    "Latent Dirichlet Allocation (LDA) is an easy to use and efficient model for topic modeling. Each document is represented by the distribution of topics and each topic is represented by the distribution of words.\n",
    "\n",
    "Once we categorize our documents in topics we can dig into further data exploration for each topic or topic group.\n",
    "\n",
    "But before getting into topic modeling we have to pre-process our data a little. We will:\n",
    "\n",
    "tokenize: the process by which sentences are converted to a list of tokens or words. remove stopwords lemmatize: reduces the inflectional forms of each word into a common base or root. convert to the bag of words: Bag of words is a dictionary where the keys are words(or ngrams/tokens) and values are the number of times each word occurs in the corpus. With NLTK you can tokenize and lemmatize easily:"
   ]
  },
  {
   "cell_type": "code",
   "execution_count": 113,
   "metadata": {},
   "outputs": [
    {
     "data": {
      "image/png": "[encoded data removed]",
      "text/plain": [
       "<Figure size 864x864 with 1 Axes>"
      ]
     },
     "metadata": {
      "needs_background": "light"
     },
     "output_type": "display_data"
    }
   ],
   "source": [
    "import matplotlib.pyplot as plt\n",
    "%matplotlib inline\n",
    "from wordcloud import WordCloud, STOPWORDS\n",
    "stopwords = set(STOPWORDS)\n",
    "\n",
    "def show_wordcloud(data):\n",
    "    wordcloud = WordCloud(\n",
    "        background_color='white',\n",
    "        stopwords=stopwords,\n",
    "        max_words=100,\n",
    "        max_font_size=30,\n",
    "        scale=3,\n",
    "        random_state=1)\n",
    "   \n",
    "    wordcloud=wordcloud.generate(str(data))\n",
    "\n",
    "    fig = plt.figure(1, figsize=(12, 12))\n",
    "    plt.axis('off')\n",
    "\n",
    "    plt.imshow(wordcloud)\n",
    "    plt.show()\n",
    "\n",
    "show_wordcloud(corpus)"
   ]
  },
  {
   "cell_type": "markdown",
   "metadata": {},
   "source": [
    "### - For Other Comments"
   ]
  },
  {
   "cell_type": "code",
   "execution_count": 121,
   "metadata": {},
   "outputs": [],
   "source": [
    "corpus=[]\n",
    "new= train['Other Comments'].str.split()\n",
    "new=new.values.tolist()\n",
    "corpus=[word for i in new for word in i]\n",
    "\n",
    "from collections import defaultdict\n",
    "dic=defaultdict(int)\n",
    "for word in corpus:\n",
    "    if word in stop:\n",
    "        dic[word]+=1"
   ]
  },
  {
   "cell_type": "code",
   "execution_count": 122,
   "metadata": {},
   "outputs": [],
   "source": [
    "def get_top_ngram(corpus, n=None):\n",
    "    vec = CountVectorizer(ngram_range=(n, n)).fit(corpus)\n",
    "    bag_of_words = vec.transform(corpus)\n",
    "    sum_words = bag_of_words.sum(axis=0) \n",
    "    words_freq = [(word, sum_words[0, idx]) \n",
    "                  for word, idx in vec.vocabulary_.items()]\n",
    "    words_freq =sorted(words_freq, key = lambda x: x[1], reverse=True)\n",
    "    return words_freq[:10]"
   ]
  },
  {
   "cell_type": "code",
   "execution_count": 123,
   "metadata": {},
   "outputs": [
    {
     "data": {
      "text/plain": [
       "<matplotlib.axes._subplots.AxesSubplot at 0x1fce516dbc8>"
      ]
     },
     "execution_count": 123,
     "metadata": {},
     "output_type": "execute_result"
    },
    {
     "data": {
      "image/png": "[encoded data removed]",
      "text/plain": [
       "<Figure size 432x288 with 1 Axes>"
      ]
     },
     "metadata": {
      "needs_background": "light"
     },
     "output_type": "display_data"
    }
   ],
   "source": [
    "import seaborn as sns\n",
    "\n",
    "top_n_bigrams=get_top_ngram(train['Other Comments'],2)[:10]\n",
    "x,y=map(list,zip(*top_n_bigrams))\n",
    "sns.barplot(x=y,y=x)"
   ]
  },
  {
   "cell_type": "code",
   "execution_count": 124,
   "metadata": {},
   "outputs": [
    {
     "data": {
      "text/plain": [
       "<matplotlib.axes._subplots.AxesSubplot at 0x1fce4136608>"
      ]
     },
     "execution_count": 124,
     "metadata": {},
     "output_type": "execute_result"
    },
    {
     "data": {
      "image/png": "[encoded data removed]",
      "text/plain": [
       "<Figure size 432x288 with 1 Axes>"
      ]
     },
     "metadata": {
      "needs_background": "light"
     },
     "output_type": "display_data"
    }
   ],
   "source": [
    "top_tri_grams=get_top_ngram(train['Other Comments'],n=3)\n",
    "x,y=map(list,zip(*top_tri_grams))\n",
    "sns.barplot(x=y,y=x)"
   ]
  },
  {
   "cell_type": "code",
   "execution_count": 125,
   "metadata": {},
   "outputs": [
    {
     "data": {
      "image/png": "[encoded data removed]",
      "text/plain": [
       "<Figure size 864x864 with 1 Axes>"
      ]
     },
     "metadata": {
      "needs_background": "light"
     },
     "output_type": "display_data"
    }
   ],
   "source": [
    "import matplotlib.pyplot as plt\n",
    "%matplotlib inline\n",
    "from wordcloud import WordCloud, STOPWORDS\n",
    "stopwords = set(STOPWORDS)\n",
    "\n",
    "def show_wordcloud(data):\n",
    "    wordcloud = WordCloud(\n",
    "        background_color='white',\n",
    "        stopwords=stopwords,\n",
    "        max_words=100,\n",
    "        max_font_size=30,\n",
    "        scale=3,\n",
    "        random_state=1)\n",
    "   \n",
    "    wordcloud=wordcloud.generate(str(data))\n",
    "\n",
    "    fig = plt.figure(1, figsize=(12, 12))\n",
    "    plt.axis('off')\n",
    "\n",
    "    plt.imshow(wordcloud)\n",
    "    plt.show()\n",
    "\n",
    "show_wordcloud(corpus)"
   ]
  },
  {
   "cell_type": "markdown",
   "metadata": {},
   "source": [
    "<p style=\"color:blue\">I would have appreciated a more throrough data exploration than actually just applying what was shared in the notebook (that was just some handy code to use if needed in you EDA step). It would have been better to ask some questions (or put assumptions) and try to figure their answers through exploring the data. </p>"
   ]
  },
  {
   "cell_type": "code",
   "execution_count": null,
   "metadata": {},
   "outputs": [],
   "source": []
  }
 ],
 "metadata": {
  "kernelspec": {
   "display_name": "Python 3",
   "language": "python",
   "name": "python3"
  },
  "language_info": {
   "codemirror_mode": {
    "name": "ipython",
    "version": 3
   },
   "file_extension": ".py",
   "mimetype": "text/x-python",
   "name": "python",
   "nbconvert_exporter": "python",
   "pygments_lexer": "ipython3",
   "version": "3.6.9"
  },
  "toc": {
   "base_numbering": 1,
   "nav_menu": {},
   "number_sections": true,
   "sideBar": true,
   "skip_h1_title": false,
   "title_cell": "Table of Contents",
   "title_sidebar": "Contents",
   "toc_cell": false,
   "toc_position": {},
   "toc_section_display": true,
   "toc_window_display": false
  }
 },
 "nbformat": 4,
 "nbformat_minor": 2
}
